{
  "cells": [
    {
      "cell_type": "markdown",
      "source": [
        "## Importing dependencies"
      ],
      "metadata": {
        "nteract": {
          "transient": {
            "deleting": false
          }
        }
      }
    },
    {
      "cell_type": "code",
      "source": [
        "import os\r\n",
        "import joblib\r\n",
        "from azureml.core import Workspace, Experiment\r\n",
        "from azureml.data.dataset_factory import TabularDatasetFactory\r\n",
        "from azureml.core.compute import ComputeTarget, AmlCompute\r\n",
        "from azureml.train.automl import AutoMLConfig\r\n",
        "\r\n",
        "from matplotlib import pyplot as plt\r\n",
        "import numpy as np\r\n",
        "import pandas as pd\r\n"
      ],
      "outputs": [],
      "execution_count": 1,
      "metadata": {
        "collapsed": true,
        "jupyter": {
          "source_hidden": false,
          "outputs_hidden": false
        },
        "nteract": {
          "transient": {
            "deleting": false
          }
        },
        "gather": {
          "logged": 1617319253574
        }
      }
    },
    {
      "cell_type": "markdown",
      "source": [
        "## Initialize workspace"
      ],
      "metadata": {
        "nteract": {
          "transient": {
            "deleting": false
          }
        }
      }
    },
    {
      "cell_type": "code",
      "source": [
        "ws = Workspace.from_config()\r\n",
        "print(ws.name, ws.resource_group, ws.location, ws.subscription_id, sep = '\\n')"
      ],
      "outputs": [
        {
          "output_type": "stream",
          "name": "stdout",
          "text": [
            "Performing interactive authentication. Please follow the instructions on the terminal.\n",
            "To sign in, use a web browser to open the page https://microsoft.com/devicelogin and enter the code EAFL6LUM6 to authenticate.\n",
            "You have logged in. Now let us find all the subscriptions to which you have access...\n",
            "Interactive authentication successfully completed.\n",
            "quick-starts-ws-141768\n",
            "aml-quickstarts-141768\n",
            "southcentralus\n",
            "510b94ba-e453-4417-988b-fbdc37b55ca7\n"
          ]
        }
      ],
      "execution_count": 2,
      "metadata": {
        "collapsed": true,
        "jupyter": {
          "source_hidden": false,
          "outputs_hidden": false
        },
        "nteract": {
          "transient": {
            "deleting": false
          }
        },
        "gather": {
          "logged": 1617319279711
        }
      }
    },
    {
      "cell_type": "markdown",
      "source": [
        "## Auto ML Experiment"
      ],
      "metadata": {
        "nteract": {
          "transient": {
            "deleting": false
          }
        }
      }
    },
    {
      "cell_type": "code",
      "source": [
        "# Choose a name for the run history container in the workspace.\r\n",
        "# NOTE: update these to match your existing experiment name\r\n",
        "experiment_name = 'data_quality_analysis'\r\n",
        "project_folder = './catalogue-scorecard-project'\r\n",
        "\r\n",
        "experiment = Experiment(ws, experiment_name)\r\n",
        "experiment"
      ],
      "outputs": [
        {
          "output_type": "execute_result",
          "execution_count": 3,
          "data": {
            "text/plain": "Experiment(Name: data_quality_analysis,\nWorkspace: quick-starts-ws-141768)",
            "text/html": "<table style=\"width:100%\"><tr><th>Name</th><th>Workspace</th><th>Report Page</th><th>Docs Page</th></tr><tr><td>data_quality_analysis</td><td>quick-starts-ws-141768</td><td><a href=\"https://ml.azure.com/experiments/data_quality_analysis?wsid=/subscriptions/510b94ba-e453-4417-988b-fbdc37b55ca7/resourcegroups/aml-quickstarts-141768/workspaces/quick-starts-ws-141768\" target=\"_blank\" rel=\"noopener\">Link to Azure Machine Learning studio</a></td><td><a href=\"https://docs.microsoft.com/en-us/python/api/azureml-core/azureml.core.experiment.Experiment?view=azure-ml-py\" target=\"_blank\" rel=\"noopener\">Link to Documentation</a></td></tr></table>"
          },
          "metadata": {}
        }
      ],
      "execution_count": 3,
      "metadata": {
        "collapsed": true,
        "jupyter": {
          "source_hidden": false,
          "outputs_hidden": false
        },
        "nteract": {
          "transient": {
            "deleting": false
          }
        },
        "gather": {
          "logged": 1617319286713
        }
      }
    },
    {
      "cell_type": "markdown",
      "source": [
        "## Create an AmlCompute cluster"
      ],
      "metadata": {
        "nteract": {
          "transient": {
            "deleting": false
          }
        }
      }
    },
    {
      "cell_type": "code",
      "source": [
        "from azureml.core.compute import AmlCompute\r\n",
        "from azureml.core.compute import ComputeTarget\r\n",
        "from azureml.core.compute_target import ComputeTargetException\r\n",
        "\r\n",
        "# Choose a name for your CPU cluster\r\n",
        "amlcompute_cluster_name = \"comp\"\r\n",
        "\r\n",
        "# Verify that cluster does not exist already\r\n",
        "try:\r\n",
        "    compute_target = ComputeTarget(workspace=ws, name=amlcompute_cluster_name)\r\n",
        "    print('Found existing cluster, use it.')\r\n",
        "except ComputeTargetException:\r\n",
        "    compute_config = AmlCompute.provisioning_configuration(vm_size='STANDARD_DS3_v2',#for GPU, use \"STANDARD_NC6\"\r\n",
        "                                                           #vm_priority = 'lowpriority', # optional\r\n",
        "                                                           max_nodes=4)\r\n",
        "    compute_target = ComputeTarget.create(ws, amlcompute_cluster_name, compute_config)\r\n",
        "\r\n",
        "compute_target.wait_for_completion(show_output=True)"
      ],
      "outputs": [
        {
          "output_type": "stream",
          "name": "stdout",
          "text": [
            "Found existing cluster, use it.\n",
            "\n",
            "Running\n"
          ]
        }
      ],
      "execution_count": 4,
      "metadata": {
        "collapsed": true,
        "jupyter": {
          "source_hidden": false,
          "outputs_hidden": false
        },
        "nteract": {
          "transient": {
            "deleting": false
          }
        },
        "gather": {
          "logged": 1617319297508
        }
      }
    },
    {
      "cell_type": "markdown",
      "source": [
        "## Data import"
      ],
      "metadata": {
        "nteract": {
          "transient": {
            "deleting": false
          }
        }
      }
    },
    {
      "cell_type": "code",
      "source": [
        "import pandas as pd\r\n",
        "\r\n",
        "auto_ds_path=\"https://raw.githubusercontent.com/shatakshipachori/data_quality_analysis/main/catalogue-scorecard.csv\"\r\n",
        "data=TabularDatasetFactory.from_delimited_files(path=auto_ds_path)\r\n"
      ],
      "outputs": [],
      "execution_count": 5,
      "metadata": {
        "collapsed": true,
        "jupyter": {
          "source_hidden": false,
          "outputs_hidden": false
        },
        "nteract": {
          "transient": {
            "deleting": false
          }
        },
        "gather": {
          "logged": 1617319818113
        }
      }
    },
    {
      "cell_type": "markdown",
      "source": [
        "## AutoML Configuration"
      ],
      "metadata": {
        "nteract": {
          "transient": {
            "deleting": false
          }
        }
      }
    },
    {
      "cell_type": "code",
      "source": [
        "import logging\r\n",
        "import time\r\n",
        "\r\n",
        "# TODO: Put your automl settings here\r\n",
        "automl_settings = {\r\n",
        "    \"n_cross_validations\":5,\r\n",
        "    \"primary_metric\":'normalized_root_mean_squared_error',\r\n",
        "    \"enable_early_stopping\":True,\r\n",
        "    \"experiment_timeout_minutes\":30,\r\n",
        "    \"max_concurrent_iterations\":5,\r\n",
        "   }\r\n",
        "\r\n",
        "# TODO: Put your automl config here\r\n",
        "automl_config = AutoMLConfig(\r\n",
        "    task='regression',\r\n",
        "    compute_target='comp',\r\n",
        "    training_data=data,\r\n",
        "    label_column_name='score',\r\n",
        "    **automl_settings\r\n",
        "    )"
      ],
      "outputs": [],
      "execution_count": 6,
      "metadata": {
        "collapsed": true,
        "jupyter": {
          "source_hidden": false,
          "outputs_hidden": false
        },
        "nteract": {
          "transient": {
            "deleting": false
          }
        },
        "gather": {
          "logged": 1617319863146
        }
      }
    },
    {
      "cell_type": "markdown",
      "source": [
        "## Submit the experiment"
      ],
      "metadata": {
        "nteract": {
          "transient": {
            "deleting": false
          }
        }
      }
    },
    {
      "cell_type": "code",
      "source": [
        "automl_run=experiment.submit(config=automl_config,show_output=True)"
      ],
      "outputs": [
        {
          "output_type": "stream",
          "name": "stdout",
          "text": [
            "Running on remote.\n",
            "No run_configuration provided, running on comp with default configuration\n",
            "Running on remote compute: comp\n",
            "Parent Run ID: AutoML_3efc1dc1-1856-4314-8f1d-6ee85f7cab26\n",
            "\n",
            "Current status: FeaturesGeneration. Generating features for the dataset.\n",
            "Current status: DatasetCrossValidationSplit. Generating individually featurized CV splits.\n",
            "Current status: ModelSelection. Beginning model selection.\n",
            "\n",
            "****************************************************************************************************\n",
            "DATA GUARDRAILS: \n",
            "\n",
            "TYPE:         Missing feature values imputation\n",
            "STATUS:       PASSED\n",
            "DESCRIPTION:  No feature missing values were detected in the training data.\n",
            "              Learn more about missing value imputation: https://aka.ms/AutomatedMLFeaturization\n",
            "\n",
            "****************************************************************************************************\n",
            "\n",
            "TYPE:         High cardinality feature detection\n",
            "STATUS:       PASSED\n",
            "DESCRIPTION:  Your inputs were analyzed, and no high cardinality features were detected.\n",
            "              Learn more about high cardinality feature handling: https://aka.ms/AutomatedMLFeaturization\n",
            "\n",
            "****************************************************************************************************\n",
            "\n",
            "****************************************************************************************************\n",
            "ITERATION: The iteration being evaluated.\n",
            "PIPELINE: A summary description of the pipeline being evaluated.\n",
            "DURATION: Time taken for the current iteration.\n",
            "METRIC: The result of computing score on the fitted pipeline.\n",
            "BEST: The best observed score thus far.\n",
            "****************************************************************************************************\n",
            "\n",
            " ITERATION   PIPELINE                                       DURATION      METRIC      BEST\n",
            "         3   MaxAbsScaler DecisionTree                      0:00:39       0.0182    0.0182\n",
            "         0   MaxAbsScaler LightGBM                          0:00:47       0.0018    0.0018\n",
            "         1   MaxAbsScaler XGBoostRegressor                  0:01:25       0.0042    0.0018\n",
            "         4   MaxAbsScaler ElasticNet                        0:01:20       0.0126    0.0018\n",
            "         2   StandardScalerWrapper ElasticNet               0:01:34       0.0685    0.0018\n",
            "         5   MaxAbsScaler DecisionTree                      0:00:41       0.0094    0.0018\n",
            "         6   MaxAbsScaler DecisionTree                      0:00:40       0.0059    0.0018\n",
            "         7   MaxAbsScaler DecisionTree                      0:00:50       0.0110    0.0018\n",
            "         8   MaxAbsScaler DecisionTree                      0:00:50       0.0191    0.0018\n",
            "         9   MaxAbsScaler DecisionTree                      0:00:43       0.0081    0.0018\n",
            "        11   MaxAbsScaler DecisionTree                      0:00:44       0.0071    0.0018\n",
            "        10   MaxAbsScaler DecisionTree                      0:01:13       0.0166    0.0018\n",
            "        12   MaxAbsScaler DecisionTree                      0:01:23       0.0176    0.0018\n",
            "        13   StandardScalerWrapper DecisionTree             0:01:16       0.0135    0.0018\n",
            "        14   MaxAbsScaler DecisionTree                      0:01:11       0.0239    0.0018\n",
            "        15   MaxAbsScaler DecisionTree                      0:01:04       0.0224    0.0018\n",
            "        16   MaxAbsScaler SGD                               0:00:44       0.0718    0.0018\n",
            "        18   MaxAbsScaler DecisionTree                      0:00:53       0.0198    0.0018\n",
            "        17   MaxAbsScaler DecisionTree                      0:00:57       0.0052    0.0018\n",
            "        19   MaxAbsScaler DecisionTree                      0:00:54       0.0202    0.0018\n",
            "        20   MaxAbsScaler SGD                               0:00:51       0.0153    0.0018\n",
            "        21   MaxAbsScaler DecisionTree                      0:00:46       0.0109    0.0018\n",
            "        22   MaxAbsScaler DecisionTree                      0:02:30       0.0074    0.0018\n",
            "        23   SparseNormalizer LightGBM                      0:02:26       0.0791    0.0018\n",
            "        24   MaxAbsScaler DecisionTree                      0:02:22       0.0072    0.0018\n",
            "        25   MaxAbsScaler DecisionTree                      0:02:25       0.0188    0.0018\n",
            "        26   MaxAbsScaler DecisionTree                      0:02:22       0.0084    0.0018\n",
            "        27   MaxAbsScaler DecisionTree                      0:00:42       0.0073    0.0018\n",
            "        28   MaxAbsScaler LightGBM                          0:00:45       0.0451    0.0018\n",
            "        29   MaxAbsScaler DecisionTree                      0:00:41       0.0114    0.0018\n",
            "        30   MaxAbsScaler DecisionTree                      0:00:42       0.0071    0.0018\n",
            "        31   MaxAbsScaler DecisionTree                      0:00:47       0.0112    0.0018\n",
            "        32   MaxAbsScaler DecisionTree                      0:00:49       0.0103    0.0018\n",
            "        33   MaxAbsScaler DecisionTree                      0:00:47       0.0065    0.0018\n",
            "        35   MaxAbsScaler DecisionTree                      0:00:45       0.0094    0.0018\n",
            "        36   MaxAbsScaler DecisionTree                      0:00:44       0.0120    0.0018\n",
            "        34   MaxAbsScaler LightGBM                          0:00:51       0.0462    0.0018\n",
            "        37                                                  0:00:17          nan    0.0018\n",
            "        39    StackEnsemble                                 0:01:31       0.0019    0.0018\n",
            "        38    VotingEnsemble                                0:02:02       0.0018    0.0018\n"
          ]
        }
      ],
      "execution_count": 7,
      "metadata": {
        "collapsed": true,
        "jupyter": {
          "source_hidden": false,
          "outputs_hidden": false
        },
        "nteract": {
          "transient": {
            "deleting": false
          }
        },
        "gather": {
          "logged": 1617320953893
        }
      }
    },
    {
      "cell_type": "markdown",
      "source": [
        "## Run Details"
      ],
      "metadata": {
        "nteract": {
          "transient": {
            "deleting": false
          }
        }
      }
    },
    {
      "cell_type": "code",
      "source": [
        "from azureml.widgets import RunDetails\r\n",
        "RunDetails(automl_run).show()\r\n",
        "automl_run.wait_for_completion(show_output=True)"
      ],
      "outputs": [
        {
          "output_type": "display_data",
          "data": {
            "text/plain": "_AutoMLWidget(widget_settings={'childWidgetDisplay': 'popup', 'send_telemetry': False, 'log_level': 'INFO', 's…",
            "application/vnd.jupyter.widget-view+json": {
              "version_major": 2,
              "version_minor": 0,
              "model_id": "39327c9d08e6424dbf9d0d2d199217dd"
            }
          },
          "metadata": {}
        },
        {
          "output_type": "display_data",
          "data": {
            "application/aml.mini.widget.v1": "{\"status\": \"Completed\", \"workbench_run_details_uri\": \"https://ml.azure.com/experiments/data_quality_analysis/runs/AutoML_3efc1dc1-1856-4314-8f1d-6ee85f7cab26?wsid=/subscriptions/510b94ba-e453-4417-988b-fbdc37b55ca7/resourcegroups/aml-quickstarts-141768/workspaces/quick-starts-ws-141768\", \"run_id\": \"AutoML_3efc1dc1-1856-4314-8f1d-6ee85f7cab26\", \"run_properties\": {\"run_id\": \"AutoML_3efc1dc1-1856-4314-8f1d-6ee85f7cab26\", \"created_utc\": \"2021-04-01T23:31:10.109443Z\", \"properties\": {\"num_iterations\": \"1000\", \"training_type\": \"TrainFull\", \"acquisition_function\": \"EI\", \"primary_metric\": \"normalized_root_mean_squared_error\", \"train_split\": \"0\", \"acquisition_parameter\": \"0\", \"num_cross_validation\": \"5\", \"target\": \"comp\", \"AMLSettingsJsonString\": \"{\\\"path\\\":null,\\\"name\\\":\\\"data_quality_analysis\\\",\\\"subscription_id\\\":\\\"510b94ba-e453-4417-988b-fbdc37b55ca7\\\",\\\"resource_group\\\":\\\"aml-quickstarts-141768\\\",\\\"workspace_name\\\":\\\"quick-starts-ws-141768\\\",\\\"region\\\":\\\"southcentralus\\\",\\\"compute_target\\\":\\\"comp\\\",\\\"spark_service\\\":null,\\\"azure_service\\\":\\\"remote\\\",\\\"many_models\\\":false,\\\"pipeline_fetch_max_batch_size\\\":1,\\\"enable_batch_run\\\":false,\\\"iterations\\\":1000,\\\"primary_metric\\\":\\\"normalized_root_mean_squared_error\\\",\\\"task_type\\\":\\\"regression\\\",\\\"data_script\\\":null,\\\"validation_size\\\":0.0,\\\"n_cross_validations\\\":5,\\\"y_min\\\":null,\\\"y_max\\\":null,\\\"num_classes\\\":null,\\\"featurization\\\":\\\"auto\\\",\\\"_ignore_package_version_incompatibilities\\\":false,\\\"is_timeseries\\\":false,\\\"max_cores_per_iteration\\\":1,\\\"max_concurrent_iterations\\\":5,\\\"iteration_timeout_minutes\\\":null,\\\"mem_in_mb\\\":null,\\\"enforce_time_on_windows\\\":false,\\\"experiment_timeout_minutes\\\":30,\\\"experiment_exit_score\\\":null,\\\"whitelist_models\\\":null,\\\"blacklist_algos\\\":[\\\"TensorFlowDNN\\\",\\\"TensorFlowLinearRegressor\\\"],\\\"supported_models\\\":[\\\"ElasticNet\\\",\\\"DecisionTree\\\",\\\"LassoLars\\\",\\\"XGBoostRegressor\\\",\\\"TensorFlowLinearRegressor\\\",\\\"FastLinearRegressor\\\",\\\"OnlineGradientDescentRegressor\\\",\\\"TensorFlowDNN\\\",\\\"SGD\\\",\\\"KNN\\\",\\\"LightGBM\\\",\\\"RandomForest\\\",\\\"ExtremeRandomTrees\\\",\\\"GradientBoosting\\\"],\\\"private_models\\\":[],\\\"auto_blacklist\\\":true,\\\"blacklist_samples_reached\\\":false,\\\"exclude_nan_labels\\\":true,\\\"verbosity\\\":20,\\\"_debug_log\\\":\\\"azureml_automl.log\\\",\\\"show_warnings\\\":false,\\\"model_explainability\\\":true,\\\"service_url\\\":null,\\\"sdk_url\\\":null,\\\"sdk_packages\\\":null,\\\"enable_onnx_compatible_models\\\":false,\\\"enable_split_onnx_featurizer_estimator_models\\\":false,\\\"vm_type\\\":\\\"STANDARD_DS3_V2\\\",\\\"telemetry_verbosity\\\":20,\\\"send_telemetry\\\":true,\\\"enable_dnn\\\":false,\\\"scenario\\\":\\\"SDK-1.13.0\\\",\\\"environment_label\\\":null,\\\"save_mlflow\\\":false,\\\"force_text_dnn\\\":false,\\\"enable_feature_sweeping\\\":true,\\\"enable_early_stopping\\\":true,\\\"early_stopping_n_iters\\\":10,\\\"metrics\\\":null,\\\"enable_metric_confidence\\\":false,\\\"enable_ensembling\\\":true,\\\"enable_stack_ensembling\\\":true,\\\"ensemble_iterations\\\":15,\\\"enable_tf\\\":false,\\\"enable_subsampling\\\":null,\\\"subsample_seed\\\":null,\\\"enable_nimbusml\\\":false,\\\"enable_streaming\\\":false,\\\"force_streaming\\\":false,\\\"track_child_runs\\\":true,\\\"allowed_private_models\\\":[],\\\"label_column_name\\\":\\\"score\\\",\\\"weight_column_name\\\":null,\\\"cv_split_column_names\\\":null,\\\"enable_local_managed\\\":false,\\\"_local_managed_run_id\\\":null,\\\"cost_mode\\\":1,\\\"lag_length\\\":0,\\\"metric_operation\\\":\\\"minimize\\\",\\\"preprocess\\\":true}\", \"DataPrepJsonString\": \"{\\\\\\\"training_data\\\\\\\": \\\\\\\"{\\\\\\\\\\\\\\\"blocks\\\\\\\\\\\\\\\": [{\\\\\\\\\\\\\\\"id\\\\\\\\\\\\\\\": \\\\\\\\\\\\\\\"acce69ac-f3ac-41af-bede-f5c2876919d3\\\\\\\\\\\\\\\", \\\\\\\\\\\\\\\"type\\\\\\\\\\\\\\\": \\\\\\\\\\\\\\\"Microsoft.DPrep.GetFilesBlock\\\\\\\\\\\\\\\", \\\\\\\\\\\\\\\"arguments\\\\\\\\\\\\\\\": {\\\\\\\\\\\\\\\"isArchive\\\\\\\\\\\\\\\": false, \\\\\\\\\\\\\\\"path\\\\\\\\\\\\\\\": {\\\\\\\\\\\\\\\"target\\\\\\\\\\\\\\\": 4, \\\\\\\\\\\\\\\"resourceDetails\\\\\\\\\\\\\\\": [{\\\\\\\\\\\\\\\"path\\\\\\\\\\\\\\\": \\\\\\\\\\\\\\\"https://raw.githubusercontent.com/shatakshipachori/data_quality_analysis/main/catalogue-scorecard.csv\\\\\\\\\\\\\\\"}]}}, \\\\\\\\\\\\\\\"localData\\\\\\\\\\\\\\\": {}, \\\\\\\\\\\\\\\"isEnabled\\\\\\\\\\\\\\\": true, \\\\\\\\\\\\\\\"name\\\\\\\\\\\\\\\": null, \\\\\\\\\\\\\\\"annotation\\\\\\\\\\\\\\\": null}, {\\\\\\\\\\\\\\\"id\\\\\\\\\\\\\\\": \\\\\\\\\\\\\\\"b5a77f02-d366-4b4d-90cd-398d938715ed\\\\\\\\\\\\\\\", \\\\\\\\\\\\\\\"type\\\\\\\\\\\\\\\": \\\\\\\\\\\\\\\"Microsoft.DPrep.ParseDelimitedBlock\\\\\\\\\\\\\\\", \\\\\\\\\\\\\\\"arguments\\\\\\\\\\\\\\\": {\\\\\\\\\\\\\\\"columnHeadersMode\\\\\\\\\\\\\\\": 3, \\\\\\\\\\\\\\\"fileEncoding\\\\\\\\\\\\\\\": 0, \\\\\\\\\\\\\\\"handleQuotedLineBreaks\\\\\\\\\\\\\\\": false, \\\\\\\\\\\\\\\"preview\\\\\\\\\\\\\\\": false, \\\\\\\\\\\\\\\"separator\\\\\\\\\\\\\\\": \\\\\\\\\\\\\\\",\\\\\\\\\\\\\\\", \\\\\\\\\\\\\\\"skipRows\\\\\\\\\\\\\\\": 0, \\\\\\\\\\\\\\\"skipRowsMode\\\\\\\\\\\\\\\": 0}, \\\\\\\\\\\\\\\"localData\\\\\\\\\\\\\\\": {}, \\\\\\\\\\\\\\\"isEnabled\\\\\\\\\\\\\\\": true, \\\\\\\\\\\\\\\"name\\\\\\\\\\\\\\\": null, \\\\\\\\\\\\\\\"annotation\\\\\\\\\\\\\\\": null}, {\\\\\\\\\\\\\\\"id\\\\\\\\\\\\\\\": \\\\\\\\\\\\\\\"1f1269e1-4398-4e60-a405-6a2b9029827b\\\\\\\\\\\\\\\", \\\\\\\\\\\\\\\"type\\\\\\\\\\\\\\\": \\\\\\\\\\\\\\\"Microsoft.DPrep.DropColumnsBlock\\\\\\\\\\\\\\\", \\\\\\\\\\\\\\\"arguments\\\\\\\\\\\\\\\": {\\\\\\\\\\\\\\\"columns\\\\\\\\\\\\\\\": {\\\\\\\\\\\\\\\"type\\\\\\\\\\\\\\\": 0, \\\\\\\\\\\\\\\"details\\\\\\\\\\\\\\\": {\\\\\\\\\\\\\\\"selectedColumns\\\\\\\\\\\\\\\": [\\\\\\\\\\\\\\\"Path\\\\\\\\\\\\\\\"]}}}, \\\\\\\\\\\\\\\"localData\\\\\\\\\\\\\\\": {}, \\\\\\\\\\\\\\\"isEnabled\\\\\\\\\\\\\\\": true, \\\\\\\\\\\\\\\"name\\\\\\\\\\\\\\\": null, \\\\\\\\\\\\\\\"annotation\\\\\\\\\\\\\\\": null}, {\\\\\\\\\\\\\\\"id\\\\\\\\\\\\\\\": \\\\\\\\\\\\\\\"6b959c0d-b02d-4bb4-a9a2-0dafd9d240a3\\\\\\\\\\\\\\\", \\\\\\\\\\\\\\\"type\\\\\\\\\\\\\\\": \\\\\\\\\\\\\\\"Microsoft.DPrep.SetColumnTypesBlock\\\\\\\\\\\\\\\", \\\\\\\\\\\\\\\"arguments\\\\\\\\\\\\\\\": {\\\\\\\\\\\\\\\"columnConversion\\\\\\\\\\\\\\\": [{\\\\\\\\\\\\\\\"column\\\\\\\\\\\\\\\": {\\\\\\\\\\\\\\\"type\\\\\\\\\\\\\\\": 2, \\\\\\\\\\\\\\\"details\\\\\\\\\\\\\\\": {\\\\\\\\\\\\\\\"selectedColumn\\\\\\\\\\\\\\\": \\\\\\\\\\\\\\\"_id\\\\\\\\\\\\\\\"}}, \\\\\\\\\\\\\\\"typeProperty\\\\\\\\\\\\\\\": 2}, {\\\\\\\\\\\\\\\"column\\\\\\\\\\\\\\\": {\\\\\\\\\\\\\\\"type\\\\\\\\\\\\\\\": 2, \\\\\\\\\\\\\\\"details\\\\\\\\\\\\\\\": {\\\\\\\\\\\\\\\"selectedColumn\\\\\\\\\\\\\\\": \\\\\\\\\\\\\\\"package\\\\\\\\\\\\\\\"}}, \\\\\\\\\\\\\\\"typeProperty\\\\\\\\\\\\\\\": 0}, {\\\\\\\\\\\\\\\"column\\\\\\\\\\\\\\\": {\\\\\\\\\\\\\\\"type\\\\\\\\\\\\\\\": 2, \\\\\\\\\\\\\\\"details\\\\\\\\\\\\\\\": {\\\\\\\\\\\\\\\"selectedColumn\\\\\\\\\\\\\\\": \\\\\\\\\\\\\\\"accessibility\\\\\\\\\\\\\\\"}}, \\\\\\\\\\\\\\\"typeProperty\\\\\\\\\\\\\\\": 2}, {\\\\\\\\\\\\\\\"column\\\\\\\\\\\\\\\": {\\\\\\\\\\\\\\\"type\\\\\\\\\\\\\\\": 2, \\\\\\\\\\\\\\\"details\\\\\\\\\\\\\\\": {\\\\\\\\\\\\\\\"selectedColumn\\\\\\\\\\\\\\\": \\\\\\\\\\\\\\\"completeness\\\\\\\\\\\\\\\"}}, \\\\\\\\\\\\\\\"typeProperty\\\\\\\\\\\\\\\": 3}, {\\\\\\\\\\\\\\\"column\\\\\\\\\\\\\\\": {\\\\\\\\\\\\\\\"type\\\\\\\\\\\\\\\": 2, \\\\\\\\\\\\\\\"details\\\\\\\\\\\\\\\": {\\\\\\\\\\\\\\\"selectedColumn\\\\\\\\\\\\\\\": \\\\\\\\\\\\\\\"freshness\\\\\\\\\\\\\\\"}}, \\\\\\\\\\\\\\\"typeProperty\\\\\\\\\\\\\\\": 3}, {\\\\\\\\\\\\\\\"column\\\\\\\\\\\\\\\": {\\\\\\\\\\\\\\\"type\\\\\\\\\\\\\\\": 2, \\\\\\\\\\\\\\\"details\\\\\\\\\\\\\\\": {\\\\\\\\\\\\\\\"selectedColumn\\\\\\\\\\\\\\\": \\\\\\\\\\\\\\\"metadata\\\\\\\\\\\\\\\"}}, \\\\\\\\\\\\\\\"typeProperty\\\\\\\\\\\\\\\": 3}, {\\\\\\\\\\\\\\\"column\\\\\\\\\\\\\\\": {\\\\\\\\\\\\\\\"type\\\\\\\\\\\\\\\": 2, \\\\\\\\\\\\\\\"details\\\\\\\\\\\\\\\": {\\\\\\\\\\\\\\\"selectedColumn\\\\\\\\\\\\\\\": \\\\\\\\\\\\\\\"usability\\\\\\\\\\\\\\\"}}, \\\\\\\\\\\\\\\"typeProperty\\\\\\\\\\\\\\\": 3}, {\\\\\\\\\\\\\\\"column\\\\\\\\\\\\\\\": {\\\\\\\\\\\\\\\"type\\\\\\\\\\\\\\\": 2, \\\\\\\\\\\\\\\"details\\\\\\\\\\\\\\\": {\\\\\\\\\\\\\\\"selectedColumn\\\\\\\\\\\\\\\": \\\\\\\\\\\\\\\"score\\\\\\\\\\\\\\\"}}, \\\\\\\\\\\\\\\"typeProperty\\\\\\\\\\\\\\\": 3}, {\\\\\\\\\\\\\\\"column\\\\\\\\\\\\\\\": {\\\\\\\\\\\\\\\"type\\\\\\\\\\\\\\\": 2, \\\\\\\\\\\\\\\"details\\\\\\\\\\\\\\\": {\\\\\\\\\\\\\\\"selectedColumn\\\\\\\\\\\\\\\": \\\\\\\\\\\\\\\"score_norm\\\\\\\\\\\\\\\"}}, \\\\\\\\\\\\\\\"typeProperty\\\\\\\\\\\\\\\": 3}, {\\\\\\\\\\\\\\\"column\\\\\\\\\\\\\\\": {\\\\\\\\\\\\\\\"type\\\\\\\\\\\\\\\": 2, \\\\\\\\\\\\\\\"details\\\\\\\\\\\\\\\": {\\\\\\\\\\\\\\\"selectedColumn\\\\\\\\\\\\\\\": \\\\\\\\\\\\\\\"grade\\\\\\\\\\\\\\\"}}, \\\\\\\\\\\\\\\"typeProperty\\\\\\\\\\\\\\\": 0}, {\\\\\\\\\\\\\\\"column\\\\\\\\\\\\\\\": {\\\\\\\\\\\\\\\"type\\\\\\\\\\\\\\\": 2, \\\\\\\\\\\\\\\"details\\\\\\\\\\\\\\\": {\\\\\\\\\\\\\\\"selectedColumn\\\\\\\\\\\\\\\": \\\\\\\\\\\\\\\"grade_norm\\\\\\\\\\\\\\\"}}, \\\\\\\\\\\\\\\"typeProperty\\\\\\\\\\\\\\\": 0}, {\\\\\\\\\\\\\\\"column\\\\\\\\\\\\\\\": {\\\\\\\\\\\\\\\"type\\\\\\\\\\\\\\\": 2, \\\\\\\\\\\\\\\"details\\\\\\\\\\\\\\\": {\\\\\\\\\\\\\\\"selectedColumn\\\\\\\\\\\\\\\": \\\\\\\\\\\\\\\"recorded_at\\\\\\\\\\\\\\\"}}, \\\\\\\\\\\\\\\"typeArguments\\\\\\\\\\\\\\\": {\\\\\\\\\\\\\\\"dateTimeFormats\\\\\\\\\\\\\\\": [\\\\\\\\\\\\\\\"%Y-%m-%dT%H:%M:%S\\\\\\\\\\\\\\\"]}, \\\\\\\\\\\\\\\"typeProperty\\\\\\\\\\\\\\\": 4}, {\\\\\\\\\\\\\\\"column\\\\\\\\\\\\\\\": {\\\\\\\\\\\\\\\"type\\\\\\\\\\\\\\\": 2, \\\\\\\\\\\\\\\"details\\\\\\\\\\\\\\\": {\\\\\\\\\\\\\\\"selectedColumn\\\\\\\\\\\\\\\": \\\\\\\\\\\\\\\"version\\\\\\\\\\\\\\\"}}, \\\\\\\\\\\\\\\"typeProperty\\\\\\\\\\\\\\\": 0}]}, \\\\\\\\\\\\\\\"localData\\\\\\\\\\\\\\\": {}, \\\\\\\\\\\\\\\"isEnabled\\\\\\\\\\\\\\\": true, \\\\\\\\\\\\\\\"name\\\\\\\\\\\\\\\": null, \\\\\\\\\\\\\\\"annotation\\\\\\\\\\\\\\\": null}], \\\\\\\\\\\\\\\"inspectors\\\\\\\\\\\\\\\": [], \\\\\\\\\\\\\\\"meta\\\\\\\\\\\\\\\": {\\\\\\\\\\\\\\\"savedDatasetId\\\\\\\\\\\\\\\": \\\\\\\\\\\\\\\"a3c22789-149b-4cfb-82d6-c6e9f8a45006\\\\\\\\\\\\\\\", \\\\\\\\\\\\\\\"datasetType\\\\\\\\\\\\\\\": \\\\\\\\\\\\\\\"tabular\\\\\\\\\\\\\\\", \\\\\\\\\\\\\\\"subscriptionId\\\\\\\\\\\\\\\": \\\\\\\\\\\\\\\"510b94ba-e453-4417-988b-fbdc37b55ca7\\\\\\\\\\\\\\\", \\\\\\\\\\\\\\\"workspaceId\\\\\\\\\\\\\\\": \\\\\\\\\\\\\\\"4b0cded3-5c89-408b-803e-70e5ecf22382\\\\\\\\\\\\\\\", \\\\\\\\\\\\\\\"workspaceLocation\\\\\\\\\\\\\\\": \\\\\\\\\\\\\\\"southcentralus\\\\\\\\\\\\\\\", \\\\\\\\\\\\\\\"partition_keys\\\\\\\\\\\\\\\": \\\\\\\\\\\\\\\"true\\\\\\\\\\\\\\\"}}\\\\\\\", \\\\\\\"activities\\\\\\\": 0}\", \"EnableSubsampling\": null, \"runTemplate\": \"AutoML\", \"azureml.runsource\": \"automl\", \"display_task_type\": \"regression\", \"dependencies_versions\": \"{\\\"azureml-widgets\\\": \\\"1.24.0\\\", \\\"azureml-train\\\": \\\"1.24.0\\\", \\\"azureml-train-restclients-hyperdrive\\\": \\\"1.24.0\\\", \\\"azureml-train-core\\\": \\\"1.24.0\\\", \\\"azureml-train-automl\\\": \\\"1.24.0\\\", \\\"azureml-train-automl-runtime\\\": \\\"1.24.0\\\", \\\"azureml-train-automl-client\\\": \\\"1.24.0\\\", \\\"azureml-tensorboard\\\": \\\"1.24.0\\\", \\\"azureml-telemetry\\\": \\\"1.24.0\\\", \\\"azureml-sdk\\\": \\\"1.24.0\\\", \\\"azureml-samples\\\": \\\"0+unknown\\\", \\\"azureml-pipeline\\\": \\\"1.24.0\\\", \\\"azureml-pipeline-steps\\\": \\\"1.24.0\\\", \\\"azureml-pipeline-core\\\": \\\"1.24.0\\\", \\\"azureml-opendatasets\\\": \\\"1.24.0\\\", \\\"azureml-model-management-sdk\\\": \\\"1.0.1b6.post1\\\", \\\"azureml-mlflow\\\": \\\"1.24.0\\\", \\\"azureml-interpret\\\": \\\"1.24.0\\\", \\\"azureml-explain-model\\\": \\\"1.24.0\\\", \\\"azureml-defaults\\\": \\\"1.24.0\\\", \\\"azureml-dataset-runtime\\\": \\\"1.24.0\\\", \\\"azureml-dataprep\\\": \\\"2.11.1\\\", \\\"azureml-dataprep-rslex\\\": \\\"1.9.0\\\", \\\"azureml-dataprep-native\\\": \\\"30.0.0\\\", \\\"azureml-datadrift\\\": \\\"1.24.0\\\", \\\"azureml-core\\\": \\\"1.24.0\\\", \\\"azureml-contrib-services\\\": \\\"1.24.0\\\", \\\"azureml-contrib-server\\\": \\\"1.24.0\\\", \\\"azureml-contrib-reinforcementlearning\\\": \\\"1.24.0\\\", \\\"azureml-contrib-pipeline-steps\\\": \\\"1.24.0\\\", \\\"azureml-contrib-notebook\\\": \\\"1.24.0\\\", \\\"azureml-contrib-gbdt\\\": \\\"1.24.0\\\", \\\"azureml-contrib-fairness\\\": \\\"1.24.0\\\", \\\"azureml-contrib-dataset\\\": \\\"1.24.0\\\", \\\"azureml-cli-common\\\": \\\"1.24.0\\\", \\\"azureml-automl-runtime\\\": \\\"1.24.0\\\", \\\"azureml-automl-dnn-nlp\\\": \\\"1.24.0\\\", \\\"azureml-automl-core\\\": \\\"1.24.0\\\", \\\"azureml-accel-models\\\": \\\"1.24.0\\\"}\", \"_aml_system_scenario_identification\": \"Remote.Parent\", \"ClientType\": \"SDK\", \"environment_cpu_name\": \"AzureML-AutoML\", \"environment_cpu_label\": \"prod\", \"environment_gpu_name\": \"AzureML-AutoML-GPU\", \"environment_gpu_label\": \"prod\", \"root_attribution\": \"automl\", \"attribution\": \"AutoML\", \"Orchestrator\": \"AutoML\", \"CancelUri\": \"https://southcentralus.experiments.azureml.net/jasmine/v1.0/subscriptions/510b94ba-e453-4417-988b-fbdc37b55ca7/resourceGroups/aml-quickstarts-141768/providers/Microsoft.MachineLearningServices/workspaces/quick-starts-ws-141768/experimentids/994d76b8-a048-4945-9855-93189bcd3838/cancel/AutoML_3efc1dc1-1856-4314-8f1d-6ee85f7cab26\", \"ClientSdkVersion\": \"1.24.0\", \"snapshotId\": \"00000000-0000-0000-0000-000000000000\", \"SetupRunId\": \"AutoML_3efc1dc1-1856-4314-8f1d-6ee85f7cab26_setup\", \"SetupRunContainerId\": \"dcid.AutoML_3efc1dc1-1856-4314-8f1d-6ee85f7cab26_setup\", \"FeaturizationRunJsonPath\": \"featurizer_container.json\", \"FeaturizationRunId\": \"AutoML_3efc1dc1-1856-4314-8f1d-6ee85f7cab26_featurize\", \"ProblemInfoJsonString\": \"{\\\"dataset_num_categorical\\\": 0, \\\"is_sparse\\\": true, \\\"subsampling\\\": false, \\\"dataset_classes\\\": 50, \\\"dataset_features\\\": 175, \\\"dataset_samples\\\": 23027, \\\"single_frequency_class_detected\\\": false}\", \"ModelExplainRunId\": \"AutoML_3efc1dc1-1856-4314-8f1d-6ee85f7cab26_ModelExplain\"}, \"tags\": {\"model_explain_run\": \"best_run\", \"_aml_system_azureml.automlComponent\": \"AutoML\", \"pipeline_id\": \"\", \"score\": \"\", \"predicted_cost\": \"\", \"fit_time\": \"\", \"training_percent\": \"\", \"iteration\": \"\", \"run_preprocessor\": \"\", \"run_algorithm\": \"\", \"dynamic_whitelisting_iterations\": \"<23>;<28>;<34>;\", \"automl_best_child_run_id\": \"AutoML_3efc1dc1-1856-4314-8f1d-6ee85f7cab26_0\"}, \"end_time_utc\": \"2021-04-01T23:49:07.571031Z\", \"status\": \"Completed\", \"log_files\": {}, \"log_groups\": [], \"run_duration\": \"0:17:57\", \"run_number\": \"1\", \"run_queued_details\": {\"status\": \"Completed\", \"details\": null}}, \"child_runs\": [{\"run_id\": \"AutoML_3efc1dc1-1856-4314-8f1d-6ee85f7cab26_0\", \"run_number\": 5, \"metric\": null, \"status\": \"Completed\", \"run_type\": \"azureml.scriptrun\", \"training_percent\": \"100\", \"start_time\": \"2021-04-01T23:36:32.588088Z\", \"end_time\": \"2021-04-01T23:37:19.483768Z\", \"created_time\": \"2021-04-01T23:36:16.990352Z\", \"created_time_dt\": \"2021-04-01T23:36:16.990352Z\", \"duration\": \"0:01:02\", \"iteration\": \"0\", \"goal\": \"normalized_root_mean_squared_error_min\", \"run_name\": \"MaxAbsScaler, LightGBM\", \"run_properties\": \"copy=True\", \"primary_metric\": 0.00182793, \"best_metric\": 0.00182793}, {\"run_id\": \"AutoML_3efc1dc1-1856-4314-8f1d-6ee85f7cab26_4\", \"run_number\": 6, \"metric\": null, \"status\": \"Completed\", \"run_type\": \"azureml.scriptrun\", \"training_percent\": \"100\", \"start_time\": \"2021-04-01T23:36:33.97225Z\", \"end_time\": \"2021-04-01T23:37:53.754217Z\", \"created_time\": \"2021-04-01T23:36:17.219392Z\", \"created_time_dt\": \"2021-04-01T23:36:17.219392Z\", \"duration\": \"0:01:36\", \"iteration\": \"4\", \"goal\": \"normalized_root_mean_squared_error_min\", \"run_name\": \"MaxAbsScaler, ElasticNet\", \"run_properties\": \"copy=True\", \"primary_metric\": 0.01259029, \"best_metric\": 0.00182793}, {\"run_id\": \"AutoML_3efc1dc1-1856-4314-8f1d-6ee85f7cab26_2\", \"run_number\": 7, \"metric\": null, \"status\": \"Completed\", \"run_type\": \"azureml.scriptrun\", \"training_percent\": \"100\", \"start_time\": \"2021-04-01T23:36:34.021788Z\", \"end_time\": \"2021-04-01T23:38:08.044866Z\", \"created_time\": \"2021-04-01T23:36:17.262348Z\", \"created_time_dt\": \"2021-04-01T23:36:17.262348Z\", \"duration\": \"0:01:50\", \"iteration\": \"2\", \"goal\": \"normalized_root_mean_squared_error_min\", \"run_name\": \"StandardScalerWrapper, ElasticNet\", \"run_properties\": \"<azureml.automl.runtime.shared.model_wrappers.StandardScalerWrapper object at 0x7f37a72d62b0\", \"primary_metric\": 0.0685102, \"best_metric\": 0.00182793}, {\"run_id\": \"AutoML_3efc1dc1-1856-4314-8f1d-6ee85f7cab26_1\", \"run_number\": 8, \"metric\": null, \"status\": \"Completed\", \"run_type\": \"azureml.scriptrun\", \"training_percent\": \"100\", \"start_time\": \"2021-04-01T23:36:31.918064Z\", \"end_time\": \"2021-04-01T23:37:56.723734Z\", \"created_time\": \"2021-04-01T23:36:17.277672Z\", \"created_time_dt\": \"2021-04-01T23:36:17.277672Z\", \"duration\": \"0:01:39\", \"iteration\": \"1\", \"goal\": \"normalized_root_mean_squared_error_min\", \"run_name\": \"MaxAbsScaler, XGBoostRegressor\", \"run_properties\": \"copy=True\", \"primary_metric\": 0.00424512, \"best_metric\": 0.00182793}, {\"run_id\": \"AutoML_3efc1dc1-1856-4314-8f1d-6ee85f7cab26_3\", \"run_number\": 9, \"metric\": null, \"status\": \"Completed\", \"run_type\": \"azureml.scriptrun\", \"training_percent\": \"100\", \"start_time\": \"2021-04-01T23:36:30.568289Z\", \"end_time\": \"2021-04-01T23:37:09.984414Z\", \"created_time\": \"2021-04-01T23:36:17.218962Z\", \"created_time_dt\": \"2021-04-01T23:36:17.218962Z\", \"duration\": \"0:00:52\", \"iteration\": \"3\", \"goal\": \"normalized_root_mean_squared_error_min\", \"run_name\": \"MaxAbsScaler, DecisionTree\", \"run_properties\": \"copy=True\", \"primary_metric\": 0.01819564, \"best_metric\": 0.00182793}, {\"run_id\": \"AutoML_3efc1dc1-1856-4314-8f1d-6ee85f7cab26_5\", \"run_number\": 10, \"metric\": null, \"status\": \"Completed\", \"run_type\": \"azureml.scriptrun\", \"training_percent\": \"100\", \"start_time\": \"2021-04-01T23:37:31.374643Z\", \"end_time\": \"2021-04-01T23:38:12.839963Z\", \"created_time\": \"2021-04-01T23:37:13.703839Z\", \"created_time_dt\": \"2021-04-01T23:37:13.703839Z\", \"duration\": \"0:00:59\", \"iteration\": \"5\", \"goal\": \"normalized_root_mean_squared_error_min\", \"run_name\": \"MaxAbsScaler, DecisionTree\", \"run_properties\": \"copy=True\", \"primary_metric\": 0.00937182, \"best_metric\": 0.00182793}, {\"run_id\": \"AutoML_3efc1dc1-1856-4314-8f1d-6ee85f7cab26_6\", \"run_number\": 11, \"metric\": null, \"status\": \"Completed\", \"run_type\": \"azureml.scriptrun\", \"training_percent\": \"100\", \"start_time\": \"2021-04-01T23:37:33.501959Z\", \"end_time\": \"2021-04-01T23:38:13.131318Z\", \"created_time\": \"2021-04-01T23:37:23.410281Z\", \"created_time_dt\": \"2021-04-01T23:37:23.410281Z\", \"duration\": \"0:00:49\", \"iteration\": \"6\", \"goal\": \"normalized_root_mean_squared_error_min\", \"run_name\": \"MaxAbsScaler, DecisionTree\", \"run_properties\": \"copy=True\", \"primary_metric\": 0.00585433, \"best_metric\": 0.00182793}, {\"run_id\": \"AutoML_3efc1dc1-1856-4314-8f1d-6ee85f7cab26_7\", \"run_number\": 12, \"metric\": null, \"status\": \"Completed\", \"run_type\": \"azureml.scriptrun\", \"training_percent\": \"100\", \"start_time\": \"2021-04-01T23:38:11.58103Z\", \"end_time\": \"2021-04-01T23:39:01.222619Z\", \"created_time\": \"2021-04-01T23:37:57.331524Z\", \"created_time_dt\": \"2021-04-01T23:37:57.331524Z\", \"duration\": \"0:01:03\", \"iteration\": \"7\", \"goal\": \"normalized_root_mean_squared_error_min\", \"run_name\": \"MaxAbsScaler, DecisionTree\", \"run_properties\": \"copy=True\", \"primary_metric\": 0.0110419, \"best_metric\": 0.00182793}, {\"run_id\": \"AutoML_3efc1dc1-1856-4314-8f1d-6ee85f7cab26_8\", \"run_number\": 13, \"metric\": null, \"status\": \"Completed\", \"run_type\": \"azureml.scriptrun\", \"training_percent\": \"100\", \"start_time\": \"2021-04-01T23:38:10.801793Z\", \"end_time\": \"2021-04-01T23:39:00.586192Z\", \"created_time\": \"2021-04-01T23:38:02.757949Z\", \"created_time_dt\": \"2021-04-01T23:38:02.757949Z\", \"duration\": \"0:00:57\", \"iteration\": \"8\", \"goal\": \"normalized_root_mean_squared_error_min\", \"run_name\": \"MaxAbsScaler, DecisionTree\", \"run_properties\": \"copy=True\", \"primary_metric\": 0.0191243, \"best_metric\": 0.00182793}, {\"run_id\": \"AutoML_3efc1dc1-1856-4314-8f1d-6ee85f7cab26_9\", \"run_number\": 14, \"metric\": null, \"status\": \"Completed\", \"run_type\": \"azureml.scriptrun\", \"training_percent\": \"100\", \"start_time\": \"2021-04-01T23:38:22.258752Z\", \"end_time\": \"2021-04-01T23:39:04.777414Z\", \"created_time\": \"2021-04-01T23:38:12.161872Z\", \"created_time_dt\": \"2021-04-01T23:38:12.161872Z\", \"duration\": \"0:00:52\", \"iteration\": \"9\", \"goal\": \"normalized_root_mean_squared_error_min\", \"run_name\": \"MaxAbsScaler, DecisionTree\", \"run_properties\": \"copy=True\", \"primary_metric\": 0.00814979, \"best_metric\": 0.00182793}, {\"run_id\": \"AutoML_3efc1dc1-1856-4314-8f1d-6ee85f7cab26_10\", \"run_number\": 15, \"metric\": null, \"status\": \"Completed\", \"run_type\": \"azureml.scriptrun\", \"training_percent\": \"100\", \"start_time\": \"2021-04-01T23:38:33.416538Z\", \"end_time\": \"2021-04-01T23:39:45.927503Z\", \"created_time\": \"2021-04-01T23:38:24.058574Z\", \"created_time_dt\": \"2021-04-01T23:38:24.058574Z\", \"duration\": \"0:01:21\", \"iteration\": \"10\", \"goal\": \"normalized_root_mean_squared_error_min\", \"run_name\": \"MaxAbsScaler, DecisionTree\", \"run_properties\": \"copy=True\", \"primary_metric\": 0.01657018, \"best_metric\": 0.00182793}, {\"run_id\": \"AutoML_3efc1dc1-1856-4314-8f1d-6ee85f7cab26_11\", \"run_number\": 16, \"metric\": null, \"status\": \"Completed\", \"run_type\": \"azureml.scriptrun\", \"training_percent\": \"100\", \"start_time\": \"2021-04-01T23:38:32.754823Z\", \"end_time\": \"2021-04-01T23:39:16.5685Z\", \"created_time\": \"2021-04-01T23:38:24.170058Z\", \"created_time_dt\": \"2021-04-01T23:38:24.170058Z\", \"duration\": \"0:00:52\", \"iteration\": \"11\", \"goal\": \"normalized_root_mean_squared_error_min\", \"run_name\": \"MaxAbsScaler, DecisionTree\", \"run_properties\": \"copy=True\", \"primary_metric\": 0.00712892, \"best_metric\": 0.00182793}, {\"run_id\": \"AutoML_3efc1dc1-1856-4314-8f1d-6ee85f7cab26_12\", \"run_number\": 17, \"metric\": null, \"status\": \"Completed\", \"run_type\": \"azureml.scriptrun\", \"training_percent\": \"100\", \"start_time\": \"2021-04-01T23:39:13.819965Z\", \"end_time\": \"2021-04-01T23:40:37.149373Z\", \"created_time\": \"2021-04-01T23:39:04.489137Z\", \"created_time_dt\": \"2021-04-01T23:39:04.489137Z\", \"duration\": \"0:01:32\", \"iteration\": \"12\", \"goal\": \"normalized_root_mean_squared_error_min\", \"run_name\": \"MaxAbsScaler, DecisionTree\", \"run_properties\": \"copy=True\", \"primary_metric\": 0.01756074, \"best_metric\": 0.00182793}, {\"run_id\": \"AutoML_3efc1dc1-1856-4314-8f1d-6ee85f7cab26_13\", \"run_number\": 18, \"metric\": null, \"status\": \"Completed\", \"run_type\": \"azureml.scriptrun\", \"training_percent\": \"100\", \"start_time\": \"2021-04-01T23:39:14.538737Z\", \"end_time\": \"2021-04-01T23:40:30.372941Z\", \"created_time\": \"2021-04-01T23:39:04.623312Z\", \"created_time_dt\": \"2021-04-01T23:39:04.623312Z\", \"duration\": \"0:01:25\", \"iteration\": \"13\", \"goal\": \"normalized_root_mean_squared_error_min\", \"run_name\": \"StandardScalerWrapper, DecisionTree\", \"run_properties\": \"<azureml.automl.runtime.shared.model_wrappers.StandardScalerWrapper object at 0x7f5bfde21e48\", \"primary_metric\": 0.0135177, \"best_metric\": 0.00182793}, {\"run_id\": \"AutoML_3efc1dc1-1856-4314-8f1d-6ee85f7cab26_14\", \"run_number\": 19, \"metric\": null, \"status\": \"Completed\", \"run_type\": \"azureml.scriptrun\", \"training_percent\": \"100\", \"start_time\": \"2021-04-01T23:39:19.274681Z\", \"end_time\": \"2021-04-01T23:40:30.051144Z\", \"created_time\": \"2021-04-01T23:39:11.004655Z\", \"created_time_dt\": \"2021-04-01T23:39:11.004655Z\", \"duration\": \"0:01:19\", \"iteration\": \"14\", \"goal\": \"normalized_root_mean_squared_error_min\", \"run_name\": \"MaxAbsScaler, DecisionTree\", \"run_properties\": \"copy=True\", \"primary_metric\": 0.02385601, \"best_metric\": 0.00182793}, {\"run_id\": \"AutoML_3efc1dc1-1856-4314-8f1d-6ee85f7cab26_15\", \"run_number\": 20, \"metric\": null, \"status\": \"Completed\", \"run_type\": \"azureml.scriptrun\", \"training_percent\": \"100\", \"start_time\": \"2021-04-01T23:39:28.74978Z\", \"end_time\": \"2021-04-01T23:40:33.002037Z\", \"created_time\": \"2021-04-01T23:39:20.664245Z\", \"created_time_dt\": \"2021-04-01T23:39:20.664245Z\", \"duration\": \"0:01:12\", \"iteration\": \"15\", \"goal\": \"normalized_root_mean_squared_error_min\", \"run_name\": \"MaxAbsScaler, DecisionTree\", \"run_properties\": \"copy=True\", \"primary_metric\": 0.02235973, \"best_metric\": 0.00182793}, {\"run_id\": \"AutoML_3efc1dc1-1856-4314-8f1d-6ee85f7cab26_16\", \"run_number\": 21, \"metric\": null, \"status\": \"Completed\", \"run_type\": \"azureml.scriptrun\", \"training_percent\": \"100\", \"start_time\": \"2021-04-01T23:40:07.164632Z\", \"end_time\": \"2021-04-01T23:40:51.346621Z\", \"created_time\": \"2021-04-01T23:39:50.236745Z\", \"created_time_dt\": \"2021-04-01T23:39:50.236745Z\", \"duration\": \"0:01:01\", \"iteration\": \"16\", \"goal\": \"normalized_root_mean_squared_error_min\", \"run_name\": \"MaxAbsScaler, SGD\", \"run_properties\": \"copy=True\", \"primary_metric\": 0.07183366, \"best_metric\": 0.00182793}, {\"run_id\": \"AutoML_3efc1dc1-1856-4314-8f1d-6ee85f7cab26_17\", \"run_number\": 22, \"metric\": null, \"status\": \"Completed\", \"run_type\": \"azureml.scriptrun\", \"training_percent\": \"100\", \"start_time\": \"2021-04-01T23:40:44.420682Z\", \"end_time\": \"2021-04-01T23:41:41.086356Z\", \"created_time\": \"2021-04-01T23:40:34.092917Z\", \"created_time_dt\": \"2021-04-01T23:40:34.092917Z\", \"duration\": \"0:01:06\", \"iteration\": \"17\", \"goal\": \"normalized_root_mean_squared_error_min\", \"run_name\": \"MaxAbsScaler, DecisionTree\", \"run_properties\": \"copy=True\", \"primary_metric\": 0.00519469, \"best_metric\": 0.00182793}, {\"run_id\": \"AutoML_3efc1dc1-1856-4314-8f1d-6ee85f7cab26_18\", \"run_number\": 23, \"metric\": null, \"status\": \"Completed\", \"run_type\": \"azureml.scriptrun\", \"training_percent\": \"100\", \"start_time\": \"2021-04-01T23:40:45.821111Z\", \"end_time\": \"2021-04-01T23:41:39.272216Z\", \"created_time\": \"2021-04-01T23:40:34.217549Z\", \"created_time_dt\": \"2021-04-01T23:40:34.217549Z\", \"duration\": \"0:01:05\", \"iteration\": \"18\", \"goal\": \"normalized_root_mean_squared_error_min\", \"run_name\": \"MaxAbsScaler, DecisionTree\", \"run_properties\": \"copy=True\", \"primary_metric\": 0.01978019, \"best_metric\": 0.00182793}, {\"run_id\": \"AutoML_3efc1dc1-1856-4314-8f1d-6ee85f7cab26_20\", \"run_number\": 24, \"metric\": null, \"status\": \"Completed\", \"run_type\": \"azureml.scriptrun\", \"training_percent\": \"100\", \"start_time\": \"2021-04-01T23:40:51.038077Z\", \"end_time\": \"2021-04-01T23:41:41.740651Z\", \"created_time\": \"2021-04-01T23:40:41.347569Z\", \"created_time_dt\": \"2021-04-01T23:40:41.347569Z\", \"duration\": \"0:01:00\", \"iteration\": \"20\", \"goal\": \"normalized_root_mean_squared_error_min\", \"run_name\": \"MaxAbsScaler, SGD\", \"run_properties\": \"copy=True\", \"primary_metric\": 0.01525017, \"best_metric\": 0.00182793}, {\"run_id\": \"AutoML_3efc1dc1-1856-4314-8f1d-6ee85f7cab26_19\", \"run_number\": 25, \"metric\": null, \"status\": \"Completed\", \"run_type\": \"azureml.scriptrun\", \"training_percent\": \"100\", \"start_time\": \"2021-04-01T23:40:51.21845Z\", \"end_time\": \"2021-04-01T23:41:45.533404Z\", \"created_time\": \"2021-04-01T23:40:41.358782Z\", \"created_time_dt\": \"2021-04-01T23:40:41.358782Z\", \"duration\": \"0:01:04\", \"iteration\": \"19\", \"goal\": \"normalized_root_mean_squared_error_min\", \"run_name\": \"MaxAbsScaler, DecisionTree\", \"run_properties\": \"copy=True\", \"primary_metric\": 0.02019167, \"best_metric\": 0.00182793}, {\"run_id\": \"AutoML_3efc1dc1-1856-4314-8f1d-6ee85f7cab26_21\", \"run_number\": 26, \"metric\": null, \"status\": \"Completed\", \"run_type\": \"azureml.scriptrun\", \"training_percent\": \"100\", \"start_time\": \"2021-04-01T23:41:08.457958Z\", \"end_time\": \"2021-04-01T23:41:54.220333Z\", \"created_time\": \"2021-04-01T23:40:55.324606Z\", \"created_time_dt\": \"2021-04-01T23:40:55.324606Z\", \"duration\": \"0:00:58\", \"iteration\": \"21\", \"goal\": \"normalized_root_mean_squared_error_min\", \"run_name\": \"MaxAbsScaler, DecisionTree\", \"run_properties\": \"copy=True\", \"primary_metric\": 0.01089631, \"best_metric\": 0.00182793}, {\"run_id\": \"AutoML_3efc1dc1-1856-4314-8f1d-6ee85f7cab26_22\", \"run_number\": 27, \"metric\": null, \"status\": \"Completed\", \"run_type\": \"azureml.scriptrun\", \"training_percent\": \"100\", \"start_time\": \"2021-04-01T23:41:53.395649Z\", \"end_time\": \"2021-04-01T23:44:23.554559Z\", \"created_time\": \"2021-04-01T23:41:43.679359Z\", \"created_time_dt\": \"2021-04-01T23:41:43.679359Z\", \"duration\": \"0:02:39\", \"iteration\": \"22\", \"goal\": \"normalized_root_mean_squared_error_min\", \"run_name\": \"MaxAbsScaler, DecisionTree\", \"run_properties\": \"copy=True\", \"primary_metric\": 0.00739104, \"best_metric\": 0.00182793}, {\"run_id\": \"AutoML_3efc1dc1-1856-4314-8f1d-6ee85f7cab26_25\", \"run_number\": 28, \"metric\": null, \"status\": \"Completed\", \"run_type\": \"azureml.scriptrun\", \"training_percent\": \"100\", \"start_time\": \"2021-04-01T23:42:01.995832Z\", \"end_time\": \"2021-04-01T23:44:27.437015Z\", \"created_time\": \"2021-04-01T23:41:50.186453Z\", \"created_time_dt\": \"2021-04-01T23:41:50.186453Z\", \"duration\": \"0:02:37\", \"iteration\": \"25\", \"goal\": \"normalized_root_mean_squared_error_min\", \"run_name\": \"MaxAbsScaler, DecisionTree\", \"run_properties\": \"copy=True\", \"primary_metric\": 0.01884612, \"best_metric\": 0.00182793}, {\"run_id\": \"AutoML_3efc1dc1-1856-4314-8f1d-6ee85f7cab26_23\", \"run_number\": 29, \"metric\": null, \"status\": \"Completed\", \"run_type\": \"azureml.scriptrun\", \"training_percent\": \"100\", \"start_time\": \"2021-04-01T23:41:58.889683Z\", \"end_time\": \"2021-04-01T23:44:24.678142Z\", \"created_time\": \"2021-04-01T23:41:50.229902Z\", \"created_time_dt\": \"2021-04-01T23:41:50.229902Z\", \"duration\": \"0:02:34\", \"iteration\": \"23\", \"goal\": \"normalized_root_mean_squared_error_min\", \"run_name\": \"SparseNormalizer, LightGBM\", \"run_properties\": \"<azureml.automl.runtime.shared.model_wrappers.SparseNormalizer object at 0x7f8ba631eb38\", \"primary_metric\": 0.0791263, \"best_metric\": 0.00182793}, {\"run_id\": \"AutoML_3efc1dc1-1856-4314-8f1d-6ee85f7cab26_24\", \"run_number\": 30, \"metric\": null, \"status\": \"Completed\", \"run_type\": \"azureml.scriptrun\", \"training_percent\": \"100\", \"start_time\": \"2021-04-01T23:42:00.725712Z\", \"end_time\": \"2021-04-01T23:44:22.698913Z\", \"created_time\": \"2021-04-01T23:41:50.189132Z\", \"created_time_dt\": \"2021-04-01T23:41:50.189132Z\", \"duration\": \"0:02:32\", \"iteration\": \"24\", \"goal\": \"normalized_root_mean_squared_error_min\", \"run_name\": \"MaxAbsScaler, DecisionTree\", \"run_properties\": \"copy=True\", \"primary_metric\": 0.00720522, \"best_metric\": 0.00182793}, {\"run_id\": \"AutoML_3efc1dc1-1856-4314-8f1d-6ee85f7cab26_26\", \"run_number\": 31, \"metric\": null, \"status\": \"Completed\", \"run_type\": \"azureml.scriptrun\", \"training_percent\": \"100\", \"start_time\": \"2021-04-01T23:42:05.747225Z\", \"end_time\": \"2021-04-01T23:44:27.777795Z\", \"created_time\": \"2021-04-01T23:41:56.842918Z\", \"created_time_dt\": \"2021-04-01T23:41:56.842918Z\", \"duration\": \"0:02:30\", \"iteration\": \"26\", \"goal\": \"normalized_root_mean_squared_error_min\", \"run_name\": \"MaxAbsScaler, DecisionTree\", \"run_properties\": \"copy=True\", \"primary_metric\": 0.00837953, \"best_metric\": 0.00182793}, {\"run_id\": \"AutoML_3efc1dc1-1856-4314-8f1d-6ee85f7cab26_27\", \"run_number\": 32, \"metric\": null, \"status\": \"Completed\", \"run_type\": \"azureml.scriptrun\", \"training_percent\": \"100\", \"start_time\": \"2021-04-01T23:44:40.73562Z\", \"end_time\": \"2021-04-01T23:45:22.903214Z\", \"created_time\": \"2021-04-01T23:44:26.344059Z\", \"created_time_dt\": \"2021-04-01T23:44:26.344059Z\", \"duration\": \"0:00:56\", \"iteration\": \"27\", \"goal\": \"normalized_root_mean_squared_error_min\", \"run_name\": \"MaxAbsScaler, DecisionTree\", \"run_properties\": \"copy=True\", \"primary_metric\": 0.00731326, \"best_metric\": 0.00182793}, {\"run_id\": \"AutoML_3efc1dc1-1856-4314-8f1d-6ee85f7cab26_28\", \"run_number\": 33, \"metric\": null, \"status\": \"Completed\", \"run_type\": \"azureml.scriptrun\", \"training_percent\": \"100\", \"start_time\": \"2021-04-01T23:44:46.439579Z\", \"end_time\": \"2021-04-01T23:45:31.297403Z\", \"created_time\": \"2021-04-01T23:44:36.819214Z\", \"created_time_dt\": \"2021-04-01T23:44:36.819214Z\", \"duration\": \"0:00:54\", \"iteration\": \"28\", \"goal\": \"normalized_root_mean_squared_error_min\", \"run_name\": \"MaxAbsScaler, LightGBM\", \"run_properties\": \"copy=True\", \"primary_metric\": 0.04513544, \"best_metric\": 0.00182793}, {\"run_id\": \"AutoML_3efc1dc1-1856-4314-8f1d-6ee85f7cab26_31\", \"run_number\": 34, \"metric\": null, \"status\": \"Completed\", \"run_type\": \"azureml.scriptrun\", \"training_percent\": \"100\", \"start_time\": \"2021-04-01T23:44:45.795206Z\", \"end_time\": \"2021-04-01T23:45:32.324689Z\", \"created_time\": \"2021-04-01T23:44:36.830482Z\", \"created_time_dt\": \"2021-04-01T23:44:36.830482Z\", \"duration\": \"0:00:55\", \"iteration\": \"31\", \"goal\": \"normalized_root_mean_squared_error_min\", \"run_name\": \"MaxAbsScaler, DecisionTree\", \"run_properties\": \"copy=True\", \"primary_metric\": 0.01124423, \"best_metric\": 0.00182793}, {\"run_id\": \"AutoML_3efc1dc1-1856-4314-8f1d-6ee85f7cab26_30\", \"run_number\": 35, \"metric\": null, \"status\": \"Completed\", \"run_type\": \"azureml.scriptrun\", \"training_percent\": \"100\", \"start_time\": \"2021-04-01T23:44:48.497575Z\", \"end_time\": \"2021-04-01T23:45:30.916393Z\", \"created_time\": \"2021-04-01T23:44:36.830858Z\", \"created_time_dt\": \"2021-04-01T23:44:36.830858Z\", \"duration\": \"0:00:54\", \"iteration\": \"30\", \"goal\": \"normalized_root_mean_squared_error_min\", \"run_name\": \"MaxAbsScaler, DecisionTree\", \"run_properties\": \"copy=True\", \"primary_metric\": 0.00712035, \"best_metric\": 0.00182793}, {\"run_id\": \"AutoML_3efc1dc1-1856-4314-8f1d-6ee85f7cab26_29\", \"run_number\": 36, \"metric\": null, \"status\": \"Completed\", \"run_type\": \"azureml.scriptrun\", \"training_percent\": \"100\", \"start_time\": \"2021-04-01T23:44:46.819171Z\", \"end_time\": \"2021-04-01T23:45:27.787821Z\", \"created_time\": \"2021-04-01T23:44:36.829087Z\", \"created_time_dt\": \"2021-04-01T23:44:36.829087Z\", \"duration\": \"0:00:50\", \"iteration\": \"29\", \"goal\": \"normalized_root_mean_squared_error_min\", \"run_name\": \"MaxAbsScaler, DecisionTree\", \"run_properties\": \"copy=True\", \"primary_metric\": 0.01136542, \"best_metric\": 0.00182793}, {\"run_id\": \"AutoML_3efc1dc1-1856-4314-8f1d-6ee85f7cab26_32\", \"run_number\": 37, \"metric\": null, \"status\": \"Completed\", \"run_type\": \"azureml.scriptrun\", \"training_percent\": \"100\", \"start_time\": \"2021-04-01T23:45:38.706901Z\", \"end_time\": \"2021-04-01T23:46:27.370568Z\", \"created_time\": \"2021-04-01T23:45:25.235929Z\", \"created_time_dt\": \"2021-04-01T23:45:25.235929Z\", \"duration\": \"0:01:02\", \"iteration\": \"32\", \"goal\": \"normalized_root_mean_squared_error_min\", \"run_name\": \"MaxAbsScaler, DecisionTree\", \"run_properties\": \"copy=True\", \"primary_metric\": 0.01030583, \"best_metric\": 0.00182793}, {\"run_id\": \"AutoML_3efc1dc1-1856-4314-8f1d-6ee85f7cab26_33\", \"run_number\": 38, \"metric\": null, \"status\": \"Completed\", \"run_type\": \"azureml.scriptrun\", \"training_percent\": \"100\", \"start_time\": \"2021-04-01T23:45:40.524425Z\", \"end_time\": \"2021-04-01T23:46:27.626722Z\", \"created_time\": \"2021-04-01T23:45:30.491622Z\", \"created_time_dt\": \"2021-04-01T23:45:30.491622Z\", \"duration\": \"0:00:57\", \"iteration\": \"33\", \"goal\": \"normalized_root_mean_squared_error_min\", \"run_name\": \"MaxAbsScaler, DecisionTree\", \"run_properties\": \"copy=True\", \"primary_metric\": 0.00649586, \"best_metric\": 0.00182793}, {\"run_id\": \"AutoML_3efc1dc1-1856-4314-8f1d-6ee85f7cab26_34\", \"run_number\": 39, \"metric\": null, \"status\": \"Canceled\", \"run_type\": \"azureml.scriptrun\", \"training_percent\": \"100\", \"start_time\": \"2021-04-01T23:45:51.0236Z\", \"end_time\": \"2021-04-01T23:46:41.760261Z\", \"created_time\": \"2021-04-01T23:45:37.135734Z\", \"created_time_dt\": \"2021-04-01T23:45:37.135734Z\", \"duration\": \"0:01:04\", \"iteration\": \"34\", \"goal\": \"normalized_root_mean_squared_error_min\", \"run_name\": \"MaxAbsScaler, LightGBM\", \"run_properties\": \"copy=True\", \"primary_metric\": 0.04616646, \"best_metric\": 0.00182793}, {\"run_id\": \"AutoML_3efc1dc1-1856-4314-8f1d-6ee85f7cab26_35\", \"run_number\": 40, \"metric\": null, \"status\": \"Completed\", \"run_type\": \"azureml.scriptrun\", \"training_percent\": \"100\", \"start_time\": \"2021-04-01T23:45:47.153061Z\", \"end_time\": \"2021-04-01T23:46:32.167938Z\", \"created_time\": \"2021-04-01T23:45:37.296741Z\", \"created_time_dt\": \"2021-04-01T23:45:37.296741Z\", \"duration\": \"0:00:54\", \"iteration\": \"35\", \"goal\": \"normalized_root_mean_squared_error_min\", \"run_name\": \"MaxAbsScaler, DecisionTree\", \"run_properties\": \"copy=True\", \"primary_metric\": 0.00937182, \"best_metric\": 0.00182793}, {\"run_id\": \"AutoML_3efc1dc1-1856-4314-8f1d-6ee85f7cab26_36\", \"run_number\": 41, \"metric\": null, \"status\": \"Completed\", \"run_type\": \"azureml.scriptrun\", \"training_percent\": \"100\", \"start_time\": \"2021-04-01T23:45:47.26119Z\", \"end_time\": \"2021-04-01T23:46:31.469117Z\", \"created_time\": \"2021-04-01T23:45:37.299346Z\", \"created_time_dt\": \"2021-04-01T23:45:37.299346Z\", \"duration\": \"0:00:54\", \"iteration\": \"36\", \"goal\": \"normalized_root_mean_squared_error_min\", \"run_name\": \"MaxAbsScaler, DecisionTree\", \"run_properties\": \"copy=True\", \"primary_metric\": 0.01203537, \"best_metric\": 0.00182793}, {\"run_id\": \"AutoML_3efc1dc1-1856-4314-8f1d-6ee85f7cab26_37\", \"run_number\": 42, \"metric\": null, \"status\": \"Canceled\", \"run_type\": \"azureml.scriptrun\", \"training_percent\": \"100\", \"start_time\": \"2021-04-01T23:46:29.592737Z\", \"end_time\": \"2021-04-01T23:46:46.508298Z\", \"created_time\": \"2021-04-01T23:46:29.592737Z\", \"created_time_dt\": \"2021-04-01T23:46:29.592737Z\", \"duration\": \"0:00:16\", \"iteration\": \"37\", \"goal\": null, \"run_name\": \"Canceled\", \"run_properties\": null}, {\"run_id\": \"AutoML_3efc1dc1-1856-4314-8f1d-6ee85f7cab26_38\", \"run_number\": 43, \"metric\": null, \"status\": \"Completed\", \"run_type\": \"azureml.scriptrun\", \"training_percent\": \"100\", \"start_time\": \"2021-04-01T23:46:57.120971Z\", \"end_time\": \"2021-04-01T23:48:59.355271Z\", \"created_time\": \"2021-04-01T23:46:47.886842Z\", \"created_time_dt\": \"2021-04-01T23:46:47.886842Z\", \"duration\": \"0:02:11\", \"iteration\": \"38\", \"goal\": \"normalized_root_mean_squared_error_min\", \"run_name\": \"VotingEnsemble\", \"run_properties\": \"estimators=[('0',\\n                                          Pipeline(memory=None,\\n                                                   steps=[('maxabsscaler',\\n                                                           MaxAbsScaler(copy=True\", \"primary_metric\": 0.00182793, \"best_metric\": 0.00182793}, {\"run_id\": \"AutoML_3efc1dc1-1856-4314-8f1d-6ee85f7cab26_39\", \"run_number\": 44, \"metric\": null, \"status\": \"Completed\", \"run_type\": \"azureml.scriptrun\", \"training_percent\": \"100\", \"start_time\": \"2021-04-01T23:46:59.176111Z\", \"end_time\": \"2021-04-01T23:48:30.031021Z\", \"created_time\": \"2021-04-01T23:46:48.138765Z\", \"created_time_dt\": \"2021-04-01T23:46:48.138765Z\", \"duration\": \"0:01:41\", \"iteration\": \"39\", \"goal\": \"normalized_root_mean_squared_error_min\", \"run_name\": \"StackEnsemble\", \"run_properties\": \"base_learners=[('0',\\n                                       Pipeline(memory=None,\\n                                                steps=[('maxabsscaler',\\n                                                        MaxAbsScaler(copy=True\", \"primary_metric\": 0.00190482, \"best_metric\": 0.00182793}], \"children_metrics\": {\"categories\": [0], \"series\": {\"normalized_root_mean_squared_log_error\": [{\"categories\": [\"0\", \"1\", \"2\", \"3\", \"4\", \"5\", \"6\", \"7\", \"8\", \"9\", \"10\", \"11\", \"12\", \"13\", \"14\", \"15\", \"16\", \"17\", \"18\", \"19\", \"20\", \"21\", \"22\", \"23\", \"24\", \"25\", \"26\", \"27\", \"28\", \"29\", \"30\", \"31\", \"32\", \"33\", \"34\", \"35\", \"36\", \"38\", \"39\"], \"mode\": \"markers\", \"name\": \"normalized_root_mean_squared_log_error\", \"stepped\": false, \"type\": \"scatter\", \"data\": [0.0017902335376288419, 0.0041734600196193196, 0.06780327639489453, 0.01947376779301979, 0.013103137593527192, 0.009526058155930616, 0.005696238164409494, 0.011270131036058265, 0.02009528112475907, 0.008160337974625776, 0.017088878583166645, 0.00714425579977533, 0.018679316889158696, 0.01381935979156398, 0.024437682483198393, 0.02289145778644452, 0.07299870443733415, 0.005034233462111357, 0.02040257654121449, 0.020928012276021257, 0.015488816755555444, 0.01128529349402441, 0.007384136729571003, 0.08124550010555483, 0.00739773900787462, 0.01956913309685513, 0.008539730102131137, 0.0071217631211421325, 0.04727884529418923, 0.01149024444181316, 0.007060171618838373, 0.01165260725881338, 0.010537650775508058, 0.006311571782956863, 0.04812055594584912, 0.009526061456284502, 0.012192487636112387, 0.0017902335376288419, 0.0018679722900928175]}, {\"categories\": [\"0\", \"1\", \"2\", \"3\", \"4\", \"5\", \"6\", \"7\", \"8\", \"9\", \"10\", \"11\", \"12\", \"13\", \"14\", \"15\", \"16\", \"17\", \"18\", \"19\", \"20\", \"21\", \"22\", \"23\", \"24\", \"25\", \"26\", \"27\", \"28\", \"29\", \"30\", \"31\", \"32\", \"33\", \"34\", \"35\", \"36\", \"38\", \"39\"], \"mode\": \"lines\", \"name\": \"normalized_root_mean_squared_log_error_min\", \"stepped\": true, \"type\": \"scatter\", \"data\": [0.0017902335376288419, 0.0017902335376288419, 0.0017902335376288419, 0.0017902335376288419, 0.0017902335376288419, 0.0017902335376288419, 0.0017902335376288419, 0.0017902335376288419, 0.0017902335376288419, 0.0017902335376288419, 0.0017902335376288419, 0.0017902335376288419, 0.0017902335376288419, 0.0017902335376288419, 0.0017902335376288419, 0.0017902335376288419, 0.0017902335376288419, 0.0017902335376288419, 0.0017902335376288419, 0.0017902335376288419, 0.0017902335376288419, 0.0017902335376288419, 0.0017902335376288419, 0.0017902335376288419, 0.0017902335376288419, 0.0017902335376288419, 0.0017902335376288419, 0.0017902335376288419, 0.0017902335376288419, 0.0017902335376288419, 0.0017902335376288419, 0.0017902335376288419, 0.0017902335376288419, 0.0017902335376288419, 0.0017902335376288419, 0.0017902335376288419, 0.0017902335376288419, 0.0017902335376288419, 0.0017902335376288419]}], \"explained_variance\": [{\"categories\": [\"0\", \"1\", \"2\", \"3\", \"4\", \"5\", \"6\", \"7\", \"8\", \"9\", \"10\", \"11\", \"12\", \"13\", \"14\", \"15\", \"16\", \"17\", \"18\", \"19\", \"20\", \"21\", \"22\", \"23\", \"24\", \"25\", \"26\", \"27\", \"28\", \"29\", \"30\", \"31\", \"32\", \"33\", \"34\", \"35\", \"36\", \"38\", \"39\"], \"mode\": \"markers\", \"name\": \"explained_variance\", \"stepped\": false, \"type\": \"scatter\", \"data\": [0.999953402885974, 0.9997488154306726, 0.934587866826212, 0.9950374591646518, 0.997791042467991, 0.9987754757099581, 0.9995221539313375, 0.9982717375587058, 0.9947052246787932, 0.9990247969971069, 0.9960232789521399, 0.9992480763879739, 0.9956809637394197, 0.9974223631833787, 0.9916096693234587, 0.992952442407298, 0.9316365279682625, 0.9996200792202125, 0.9945099829876642, 0.9942586174392399, 0.9967670088525431, 0.9983235822399736, 0.9992299892925312, 0.9127328994620493, 0.9992760489448248, 0.9950484729727547, 0.9989364140351709, 0.9992396924689689, 0.9715929027105311, 0.9981718649853469, 0.9992930959592691, 0.9982328662210083, 0.9985191598087919, 0.9994088042994841, 0.9702880160828975, 0.9987754746184487, 0.9979418805458007, 0.999953402885974, 0.99994940916712]}, {\"categories\": [\"0\", \"1\", \"2\", \"3\", \"4\", \"5\", \"6\", \"7\", \"8\", \"9\", \"10\", \"11\", \"12\", \"13\", \"14\", \"15\", \"16\", \"17\", \"18\", \"19\", \"20\", \"21\", \"22\", \"23\", \"24\", \"25\", \"26\", \"27\", \"28\", \"29\", \"30\", \"31\", \"32\", \"33\", \"34\", \"35\", \"36\", \"38\", \"39\"], \"mode\": \"lines\", \"name\": \"explained_variance_max\", \"stepped\": true, \"type\": \"scatter\", \"data\": [0.999953402885974, 0.999953402885974, 0.999953402885974, 0.999953402885974, 0.999953402885974, 0.999953402885974, 0.999953402885974, 0.999953402885974, 0.999953402885974, 0.999953402885974, 0.999953402885974, 0.999953402885974, 0.999953402885974, 0.999953402885974, 0.999953402885974, 0.999953402885974, 0.999953402885974, 0.999953402885974, 0.999953402885974, 0.999953402885974, 0.999953402885974, 0.999953402885974, 0.999953402885974, 0.999953402885974, 0.999953402885974, 0.999953402885974, 0.999953402885974, 0.999953402885974, 0.999953402885974, 0.999953402885974, 0.999953402885974, 0.999953402885974, 0.999953402885974, 0.999953402885974, 0.999953402885974, 0.999953402885974, 0.999953402885974, 0.999953402885974, 0.999953402885974]}], \"normalized_mean_absolute_error\": [{\"categories\": [\"0\", \"1\", \"2\", \"3\", \"4\", \"5\", \"6\", \"7\", \"8\", \"9\", \"10\", \"11\", \"12\", \"13\", \"14\", \"15\", \"16\", \"17\", \"18\", \"19\", \"20\", \"21\", \"22\", \"23\", \"24\", \"25\", \"26\", \"27\", \"28\", \"29\", \"30\", \"31\", \"32\", \"33\", \"34\", \"35\", \"36\", \"38\", \"39\"], \"mode\": \"markers\", \"name\": \"normalized_mean_absolute_error\", \"stepped\": false, \"type\": \"scatter\", \"data\": [0.0009452366980462927, 0.0030619325081710225, 0.058896178581002934, 0.011235680419932434, 0.00959333308184111, 0.006261676302193884, 0.003145549111436221, 0.007058411470915929, 0.012673624351267935, 0.003665035270265793, 0.009794496728041408, 0.0030463518020316916, 0.01145814141344653, 0.008570979751051097, 0.01677506240231738, 0.015978575096581425, 0.057705465072895624, 0.0022429716218258094, 0.014245668434166525, 0.013326319283620203, 0.012210683391024652, 0.0068045292440396905, 0.004191174438465175, 0.062185142505916315, 0.0036538871055865957, 0.013317181252943896, 0.0033939472313057684, 0.0033695718573170455, 0.02572933022622368, 0.006859821173557876, 0.004188808406099589, 0.00752925596246052, 0.006856677516622481, 0.003104745094624859, 0.02718203603228071, 0.0062617824662533515, 0.007441692232109431, 0.0009452366980462927, 0.0011051803427001448]}, {\"categories\": [\"0\", \"1\", \"2\", \"3\", \"4\", \"5\", \"6\", \"7\", \"8\", \"9\", \"10\", \"11\", \"12\", \"13\", \"14\", \"15\", \"16\", \"17\", \"18\", \"19\", \"20\", \"21\", \"22\", \"23\", \"24\", \"25\", \"26\", \"27\", \"28\", \"29\", \"30\", \"31\", \"32\", \"33\", \"34\", \"35\", \"36\", \"38\", \"39\"], \"mode\": \"lines\", \"name\": \"normalized_mean_absolute_error_min\", \"stepped\": true, \"type\": \"scatter\", \"data\": [0.0009452366980462927, 0.0009452366980462927, 0.0009452366980462927, 0.0009452366980462927, 0.0009452366980462927, 0.0009452366980462927, 0.0009452366980462927, 0.0009452366980462927, 0.0009452366980462927, 0.0009452366980462927, 0.0009452366980462927, 0.0009452366980462927, 0.0009452366980462927, 0.0009452366980462927, 0.0009452366980462927, 0.0009452366980462927, 0.0009452366980462927, 0.0009452366980462927, 0.0009452366980462927, 0.0009452366980462927, 0.0009452366980462927, 0.0009452366980462927, 0.0009452366980462927, 0.0009452366980462927, 0.0009452366980462927, 0.0009452366980462927, 0.0009452366980462927, 0.0009452366980462927, 0.0009452366980462927, 0.0009452366980462927, 0.0009452366980462927, 0.0009452366980462927, 0.0009452366980462927, 0.0009452366980462927, 0.0009452366980462927, 0.0009452366980462927, 0.0009452366980462927, 0.0009452366980462927, 0.0009452366980462927]}], \"normalized_median_absolute_error\": [{\"categories\": [\"0\", \"1\", \"2\", \"3\", \"4\", \"5\", \"6\", \"7\", \"8\", \"9\", \"10\", \"11\", \"12\", \"13\", \"14\", \"15\", \"16\", \"17\", \"18\", \"19\", \"20\", \"21\", \"22\", \"23\", \"24\", \"25\", \"26\", \"27\", \"28\", \"29\", \"30\", \"31\", \"32\", \"33\", \"34\", \"35\", \"36\", \"38\", \"39\"], \"mode\": \"markers\", \"name\": \"normalized_median_absolute_error\", \"stepped\": false, \"type\": \"scatter\", \"data\": [0.0005037446968936056, 0.0022398084964392116, 0.05727285092046351, 0.007330710090906205, 0.008644441405552613, 0.0034674102755184394, 0.0006243681766948043, 0.004459707115010415, 0.00790080560253459, 0.0005910293381638645, 0.0062458260474086156, 5.146415254498399e-06, 0.007386550496352717, 0.00537906030455155, 0.012629151099420583, 0.011742877421882148, 0.049508501464048005, 4.881944108844119e-06, 0.011932381738664736, 0.008520148025270232, 0.010454802858948457, 0.002870515530879595, 0.001958298811172133, 0.050285721331616996, 0.0008242627398060363, 0.010697831626082855, 5.846024264677395e-05, 0.0003423892612866103, 0.011375239678018406, 0.0033056659322837274, 0.0020792116353271967, 0.00429131611370452, 0.0029325645400708517, 0.0003151896787906178, 0.014103516632865154, 0.0034674102755184394, 0.005003840907281947, 0.0005037446968936056, 0.0007235009956696039]}, {\"categories\": [\"0\", \"1\", \"2\", \"3\", \"4\", \"5\", \"6\", \"7\", \"8\", \"9\", \"10\", \"11\", \"12\", \"13\", \"14\", \"15\", \"16\", \"17\", \"18\", \"19\", \"20\", \"21\", \"22\", \"23\", \"24\", \"25\", \"26\", \"27\", \"28\", \"29\", \"30\", \"31\", \"32\", \"33\", \"34\", \"35\", \"36\", \"38\", \"39\"], \"mode\": \"lines\", \"name\": \"normalized_median_absolute_error_min\", \"stepped\": true, \"type\": \"scatter\", \"data\": [0.0005037446968936056, 0.0005037446968936056, 0.0005037446968936056, 0.0005037446968936056, 0.0005037446968936056, 0.0005037446968936056, 0.0005037446968936056, 0.0005037446968936056, 0.0005037446968936056, 0.0005037446968936056, 0.0005037446968936056, 5.146415254498399e-06, 5.146415254498399e-06, 5.146415254498399e-06, 5.146415254498399e-06, 5.146415254498399e-06, 5.146415254498399e-06, 4.881944108844119e-06, 4.881944108844119e-06, 4.881944108844119e-06, 4.881944108844119e-06, 4.881944108844119e-06, 4.881944108844119e-06, 4.881944108844119e-06, 4.881944108844119e-06, 4.881944108844119e-06, 4.881944108844119e-06, 4.881944108844119e-06, 4.881944108844119e-06, 4.881944108844119e-06, 4.881944108844119e-06, 4.881944108844119e-06, 4.881944108844119e-06, 4.881944108844119e-06, 4.881944108844119e-06, 4.881944108844119e-06, 4.881944108844119e-06, 4.881944108844119e-06, 4.881944108844119e-06]}], \"normalized_root_mean_squared_error\": [{\"categories\": [\"0\", \"1\", \"2\", \"3\", \"4\", \"5\", \"6\", \"7\", \"8\", \"9\", \"10\", \"11\", \"12\", \"13\", \"14\", \"15\", \"16\", \"17\", \"18\", \"19\", \"20\", \"21\", \"22\", \"23\", \"24\", \"25\", \"26\", \"27\", \"28\", \"29\", \"30\", \"31\", \"32\", \"33\", \"34\", \"35\", \"36\", \"38\", \"39\"], \"mode\": \"markers\", \"name\": \"normalized_root_mean_squared_error\", \"stepped\": false, \"type\": \"scatter\", \"data\": [0.0018279309307854727, 0.004245117900360718, 0.06851019804596363, 0.018195640093132005, 0.012590289586277417, 0.009371821346206571, 0.005854331773644134, 0.011041897693701726, 0.01912430359738743, 0.008149791486578455, 0.016570179672595758, 0.007128923529424905, 0.017560741529921306, 0.013517699066833644, 0.023856008135336868, 0.022359733776735717, 0.0718336578933761, 0.005194694784213473, 0.019780186160535708, 0.020191667385281768, 0.015250167273892673, 0.01089630643953739, 0.007391043123160459, 0.07912630096995514, 0.007205219382919665, 0.01884611836745962, 0.008379526686750625, 0.007313264081832589, 0.04513543539104537, 0.011365417730170576, 0.007120349815544685, 0.011244234750536855, 0.010305827004554888, 0.006495859327703706, 0.04616646411881216, 0.009371824766022139, 0.012035369127529763, 0.0018279309307854727, 0.0019048240522846073]}, {\"categories\": [\"0\", \"1\", \"2\", \"3\", \"4\", \"5\", \"6\", \"7\", \"8\", \"9\", \"10\", \"11\", \"12\", \"13\", \"14\", \"15\", \"16\", \"17\", \"18\", \"19\", \"20\", \"21\", \"22\", \"23\", \"24\", \"25\", \"26\", \"27\", \"28\", \"29\", \"30\", \"31\", \"32\", \"33\", \"34\", \"35\", \"36\", \"38\", \"39\"], \"mode\": \"lines\", \"name\": \"normalized_root_mean_squared_error_min\", \"stepped\": true, \"type\": \"scatter\", \"data\": [0.0018279309307854727, 0.0018279309307854727, 0.0018279309307854727, 0.0018279309307854727, 0.0018279309307854727, 0.0018279309307854727, 0.0018279309307854727, 0.0018279309307854727, 0.0018279309307854727, 0.0018279309307854727, 0.0018279309307854727, 0.0018279309307854727, 0.0018279309307854727, 0.0018279309307854727, 0.0018279309307854727, 0.0018279309307854727, 0.0018279309307854727, 0.0018279309307854727, 0.0018279309307854727, 0.0018279309307854727, 0.0018279309307854727, 0.0018279309307854727, 0.0018279309307854727, 0.0018279309307854727, 0.0018279309307854727, 0.0018279309307854727, 0.0018279309307854727, 0.0018279309307854727, 0.0018279309307854727, 0.0018279309307854727, 0.0018279309307854727, 0.0018279309307854727, 0.0018279309307854727, 0.0018279309307854727, 0.0018279309307854727, 0.0018279309307854727, 0.0018279309307854727, 0.0018279309307854727, 0.0018279309307854727]}], \"mean_absolute_percentage_error\": [{\"categories\": [\"0\", \"1\", \"2\", \"3\", \"4\", \"5\", \"6\", \"7\", \"8\", \"9\", \"10\", \"11\", \"12\", \"13\", \"14\", \"15\", \"16\", \"17\", \"18\", \"19\", \"20\", \"21\", \"22\", \"23\", \"24\", \"25\", \"26\", \"27\", \"28\", \"29\", \"30\", \"31\", \"32\", \"33\", \"34\", \"35\", \"36\", \"38\", \"39\"], \"mode\": \"markers\", \"name\": \"mean_absolute_percentage_error\", \"stepped\": false, \"type\": \"scatter\", \"data\": [0.07381853029567127, 0.24092955465026372, 4.797476522482008, 0.9872719013202469, 0.8313811120949737, 0.5184231394572453, 0.24324327692954864, 0.589516397450344, 1.0814896440195159, 0.2920105118899866, 0.8259860287600121, 0.23688398709543054, 0.9964881291624483, 0.7167306367101398, 1.396844430451701, 1.3235312255571983, 4.758875504046451, 0.16890584232130773, 1.1899116495031694, 1.1297945498239463, 1.0142406121947931, 0.580003432375449, 0.33884094342853766, 5.269359631471628, 0.30321854594183817, 1.1111002336387688, 0.27247926987941723, 0.26138583572766416, 2.250860200689143, 0.5704566632805934, 0.3363253132910532, 0.6402525999110942, 0.5751125133320041, 0.23614500355130302, 2.3479779182088754, 0.518431414008939, 0.6173307663515467, 0.07381853029567127, 0.08781457311098487]}, {\"categories\": [\"0\", \"1\", \"2\", \"3\", \"4\", \"5\", \"6\", \"7\", \"8\", \"9\", \"10\", \"11\", \"12\", \"13\", \"14\", \"15\", \"16\", \"17\", \"18\", \"19\", \"20\", \"21\", \"22\", \"23\", \"24\", \"25\", \"26\", \"27\", \"28\", \"29\", \"30\", \"31\", \"32\", \"33\", \"34\", \"35\", \"36\", \"38\", \"39\"], \"mode\": \"lines\", \"name\": \"mean_absolute_percentage_error_min\", \"stepped\": true, \"type\": \"scatter\", \"data\": [0.07381853029567127, 0.07381853029567127, 0.07381853029567127, 0.07381853029567127, 0.07381853029567127, 0.07381853029567127, 0.07381853029567127, 0.07381853029567127, 0.07381853029567127, 0.07381853029567127, 0.07381853029567127, 0.07381853029567127, 0.07381853029567127, 0.07381853029567127, 0.07381853029567127, 0.07381853029567127, 0.07381853029567127, 0.07381853029567127, 0.07381853029567127, 0.07381853029567127, 0.07381853029567127, 0.07381853029567127, 0.07381853029567127, 0.07381853029567127, 0.07381853029567127, 0.07381853029567127, 0.07381853029567127, 0.07381853029567127, 0.07381853029567127, 0.07381853029567127, 0.07381853029567127, 0.07381853029567127, 0.07381853029567127, 0.07381853029567127, 0.07381853029567127, 0.07381853029567127, 0.07381853029567127, 0.07381853029567127, 0.07381853029567127]}], \"root_mean_squared_error\": [{\"categories\": [\"0\", \"1\", \"2\", \"3\", \"4\", \"5\", \"6\", \"7\", \"8\", \"9\", \"10\", \"11\", \"12\", \"13\", \"14\", \"15\", \"16\", \"17\", \"18\", \"19\", \"20\", \"21\", \"22\", \"23\", \"24\", \"25\", \"26\", \"27\", \"28\", \"29\", \"30\", \"31\", \"32\", \"33\", \"34\", \"35\", \"36\", \"38\", \"39\"], \"mode\": \"markers\", \"name\": \"root_mean_squared_error\", \"stepped\": false, \"type\": \"scatter\", \"data\": [0.0009688033933163006, 0.002249912487191181, 0.03631040496436072, 0.009643689249359962, 0.006672853480727031, 0.004967065313489482, 0.003102795840031391, 0.005852205777661915, 0.010135880906615338, 0.004319389487886581, 0.008782195226475751, 0.0037783294705952, 0.009307193010858292, 0.007164380505421832, 0.01264368431172854, 0.011850658901669931, 0.03807183868348933, 0.002753188235633141, 0.010483498665083925, 0.010701583714199336, 0.008082588655163116, 0.005775042412954818, 0.003917252855275043, 0.04193693951407623, 0.0038187662729474237, 0.0099884427347536, 0.0044411491439778315, 0.0038760299633712725, 0.023921780757254048, 0.006023671396990406, 0.003773785402238683, 0.005959444417784533, 0.005462088312414091, 0.0034428054436829642, 0.024468225982970444, 0.004967067125991733, 0.006378745637590775, 0.0009688033933163006, 0.0010095567477108418]}, {\"categories\": [\"0\", \"1\", \"2\", \"3\", \"4\", \"5\", \"6\", \"7\", \"8\", \"9\", \"10\", \"11\", \"12\", \"13\", \"14\", \"15\", \"16\", \"17\", \"18\", \"19\", \"20\", \"21\", \"22\", \"23\", \"24\", \"25\", \"26\", \"27\", \"28\", \"29\", \"30\", \"31\", \"32\", \"33\", \"34\", \"35\", \"36\", \"38\", \"39\"], \"mode\": \"lines\", \"name\": \"root_mean_squared_error_min\", \"stepped\": true, \"type\": \"scatter\", \"data\": [0.0009688033933163006, 0.0009688033933163006, 0.0009688033933163006, 0.0009688033933163006, 0.0009688033933163006, 0.0009688033933163006, 0.0009688033933163006, 0.0009688033933163006, 0.0009688033933163006, 0.0009688033933163006, 0.0009688033933163006, 0.0009688033933163006, 0.0009688033933163006, 0.0009688033933163006, 0.0009688033933163006, 0.0009688033933163006, 0.0009688033933163006, 0.0009688033933163006, 0.0009688033933163006, 0.0009688033933163006, 0.0009688033933163006, 0.0009688033933163006, 0.0009688033933163006, 0.0009688033933163006, 0.0009688033933163006, 0.0009688033933163006, 0.0009688033933163006, 0.0009688033933163006, 0.0009688033933163006, 0.0009688033933163006, 0.0009688033933163006, 0.0009688033933163006, 0.0009688033933163006, 0.0009688033933163006, 0.0009688033933163006, 0.0009688033933163006, 0.0009688033933163006, 0.0009688033933163006, 0.0009688033933163006]}], \"root_mean_squared_log_error\": [{\"categories\": [\"0\", \"1\", \"2\", \"3\", \"4\", \"5\", \"6\", \"7\", \"8\", \"9\", \"10\", \"11\", \"12\", \"13\", \"14\", \"15\", \"16\", \"17\", \"18\", \"19\", \"20\", \"21\", \"22\", \"23\", \"24\", \"25\", \"26\", \"27\", \"28\", \"29\", \"30\", \"31\", \"32\", \"33\", \"34\", \"35\", \"36\", \"38\", \"39\"], \"mode\": \"markers\", \"name\": \"root_mean_squared_log_error\", \"stepped\": false, \"type\": \"scatter\", \"data\": [0.0005712604223994724, 0.001331743866687258, 0.02163590810879221, 0.006214045587529441, 0.004181188520437958, 0.003039748664951606, 0.0018176597362814025, 0.003596279301461079, 0.006412369415652192, 0.002603949719588849, 0.005453031569659384, 0.0022797196567522194, 0.005960537679552005, 0.004409733783825379, 0.007798022171066265, 0.007304624547333868, 0.02329376020221302, 0.001606415181916632, 0.006510426851018001, 0.006678092484300154, 0.004942454610679437, 0.0036011176155470877, 0.002356265246140605, 0.025925298422142518, 0.002360605709597463, 0.006244476490875932, 0.002725013090628589, 0.0022725422819422753, 0.015086597678809299, 0.00366651710815186, 0.002252888540191427, 0.003718326801955475, 0.003362546118473453, 0.002014011628623642, 0.015355186090487829, 0.003039749718088817, 0.00389060169564868, 0.0005712604223994724, 0.000596066723720471]}, {\"categories\": [\"0\", \"1\", \"2\", \"3\", \"4\", \"5\", \"6\", \"7\", \"8\", \"9\", \"10\", \"11\", \"12\", \"13\", \"14\", \"15\", \"16\", \"17\", \"18\", \"19\", \"20\", \"21\", \"22\", \"23\", \"24\", \"25\", \"26\", \"27\", \"28\", \"29\", \"30\", \"31\", \"32\", \"33\", \"34\", \"35\", \"36\", \"38\", \"39\"], \"mode\": \"lines\", \"name\": \"root_mean_squared_log_error_min\", \"stepped\": true, \"type\": \"scatter\", \"data\": [0.0005712604223994724, 0.0005712604223994724, 0.0005712604223994724, 0.0005712604223994724, 0.0005712604223994724, 0.0005712604223994724, 0.0005712604223994724, 0.0005712604223994724, 0.0005712604223994724, 0.0005712604223994724, 0.0005712604223994724, 0.0005712604223994724, 0.0005712604223994724, 0.0005712604223994724, 0.0005712604223994724, 0.0005712604223994724, 0.0005712604223994724, 0.0005712604223994724, 0.0005712604223994724, 0.0005712604223994724, 0.0005712604223994724, 0.0005712604223994724, 0.0005712604223994724, 0.0005712604223994724, 0.0005712604223994724, 0.0005712604223994724, 0.0005712604223994724, 0.0005712604223994724, 0.0005712604223994724, 0.0005712604223994724, 0.0005712604223994724, 0.0005712604223994724, 0.0005712604223994724, 0.0005712604223994724, 0.0005712604223994724, 0.0005712604223994724, 0.0005712604223994724, 0.0005712604223994724, 0.0005712604223994724]}], \"mean_absolute_error\": [{\"categories\": [\"0\", \"1\", \"2\", \"3\", \"4\", \"5\", \"6\", \"7\", \"8\", \"9\", \"10\", \"11\", \"12\", \"13\", \"14\", \"15\", \"16\", \"17\", \"18\", \"19\", \"20\", \"21\", \"22\", \"23\", \"24\", \"25\", \"26\", \"27\", \"28\", \"29\", \"30\", \"31\", \"32\", \"33\", \"34\", \"35\", \"36\", \"38\", \"39\"], \"mode\": \"markers\", \"name\": \"mean_absolute_error\", \"stepped\": false, \"type\": \"scatter\", \"data\": [0.0005009754499645351, 0.001622824229330642, 0.031214974647931555, 0.005954910622564191, 0.005084466533375788, 0.0033186884401627584, 0.001667141029061197, 0.0037409580795854424, 0.006717020906172005, 0.0019424686932408702, 0.005191083265861947, 0.0016145664550767966, 0.006072814949126661, 0.004542619268057081, 0.008890783073228213, 0.008468644801188158, 0.03058389648863468, 0.001188774959567679, 0.007550204270108258, 0.007062949220318708, 0.006471662197243065, 0.0036064004993410365, 0.0022213224523865436, 0.03295812552813564, 0.0019365601659608958, 0.0070581060640602655, 0.0017987920325920573, 0.001785873084378034, 0.01363654501989855, 0.0036357052219856746, 0.002220068455232782, 0.003990505660104076, 0.003634039083809915, 0.0016455149001511754, 0.014406479097108776, 0.003318744707114276, 0.003944096883017998, 0.0005009754499645351, 0.0005857455816310768]}, {\"categories\": [\"0\", \"1\", \"2\", \"3\", \"4\", \"5\", \"6\", \"7\", \"8\", \"9\", \"10\", \"11\", \"12\", \"13\", \"14\", \"15\", \"16\", \"17\", \"18\", \"19\", \"20\", \"21\", \"22\", \"23\", \"24\", \"25\", \"26\", \"27\", \"28\", \"29\", \"30\", \"31\", \"32\", \"33\", \"34\", \"35\", \"36\", \"38\", \"39\"], \"mode\": \"lines\", \"name\": \"mean_absolute_error_min\", \"stepped\": true, \"type\": \"scatter\", \"data\": [0.0005009754499645351, 0.0005009754499645351, 0.0005009754499645351, 0.0005009754499645351, 0.0005009754499645351, 0.0005009754499645351, 0.0005009754499645351, 0.0005009754499645351, 0.0005009754499645351, 0.0005009754499645351, 0.0005009754499645351, 0.0005009754499645351, 0.0005009754499645351, 0.0005009754499645351, 0.0005009754499645351, 0.0005009754499645351, 0.0005009754499645351, 0.0005009754499645351, 0.0005009754499645351, 0.0005009754499645351, 0.0005009754499645351, 0.0005009754499645351, 0.0005009754499645351, 0.0005009754499645351, 0.0005009754499645351, 0.0005009754499645351, 0.0005009754499645351, 0.0005009754499645351, 0.0005009754499645351, 0.0005009754499645351, 0.0005009754499645351, 0.0005009754499645351, 0.0005009754499645351, 0.0005009754499645351, 0.0005009754499645351, 0.0005009754499645351, 0.0005009754499645351, 0.0005009754499645351, 0.0005009754499645351]}], \"r2_score\": [{\"categories\": [\"0\", \"1\", \"2\", \"3\", \"4\", \"5\", \"6\", \"7\", \"8\", \"9\", \"10\", \"11\", \"12\", \"13\", \"14\", \"15\", \"16\", \"17\", \"18\", \"19\", \"20\", \"21\", \"22\", \"23\", \"24\", \"25\", \"26\", \"27\", \"28\", \"29\", \"30\", \"31\", \"32\", \"33\", \"34\", \"35\", \"36\", \"38\", \"39\"], \"mode\": \"markers\", \"name\": \"r2_score\", \"stepped\": false, \"type\": \"scatter\", \"data\": [0.9999533980442392, 0.9997487767606934, 0.9345748189617676, 0.9950372287038107, 0.9977900569691922, 0.9987753973399744, 0.9995220916033452, 0.9982715847803239, 0.9947027416122367, 0.9990242767807832, 0.9960209672965707, 0.9992478899343074, 0.995679164175636, 0.9974212301124297, 0.9916088912427552, 0.9929508564377884, 0.9280463552358912, 0.9996200396070319, 0.9945079074817617, 0.9942570026834628, 0.9967558329920394, 0.9983235608056538, 0.9992299421842133, 0.9127120072552, 0.9992759802230118, 0.9950479430401632, 0.9989362792153134, 0.9992394361145263, 0.9715893918580718, 0.9981716832877184, 0.9992930259011601, 0.998232567955756, 0.9985190604786969, 0.9994087340926864, 0.9702814178929009, 0.9987753964436429, 0.997941617876225, 0.9999533980442392, 0.9999494062830683]}, {\"categories\": [\"0\", \"1\", \"2\", \"3\", \"4\", \"5\", \"6\", \"7\", \"8\", \"9\", \"10\", \"11\", \"12\", \"13\", \"14\", \"15\", \"16\", \"17\", \"18\", \"19\", \"20\", \"21\", \"22\", \"23\", \"24\", \"25\", \"26\", \"27\", \"28\", \"29\", \"30\", \"31\", \"32\", \"33\", \"34\", \"35\", \"36\", \"38\", \"39\"], \"mode\": \"lines\", \"name\": \"r2_score_max\", \"stepped\": true, \"type\": \"scatter\", \"data\": [0.9999533980442392, 0.9999533980442392, 0.9999533980442392, 0.9999533980442392, 0.9999533980442392, 0.9999533980442392, 0.9999533980442392, 0.9999533980442392, 0.9999533980442392, 0.9999533980442392, 0.9999533980442392, 0.9999533980442392, 0.9999533980442392, 0.9999533980442392, 0.9999533980442392, 0.9999533980442392, 0.9999533980442392, 0.9999533980442392, 0.9999533980442392, 0.9999533980442392, 0.9999533980442392, 0.9999533980442392, 0.9999533980442392, 0.9999533980442392, 0.9999533980442392, 0.9999533980442392, 0.9999533980442392, 0.9999533980442392, 0.9999533980442392, 0.9999533980442392, 0.9999533980442392, 0.9999533980442392, 0.9999533980442392, 0.9999533980442392, 0.9999533980442392, 0.9999533980442392, 0.9999533980442392, 0.9999533980442392, 0.9999533980442392]}], \"spearman_correlation\": [{\"categories\": [\"0\", \"1\", \"2\", \"3\", \"4\", \"5\", \"6\", \"7\", \"8\", \"9\", \"10\", \"11\", \"12\", \"13\", \"14\", \"15\", \"16\", \"17\", \"18\", \"19\", \"20\", \"21\", \"22\", \"23\", \"24\", \"25\", \"26\", \"27\", \"28\", \"29\", \"30\", \"31\", \"32\", \"33\", \"34\", \"35\", \"36\", \"38\", \"39\"], \"mode\": \"markers\", \"name\": \"spearman_correlation\", \"stepped\": false, \"type\": \"scatter\", \"data\": [0.999185767688334, 0.9991857182954618, 0.9990387348649689, 0.996989399401874, 0.9985851431119162, 0.9987587036112441, 0.9990907735286981, 0.9976892925139934, 0.9949040794443678, 0.9987306099845632, 0.9964051255146602, 0.9992407822497557, 0.9967685972386224, 0.9975931260456095, 0.9947423305432059, 0.9951160755273187, 0.9545110417639838, 0.9994520911168868, 0.9969480515022147, 0.9963562110730126, 0.9967777592131466, 0.9988667498171496, 0.9988589489495178, 0.9439767725108078, 0.9994487580983883, 0.9982457118788511, 0.9988214353442864, 0.9992409861238476, 0.9960695030538768, 0.9987644800575245, 0.99882735840178, 0.9984707617807302, 0.9987715015164429, 0.9990388749651397, 0.9949223619934695, 0.9987586832364961, 0.9974625504917587, 0.999185767688334, 0.999185767688334]}, {\"categories\": [\"0\", \"1\", \"2\", \"3\", \"4\", \"5\", \"6\", \"7\", \"8\", \"9\", \"10\", \"11\", \"12\", \"13\", \"14\", \"15\", \"16\", \"17\", \"18\", \"19\", \"20\", \"21\", \"22\", \"23\", \"24\", \"25\", \"26\", \"27\", \"28\", \"29\", \"30\", \"31\", \"32\", \"33\", \"34\", \"35\", \"36\", \"38\", \"39\"], \"mode\": \"lines\", \"name\": \"spearman_correlation_max\", \"stepped\": true, \"type\": \"scatter\", \"data\": [0.999185767688334, 0.999185767688334, 0.999185767688334, 0.999185767688334, 0.999185767688334, 0.999185767688334, 0.999185767688334, 0.999185767688334, 0.999185767688334, 0.999185767688334, 0.999185767688334, 0.9992407822497557, 0.9992407822497557, 0.9992407822497557, 0.9992407822497557, 0.9992407822497557, 0.9992407822497557, 0.9994520911168868, 0.9994520911168868, 0.9994520911168868, 0.9994520911168868, 0.9994520911168868, 0.9994520911168868, 0.9994520911168868, 0.9994520911168868, 0.9994520911168868, 0.9994520911168868, 0.9994520911168868, 0.9994520911168868, 0.9994520911168868, 0.9994520911168868, 0.9994520911168868, 0.9994520911168868, 0.9994520911168868, 0.9994520911168868, 0.9994520911168868, 0.9994520911168868, 0.9994520911168868, 0.9994520911168868]}], \"median_absolute_error\": [{\"categories\": [\"0\", \"1\", \"2\", \"3\", \"4\", \"5\", \"6\", \"7\", \"8\", \"9\", \"10\", \"11\", \"12\", \"13\", \"14\", \"15\", \"16\", \"17\", \"18\", \"19\", \"20\", \"21\", \"22\", \"23\", \"24\", \"25\", \"26\", \"27\", \"28\", \"29\", \"30\", \"31\", \"32\", \"33\", \"34\", \"35\", \"36\", \"38\", \"39\"], \"mode\": \"markers\", \"name\": \"median_absolute_error\", \"stepped\": false, \"type\": \"scatter\", \"data\": [0.000266984689353611, 0.0011870985031127823, 0.030354610987845664, 0.003885276348180289, 0.004581553944942885, 0.0018377274460247728, 0.0003309151336482463, 0.0023636447709555197, 0.004187426969343333, 0.0003132455492268482, 0.003310287805126566, 2.727600084884152e-06, 0.003914871763066941, 0.002850901961412322, 0.006693450082692909, 0.006223725033597538, 0.026239505775945443, 2.587430377687383e-06, 0.0063241623214923106, 0.0045156784533932235, 0.0055410455152426815, 0.0015213732313661855, 0.0010378983699212308, 0.026651432305757006, 0.00043685925209719924, 0.0056698507618239136, 3.09839286027902e-05, 0.0001814663084819035, 0.0060288770293497555, 0.0017520029441103757, 0.0011019821667234142, 0.0022743975402633953, 0.0015542592062375515, 0.00016705052975902747, 0.007474863815418531, 0.0018377274460247728, 0.0026520356808594327, 0.000266984689353611, 0.0003834555277048901]}, {\"categories\": [\"0\", \"1\", \"2\", \"3\", \"4\", \"5\", \"6\", \"7\", \"8\", \"9\", \"10\", \"11\", \"12\", \"13\", \"14\", \"15\", \"16\", \"17\", \"18\", \"19\", \"20\", \"21\", \"22\", \"23\", \"24\", \"25\", \"26\", \"27\", \"28\", \"29\", \"30\", \"31\", \"32\", \"33\", \"34\", \"35\", \"36\", \"38\", \"39\"], \"mode\": \"lines\", \"name\": \"median_absolute_error_min\", \"stepped\": true, \"type\": \"scatter\", \"data\": [0.000266984689353611, 0.000266984689353611, 0.000266984689353611, 0.000266984689353611, 0.000266984689353611, 0.000266984689353611, 0.000266984689353611, 0.000266984689353611, 0.000266984689353611, 0.000266984689353611, 0.000266984689353611, 2.727600084884152e-06, 2.727600084884152e-06, 2.727600084884152e-06, 2.727600084884152e-06, 2.727600084884152e-06, 2.727600084884152e-06, 2.587430377687383e-06, 2.587430377687383e-06, 2.587430377687383e-06, 2.587430377687383e-06, 2.587430377687383e-06, 2.587430377687383e-06, 2.587430377687383e-06, 2.587430377687383e-06, 2.587430377687383e-06, 2.587430377687383e-06, 2.587430377687383e-06, 2.587430377687383e-06, 2.587430377687383e-06, 2.587430377687383e-06, 2.587430377687383e-06, 2.587430377687383e-06, 2.587430377687383e-06, 2.587430377687383e-06, 2.587430377687383e-06, 2.587430377687383e-06, 2.587430377687383e-06, 2.587430377687383e-06]}]}, \"metricName\": null, \"primaryMetricName\": \"normalized_root_mean_squared_error\", \"showLegend\": false}, \"run_metrics\": [{\"name\": \"experiment_status\", \"run_id\": \"AutoML_3efc1dc1-1856-4314-8f1d-6ee85f7cab26\", \"categories\": [0, 1, 2, 3, 4, 5, 6, 7, 8, 9, 10, 11, 12], \"series\": [{\"data\": [\"DatasetEvaluation\", \"FeaturesGeneration\", \"DatasetFeaturization\", \"DatasetFeaturizationCompleted\", \"DatasetCrossValidationSplit\", \"ModelSelection\", \"BestRunExplainModel\", \"ModelExplanationDataSetSetup\", \"PickSurrogateModel\", \"EngineeredFeatureExplanations\", \"EngineeredFeatureExplanations\", \"RawFeaturesExplanations\", \"FailedModelExplanations\"]}]}, {\"name\": \"experiment_status_description\", \"run_id\": \"AutoML_3efc1dc1-1856-4314-8f1d-6ee85f7cab26\", \"categories\": [0, 1, 2, 3, 4, 5, 6, 7, 8, 9, 10, 11, 12], \"series\": [{\"data\": [\"Gathering dataset statistics.\", \"Generating features for the dataset.\", \"Beginning to fit featurizers and featurize the dataset.\", \"Completed fit featurizers and featurizing the dataset.\", \"Generating individually featurized CV splits.\", \"Beginning model selection.\", \"Best run model explanations started\", \"Model explanations data setup completed\", \"Choosing LightGBM as the surrogate model for explanations\", \"Computation of engineered features started\", \"Computation of engineered features completed\", \"Computation of raw features started\", \"Failed to explain best model\"]}]}, {\"name\": \"spearman_correlation\", \"run_id\": \"AutoML_3efc1dc1-1856-4314-8f1d-6ee85f7cab26\", \"categories\": [0], \"series\": [{\"data\": [0.999185767688334]}]}, {\"name\": \"median_absolute_error\", \"run_id\": \"AutoML_3efc1dc1-1856-4314-8f1d-6ee85f7cab26\", \"categories\": [0], \"series\": [{\"data\": [0.000266984689353611]}]}, {\"name\": \"root_mean_squared_log_error\", \"run_id\": \"AutoML_3efc1dc1-1856-4314-8f1d-6ee85f7cab26\", \"categories\": [0], \"series\": [{\"data\": [0.0005712604223994724]}]}, {\"name\": \"mean_absolute_error\", \"run_id\": \"AutoML_3efc1dc1-1856-4314-8f1d-6ee85f7cab26\", \"categories\": [0], \"series\": [{\"data\": [0.0005009754499645351]}]}, {\"name\": \"mean_absolute_percentage_error\", \"run_id\": \"AutoML_3efc1dc1-1856-4314-8f1d-6ee85f7cab26\", \"categories\": [0], \"series\": [{\"data\": [0.07381853029567127]}]}, {\"name\": \"root_mean_squared_error\", \"run_id\": \"AutoML_3efc1dc1-1856-4314-8f1d-6ee85f7cab26\", \"categories\": [0], \"series\": [{\"data\": [0.0009688033933163006]}]}, {\"name\": \"normalized_root_mean_squared_error\", \"run_id\": \"AutoML_3efc1dc1-1856-4314-8f1d-6ee85f7cab26\", \"categories\": [0], \"series\": [{\"data\": [0.0018279309307854727]}]}, {\"name\": \"r2_score\", \"run_id\": \"AutoML_3efc1dc1-1856-4314-8f1d-6ee85f7cab26\", \"categories\": [0], \"series\": [{\"data\": [0.9999533980442392]}]}, {\"name\": \"normalized_median_absolute_error\", \"run_id\": \"AutoML_3efc1dc1-1856-4314-8f1d-6ee85f7cab26\", \"categories\": [0], \"series\": [{\"data\": [0.0005037446968936056]}]}, {\"name\": \"normalized_mean_absolute_error\", \"run_id\": \"AutoML_3efc1dc1-1856-4314-8f1d-6ee85f7cab26\", \"categories\": [0], \"series\": [{\"data\": [0.0009452366980462927]}]}, {\"name\": \"explained_variance\", \"run_id\": \"AutoML_3efc1dc1-1856-4314-8f1d-6ee85f7cab26\", \"categories\": [0], \"series\": [{\"data\": [0.999953402885974]}]}, {\"name\": \"normalized_root_mean_squared_log_error\", \"run_id\": \"AutoML_3efc1dc1-1856-4314-8f1d-6ee85f7cab26\", \"categories\": [0], \"series\": [{\"data\": [0.0017902335376288419]}]}], \"run_logs\": \"\\nRun is completed.\", \"graph\": {}, \"widget_settings\": {\"childWidgetDisplay\": \"popup\", \"send_telemetry\": false, \"log_level\": \"INFO\", \"sdk_version\": \"1.24.0\"}, \"loading\": false}"
          },
          "metadata": {}
        },
        {
          "output_type": "stream",
          "name": "stdout",
          "text": [
            "\n",
            "\n",
            "****************************************************************************************************\n",
            "DATA GUARDRAILS: \n",
            "\n",
            "TYPE:         Missing feature values imputation\n",
            "STATUS:       PASSED\n",
            "DESCRIPTION:  No feature missing values were detected in the training data.\n",
            "              Learn more about missing value imputation: https://aka.ms/AutomatedMLFeaturization\n",
            "\n",
            "****************************************************************************************************\n",
            "\n",
            "TYPE:         High cardinality feature detection\n",
            "STATUS:       PASSED\n",
            "DESCRIPTION:  Your inputs were analyzed, and no high cardinality features were detected.\n",
            "              Learn more about high cardinality feature handling: https://aka.ms/AutomatedMLFeaturization\n",
            "\n",
            "****************************************************************************************************\n",
            "\n",
            "****************************************************************************************************\n",
            "ITERATION: The iteration being evaluated.\n",
            "PIPELINE: A summary description of the pipeline being evaluated.\n",
            "DURATION: Time taken for the current iteration.\n",
            "METRIC: The result of computing score on the fitted pipeline.\n",
            "BEST: The best observed score thus far.\n",
            "****************************************************************************************************\n",
            "\n",
            " ITERATION   PIPELINE                                       DURATION      METRIC      BEST\n",
            "         0   MaxAbsScaler LightGBM                          0:00:47       0.0018    0.0018\n",
            "         1   MaxAbsScaler XGBoostRegressor                  0:01:25       0.0042    0.0018\n",
            "         2   StandardScalerWrapper ElasticNet               0:01:34       0.0685    0.0018\n",
            "         3   MaxAbsScaler DecisionTree                      0:00:39       0.0182    0.0018\n",
            "         4   MaxAbsScaler ElasticNet                        0:01:20       0.0126    0.0018\n",
            "         5   MaxAbsScaler DecisionTree                      0:00:41       0.0094    0.0018\n",
            "         6   MaxAbsScaler DecisionTree                      0:00:40       0.0059    0.0018\n",
            "         7   MaxAbsScaler DecisionTree                      0:00:50       0.0110    0.0018\n",
            "         8   MaxAbsScaler DecisionTree                      0:00:50       0.0191    0.0018\n",
            "         9   MaxAbsScaler DecisionTree                      0:00:43       0.0081    0.0018\n",
            "        10   MaxAbsScaler DecisionTree                      0:01:13       0.0166    0.0018\n",
            "        11   MaxAbsScaler DecisionTree                      0:00:44       0.0071    0.0018\n",
            "        12   MaxAbsScaler DecisionTree                      0:01:23       0.0176    0.0018\n",
            "        13   StandardScalerWrapper DecisionTree             0:01:16       0.0135    0.0018\n",
            "        14   MaxAbsScaler DecisionTree                      0:01:11       0.0239    0.0018\n",
            "        15   MaxAbsScaler DecisionTree                      0:01:04       0.0224    0.0018\n",
            "        16   MaxAbsScaler SGD                               0:00:44       0.0718    0.0018\n",
            "        17   MaxAbsScaler DecisionTree                      0:00:57       0.0052    0.0018\n",
            "        18   MaxAbsScaler DecisionTree                      0:00:53       0.0198    0.0018\n",
            "        19   MaxAbsScaler DecisionTree                      0:00:54       0.0202    0.0018\n",
            "        20   MaxAbsScaler SGD                               0:00:51       0.0153    0.0018\n",
            "        21   MaxAbsScaler DecisionTree                      0:00:46       0.0109    0.0018\n",
            "        22   MaxAbsScaler DecisionTree                      0:02:30       0.0074    0.0018\n",
            "        23   SparseNormalizer LightGBM                      0:02:26       0.0791    0.0018\n",
            "        24   MaxAbsScaler DecisionTree                      0:02:22       0.0072    0.0018\n",
            "        25   MaxAbsScaler DecisionTree                      0:02:25       0.0188    0.0018\n",
            "        26   MaxAbsScaler DecisionTree                      0:02:22       0.0084    0.0018\n",
            "        27   MaxAbsScaler DecisionTree                      0:00:42       0.0073    0.0018\n",
            "        28   MaxAbsScaler LightGBM                          0:00:45       0.0451    0.0018\n",
            "        29   MaxAbsScaler DecisionTree                      0:00:41       0.0114    0.0018\n",
            "        30   MaxAbsScaler DecisionTree                      0:00:42       0.0071    0.0018\n",
            "        31   MaxAbsScaler DecisionTree                      0:00:47       0.0112    0.0018\n",
            "        32   MaxAbsScaler DecisionTree                      0:00:49       0.0103    0.0018\n",
            "        33   MaxAbsScaler DecisionTree                      0:00:47       0.0065    0.0018\n",
            "        34   MaxAbsScaler LightGBM                          0:00:51       0.0462    0.0018\n",
            "        35   MaxAbsScaler DecisionTree                      0:00:45       0.0094    0.0018\n",
            "        36   MaxAbsScaler DecisionTree                      0:00:44       0.0120    0.0018\n",
            "        37                                                  0:00:17          nan    0.0018\n",
            "        38    VotingEnsemble                                0:02:02       0.0018    0.0018\n",
            "        39    StackEnsemble                                 0:01:31       0.0019    0.0018\n"
          ]
        },
        {
          "output_type": "execute_result",
          "execution_count": 8,
          "data": {
            "text/plain": "{'runId': 'AutoML_3efc1dc1-1856-4314-8f1d-6ee85f7cab26',\n 'target': 'comp',\n 'status': 'Completed',\n 'startTimeUtc': '2021-04-01T23:31:28.457388Z',\n 'endTimeUtc': '2021-04-01T23:49:07.571031Z',\n 'properties': {'num_iterations': '1000',\n  'training_type': 'TrainFull',\n  'acquisition_function': 'EI',\n  'primary_metric': 'normalized_root_mean_squared_error',\n  'train_split': '0',\n  'acquisition_parameter': '0',\n  'num_cross_validation': '5',\n  'target': 'comp',\n  'AMLSettingsJsonString': '{\"path\":null,\"name\":\"data_quality_analysis\",\"subscription_id\":\"510b94ba-e453-4417-988b-fbdc37b55ca7\",\"resource_group\":\"aml-quickstarts-141768\",\"workspace_name\":\"quick-starts-ws-141768\",\"region\":\"southcentralus\",\"compute_target\":\"comp\",\"spark_service\":null,\"azure_service\":\"remote\",\"many_models\":false,\"pipeline_fetch_max_batch_size\":1,\"enable_batch_run\":false,\"iterations\":1000,\"primary_metric\":\"normalized_root_mean_squared_error\",\"task_type\":\"regression\",\"data_script\":null,\"validation_size\":0.0,\"n_cross_validations\":5,\"y_min\":null,\"y_max\":null,\"num_classes\":null,\"featurization\":\"auto\",\"_ignore_package_version_incompatibilities\":false,\"is_timeseries\":false,\"max_cores_per_iteration\":1,\"max_concurrent_iterations\":5,\"iteration_timeout_minutes\":null,\"mem_in_mb\":null,\"enforce_time_on_windows\":false,\"experiment_timeout_minutes\":30,\"experiment_exit_score\":null,\"whitelist_models\":null,\"blacklist_algos\":[\"TensorFlowDNN\",\"TensorFlowLinearRegressor\"],\"supported_models\":[\"ElasticNet\",\"DecisionTree\",\"LassoLars\",\"XGBoostRegressor\",\"TensorFlowLinearRegressor\",\"FastLinearRegressor\",\"OnlineGradientDescentRegressor\",\"TensorFlowDNN\",\"SGD\",\"KNN\",\"LightGBM\",\"RandomForest\",\"ExtremeRandomTrees\",\"GradientBoosting\"],\"private_models\":[],\"auto_blacklist\":true,\"blacklist_samples_reached\":false,\"exclude_nan_labels\":true,\"verbosity\":20,\"_debug_log\":\"azureml_automl.log\",\"show_warnings\":false,\"model_explainability\":true,\"service_url\":null,\"sdk_url\":null,\"sdk_packages\":null,\"enable_onnx_compatible_models\":false,\"enable_split_onnx_featurizer_estimator_models\":false,\"vm_type\":\"STANDARD_DS3_V2\",\"telemetry_verbosity\":20,\"send_telemetry\":true,\"enable_dnn\":false,\"scenario\":\"SDK-1.13.0\",\"environment_label\":null,\"save_mlflow\":false,\"force_text_dnn\":false,\"enable_feature_sweeping\":true,\"enable_early_stopping\":true,\"early_stopping_n_iters\":10,\"metrics\":null,\"enable_metric_confidence\":false,\"enable_ensembling\":true,\"enable_stack_ensembling\":true,\"ensemble_iterations\":15,\"enable_tf\":false,\"enable_subsampling\":null,\"subsample_seed\":null,\"enable_nimbusml\":false,\"enable_streaming\":false,\"force_streaming\":false,\"track_child_runs\":true,\"allowed_private_models\":[],\"label_column_name\":\"score\",\"weight_column_name\":null,\"cv_split_column_names\":null,\"enable_local_managed\":false,\"_local_managed_run_id\":null,\"cost_mode\":1,\"lag_length\":0,\"metric_operation\":\"minimize\",\"preprocess\":true}',\n  'DataPrepJsonString': '{\\\\\"training_data\\\\\": \\\\\"{\\\\\\\\\\\\\"blocks\\\\\\\\\\\\\": [{\\\\\\\\\\\\\"id\\\\\\\\\\\\\": \\\\\\\\\\\\\"acce69ac-f3ac-41af-bede-f5c2876919d3\\\\\\\\\\\\\", \\\\\\\\\\\\\"type\\\\\\\\\\\\\": \\\\\\\\\\\\\"Microsoft.DPrep.GetFilesBlock\\\\\\\\\\\\\", \\\\\\\\\\\\\"arguments\\\\\\\\\\\\\": {\\\\\\\\\\\\\"isArchive\\\\\\\\\\\\\": false, \\\\\\\\\\\\\"path\\\\\\\\\\\\\": {\\\\\\\\\\\\\"target\\\\\\\\\\\\\": 4, \\\\\\\\\\\\\"resourceDetails\\\\\\\\\\\\\": [{\\\\\\\\\\\\\"path\\\\\\\\\\\\\": \\\\\\\\\\\\\"https://raw.githubusercontent.com/shatakshipachori/data_quality_analysis/main/catalogue-scorecard.csv\\\\\\\\\\\\\"}]}}, \\\\\\\\\\\\\"localData\\\\\\\\\\\\\": {}, \\\\\\\\\\\\\"isEnabled\\\\\\\\\\\\\": true, \\\\\\\\\\\\\"name\\\\\\\\\\\\\": null, \\\\\\\\\\\\\"annotation\\\\\\\\\\\\\": null}, {\\\\\\\\\\\\\"id\\\\\\\\\\\\\": \\\\\\\\\\\\\"b5a77f02-d366-4b4d-90cd-398d938715ed\\\\\\\\\\\\\", \\\\\\\\\\\\\"type\\\\\\\\\\\\\": \\\\\\\\\\\\\"Microsoft.DPrep.ParseDelimitedBlock\\\\\\\\\\\\\", \\\\\\\\\\\\\"arguments\\\\\\\\\\\\\": {\\\\\\\\\\\\\"columnHeadersMode\\\\\\\\\\\\\": 3, \\\\\\\\\\\\\"fileEncoding\\\\\\\\\\\\\": 0, \\\\\\\\\\\\\"handleQuotedLineBreaks\\\\\\\\\\\\\": false, \\\\\\\\\\\\\"preview\\\\\\\\\\\\\": false, \\\\\\\\\\\\\"separator\\\\\\\\\\\\\": \\\\\\\\\\\\\",\\\\\\\\\\\\\", \\\\\\\\\\\\\"skipRows\\\\\\\\\\\\\": 0, \\\\\\\\\\\\\"skipRowsMode\\\\\\\\\\\\\": 0}, \\\\\\\\\\\\\"localData\\\\\\\\\\\\\": {}, \\\\\\\\\\\\\"isEnabled\\\\\\\\\\\\\": true, \\\\\\\\\\\\\"name\\\\\\\\\\\\\": null, \\\\\\\\\\\\\"annotation\\\\\\\\\\\\\": null}, {\\\\\\\\\\\\\"id\\\\\\\\\\\\\": \\\\\\\\\\\\\"1f1269e1-4398-4e60-a405-6a2b9029827b\\\\\\\\\\\\\", \\\\\\\\\\\\\"type\\\\\\\\\\\\\": \\\\\\\\\\\\\"Microsoft.DPrep.DropColumnsBlock\\\\\\\\\\\\\", \\\\\\\\\\\\\"arguments\\\\\\\\\\\\\": {\\\\\\\\\\\\\"columns\\\\\\\\\\\\\": {\\\\\\\\\\\\\"type\\\\\\\\\\\\\": 0, \\\\\\\\\\\\\"details\\\\\\\\\\\\\": {\\\\\\\\\\\\\"selectedColumns\\\\\\\\\\\\\": [\\\\\\\\\\\\\"Path\\\\\\\\\\\\\"]}}}, \\\\\\\\\\\\\"localData\\\\\\\\\\\\\": {}, \\\\\\\\\\\\\"isEnabled\\\\\\\\\\\\\": true, \\\\\\\\\\\\\"name\\\\\\\\\\\\\": null, \\\\\\\\\\\\\"annotation\\\\\\\\\\\\\": null}, {\\\\\\\\\\\\\"id\\\\\\\\\\\\\": \\\\\\\\\\\\\"6b959c0d-b02d-4bb4-a9a2-0dafd9d240a3\\\\\\\\\\\\\", \\\\\\\\\\\\\"type\\\\\\\\\\\\\": \\\\\\\\\\\\\"Microsoft.DPrep.SetColumnTypesBlock\\\\\\\\\\\\\", \\\\\\\\\\\\\"arguments\\\\\\\\\\\\\": {\\\\\\\\\\\\\"columnConversion\\\\\\\\\\\\\": [{\\\\\\\\\\\\\"column\\\\\\\\\\\\\": {\\\\\\\\\\\\\"type\\\\\\\\\\\\\": 2, \\\\\\\\\\\\\"details\\\\\\\\\\\\\": {\\\\\\\\\\\\\"selectedColumn\\\\\\\\\\\\\": \\\\\\\\\\\\\"_id\\\\\\\\\\\\\"}}, \\\\\\\\\\\\\"typeProperty\\\\\\\\\\\\\": 2}, {\\\\\\\\\\\\\"column\\\\\\\\\\\\\": {\\\\\\\\\\\\\"type\\\\\\\\\\\\\": 2, \\\\\\\\\\\\\"details\\\\\\\\\\\\\": {\\\\\\\\\\\\\"selectedColumn\\\\\\\\\\\\\": \\\\\\\\\\\\\"package\\\\\\\\\\\\\"}}, \\\\\\\\\\\\\"typeProperty\\\\\\\\\\\\\": 0}, {\\\\\\\\\\\\\"column\\\\\\\\\\\\\": {\\\\\\\\\\\\\"type\\\\\\\\\\\\\": 2, \\\\\\\\\\\\\"details\\\\\\\\\\\\\": {\\\\\\\\\\\\\"selectedColumn\\\\\\\\\\\\\": \\\\\\\\\\\\\"accessibility\\\\\\\\\\\\\"}}, \\\\\\\\\\\\\"typeProperty\\\\\\\\\\\\\": 2}, {\\\\\\\\\\\\\"column\\\\\\\\\\\\\": {\\\\\\\\\\\\\"type\\\\\\\\\\\\\": 2, \\\\\\\\\\\\\"details\\\\\\\\\\\\\": {\\\\\\\\\\\\\"selectedColumn\\\\\\\\\\\\\": \\\\\\\\\\\\\"completeness\\\\\\\\\\\\\"}}, \\\\\\\\\\\\\"typeProperty\\\\\\\\\\\\\": 3}, {\\\\\\\\\\\\\"column\\\\\\\\\\\\\": {\\\\\\\\\\\\\"type\\\\\\\\\\\\\": 2, \\\\\\\\\\\\\"details\\\\\\\\\\\\\": {\\\\\\\\\\\\\"selectedColumn\\\\\\\\\\\\\": \\\\\\\\\\\\\"freshness\\\\\\\\\\\\\"}}, \\\\\\\\\\\\\"typeProperty\\\\\\\\\\\\\": 3}, {\\\\\\\\\\\\\"column\\\\\\\\\\\\\": {\\\\\\\\\\\\\"type\\\\\\\\\\\\\": 2, \\\\\\\\\\\\\"details\\\\\\\\\\\\\": {\\\\\\\\\\\\\"selectedColumn\\\\\\\\\\\\\": \\\\\\\\\\\\\"metadata\\\\\\\\\\\\\"}}, \\\\\\\\\\\\\"typeProperty\\\\\\\\\\\\\": 3}, {\\\\\\\\\\\\\"column\\\\\\\\\\\\\": {\\\\\\\\\\\\\"type\\\\\\\\\\\\\": 2, \\\\\\\\\\\\\"details\\\\\\\\\\\\\": {\\\\\\\\\\\\\"selectedColumn\\\\\\\\\\\\\": \\\\\\\\\\\\\"usability\\\\\\\\\\\\\"}}, \\\\\\\\\\\\\"typeProperty\\\\\\\\\\\\\": 3}, {\\\\\\\\\\\\\"column\\\\\\\\\\\\\": {\\\\\\\\\\\\\"type\\\\\\\\\\\\\": 2, \\\\\\\\\\\\\"details\\\\\\\\\\\\\": {\\\\\\\\\\\\\"selectedColumn\\\\\\\\\\\\\": \\\\\\\\\\\\\"score\\\\\\\\\\\\\"}}, \\\\\\\\\\\\\"typeProperty\\\\\\\\\\\\\": 3}, {\\\\\\\\\\\\\"column\\\\\\\\\\\\\": {\\\\\\\\\\\\\"type\\\\\\\\\\\\\": 2, \\\\\\\\\\\\\"details\\\\\\\\\\\\\": {\\\\\\\\\\\\\"selectedColumn\\\\\\\\\\\\\": \\\\\\\\\\\\\"score_norm\\\\\\\\\\\\\"}}, \\\\\\\\\\\\\"typeProperty\\\\\\\\\\\\\": 3}, {\\\\\\\\\\\\\"column\\\\\\\\\\\\\": {\\\\\\\\\\\\\"type\\\\\\\\\\\\\": 2, \\\\\\\\\\\\\"details\\\\\\\\\\\\\": {\\\\\\\\\\\\\"selectedColumn\\\\\\\\\\\\\": \\\\\\\\\\\\\"grade\\\\\\\\\\\\\"}}, \\\\\\\\\\\\\"typeProperty\\\\\\\\\\\\\": 0}, {\\\\\\\\\\\\\"column\\\\\\\\\\\\\": {\\\\\\\\\\\\\"type\\\\\\\\\\\\\": 2, \\\\\\\\\\\\\"details\\\\\\\\\\\\\": {\\\\\\\\\\\\\"selectedColumn\\\\\\\\\\\\\": \\\\\\\\\\\\\"grade_norm\\\\\\\\\\\\\"}}, \\\\\\\\\\\\\"typeProperty\\\\\\\\\\\\\": 0}, {\\\\\\\\\\\\\"column\\\\\\\\\\\\\": {\\\\\\\\\\\\\"type\\\\\\\\\\\\\": 2, \\\\\\\\\\\\\"details\\\\\\\\\\\\\": {\\\\\\\\\\\\\"selectedColumn\\\\\\\\\\\\\": \\\\\\\\\\\\\"recorded_at\\\\\\\\\\\\\"}}, \\\\\\\\\\\\\"typeArguments\\\\\\\\\\\\\": {\\\\\\\\\\\\\"dateTimeFormats\\\\\\\\\\\\\": [\\\\\\\\\\\\\"%Y-%m-%dT%H:%M:%S\\\\\\\\\\\\\"]}, \\\\\\\\\\\\\"typeProperty\\\\\\\\\\\\\": 4}, {\\\\\\\\\\\\\"column\\\\\\\\\\\\\": {\\\\\\\\\\\\\"type\\\\\\\\\\\\\": 2, \\\\\\\\\\\\\"details\\\\\\\\\\\\\": {\\\\\\\\\\\\\"selectedColumn\\\\\\\\\\\\\": \\\\\\\\\\\\\"version\\\\\\\\\\\\\"}}, \\\\\\\\\\\\\"typeProperty\\\\\\\\\\\\\": 0}]}, \\\\\\\\\\\\\"localData\\\\\\\\\\\\\": {}, \\\\\\\\\\\\\"isEnabled\\\\\\\\\\\\\": true, \\\\\\\\\\\\\"name\\\\\\\\\\\\\": null, \\\\\\\\\\\\\"annotation\\\\\\\\\\\\\": null}], \\\\\\\\\\\\\"inspectors\\\\\\\\\\\\\": [], \\\\\\\\\\\\\"meta\\\\\\\\\\\\\": {\\\\\\\\\\\\\"savedDatasetId\\\\\\\\\\\\\": \\\\\\\\\\\\\"a3c22789-149b-4cfb-82d6-c6e9f8a45006\\\\\\\\\\\\\", \\\\\\\\\\\\\"datasetType\\\\\\\\\\\\\": \\\\\\\\\\\\\"tabular\\\\\\\\\\\\\", \\\\\\\\\\\\\"subscriptionId\\\\\\\\\\\\\": \\\\\\\\\\\\\"510b94ba-e453-4417-988b-fbdc37b55ca7\\\\\\\\\\\\\", \\\\\\\\\\\\\"workspaceId\\\\\\\\\\\\\": \\\\\\\\\\\\\"4b0cded3-5c89-408b-803e-70e5ecf22382\\\\\\\\\\\\\", \\\\\\\\\\\\\"workspaceLocation\\\\\\\\\\\\\": \\\\\\\\\\\\\"southcentralus\\\\\\\\\\\\\", \\\\\\\\\\\\\"partition_keys\\\\\\\\\\\\\": \\\\\\\\\\\\\"true\\\\\\\\\\\\\"}}\\\\\", \\\\\"activities\\\\\": 0}',\n  'EnableSubsampling': None,\n  'runTemplate': 'AutoML',\n  'azureml.runsource': 'automl',\n  'display_task_type': 'regression',\n  'dependencies_versions': '{\"azureml-widgets\": \"1.24.0\", \"azureml-train\": \"1.24.0\", \"azureml-train-restclients-hyperdrive\": \"1.24.0\", \"azureml-train-core\": \"1.24.0\", \"azureml-train-automl\": \"1.24.0\", \"azureml-train-automl-runtime\": \"1.24.0\", \"azureml-train-automl-client\": \"1.24.0\", \"azureml-tensorboard\": \"1.24.0\", \"azureml-telemetry\": \"1.24.0\", \"azureml-sdk\": \"1.24.0\", \"azureml-samples\": \"0+unknown\", \"azureml-pipeline\": \"1.24.0\", \"azureml-pipeline-steps\": \"1.24.0\", \"azureml-pipeline-core\": \"1.24.0\", \"azureml-opendatasets\": \"1.24.0\", \"azureml-model-management-sdk\": \"1.0.1b6.post1\", \"azureml-mlflow\": \"1.24.0\", \"azureml-interpret\": \"1.24.0\", \"azureml-explain-model\": \"1.24.0\", \"azureml-defaults\": \"1.24.0\", \"azureml-dataset-runtime\": \"1.24.0\", \"azureml-dataprep\": \"2.11.1\", \"azureml-dataprep-rslex\": \"1.9.0\", \"azureml-dataprep-native\": \"30.0.0\", \"azureml-datadrift\": \"1.24.0\", \"azureml-core\": \"1.24.0\", \"azureml-contrib-services\": \"1.24.0\", \"azureml-contrib-server\": \"1.24.0\", \"azureml-contrib-reinforcementlearning\": \"1.24.0\", \"azureml-contrib-pipeline-steps\": \"1.24.0\", \"azureml-contrib-notebook\": \"1.24.0\", \"azureml-contrib-gbdt\": \"1.24.0\", \"azureml-contrib-fairness\": \"1.24.0\", \"azureml-contrib-dataset\": \"1.24.0\", \"azureml-cli-common\": \"1.24.0\", \"azureml-automl-runtime\": \"1.24.0\", \"azureml-automl-dnn-nlp\": \"1.24.0\", \"azureml-automl-core\": \"1.24.0\", \"azureml-accel-models\": \"1.24.0\"}',\n  '_aml_system_scenario_identification': 'Remote.Parent',\n  'ClientType': 'SDK',\n  'environment_cpu_name': 'AzureML-AutoML',\n  'environment_cpu_label': 'prod',\n  'environment_gpu_name': 'AzureML-AutoML-GPU',\n  'environment_gpu_label': 'prod',\n  'root_attribution': 'automl',\n  'attribution': 'AutoML',\n  'Orchestrator': 'AutoML',\n  'CancelUri': 'https://southcentralus.experiments.azureml.net/jasmine/v1.0/subscriptions/510b94ba-e453-4417-988b-fbdc37b55ca7/resourceGroups/aml-quickstarts-141768/providers/Microsoft.MachineLearningServices/workspaces/quick-starts-ws-141768/experimentids/994d76b8-a048-4945-9855-93189bcd3838/cancel/AutoML_3efc1dc1-1856-4314-8f1d-6ee85f7cab26',\n  'ClientSdkVersion': '1.24.0',\n  'snapshotId': '00000000-0000-0000-0000-000000000000',\n  'SetupRunId': 'AutoML_3efc1dc1-1856-4314-8f1d-6ee85f7cab26_setup',\n  'SetupRunContainerId': 'dcid.AutoML_3efc1dc1-1856-4314-8f1d-6ee85f7cab26_setup',\n  'FeaturizationRunJsonPath': 'featurizer_container.json',\n  'FeaturizationRunId': 'AutoML_3efc1dc1-1856-4314-8f1d-6ee85f7cab26_featurize',\n  'ProblemInfoJsonString': '{\"dataset_num_categorical\": 0, \"is_sparse\": true, \"subsampling\": false, \"dataset_classes\": 50, \"dataset_features\": 175, \"dataset_samples\": 23027, \"single_frequency_class_detected\": false}',\n  'ModelExplainRunId': 'AutoML_3efc1dc1-1856-4314-8f1d-6ee85f7cab26_ModelExplain'},\n 'inputDatasets': [{'dataset': {'id': 'a3c22789-149b-4cfb-82d6-c6e9f8a45006'}, 'consumptionDetails': {'type': 'RunInput', 'inputName': 'training_data', 'mechanism': 'Direct'}}],\n 'outputDatasets': [],\n 'logFiles': {},\n 'submittedBy': 'ODL_User 141768'}"
          },
          "metadata": {}
        }
      ],
      "execution_count": 8,
      "metadata": {
        "collapsed": true,
        "jupyter": {
          "source_hidden": false,
          "outputs_hidden": false
        },
        "nteract": {
          "transient": {
            "deleting": false
          }
        },
        "gather": {
          "logged": 1617321117292
        }
      }
    },
    {
      "cell_type": "markdown",
      "source": [
        "## Best Model"
      ],
      "metadata": {
        "nteract": {
          "transient": {
            "deleting": false
          }
        }
      }
    },
    {
      "cell_type": "code",
      "source": [
        "# Retrieve and save your best automl model.\r\n",
        "best_automl_run,best_automl_model=automl_run.get_output()\r\n",
        "best_run_metrics=automl_run.get_metrics()\r\n",
        "for primary_metric in best_run_metrics:\r\n",
        "    metric=best_run_metrics[primary_metric]\r\n",
        "    print(primary_metric,metric)"
      ],
      "outputs": [
        {
          "output_type": "stream",
          "name": "stdout",
          "text": [
            "experiment_status ['DatasetEvaluation', 'FeaturesGeneration', 'DatasetFeaturization', 'DatasetFeaturizationCompleted', 'DatasetCrossValidationSplit', 'ModelSelection', 'BestRunExplainModel', 'ModelExplanationDataSetSetup', 'PickSurrogateModel', 'EngineeredFeatureExplanations', 'EngineeredFeatureExplanations', 'RawFeaturesExplanations', 'FailedModelExplanations']\n",
            "experiment_status_description ['Gathering dataset statistics.', 'Generating features for the dataset.', 'Beginning to fit featurizers and featurize the dataset.', 'Completed fit featurizers and featurizing the dataset.', 'Generating individually featurized CV splits.', 'Beginning model selection.', 'Best run model explanations started', 'Model explanations data setup completed', 'Choosing LightGBM as the surrogate model for explanations', 'Computation of engineered features started', 'Computation of engineered features completed', 'Computation of raw features started', 'Failed to explain best model']\n",
            "spearman_correlation 0.999185767688334\n",
            "median_absolute_error 0.000266984689353611\n",
            "root_mean_squared_log_error 0.0005712604223994724\n",
            "mean_absolute_error 0.0005009754499645351\n",
            "mean_absolute_percentage_error 0.07381853029567127\n",
            "root_mean_squared_error 0.0009688033933163006\n",
            "normalized_root_mean_squared_error 0.0018279309307854727\n",
            "r2_score 0.9999533980442392\n",
            "normalized_median_absolute_error 0.0005037446968936056\n",
            "normalized_mean_absolute_error 0.0009452366980462927\n",
            "explained_variance 0.999953402885974\n",
            "normalized_root_mean_squared_log_error 0.0017902335376288419\n"
          ]
        }
      ],
      "execution_count": 9,
      "metadata": {
        "collapsed": true,
        "jupyter": {
          "source_hidden": false,
          "outputs_hidden": false
        },
        "nteract": {
          "transient": {
            "deleting": false
          }
        },
        "gather": {
          "logged": 1617321159332
        }
      }
    },
    {
      "cell_type": "code",
      "source": [
        "print(best_automl_run)\r\n",
        "best_automl_run"
      ],
      "outputs": [
        {
          "output_type": "stream",
          "name": "stdout",
          "text": [
            "Run(Experiment: data_quality_analysis,\n",
            "Id: AutoML_3efc1dc1-1856-4314-8f1d-6ee85f7cab26_0,\n",
            "Type: azureml.scriptrun,\n",
            "Status: Completed)\n"
          ]
        },
        {
          "output_type": "execute_result",
          "execution_count": 10,
          "data": {
            "text/plain": "Run(Experiment: data_quality_analysis,\nId: AutoML_3efc1dc1-1856-4314-8f1d-6ee85f7cab26_0,\nType: azureml.scriptrun,\nStatus: Completed)",
            "text/html": "<table style=\"width:100%\"><tr><th>Experiment</th><th>Id</th><th>Type</th><th>Status</th><th>Details Page</th><th>Docs Page</th></tr><tr><td>data_quality_analysis</td><td>AutoML_3efc1dc1-1856-4314-8f1d-6ee85f7cab26_0</td><td>azureml.scriptrun</td><td>Completed</td><td><a href=\"https://ml.azure.com/experiments/data_quality_analysis/runs/AutoML_3efc1dc1-1856-4314-8f1d-6ee85f7cab26_0?wsid=/subscriptions/510b94ba-e453-4417-988b-fbdc37b55ca7/resourcegroups/aml-quickstarts-141768/workspaces/quick-starts-ws-141768\" target=\"_blank\" rel=\"noopener\">Link to Azure Machine Learning studio</a></td><td><a href=\"https://docs.microsoft.com/en-us/python/api/azureml-core/azureml.core.run.Run?view=azure-ml-py\" target=\"_blank\" rel=\"noopener\">Link to Documentation</a></td></tr></table>"
          },
          "metadata": {}
        }
      ],
      "execution_count": 10,
      "metadata": {
        "collapsed": true,
        "jupyter": {
          "source_hidden": false,
          "outputs_hidden": false
        },
        "nteract": {
          "transient": {
            "deleting": false
          }
        },
        "gather": {
          "logged": 1617321165622
        }
      }
    },
    {
      "cell_type": "markdown",
      "source": [
        "## Regression analysis using Linear Regression"
      ],
      "metadata": {
        "nteract": {
          "transient": {
            "deleting": false
          }
        }
      }
    },
    {
      "cell_type": "code",
      "source": [
        "data=data.to_pandas_dataframe()\r\n",
        "data.head()"
      ],
      "outputs": [
        {
          "output_type": "execute_result",
          "execution_count": 11,
          "data": {
            "text/plain": "   _id                                            package  accessibility  \\\n0  186  air-conditioned-and-cool-spaces-heat-relief-ne...              1   \n1  187      air-conditioned-public-places-cooling-centres              1   \n2  188  annual-summary-of-reportable-communicable-dise...              1   \n3  189                      apartment-building-evaluation              1   \n4  190                    apartment-building-registration              1   \n\n   completeness  freshness  metadata  usability  score  score_norm   grade  \\\n0          0.69       0.50      0.84       0.86   0.78        0.76  Silver   \n1          1.00       0.00      0.25       0.85   0.54        0.31  Bronze   \n2          0.98       1.00      0.25       0.69   0.66        0.52  Bronze   \n3          0.96       1.00      0.75       0.94   0.91        1.00    Gold   \n4          0.83       1.00      0.75       0.87   0.87        0.92    Gold   \n\n  grade_norm         recorded_at version  \n0     Silver 2019-12-17 20:24:09  v0.1.0  \n1     Bronze 2019-12-17 20:24:09  v0.1.0  \n2     Bronze 2019-12-17 20:24:09  v0.1.0  \n3       Gold 2019-12-17 20:24:09  v0.1.0  \n4       Gold 2019-12-17 20:24:09  v0.1.0  ",
            "text/html": "<div>\n<style scoped>\n    .dataframe tbody tr th:only-of-type {\n        vertical-align: middle;\n    }\n\n    .dataframe tbody tr th {\n        vertical-align: top;\n    }\n\n    .dataframe thead th {\n        text-align: right;\n    }\n</style>\n<table border=\"1\" class=\"dataframe\">\n  <thead>\n    <tr style=\"text-align: right;\">\n      <th></th>\n      <th>_id</th>\n      <th>package</th>\n      <th>accessibility</th>\n      <th>completeness</th>\n      <th>freshness</th>\n      <th>metadata</th>\n      <th>usability</th>\n      <th>score</th>\n      <th>score_norm</th>\n      <th>grade</th>\n      <th>grade_norm</th>\n      <th>recorded_at</th>\n      <th>version</th>\n    </tr>\n  </thead>\n  <tbody>\n    <tr>\n      <th>0</th>\n      <td>186</td>\n      <td>air-conditioned-and-cool-spaces-heat-relief-ne...</td>\n      <td>1</td>\n      <td>0.69</td>\n      <td>0.50</td>\n      <td>0.84</td>\n      <td>0.86</td>\n      <td>0.78</td>\n      <td>0.76</td>\n      <td>Silver</td>\n      <td>Silver</td>\n      <td>2019-12-17 20:24:09</td>\n      <td>v0.1.0</td>\n    </tr>\n    <tr>\n      <th>1</th>\n      <td>187</td>\n      <td>air-conditioned-public-places-cooling-centres</td>\n      <td>1</td>\n      <td>1.00</td>\n      <td>0.00</td>\n      <td>0.25</td>\n      <td>0.85</td>\n      <td>0.54</td>\n      <td>0.31</td>\n      <td>Bronze</td>\n      <td>Bronze</td>\n      <td>2019-12-17 20:24:09</td>\n      <td>v0.1.0</td>\n    </tr>\n    <tr>\n      <th>2</th>\n      <td>188</td>\n      <td>annual-summary-of-reportable-communicable-dise...</td>\n      <td>1</td>\n      <td>0.98</td>\n      <td>1.00</td>\n      <td>0.25</td>\n      <td>0.69</td>\n      <td>0.66</td>\n      <td>0.52</td>\n      <td>Bronze</td>\n      <td>Bronze</td>\n      <td>2019-12-17 20:24:09</td>\n      <td>v0.1.0</td>\n    </tr>\n    <tr>\n      <th>3</th>\n      <td>189</td>\n      <td>apartment-building-evaluation</td>\n      <td>1</td>\n      <td>0.96</td>\n      <td>1.00</td>\n      <td>0.75</td>\n      <td>0.94</td>\n      <td>0.91</td>\n      <td>1.00</td>\n      <td>Gold</td>\n      <td>Gold</td>\n      <td>2019-12-17 20:24:09</td>\n      <td>v0.1.0</td>\n    </tr>\n    <tr>\n      <th>4</th>\n      <td>190</td>\n      <td>apartment-building-registration</td>\n      <td>1</td>\n      <td>0.83</td>\n      <td>1.00</td>\n      <td>0.75</td>\n      <td>0.87</td>\n      <td>0.87</td>\n      <td>0.92</td>\n      <td>Gold</td>\n      <td>Gold</td>\n      <td>2019-12-17 20:24:09</td>\n      <td>v0.1.0</td>\n    </tr>\n  </tbody>\n</table>\n</div>"
          },
          "metadata": {}
        }
      ],
      "execution_count": 11,
      "metadata": {
        "collapsed": true,
        "jupyter": {
          "source_hidden": false,
          "outputs_hidden": false
        },
        "nteract": {
          "transient": {
            "deleting": false
          }
        },
        "gather": {
          "logged": 1617321576451
        }
      }
    },
    {
      "cell_type": "code",
      "source": [
        "type(data)"
      ],
      "outputs": [
        {
          "output_type": "execute_result",
          "execution_count": 12,
          "data": {
            "text/plain": "pandas.core.frame.DataFrame"
          },
          "metadata": {}
        }
      ],
      "execution_count": 12,
      "metadata": {
        "collapsed": true,
        "jupyter": {
          "source_hidden": false,
          "outputs_hidden": false
        },
        "nteract": {
          "transient": {
            "deleting": false
          }
        },
        "gather": {
          "logged": 1617321583325
        }
      }
    },
    {
      "cell_type": "code",
      "source": [
        "data.columns"
      ],
      "outputs": [
        {
          "output_type": "execute_result",
          "execution_count": 13,
          "data": {
            "text/plain": "Index(['_id', 'package', 'accessibility', 'completeness', 'freshness',\n       'metadata', 'usability', 'score', 'score_norm', 'grade', 'grade_norm',\n       'recorded_at', 'version'],\n      dtype='object')"
          },
          "metadata": {}
        }
      ],
      "execution_count": 13,
      "metadata": {
        "collapsed": true,
        "jupyter": {
          "source_hidden": false,
          "outputs_hidden": false
        },
        "nteract": {
          "transient": {
            "deleting": false
          }
        },
        "gather": {
          "logged": 1617321585829
        }
      }
    },
    {
      "cell_type": "markdown",
      "source": [
        "## Correlation between different variables"
      ],
      "metadata": {
        "nteract": {
          "transient": {
            "deleting": false
          }
        }
      }
    },
    {
      "cell_type": "code",
      "source": [
        "data.corr()"
      ],
      "outputs": [
        {
          "output_type": "execute_result",
          "execution_count": 14,
          "data": {
            "text/plain": "                _id  accessibility  completeness  freshness  metadata  \\\n_id            1.00            nan         -0.04       0.06      0.13   \naccessibility   nan            nan           nan        nan       nan   \ncompleteness  -0.04            nan          1.00       0.16      0.35   \nfreshness      0.06            nan          0.16       1.00      0.48   \nmetadata       0.13            nan          0.35       0.48      1.00   \nusability      0.01            nan          0.27      -0.13      0.11   \nscore          0.09            nan          0.41       0.81      0.82   \nscore_norm     0.09            nan          0.41       0.81      0.82   \n\n               usability  score  score_norm  \n_id                 0.01   0.09        0.09  \naccessibility        nan    nan         nan  \ncompleteness        0.27   0.41        0.41  \nfreshness          -0.13   0.81        0.81  \nmetadata            0.11   0.82        0.82  \nusability           1.00   0.28        0.28  \nscore               0.28   1.00        1.00  \nscore_norm          0.28   1.00        1.00  ",
            "text/html": "<div>\n<style scoped>\n    .dataframe tbody tr th:only-of-type {\n        vertical-align: middle;\n    }\n\n    .dataframe tbody tr th {\n        vertical-align: top;\n    }\n\n    .dataframe thead th {\n        text-align: right;\n    }\n</style>\n<table border=\"1\" class=\"dataframe\">\n  <thead>\n    <tr style=\"text-align: right;\">\n      <th></th>\n      <th>_id</th>\n      <th>accessibility</th>\n      <th>completeness</th>\n      <th>freshness</th>\n      <th>metadata</th>\n      <th>usability</th>\n      <th>score</th>\n      <th>score_norm</th>\n    </tr>\n  </thead>\n  <tbody>\n    <tr>\n      <th>_id</th>\n      <td>1.00</td>\n      <td>nan</td>\n      <td>-0.04</td>\n      <td>0.06</td>\n      <td>0.13</td>\n      <td>0.01</td>\n      <td>0.09</td>\n      <td>0.09</td>\n    </tr>\n    <tr>\n      <th>accessibility</th>\n      <td>nan</td>\n      <td>nan</td>\n      <td>nan</td>\n      <td>nan</td>\n      <td>nan</td>\n      <td>nan</td>\n      <td>nan</td>\n      <td>nan</td>\n    </tr>\n    <tr>\n      <th>completeness</th>\n      <td>-0.04</td>\n      <td>nan</td>\n      <td>1.00</td>\n      <td>0.16</td>\n      <td>0.35</td>\n      <td>0.27</td>\n      <td>0.41</td>\n      <td>0.41</td>\n    </tr>\n    <tr>\n      <th>freshness</th>\n      <td>0.06</td>\n      <td>nan</td>\n      <td>0.16</td>\n      <td>1.00</td>\n      <td>0.48</td>\n      <td>-0.13</td>\n      <td>0.81</td>\n      <td>0.81</td>\n    </tr>\n    <tr>\n      <th>metadata</th>\n      <td>0.13</td>\n      <td>nan</td>\n      <td>0.35</td>\n      <td>0.48</td>\n      <td>1.00</td>\n      <td>0.11</td>\n      <td>0.82</td>\n      <td>0.82</td>\n    </tr>\n    <tr>\n      <th>usability</th>\n      <td>0.01</td>\n      <td>nan</td>\n      <td>0.27</td>\n      <td>-0.13</td>\n      <td>0.11</td>\n      <td>1.00</td>\n      <td>0.28</td>\n      <td>0.28</td>\n    </tr>\n    <tr>\n      <th>score</th>\n      <td>0.09</td>\n      <td>nan</td>\n      <td>0.41</td>\n      <td>0.81</td>\n      <td>0.82</td>\n      <td>0.28</td>\n      <td>1.00</td>\n      <td>1.00</td>\n    </tr>\n    <tr>\n      <th>score_norm</th>\n      <td>0.09</td>\n      <td>nan</td>\n      <td>0.41</td>\n      <td>0.81</td>\n      <td>0.82</td>\n      <td>0.28</td>\n      <td>1.00</td>\n      <td>1.00</td>\n    </tr>\n  </tbody>\n</table>\n</div>"
          },
          "metadata": {}
        }
      ],
      "execution_count": 14,
      "metadata": {
        "collapsed": true,
        "jupyter": {
          "source_hidden": false,
          "outputs_hidden": false
        },
        "nteract": {
          "transient": {
            "deleting": false
          }
        },
        "gather": {
          "logged": 1617321590942
        }
      }
    },
    {
      "cell_type": "markdown",
      "source": [
        "## Transformation"
      ],
      "metadata": {
        "nteract": {
          "transient": {
            "deleting": false
          }
        }
      }
    },
    {
      "cell_type": "code",
      "source": [
        "import pandas as pd\r\n",
        "from sklearn.preprocessing import LabelEncoder\r\n",
        "\r\n",
        "data=data.drop(['package','recorded_at','version'], axis=1)\r\n",
        "\r\n",
        "#instantiate LabelEncoder\r\n",
        "le=LabelEncoder()\r\n",
        "\r\n",
        "#LabelEncode grade column of data\r\n",
        "data['grade']=le.fit_transform(data['grade'])\r\n",
        "data['grade_norm']=le.fit_transform(data['grade_norm'])\r\n",
        "\r\n",
        "#inspecting encoded df\r\n",
        "data.head()"
      ],
      "outputs": [
        {
          "output_type": "execute_result",
          "execution_count": 15,
          "data": {
            "text/plain": "   _id  accessibility  completeness  freshness  metadata  usability  score  \\\n0  186              1          0.69       0.50      0.84       0.86   0.78   \n1  187              1          1.00       0.00      0.25       0.85   0.54   \n2  188              1          0.98       1.00      0.25       0.69   0.66   \n3  189              1          0.96       1.00      0.75       0.94   0.91   \n4  190              1          0.83       1.00      0.75       0.87   0.87   \n\n   score_norm  grade  grade_norm  \n0        0.76      2           2  \n1        0.31      0           0  \n2        0.52      0           0  \n3        1.00      1           1  \n4        0.92      1           1  ",
            "text/html": "<div>\n<style scoped>\n    .dataframe tbody tr th:only-of-type {\n        vertical-align: middle;\n    }\n\n    .dataframe tbody tr th {\n        vertical-align: top;\n    }\n\n    .dataframe thead th {\n        text-align: right;\n    }\n</style>\n<table border=\"1\" class=\"dataframe\">\n  <thead>\n    <tr style=\"text-align: right;\">\n      <th></th>\n      <th>_id</th>\n      <th>accessibility</th>\n      <th>completeness</th>\n      <th>freshness</th>\n      <th>metadata</th>\n      <th>usability</th>\n      <th>score</th>\n      <th>score_norm</th>\n      <th>grade</th>\n      <th>grade_norm</th>\n    </tr>\n  </thead>\n  <tbody>\n    <tr>\n      <th>0</th>\n      <td>186</td>\n      <td>1</td>\n      <td>0.69</td>\n      <td>0.50</td>\n      <td>0.84</td>\n      <td>0.86</td>\n      <td>0.78</td>\n      <td>0.76</td>\n      <td>2</td>\n      <td>2</td>\n    </tr>\n    <tr>\n      <th>1</th>\n      <td>187</td>\n      <td>1</td>\n      <td>1.00</td>\n      <td>0.00</td>\n      <td>0.25</td>\n      <td>0.85</td>\n      <td>0.54</td>\n      <td>0.31</td>\n      <td>0</td>\n      <td>0</td>\n    </tr>\n    <tr>\n      <th>2</th>\n      <td>188</td>\n      <td>1</td>\n      <td>0.98</td>\n      <td>1.00</td>\n      <td>0.25</td>\n      <td>0.69</td>\n      <td>0.66</td>\n      <td>0.52</td>\n      <td>0</td>\n      <td>0</td>\n    </tr>\n    <tr>\n      <th>3</th>\n      <td>189</td>\n      <td>1</td>\n      <td>0.96</td>\n      <td>1.00</td>\n      <td>0.75</td>\n      <td>0.94</td>\n      <td>0.91</td>\n      <td>1.00</td>\n      <td>1</td>\n      <td>1</td>\n    </tr>\n    <tr>\n      <th>4</th>\n      <td>190</td>\n      <td>1</td>\n      <td>0.83</td>\n      <td>1.00</td>\n      <td>0.75</td>\n      <td>0.87</td>\n      <td>0.87</td>\n      <td>0.92</td>\n      <td>1</td>\n      <td>1</td>\n    </tr>\n  </tbody>\n</table>\n</div>"
          },
          "metadata": {}
        }
      ],
      "execution_count": 15,
      "metadata": {
        "collapsed": true,
        "jupyter": {
          "source_hidden": false,
          "outputs_hidden": false
        },
        "nteract": {
          "transient": {
            "deleting": false
          }
        },
        "gather": {
          "logged": 1617321595771
        }
      }
    },
    {
      "cell_type": "markdown",
      "source": [
        "## Defining variables"
      ],
      "metadata": {
        "nteract": {
          "transient": {
            "deleting": false
          }
        }
      }
    },
    {
      "cell_type": "code",
      "source": [
        "#independant variables\r\n",
        "X=pd.DataFrame(np.c_[data['grade'],data['completeness'],data['freshness'],data['metadata'],data['usability']],columns=['grade','completeness','freshness','metadata','usability'])\r\n",
        "#dependant variable\r\n",
        "y=data['score']"
      ],
      "outputs": [],
      "execution_count": 16,
      "metadata": {
        "collapsed": true,
        "jupyter": {
          "source_hidden": false,
          "outputs_hidden": false
        },
        "nteract": {
          "transient": {
            "deleting": false
          }
        },
        "gather": {
          "logged": 1617321603937
        }
      }
    },
    {
      "cell_type": "markdown",
      "source": [
        "## Import the class"
      ],
      "metadata": {
        "nteract": {
          "transient": {
            "deleting": false
          }
        }
      }
    },
    {
      "cell_type": "code",
      "source": [
        "from sklearn.model_selection import train_test_split\r\n",
        "import argparse\r\n",
        "X_train,X_test,y_train,y_test=train_test_split(X,y,test_size=0.2,random_state=42)"
      ],
      "outputs": [],
      "execution_count": 17,
      "metadata": {
        "collapsed": true,
        "jupyter": {
          "source_hidden": false,
          "outputs_hidden": false
        },
        "nteract": {
          "transient": {
            "deleting": false
          }
        },
        "gather": {
          "logged": 1617321606378
        }
      }
    },
    {
      "cell_type": "markdown",
      "source": [
        "## Model Fitting"
      ],
      "metadata": {
        "nteract": {
          "transient": {
            "deleting": false
          }
        }
      }
    },
    {
      "cell_type": "code",
      "source": [
        "from sklearn.linear_model import LinearRegression\r\n",
        "\r\n",
        "#instantiate\r\n",
        "linreg=LinearRegression()\r\n",
        "linreg.fit(X_train,y_train)"
      ],
      "outputs": [
        {
          "output_type": "execute_result",
          "execution_count": 18,
          "data": {
            "text/plain": "LinearRegression(copy_X=True, fit_intercept=True, n_jobs=None, normalize=False)"
          },
          "metadata": {}
        }
      ],
      "execution_count": 18,
      "metadata": {
        "collapsed": true,
        "jupyter": {
          "source_hidden": false,
          "outputs_hidden": false
        },
        "nteract": {
          "transient": {
            "deleting": false
          }
        },
        "gather": {
          "logged": 1617321609518
        }
      }
    },
    {
      "cell_type": "markdown",
      "source": [
        "## Model Training"
      ],
      "metadata": {
        "nteract": {
          "transient": {
            "deleting": false
          }
        }
      }
    },
    {
      "cell_type": "code",
      "source": [
        "print(linreg.intercept_)\r\n",
        "print(linreg.coef_)"
      ],
      "outputs": [
        {
          "output_type": "stream",
          "name": "stdout",
          "text": [
            "0.11379645481715972\n",
            "[0.00692953 0.05092957 0.1773736  0.22855186 0.39687087]\n"
          ]
        }
      ],
      "execution_count": 19,
      "metadata": {
        "collapsed": true,
        "jupyter": {
          "source_hidden": false,
          "outputs_hidden": false
        },
        "nteract": {
          "transient": {
            "deleting": false
          }
        },
        "gather": {
          "logged": 1617321613075
        }
      }
    },
    {
      "cell_type": "markdown",
      "source": [
        "## Model Prediction"
      ],
      "metadata": {
        "nteract": {
          "transient": {
            "deleting": false
          }
        }
      }
    },
    {
      "cell_type": "code",
      "source": [
        "y_pred=linreg.predict(X_test)\r\n",
        "y_pred"
      ],
      "outputs": [
        {
          "output_type": "execute_result",
          "execution_count": 20,
          "data": {
            "text/plain": "array([0.87024761, 0.8672801 , 0.68069894, ..., 0.55507848, 0.84780795,\n       0.57781788])"
          },
          "metadata": {}
        }
      ],
      "execution_count": 20,
      "metadata": {
        "collapsed": true,
        "jupyter": {
          "source_hidden": false,
          "outputs_hidden": false
        },
        "nteract": {
          "transient": {
            "deleting": false
          }
        },
        "gather": {
          "logged": 1617321621064
        }
      }
    },
    {
      "cell_type": "markdown",
      "source": [
        "## Model Accuracy (Root mean squared error)"
      ],
      "metadata": {
        "nteract": {
          "transient": {
            "deleting": false
          }
        }
      }
    },
    {
      "cell_type": "code",
      "source": [
        "from sklearn import metrics\r\n",
        "print(np.sqrt(metrics.mean_squared_error(y_test,y_pred)))"
      ],
      "outputs": [
        {
          "output_type": "stream",
          "name": "stdout",
          "text": [
            "0.014473932939290456\n"
          ]
        }
      ],
      "execution_count": 21,
      "metadata": {
        "collapsed": true,
        "jupyter": {
          "source_hidden": false,
          "outputs_hidden": false
        },
        "nteract": {
          "transient": {
            "deleting": false
          }
        },
        "gather": {
          "logged": 1617321626439
        }
      }
    },
    {
      "cell_type": "markdown",
      "source": [
        "## "
      ],
      "metadata": {
        "nteract": {
          "transient": {
            "deleting": false
          }
        }
      }
    },
    {
      "cell_type": "markdown",
      "source": [
        "## Visualizations"
      ],
      "metadata": {
        "nteract": {
          "transient": {
            "deleting": false
          }
        }
      }
    },
    {
      "cell_type": "code",
      "source": [
        "import matplotlib.pyplot as plt\r\n",
        "%matplotlib inline"
      ],
      "outputs": [],
      "execution_count": 22,
      "metadata": {
        "collapsed": true,
        "jupyter": {
          "source_hidden": false,
          "outputs_hidden": false
        },
        "nteract": {
          "transient": {
            "deleting": false
          }
        },
        "gather": {
          "logged": 1617321632291
        }
      }
    },
    {
      "cell_type": "code",
      "source": [
        "plt.scatter(data['grade'],data['score'])\r\n",
        "plt.xlabel('Grade of the dataset')\r\n",
        "plt.ylabel('Overall Score of the dataset')\r\n",
        "plt.show()\r\n",
        "plt.scatter(data['freshness'],data['score'])\r\n",
        "plt.xlabel('Freshness of the dataset')\r\n",
        "plt.ylabel('Overall Score of the dataset')\r\n",
        "plt.show()\r\n",
        "plt.scatter(data['usability'],data['score'])\r\n",
        "plt.xlabel('Usability of the dataset')\r\n",
        "plt.ylabel('Overall Score of the dataset')\r\n",
        "plt.show()\r\n",
        "plt.scatter(data['completeness'],data['score'])\r\n",
        "plt.xlabel('Completeness of the dataset')\r\n",
        "plt.ylabel('Overall Score of the dataset')\r\n",
        "plt.show()\r\n",
        "plt.scatter(data['metadata'],data['score'])\r\n",
        "plt.xlabel('Metadata score of the dataset')\r\n",
        "plt.ylabel('Overall Score of the dataset')\r\n",
        "plt.show()"
      ],
      "outputs": [
        {
          "output_type": "display_data",
          "data": {
            "text/plain": "<Figure size 432x288 with 1 Axes>",
            "image/png": "[encoded data removed]"
          },
          "metadata": {
            "needs_background": "light"
          }
        },
        {
          "output_type": "display_data",
          "data": {
            "text/plain": "<Figure size 432x288 with 1 Axes>",
            "image/png": "[encoded data removed]"
          },
          "metadata": {
            "needs_background": "light"
          }
        },
        {
          "output_type": "display_data",
          "data": {
            "text/plain": "<Figure size 432x288 with 1 Axes>",
            "image/png": "[encoded data removed]"
          },
          "metadata": {
            "needs_background": "light"
          }
        },
        {
          "output_type": "display_data",
          "data": {
            "text/plain": "<Figure size 432x288 with 1 Axes>",
            "image/png": "[encoded data removed]"
          },
          "metadata": {
            "needs_background": "light"
          }
        },
        {
          "output_type": "display_data",
          "data": {
            "text/plain": "<Figure size 432x288 with 1 Axes>",
            "image/png": "[encoded data removed]"
          },
          "metadata": {
            "needs_background": "light"
          }
        }
      ],
      "execution_count": 23,
      "metadata": {
        "collapsed": true,
        "jupyter": {
          "source_hidden": false,
          "outputs_hidden": false
        },
        "nteract": {
          "transient": {
            "deleting": false
          }
        },
        "gather": {
          "logged": 1617321635110
        }
      }
    }
  ],
  "metadata": {
    "kernelspec": {
      "name": "python3-azureml",
      "language": "python",
      "display_name": "Python 3.6 - AzureML"
    },
    "language_info": {
      "name": "python",
      "version": "3.6.9",
      "mimetype": "text/x-python",
      "codemirror_mode": {
        "name": "ipython",
        "version": 3
      },
      "pygments_lexer": "ipython3",
      "nbconvert_exporter": "python",
      "file_extension": ".py"
    },
    "kernel_info": {
      "name": "python3-azureml"
    },
    "nteract": {
      "version": "nteract-front-end@1.0.0"
    },
    "microsoft": {
      "host": {
        "AzureML": {
          "notebookHasBeenCompleted": true
        }
      }
    }
  },
  "nbformat": 4,
  "nbformat_minor": 2
}