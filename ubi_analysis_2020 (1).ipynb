{
  "cells": [
    {
      "cell_type": "markdown",
      "source": [
        "## Importing dependencies"
      ],
      "metadata": {
        "nteract": {
          "transient": {
            "deleting": false
          }
        }
      }
    },
    {
      "cell_type": "code",
      "source": [
        "import os\r\n",
        "import joblib\r\n",
        "from azureml.core import Workspace, Experiment\r\n",
        "from azureml.data.dataset_factory import TabularDatasetFactory\r\n",
        "from azureml.core.compute import ComputeTarget, AmlCompute\r\n",
        "from azureml.train.automl import AutoMLConfig\r\n",
        "\r\n",
        "from matplotlib import pyplot as plt\r\n",
        "import numpy as np\r\n",
        "import pandas as pd\r\n"
      ],
      "outputs": [],
      "execution_count": 1,
      "metadata": {
        "collapsed": true,
        "jupyter": {
          "source_hidden": false,
          "outputs_hidden": false
        },
        "nteract": {
          "transient": {
            "deleting": false
          }
        },
        "gather": {
          "logged": 1617044015742
        }
      }
    },
    {
      "cell_type": "markdown",
      "source": [
        "## Initialize workspace"
      ],
      "metadata": {
        "nteract": {
          "transient": {
            "deleting": false
          }
        }
      }
    },
    {
      "cell_type": "code",
      "source": [
        "ws = Workspace.from_config()\r\n",
        "print(ws.name, ws.resource_group, ws.location, ws.subscription_id, sep = '\\n')"
      ],
      "outputs": [
        {
          "output_type": "stream",
          "name": "stdout",
          "text": [
            "Performing interactive authentication. Please follow the instructions on the terminal.\n",
            "To sign in, use a web browser to open the page https://microsoft.com/devicelogin and enter the code ED4FP5FXN to authenticate.\n",
            "You have logged in. Now let us find all the subscriptions to which you have access...\n",
            "Interactive authentication successfully completed.\n",
            "quick-starts-ws-141597\n",
            "aml-quickstarts-141597\n",
            "southcentralus\n",
            "3d1a56d2-7c81-4118-9790-f85d1acf0c77\n"
          ]
        }
      ],
      "execution_count": 2,
      "metadata": {
        "collapsed": true,
        "jupyter": {
          "source_hidden": false,
          "outputs_hidden": false
        },
        "nteract": {
          "transient": {
            "deleting": false
          }
        },
        "gather": {
          "logged": 1617044046989
        }
      }
    },
    {
      "cell_type": "markdown",
      "source": [
        "## Auto ML Experiment"
      ],
      "metadata": {
        "nteract": {
          "transient": {
            "deleting": false
          }
        }
      }
    },
    {
      "cell_type": "code",
      "source": [
        "# Choose a name for the run history container in the workspace.\r\n",
        "# NOTE: update these to match your existing experiment name\r\n",
        "experiment_name = 'data_quality_analysis'\r\n",
        "project_folder = './catalogue-scorecard-project'\r\n",
        "\r\n",
        "experiment = Experiment(ws, experiment_name)\r\n",
        "experiment"
      ],
      "outputs": [
        {
          "output_type": "execute_result",
          "execution_count": 3,
          "data": {
            "text/plain": "Experiment(Name: data_quality_analysis,\nWorkspace: quick-starts-ws-141597)",
            "text/html": "<table style=\"width:100%\"><tr><th>Name</th><th>Workspace</th><th>Report Page</th><th>Docs Page</th></tr><tr><td>data_quality_analysis</td><td>quick-starts-ws-141597</td><td><a href=\"https://ml.azure.com/experiments/data_quality_analysis?wsid=/subscriptions/3d1a56d2-7c81-4118-9790-f85d1acf0c77/resourcegroups/aml-quickstarts-141597/workspaces/quick-starts-ws-141597\" target=\"_blank\" rel=\"noopener\">Link to Azure Machine Learning studio</a></td><td><a href=\"https://docs.microsoft.com/en-us/python/api/azureml-core/azureml.core.experiment.Experiment?view=azure-ml-py\" target=\"_blank\" rel=\"noopener\">Link to Documentation</a></td></tr></table>"
          },
          "metadata": {}
        }
      ],
      "execution_count": 3,
      "metadata": {
        "collapsed": true,
        "jupyter": {
          "source_hidden": false,
          "outputs_hidden": false
        },
        "nteract": {
          "transient": {
            "deleting": false
          }
        },
        "gather": {
          "logged": 1617044054910
        }
      }
    },
    {
      "cell_type": "markdown",
      "source": [
        "## Create an AmlCompute cluster"
      ],
      "metadata": {
        "nteract": {
          "transient": {
            "deleting": false
          }
        }
      }
    },
    {
      "cell_type": "code",
      "source": [
        "from azureml.core.compute import AmlCompute\r\n",
        "from azureml.core.compute import ComputeTarget\r\n",
        "from azureml.core.compute_target import ComputeTargetException\r\n",
        "\r\n",
        "# Choose a name for your CPU cluster\r\n",
        "amlcompute_cluster_name = \"comp\"\r\n",
        "\r\n",
        "# Verify that cluster does not exist already\r\n",
        "try:\r\n",
        "    compute_target = ComputeTarget(workspace=ws, name=amlcompute_cluster_name)\r\n",
        "    print('Found existing cluster, use it.')\r\n",
        "except ComputeTargetException:\r\n",
        "    compute_config = AmlCompute.provisioning_configuration(vm_size='STANDARD_DS3_v2',#for GPU, use \"STANDARD_NC6\"\r\n",
        "                                                           #vm_priority = 'lowpriority', # optional\r\n",
        "                                                           max_nodes=4)\r\n",
        "    compute_target = ComputeTarget.create(ws, amlcompute_cluster_name, compute_config)\r\n",
        "\r\n",
        "compute_target.wait_for_completion(show_output=True)"
      ],
      "outputs": [
        {
          "output_type": "stream",
          "name": "stdout",
          "text": [
            "Found existing cluster, use it.\n",
            "\n",
            "Running\n"
          ]
        }
      ],
      "execution_count": 4,
      "metadata": {
        "collapsed": true,
        "jupyter": {
          "source_hidden": false,
          "outputs_hidden": false
        },
        "nteract": {
          "transient": {
            "deleting": false
          }
        },
        "gather": {
          "logged": 1617044066140
        }
      }
    },
    {
      "cell_type": "markdown",
      "source": [
        "## Data import"
      ],
      "metadata": {
        "nteract": {
          "transient": {
            "deleting": false
          }
        }
      }
    },
    {
      "cell_type": "code",
      "source": [
        "import pandas as pd\r\n",
        "\r\n",
        "auto_ds_path=\"https://raw.githubusercontent.com/shatakshipachori/data_quality_analysis/main/catalogue-scorecard.csv\"\r\n",
        "ds=TabularDatasetFactory.from_delimited_files(path=auto_ds_path)\r\n"
      ],
      "outputs": [],
      "execution_count": 5,
      "metadata": {
        "collapsed": true,
        "jupyter": {
          "source_hidden": false,
          "outputs_hidden": false
        },
        "nteract": {
          "transient": {
            "deleting": false
          }
        },
        "gather": {
          "logged": 1617044593187
        }
      }
    },
    {
      "cell_type": "markdown",
      "source": [
        "## AutoML Configuration"
      ],
      "metadata": {
        "nteract": {
          "transient": {
            "deleting": false
          }
        }
      }
    },
    {
      "cell_type": "code",
      "source": [
        "import logging\r\n",
        "import time\r\n",
        "\r\n",
        "# TODO: Put your automl settings here\r\n",
        "automl_settings = {\r\n",
        "    \"n_cross_validations\":2,\r\n",
        "    \"primary_metric\":'normalized_root_mean_squared_error',\r\n",
        "    \"enable_early_stopping\":True,\r\n",
        "    \"experiment_timeout_minutes\":15,\r\n",
        "    \"max_concurrent_iterations\":5,\r\n",
        "   }\r\n",
        "\r\n",
        "# TODO: Put your automl config here\r\n",
        "automl_config = AutoMLConfig(\r\n",
        "    task='regression',\r\n",
        "    compute_target='comp',\r\n",
        "    training_data=ds,\r\n",
        "    label_column_name='score',\r\n",
        "    **automl_settings\r\n",
        "    )"
      ],
      "outputs": [],
      "execution_count": 6,
      "metadata": {
        "collapsed": true,
        "jupyter": {
          "source_hidden": false,
          "outputs_hidden": false
        },
        "nteract": {
          "transient": {
            "deleting": false
          }
        },
        "gather": {
          "logged": 1617044608127
        }
      }
    },
    {
      "cell_type": "markdown",
      "source": [
        "## Submit the experiment"
      ],
      "metadata": {
        "nteract": {
          "transient": {
            "deleting": false
          }
        }
      }
    },
    {
      "cell_type": "code",
      "source": [
        "automl_run=experiment.submit(config=automl_config,show_output=True)"
      ],
      "outputs": [
        {
          "output_type": "stream",
          "name": "stdout",
          "text": [
            "Running on remote.\n",
            "No run_configuration provided, running on comp with default configuration\n",
            "Running on remote compute: comp\n",
            "Parent Run ID: AutoML_aa54d0b1-9cc7-4363-b8af-d7ce9e6d9c5f\n",
            "\n",
            "Current status: FeaturesGeneration. Generating features for the dataset.\n",
            "Current status: DatasetFeaturization. Beginning to fit featurizers and featurize the dataset.\n",
            "Current status: DatasetCrossValidationSplit. Generating individually featurized CV splits.\n",
            "Current status: ModelSelection. Beginning model selection.\n",
            "\n",
            "****************************************************************************************************\n",
            "DATA GUARDRAILS: \n",
            "\n",
            "TYPE:         Missing feature values imputation\n",
            "STATUS:       PASSED\n",
            "DESCRIPTION:  No feature missing values were detected in the training data.\n",
            "              Learn more about missing value imputation: https://aka.ms/AutomatedMLFeaturization\n",
            "\n",
            "****************************************************************************************************\n",
            "\n",
            "TYPE:         High cardinality feature detection\n",
            "STATUS:       PASSED\n",
            "DESCRIPTION:  Your inputs were analyzed, and no high cardinality features were detected.\n",
            "              Learn more about high cardinality feature handling: https://aka.ms/AutomatedMLFeaturization\n",
            "\n",
            "****************************************************************************************************\n",
            "\n",
            "****************************************************************************************************\n",
            "ITERATION: The iteration being evaluated.\n",
            "PIPELINE: A summary description of the pipeline being evaluated.\n",
            "DURATION: Time taken for the current iteration.\n",
            "METRIC: The result of computing score on the fitted pipeline.\n",
            "BEST: The best observed score thus far.\n",
            "****************************************************************************************************\n",
            "\n",
            " ITERATION   PIPELINE                                       DURATION      METRIC      BEST\n",
            "         2   StandardScalerWrapper ElasticNet               0:00:44       0.0685    0.0685\n",
            "         3   MaxAbsScaler DecisionTree                      0:00:41       0.0176    0.0176\n",
            "         0   MaxAbsScaler LightGBM                          0:00:49       0.0021    0.0021\n",
            "         1   MaxAbsScaler XGBoostRegressor                  0:00:51       0.0043    0.0021\n",
            "         4   MaxAbsScaler ElasticNet                        0:00:46       0.0126    0.0021\n",
            "         6   MaxAbsScaler DecisionTree                      0:00:42       0.0058    0.0021\n",
            "         7   MaxAbsScaler DecisionTree                      0:00:41       0.0101    0.0021\n",
            "         8   MaxAbsScaler DecisionTree                      0:00:44       0.0156    0.0021\n",
            "         5   MaxAbsScaler DecisionTree                      0:00:48       0.0093    0.0021\n",
            "        11   MaxAbsScaler DecisionTree                      0:00:36       0.0070    0.0021\n",
            "        12   MaxAbsScaler DecisionTree                      0:00:40       0.0208    0.0021\n",
            "         9   MaxAbsScaler DecisionTree                      0:01:10       0.0080    0.0021\n",
            "        10   MaxAbsScaler DecisionTree                      0:00:42       0.0133    0.0021\n",
            "        13   StandardScalerWrapper DecisionTree             0:00:42       0.0115    0.0021\n",
            "        15   MaxAbsScaler DecisionTree                      0:00:38       0.0266    0.0021\n",
            "        14   MaxAbsScaler DecisionTree                      0:00:37       0.0193    0.0021\n",
            "        16   MaxAbsScaler SGD                               0:00:38       0.0755    0.0021\n",
            "        17   MaxAbsScaler DecisionTree                      0:00:43       0.0051    0.0021\n",
            "        18   MaxAbsScaler DecisionTree                      0:00:41       0.0224    0.0021\n",
            "        19   MaxAbsScaler DecisionTree                      0:00:56       0.0193    0.0021\n",
            "        20   MaxAbsScaler SGD                               0:00:51       0.0211    0.0021\n",
            "        22   MaxAbsScaler DecisionTree                      0:00:56       0.0134    0.0021\n",
            "        23   MaxAbsScaler DecisionTree                      0:00:52       0.0072    0.0021\n",
            "        21   MaxAbsScaler DecisionTree                      0:01:01       0.0101    0.0021\n",
            "        24   MaxAbsScaler DecisionTree                      0:00:41       0.0067    0.0021\n",
            "        25   MaxAbsScaler LightGBM                          0:00:58       0.0508    0.0021\n",
            "        26   MaxAbsScaler DecisionTree                      0:00:57       0.0188    0.0021\n",
            "        27   MaxAbsScaler DecisionTree                      0:01:01       0.0111    0.0021\n",
            "        28   MaxAbsScaler DecisionTree                      0:00:57       0.0073    0.0021\n",
            "        29   MaxAbsScaler DecisionTree                      0:00:57       0.0067    0.0021\n",
            "        30   MaxAbsScaler LightGBM                          0:00:45       0.0497    0.0021\n",
            "        31   MaxAbsScaler DecisionTree                      0:00:48       0.0130    0.0021\n",
            "        32   MaxAbsScaler DecisionTree                      0:00:49       0.0104    0.0021\n",
            "        34   MaxAbsScaler DecisionTree                      0:00:49       0.0093    0.0021\n",
            "        33   MaxAbsScaler DecisionTree                      0:00:51       0.0076    0.0021\n",
            "        35                                                  0:00:20          nan    0.0021\n",
            "        36    VotingEnsemble                                0:01:02       0.0021    0.0021\n",
            "        37    StackEnsemble                                 0:01:12       0.0021    0.0021\n"
          ]
        }
      ],
      "execution_count": 8,
      "metadata": {
        "collapsed": true,
        "jupyter": {
          "source_hidden": false,
          "outputs_hidden": false
        },
        "nteract": {
          "transient": {
            "deleting": false
          }
        },
        "gather": {
          "logged": 1617045613645
        }
      }
    },
    {
      "cell_type": "markdown",
      "source": [
        "## Run Details"
      ],
      "metadata": {
        "nteract": {
          "transient": {
            "deleting": false
          }
        }
      }
    },
    {
      "cell_type": "code",
      "source": [
        "from azureml.widgets import RunDetails\r\n",
        "RunDetails(automl_run).show()\r\n",
        "automl_run.wait_for_completion(show_output=True)"
      ],
      "outputs": [
        {
          "output_type": "display_data",
          "data": {
            "text/plain": "_AutoMLWidget(widget_settings={'childWidgetDisplay': 'popup', 'send_telemetry': False, 'log_level': 'INFO', 's…",
            "application/vnd.jupyter.widget-view+json": {
              "version_major": 2,
              "version_minor": 0,
              "model_id": "fd639c8ee3084e39ae6d9113eb4dd212"
            }
          },
          "metadata": {}
        },
        {
          "output_type": "display_data",
          "data": {
            "application/aml.mini.widget.v1": "{\"status\": \"Completed\", \"workbench_run_details_uri\": \"https://ml.azure.com/experiments/data_quality_analysis/runs/AutoML_aa54d0b1-9cc7-4363-b8af-d7ce9e6d9c5f?wsid=/subscriptions/3d1a56d2-7c81-4118-9790-f85d1acf0c77/resourcegroups/aml-quickstarts-141597/workspaces/quick-starts-ws-141597\", \"run_id\": \"AutoML_aa54d0b1-9cc7-4363-b8af-d7ce9e6d9c5f\", \"run_properties\": {\"run_id\": \"AutoML_aa54d0b1-9cc7-4363-b8af-d7ce9e6d9c5f\", \"created_utc\": \"2021-03-29T19:04:29.682981Z\", \"properties\": {\"num_iterations\": \"1000\", \"training_type\": \"TrainFull\", \"acquisition_function\": \"EI\", \"primary_metric\": \"normalized_root_mean_squared_error\", \"train_split\": \"0\", \"acquisition_parameter\": \"0\", \"num_cross_validation\": \"2\", \"target\": \"comp\", \"AMLSettingsJsonString\": \"{\\\"path\\\":null,\\\"name\\\":\\\"data_quality_analysis\\\",\\\"subscription_id\\\":\\\"3d1a56d2-7c81-4118-9790-f85d1acf0c77\\\",\\\"resource_group\\\":\\\"aml-quickstarts-141597\\\",\\\"workspace_name\\\":\\\"quick-starts-ws-141597\\\",\\\"region\\\":\\\"southcentralus\\\",\\\"compute_target\\\":\\\"comp\\\",\\\"spark_service\\\":null,\\\"azure_service\\\":\\\"remote\\\",\\\"many_models\\\":false,\\\"pipeline_fetch_max_batch_size\\\":1,\\\"enable_batch_run\\\":false,\\\"iterations\\\":1000,\\\"primary_metric\\\":\\\"normalized_root_mean_squared_error\\\",\\\"task_type\\\":\\\"regression\\\",\\\"data_script\\\":null,\\\"validation_size\\\":0.0,\\\"n_cross_validations\\\":2,\\\"y_min\\\":null,\\\"y_max\\\":null,\\\"num_classes\\\":null,\\\"featurization\\\":\\\"auto\\\",\\\"_ignore_package_version_incompatibilities\\\":false,\\\"is_timeseries\\\":false,\\\"max_cores_per_iteration\\\":1,\\\"max_concurrent_iterations\\\":5,\\\"iteration_timeout_minutes\\\":null,\\\"mem_in_mb\\\":null,\\\"enforce_time_on_windows\\\":false,\\\"experiment_timeout_minutes\\\":15,\\\"experiment_exit_score\\\":null,\\\"whitelist_models\\\":null,\\\"blacklist_algos\\\":[\\\"TensorFlowDNN\\\",\\\"TensorFlowLinearRegressor\\\"],\\\"supported_models\\\":[\\\"ExtremeRandomTrees\\\",\\\"RandomForest\\\",\\\"ElasticNet\\\",\\\"TensorFlowDNN\\\",\\\"LassoLars\\\",\\\"SGD\\\",\\\"GradientBoosting\\\",\\\"XGBoostRegressor\\\",\\\"TensorFlowLinearRegressor\\\",\\\"OnlineGradientDescentRegressor\\\",\\\"KNN\\\",\\\"FastLinearRegressor\\\",\\\"DecisionTree\\\",\\\"LightGBM\\\"],\\\"private_models\\\":[],\\\"auto_blacklist\\\":true,\\\"blacklist_samples_reached\\\":false,\\\"exclude_nan_labels\\\":true,\\\"verbosity\\\":20,\\\"_debug_log\\\":\\\"azureml_automl.log\\\",\\\"show_warnings\\\":false,\\\"model_explainability\\\":true,\\\"service_url\\\":null,\\\"sdk_url\\\":null,\\\"sdk_packages\\\":null,\\\"enable_onnx_compatible_models\\\":false,\\\"enable_split_onnx_featurizer_estimator_models\\\":false,\\\"vm_type\\\":\\\"STANDARD_DS3_V2\\\",\\\"telemetry_verbosity\\\":20,\\\"send_telemetry\\\":true,\\\"enable_dnn\\\":false,\\\"scenario\\\":\\\"SDK-1.13.0\\\",\\\"environment_label\\\":null,\\\"save_mlflow\\\":false,\\\"force_text_dnn\\\":false,\\\"enable_feature_sweeping\\\":true,\\\"enable_early_stopping\\\":true,\\\"early_stopping_n_iters\\\":10,\\\"metrics\\\":null,\\\"enable_metric_confidence\\\":false,\\\"enable_ensembling\\\":true,\\\"enable_stack_ensembling\\\":true,\\\"ensemble_iterations\\\":15,\\\"enable_tf\\\":false,\\\"enable_subsampling\\\":null,\\\"subsample_seed\\\":null,\\\"enable_nimbusml\\\":false,\\\"enable_streaming\\\":false,\\\"force_streaming\\\":false,\\\"track_child_runs\\\":true,\\\"allowed_private_models\\\":[],\\\"label_column_name\\\":\\\"score\\\",\\\"weight_column_name\\\":null,\\\"cv_split_column_names\\\":null,\\\"enable_local_managed\\\":false,\\\"_local_managed_run_id\\\":null,\\\"cost_mode\\\":1,\\\"lag_length\\\":0,\\\"metric_operation\\\":\\\"minimize\\\",\\\"preprocess\\\":true}\", \"DataPrepJsonString\": \"{\\\\\\\"training_data\\\\\\\": \\\\\\\"{\\\\\\\\\\\\\\\"blocks\\\\\\\\\\\\\\\": [{\\\\\\\\\\\\\\\"id\\\\\\\\\\\\\\\": \\\\\\\\\\\\\\\"8c01d2e6-e8ba-4b3e-af4f-65380ef83898\\\\\\\\\\\\\\\", \\\\\\\\\\\\\\\"type\\\\\\\\\\\\\\\": \\\\\\\\\\\\\\\"Microsoft.DPrep.GetFilesBlock\\\\\\\\\\\\\\\", \\\\\\\\\\\\\\\"arguments\\\\\\\\\\\\\\\": {\\\\\\\\\\\\\\\"isArchive\\\\\\\\\\\\\\\": false, \\\\\\\\\\\\\\\"path\\\\\\\\\\\\\\\": {\\\\\\\\\\\\\\\"target\\\\\\\\\\\\\\\": 4, \\\\\\\\\\\\\\\"resourceDetails\\\\\\\\\\\\\\\": [{\\\\\\\\\\\\\\\"path\\\\\\\\\\\\\\\": \\\\\\\\\\\\\\\"https://raw.githubusercontent.com/shatakshipachori/data_quality_analysis/main/catalogue-scorecard.csv\\\\\\\\\\\\\\\"}]}}, \\\\\\\\\\\\\\\"localData\\\\\\\\\\\\\\\": {}, \\\\\\\\\\\\\\\"isEnabled\\\\\\\\\\\\\\\": true, \\\\\\\\\\\\\\\"name\\\\\\\\\\\\\\\": null, \\\\\\\\\\\\\\\"annotation\\\\\\\\\\\\\\\": null}, {\\\\\\\\\\\\\\\"id\\\\\\\\\\\\\\\": \\\\\\\\\\\\\\\"c4602e17-fcf5-4a66-9421-0f3dd62dd6d6\\\\\\\\\\\\\\\", \\\\\\\\\\\\\\\"type\\\\\\\\\\\\\\\": \\\\\\\\\\\\\\\"Microsoft.DPrep.ParseDelimitedBlock\\\\\\\\\\\\\\\", \\\\\\\\\\\\\\\"arguments\\\\\\\\\\\\\\\": {\\\\\\\\\\\\\\\"columnHeadersMode\\\\\\\\\\\\\\\": 3, \\\\\\\\\\\\\\\"fileEncoding\\\\\\\\\\\\\\\": 0, \\\\\\\\\\\\\\\"handleQuotedLineBreaks\\\\\\\\\\\\\\\": false, \\\\\\\\\\\\\\\"preview\\\\\\\\\\\\\\\": false, \\\\\\\\\\\\\\\"separator\\\\\\\\\\\\\\\": \\\\\\\\\\\\\\\",\\\\\\\\\\\\\\\", \\\\\\\\\\\\\\\"skipRows\\\\\\\\\\\\\\\": 0, \\\\\\\\\\\\\\\"skipRowsMode\\\\\\\\\\\\\\\": 0}, \\\\\\\\\\\\\\\"localData\\\\\\\\\\\\\\\": {}, \\\\\\\\\\\\\\\"isEnabled\\\\\\\\\\\\\\\": true, \\\\\\\\\\\\\\\"name\\\\\\\\\\\\\\\": null, \\\\\\\\\\\\\\\"annotation\\\\\\\\\\\\\\\": null}, {\\\\\\\\\\\\\\\"id\\\\\\\\\\\\\\\": \\\\\\\\\\\\\\\"e7428db4-e287-4106-91cb-564cedc18823\\\\\\\\\\\\\\\", \\\\\\\\\\\\\\\"type\\\\\\\\\\\\\\\": \\\\\\\\\\\\\\\"Microsoft.DPrep.DropColumnsBlock\\\\\\\\\\\\\\\", \\\\\\\\\\\\\\\"arguments\\\\\\\\\\\\\\\": {\\\\\\\\\\\\\\\"columns\\\\\\\\\\\\\\\": {\\\\\\\\\\\\\\\"type\\\\\\\\\\\\\\\": 0, \\\\\\\\\\\\\\\"details\\\\\\\\\\\\\\\": {\\\\\\\\\\\\\\\"selectedColumns\\\\\\\\\\\\\\\": [\\\\\\\\\\\\\\\"Path\\\\\\\\\\\\\\\"]}}}, \\\\\\\\\\\\\\\"localData\\\\\\\\\\\\\\\": {}, \\\\\\\\\\\\\\\"isEnabled\\\\\\\\\\\\\\\": true, \\\\\\\\\\\\\\\"name\\\\\\\\\\\\\\\": null, \\\\\\\\\\\\\\\"annotation\\\\\\\\\\\\\\\": null}, {\\\\\\\\\\\\\\\"id\\\\\\\\\\\\\\\": \\\\\\\\\\\\\\\"7806b35a-a698-495a-b558-8841b0b48ba2\\\\\\\\\\\\\\\", \\\\\\\\\\\\\\\"type\\\\\\\\\\\\\\\": \\\\\\\\\\\\\\\"Microsoft.DPrep.SetColumnTypesBlock\\\\\\\\\\\\\\\", \\\\\\\\\\\\\\\"arguments\\\\\\\\\\\\\\\": {\\\\\\\\\\\\\\\"columnConversion\\\\\\\\\\\\\\\": [{\\\\\\\\\\\\\\\"column\\\\\\\\\\\\\\\": {\\\\\\\\\\\\\\\"type\\\\\\\\\\\\\\\": 2, \\\\\\\\\\\\\\\"details\\\\\\\\\\\\\\\": {\\\\\\\\\\\\\\\"selectedColumn\\\\\\\\\\\\\\\": \\\\\\\\\\\\\\\"_id\\\\\\\\\\\\\\\"}}, \\\\\\\\\\\\\\\"typeProperty\\\\\\\\\\\\\\\": 2}, {\\\\\\\\\\\\\\\"column\\\\\\\\\\\\\\\": {\\\\\\\\\\\\\\\"type\\\\\\\\\\\\\\\": 2, \\\\\\\\\\\\\\\"details\\\\\\\\\\\\\\\": {\\\\\\\\\\\\\\\"selectedColumn\\\\\\\\\\\\\\\": \\\\\\\\\\\\\\\"package\\\\\\\\\\\\\\\"}}, \\\\\\\\\\\\\\\"typeProperty\\\\\\\\\\\\\\\": 0}, {\\\\\\\\\\\\\\\"column\\\\\\\\\\\\\\\": {\\\\\\\\\\\\\\\"type\\\\\\\\\\\\\\\": 2, \\\\\\\\\\\\\\\"details\\\\\\\\\\\\\\\": {\\\\\\\\\\\\\\\"selectedColumn\\\\\\\\\\\\\\\": \\\\\\\\\\\\\\\"accessibility\\\\\\\\\\\\\\\"}}, \\\\\\\\\\\\\\\"typeProperty\\\\\\\\\\\\\\\": 2}, {\\\\\\\\\\\\\\\"column\\\\\\\\\\\\\\\": {\\\\\\\\\\\\\\\"type\\\\\\\\\\\\\\\": 2, \\\\\\\\\\\\\\\"details\\\\\\\\\\\\\\\": {\\\\\\\\\\\\\\\"selectedColumn\\\\\\\\\\\\\\\": \\\\\\\\\\\\\\\"completeness\\\\\\\\\\\\\\\"}}, \\\\\\\\\\\\\\\"typeProperty\\\\\\\\\\\\\\\": 3}, {\\\\\\\\\\\\\\\"column\\\\\\\\\\\\\\\": {\\\\\\\\\\\\\\\"type\\\\\\\\\\\\\\\": 2, \\\\\\\\\\\\\\\"details\\\\\\\\\\\\\\\": {\\\\\\\\\\\\\\\"selectedColumn\\\\\\\\\\\\\\\": \\\\\\\\\\\\\\\"freshness\\\\\\\\\\\\\\\"}}, \\\\\\\\\\\\\\\"typeProperty\\\\\\\\\\\\\\\": 3}, {\\\\\\\\\\\\\\\"column\\\\\\\\\\\\\\\": {\\\\\\\\\\\\\\\"type\\\\\\\\\\\\\\\": 2, \\\\\\\\\\\\\\\"details\\\\\\\\\\\\\\\": {\\\\\\\\\\\\\\\"selectedColumn\\\\\\\\\\\\\\\": \\\\\\\\\\\\\\\"metadata\\\\\\\\\\\\\\\"}}, \\\\\\\\\\\\\\\"typeProperty\\\\\\\\\\\\\\\": 3}, {\\\\\\\\\\\\\\\"column\\\\\\\\\\\\\\\": {\\\\\\\\\\\\\\\"type\\\\\\\\\\\\\\\": 2, \\\\\\\\\\\\\\\"details\\\\\\\\\\\\\\\": {\\\\\\\\\\\\\\\"selectedColumn\\\\\\\\\\\\\\\": \\\\\\\\\\\\\\\"usability\\\\\\\\\\\\\\\"}}, \\\\\\\\\\\\\\\"typeProperty\\\\\\\\\\\\\\\": 3}, {\\\\\\\\\\\\\\\"column\\\\\\\\\\\\\\\": {\\\\\\\\\\\\\\\"type\\\\\\\\\\\\\\\": 2, \\\\\\\\\\\\\\\"details\\\\\\\\\\\\\\\": {\\\\\\\\\\\\\\\"selectedColumn\\\\\\\\\\\\\\\": \\\\\\\\\\\\\\\"score\\\\\\\\\\\\\\\"}}, \\\\\\\\\\\\\\\"typeProperty\\\\\\\\\\\\\\\": 3}, {\\\\\\\\\\\\\\\"column\\\\\\\\\\\\\\\": {\\\\\\\\\\\\\\\"type\\\\\\\\\\\\\\\": 2, \\\\\\\\\\\\\\\"details\\\\\\\\\\\\\\\": {\\\\\\\\\\\\\\\"selectedColumn\\\\\\\\\\\\\\\": \\\\\\\\\\\\\\\"score_norm\\\\\\\\\\\\\\\"}}, \\\\\\\\\\\\\\\"typeProperty\\\\\\\\\\\\\\\": 3}, {\\\\\\\\\\\\\\\"column\\\\\\\\\\\\\\\": {\\\\\\\\\\\\\\\"type\\\\\\\\\\\\\\\": 2, \\\\\\\\\\\\\\\"details\\\\\\\\\\\\\\\": {\\\\\\\\\\\\\\\"selectedColumn\\\\\\\\\\\\\\\": \\\\\\\\\\\\\\\"grade\\\\\\\\\\\\\\\"}}, \\\\\\\\\\\\\\\"typeProperty\\\\\\\\\\\\\\\": 0}, {\\\\\\\\\\\\\\\"column\\\\\\\\\\\\\\\": {\\\\\\\\\\\\\\\"type\\\\\\\\\\\\\\\": 2, \\\\\\\\\\\\\\\"details\\\\\\\\\\\\\\\": {\\\\\\\\\\\\\\\"selectedColumn\\\\\\\\\\\\\\\": \\\\\\\\\\\\\\\"grade_norm\\\\\\\\\\\\\\\"}}, \\\\\\\\\\\\\\\"typeProperty\\\\\\\\\\\\\\\": 0}, {\\\\\\\\\\\\\\\"column\\\\\\\\\\\\\\\": {\\\\\\\\\\\\\\\"type\\\\\\\\\\\\\\\": 2, \\\\\\\\\\\\\\\"details\\\\\\\\\\\\\\\": {\\\\\\\\\\\\\\\"selectedColumn\\\\\\\\\\\\\\\": \\\\\\\\\\\\\\\"recorded_at\\\\\\\\\\\\\\\"}}, \\\\\\\\\\\\\\\"typeArguments\\\\\\\\\\\\\\\": {\\\\\\\\\\\\\\\"dateTimeFormats\\\\\\\\\\\\\\\": [\\\\\\\\\\\\\\\"%Y-%m-%dT%H:%M:%S\\\\\\\\\\\\\\\"]}, \\\\\\\\\\\\\\\"typeProperty\\\\\\\\\\\\\\\": 4}]}, \\\\\\\\\\\\\\\"localData\\\\\\\\\\\\\\\": {}, \\\\\\\\\\\\\\\"isEnabled\\\\\\\\\\\\\\\": true, \\\\\\\\\\\\\\\"name\\\\\\\\\\\\\\\": null, \\\\\\\\\\\\\\\"annotation\\\\\\\\\\\\\\\": null}], \\\\\\\\\\\\\\\"inspectors\\\\\\\\\\\\\\\": [], \\\\\\\\\\\\\\\"meta\\\\\\\\\\\\\\\": {\\\\\\\\\\\\\\\"savedDatasetId\\\\\\\\\\\\\\\": \\\\\\\\\\\\\\\"044b4204-a665-4818-8af2-940ce69054fc\\\\\\\\\\\\\\\", \\\\\\\\\\\\\\\"datasetType\\\\\\\\\\\\\\\": \\\\\\\\\\\\\\\"tabular\\\\\\\\\\\\\\\", \\\\\\\\\\\\\\\"subscriptionId\\\\\\\\\\\\\\\": \\\\\\\\\\\\\\\"3d1a56d2-7c81-4118-9790-f85d1acf0c77\\\\\\\\\\\\\\\", \\\\\\\\\\\\\\\"workspaceId\\\\\\\\\\\\\\\": \\\\\\\\\\\\\\\"58db17b4-8219-4387-8ed9-e00a8643a8b3\\\\\\\\\\\\\\\", \\\\\\\\\\\\\\\"workspaceLocation\\\\\\\\\\\\\\\": \\\\\\\\\\\\\\\"southcentralus\\\\\\\\\\\\\\\", \\\\\\\\\\\\\\\"partition_keys\\\\\\\\\\\\\\\": \\\\\\\\\\\\\\\"true\\\\\\\\\\\\\\\"}}\\\\\\\", \\\\\\\"activities\\\\\\\": 0}\", \"EnableSubsampling\": null, \"runTemplate\": \"AutoML\", \"azureml.runsource\": \"automl\", \"display_task_type\": \"regression\", \"dependencies_versions\": \"{\\\"azureml-widgets\\\": \\\"1.24.0\\\", \\\"azureml-train\\\": \\\"1.24.0\\\", \\\"azureml-train-restclients-hyperdrive\\\": \\\"1.24.0\\\", \\\"azureml-train-core\\\": \\\"1.24.0\\\", \\\"azureml-train-automl\\\": \\\"1.24.0\\\", \\\"azureml-train-automl-runtime\\\": \\\"1.24.0\\\", \\\"azureml-train-automl-client\\\": \\\"1.24.0\\\", \\\"azureml-tensorboard\\\": \\\"1.24.0\\\", \\\"azureml-telemetry\\\": \\\"1.24.0\\\", \\\"azureml-sdk\\\": \\\"1.24.0\\\", \\\"azureml-samples\\\": \\\"0+unknown\\\", \\\"azureml-pipeline\\\": \\\"1.24.0\\\", \\\"azureml-pipeline-steps\\\": \\\"1.24.0\\\", \\\"azureml-pipeline-core\\\": \\\"1.24.0\\\", \\\"azureml-opendatasets\\\": \\\"1.24.0\\\", \\\"azureml-model-management-sdk\\\": \\\"1.0.1b6.post1\\\", \\\"azureml-mlflow\\\": \\\"1.24.0\\\", \\\"azureml-interpret\\\": \\\"1.24.0\\\", \\\"azureml-explain-model\\\": \\\"1.24.0\\\", \\\"azureml-defaults\\\": \\\"1.24.0\\\", \\\"azureml-dataset-runtime\\\": \\\"1.24.0\\\", \\\"azureml-dataprep\\\": \\\"2.11.1\\\", \\\"azureml-dataprep-rslex\\\": \\\"1.9.0\\\", \\\"azureml-dataprep-native\\\": \\\"30.0.0\\\", \\\"azureml-datadrift\\\": \\\"1.24.0\\\", \\\"azureml-core\\\": \\\"1.24.0\\\", \\\"azureml-contrib-services\\\": \\\"1.24.0\\\", \\\"azureml-contrib-server\\\": \\\"1.24.0\\\", \\\"azureml-contrib-reinforcementlearning\\\": \\\"1.24.0\\\", \\\"azureml-contrib-pipeline-steps\\\": \\\"1.24.0\\\", \\\"azureml-contrib-notebook\\\": \\\"1.24.0\\\", \\\"azureml-contrib-gbdt\\\": \\\"1.24.0\\\", \\\"azureml-contrib-fairness\\\": \\\"1.24.0\\\", \\\"azureml-contrib-dataset\\\": \\\"1.24.0\\\", \\\"azureml-cli-common\\\": \\\"1.24.0\\\", \\\"azureml-automl-runtime\\\": \\\"1.24.0\\\", \\\"azureml-automl-dnn-nlp\\\": \\\"1.24.0\\\", \\\"azureml-automl-core\\\": \\\"1.24.0\\\", \\\"azureml-accel-models\\\": \\\"1.24.0\\\"}\", \"_aml_system_scenario_identification\": \"Remote.Parent\", \"ClientType\": \"SDK\", \"environment_cpu_name\": \"AzureML-AutoML\", \"environment_cpu_label\": \"prod\", \"environment_gpu_name\": \"AzureML-AutoML-GPU\", \"environment_gpu_label\": \"prod\", \"root_attribution\": \"automl\", \"attribution\": \"AutoML\", \"Orchestrator\": \"AutoML\", \"CancelUri\": \"https://southcentralus.experiments.azureml.net/jasmine/v1.0/subscriptions/3d1a56d2-7c81-4118-9790-f85d1acf0c77/resourceGroups/aml-quickstarts-141597/providers/Microsoft.MachineLearningServices/workspaces/quick-starts-ws-141597/experimentids/352e926f-81cd-403e-8035-24da0bb38a9d/cancel/AutoML_aa54d0b1-9cc7-4363-b8af-d7ce9e6d9c5f\", \"ClientSdkVersion\": \"1.24.0\", \"snapshotId\": \"00000000-0000-0000-0000-000000000000\", \"SetupRunId\": \"AutoML_aa54d0b1-9cc7-4363-b8af-d7ce9e6d9c5f_setup\", \"SetupRunContainerId\": \"dcid.AutoML_aa54d0b1-9cc7-4363-b8af-d7ce9e6d9c5f_setup\", \"FeaturizationRunJsonPath\": \"featurizer_container.json\", \"FeaturizationRunId\": \"AutoML_aa54d0b1-9cc7-4363-b8af-d7ce9e6d9c5f_featurize\", \"ProblemInfoJsonString\": \"{\\\"dataset_num_categorical\\\": 0, \\\"is_sparse\\\": true, \\\"subsampling\\\": false, \\\"dataset_classes\\\": 50, \\\"dataset_features\\\": 175, \\\"dataset_samples\\\": 23027, \\\"single_frequency_class_detected\\\": false}\", \"ModelExplainRunId\": \"AutoML_aa54d0b1-9cc7-4363-b8af-d7ce9e6d9c5f_ModelExplain\"}, \"tags\": {\"model_explain_run\": \"best_run\", \"_aml_system_azureml.automlComponent\": \"AutoML\", \"pipeline_id\": \"\", \"score\": \"\", \"predicted_cost\": \"\", \"fit_time\": \"\", \"training_percent\": \"\", \"iteration\": \"\", \"run_preprocessor\": \"\", \"run_algorithm\": \"\", \"dynamic_whitelisting_iterations\": \"<25>;<30>;<35>;\", \"automl_best_child_run_id\": \"AutoML_aa54d0b1-9cc7-4363-b8af-d7ce9e6d9c5f_0\"}, \"end_time_utc\": \"2021-03-29T19:19:55.943365Z\", \"status\": \"Completed\", \"log_files\": {}, \"log_groups\": [], \"run_duration\": \"0:15:26\", \"run_number\": \"1\", \"run_queued_details\": {\"status\": \"Completed\", \"details\": null}}, \"child_runs\": [{\"run_id\": \"AutoML_aa54d0b1-9cc7-4363-b8af-d7ce9e6d9c5f_0\", \"run_number\": 5, \"metric\": null, \"status\": \"Completed\", \"run_type\": \"azureml.scriptrun\", \"training_percent\": \"100\", \"start_time\": \"2021-03-29T19:09:39.206009Z\", \"end_time\": \"2021-03-29T19:10:28.644253Z\", \"created_time\": \"2021-03-29T19:09:21.273549Z\", \"created_time_dt\": \"2021-03-29T19:09:21.273549Z\", \"duration\": \"0:01:07\", \"iteration\": \"0\", \"goal\": \"normalized_root_mean_squared_error_min\", \"run_name\": \"MaxAbsScaler, LightGBM\", \"run_properties\": \"copy=True\", \"primary_metric\": 0.00206328, \"best_metric\": 0.00206328}, {\"run_id\": \"AutoML_aa54d0b1-9cc7-4363-b8af-d7ce9e6d9c5f_4\", \"run_number\": 6, \"metric\": null, \"status\": \"Completed\", \"run_type\": \"azureml.scriptrun\", \"training_percent\": \"100\", \"start_time\": \"2021-03-29T19:09:39.106387Z\", \"end_time\": \"2021-03-29T19:10:25.56066Z\", \"created_time\": \"2021-03-29T19:09:21.390593Z\", \"created_time_dt\": \"2021-03-29T19:09:21.390593Z\", \"duration\": \"0:01:04\", \"iteration\": \"4\", \"goal\": \"normalized_root_mean_squared_error_min\", \"run_name\": \"MaxAbsScaler, ElasticNet\", \"run_properties\": \"copy=True\", \"primary_metric\": 0.01259094, \"best_metric\": 0.00206328}, {\"run_id\": \"AutoML_aa54d0b1-9cc7-4363-b8af-d7ce9e6d9c5f_2\", \"run_number\": 7, \"metric\": null, \"status\": \"Completed\", \"run_type\": \"azureml.scriptrun\", \"training_percent\": \"100\", \"start_time\": \"2021-03-29T19:09:40.860032Z\", \"end_time\": \"2021-03-29T19:10:24.924821Z\", \"created_time\": \"2021-03-29T19:09:21.477947Z\", \"created_time_dt\": \"2021-03-29T19:09:21.477947Z\", \"duration\": \"0:01:03\", \"iteration\": \"2\", \"goal\": \"normalized_root_mean_squared_error_min\", \"run_name\": \"StandardScalerWrapper, ElasticNet\", \"run_properties\": \"<azureml.automl.runtime.shared.model_wrappers.StandardScalerWrapper object at 0x7fd39d4f4b38\", \"primary_metric\": 0.06850779, \"best_metric\": 0.00206328}, {\"run_id\": \"AutoML_aa54d0b1-9cc7-4363-b8af-d7ce9e6d9c5f_1\", \"run_number\": 8, \"metric\": null, \"status\": \"Completed\", \"run_type\": \"azureml.scriptrun\", \"training_percent\": \"100\", \"start_time\": \"2021-03-29T19:09:39.34977Z\", \"end_time\": \"2021-03-29T19:10:30.100667Z\", \"created_time\": \"2021-03-29T19:09:21.584953Z\", \"created_time_dt\": \"2021-03-29T19:09:21.584953Z\", \"duration\": \"0:01:08\", \"iteration\": \"1\", \"goal\": \"normalized_root_mean_squared_error_min\", \"run_name\": \"MaxAbsScaler, XGBoostRegressor\", \"run_properties\": \"copy=True\", \"primary_metric\": 0.00425848, \"best_metric\": 0.00206328}, {\"run_id\": \"AutoML_aa54d0b1-9cc7-4363-b8af-d7ce9e6d9c5f_3\", \"run_number\": 9, \"metric\": null, \"status\": \"Completed\", \"run_type\": \"azureml.scriptrun\", \"training_percent\": \"100\", \"start_time\": \"2021-03-29T19:09:39.383727Z\", \"end_time\": \"2021-03-29T19:10:20.047977Z\", \"created_time\": \"2021-03-29T19:09:21.425624Z\", \"created_time_dt\": \"2021-03-29T19:09:21.425624Z\", \"duration\": \"0:00:58\", \"iteration\": \"3\", \"goal\": \"normalized_root_mean_squared_error_min\", \"run_name\": \"MaxAbsScaler, DecisionTree\", \"run_properties\": \"copy=True\", \"primary_metric\": 0.01759898, \"best_metric\": 0.00206328}, {\"run_id\": \"AutoML_aa54d0b1-9cc7-4363-b8af-d7ce9e6d9c5f_5\", \"run_number\": 10, \"metric\": null, \"status\": \"Completed\", \"run_type\": \"azureml.scriptrun\", \"training_percent\": \"100\", \"start_time\": \"2021-03-29T19:10:49.801392Z\", \"end_time\": \"2021-03-29T19:11:37.536572Z\", \"created_time\": \"2021-03-29T19:10:26.425094Z\", \"created_time_dt\": \"2021-03-29T19:10:26.425094Z\", \"duration\": \"0:01:11\", \"iteration\": \"5\", \"goal\": \"normalized_root_mean_squared_error_min\", \"run_name\": \"MaxAbsScaler, DecisionTree\", \"run_properties\": \"copy=True\", \"primary_metric\": 0.00933237, \"best_metric\": 0.00206328}, {\"run_id\": \"AutoML_aa54d0b1-9cc7-4363-b8af-d7ce9e6d9c5f_6\", \"run_number\": 11, \"metric\": null, \"status\": \"Completed\", \"run_type\": \"azureml.scriptrun\", \"training_percent\": \"100\", \"start_time\": \"2021-03-29T19:10:49.088787Z\", \"end_time\": \"2021-03-29T19:11:30.786178Z\", \"created_time\": \"2021-03-29T19:10:37.079309Z\", \"created_time_dt\": \"2021-03-29T19:10:37.079309Z\", \"duration\": \"0:00:53\", \"iteration\": \"6\", \"goal\": \"normalized_root_mean_squared_error_min\", \"run_name\": \"MaxAbsScaler, DecisionTree\", \"run_properties\": \"copy=True\", \"primary_metric\": 0.0058232, \"best_metric\": 0.00206328}, {\"run_id\": \"AutoML_aa54d0b1-9cc7-4363-b8af-d7ce9e6d9c5f_7\", \"run_number\": 12, \"metric\": null, \"status\": \"Completed\", \"run_type\": \"azureml.scriptrun\", \"training_percent\": \"100\", \"start_time\": \"2021-03-29T19:10:49.152084Z\", \"end_time\": \"2021-03-29T19:11:30.599781Z\", \"created_time\": \"2021-03-29T19:10:37.092728Z\", \"created_time_dt\": \"2021-03-29T19:10:37.092728Z\", \"duration\": \"0:00:53\", \"iteration\": \"7\", \"goal\": \"normalized_root_mean_squared_error_min\", \"run_name\": \"MaxAbsScaler, DecisionTree\", \"run_properties\": \"copy=True\", \"primary_metric\": 0.01005268, \"best_metric\": 0.00206328}, {\"run_id\": \"AutoML_aa54d0b1-9cc7-4363-b8af-d7ce9e6d9c5f_9\", \"run_number\": 13, \"metric\": null, \"status\": \"Completed\", \"run_type\": \"azureml.scriptrun\", \"training_percent\": \"100\", \"start_time\": \"2021-03-29T19:11:08.812578Z\", \"end_time\": \"2021-03-29T19:12:18.524687Z\", \"created_time\": \"2021-03-29T19:10:37.175997Z\", \"created_time_dt\": \"2021-03-29T19:10:37.175997Z\", \"duration\": \"0:01:41\", \"iteration\": \"9\", \"goal\": \"normalized_root_mean_squared_error_min\", \"run_name\": \"MaxAbsScaler, DecisionTree\", \"run_properties\": \"copy=True\", \"primary_metric\": 0.00803195, \"best_metric\": 0.00206328}, {\"run_id\": \"AutoML_aa54d0b1-9cc7-4363-b8af-d7ce9e6d9c5f_8\", \"run_number\": 14, \"metric\": null, \"status\": \"Completed\", \"run_type\": \"azureml.scriptrun\", \"training_percent\": \"100\", \"start_time\": \"2021-03-29T19:10:46.884135Z\", \"end_time\": \"2021-03-29T19:11:31.084274Z\", \"created_time\": \"2021-03-29T19:10:37.193093Z\", \"created_time_dt\": \"2021-03-29T19:10:37.193093Z\", \"duration\": \"0:00:53\", \"iteration\": \"8\", \"goal\": \"normalized_root_mean_squared_error_min\", \"run_name\": \"MaxAbsScaler, DecisionTree\", \"run_properties\": \"copy=True\", \"primary_metric\": 0.0155996, \"best_metric\": 0.00206328}, {\"run_id\": \"AutoML_aa54d0b1-9cc7-4363-b8af-d7ce9e6d9c5f_11\", \"run_number\": 15, \"metric\": null, \"status\": \"Completed\", \"run_type\": \"azureml.scriptrun\", \"training_percent\": \"100\", \"start_time\": \"2021-03-29T19:11:45.168884Z\", \"end_time\": \"2021-03-29T19:12:20.92316Z\", \"created_time\": \"2021-03-29T19:11:35.236867Z\", \"created_time_dt\": \"2021-03-29T19:11:35.236867Z\", \"duration\": \"0:00:45\", \"iteration\": \"11\", \"goal\": \"normalized_root_mean_squared_error_min\", \"run_name\": \"MaxAbsScaler, DecisionTree\", \"run_properties\": \"copy=True\", \"primary_metric\": 0.00696609, \"best_metric\": 0.00206328}, {\"run_id\": \"AutoML_aa54d0b1-9cc7-4363-b8af-d7ce9e6d9c5f_12\", \"run_number\": 16, \"metric\": null, \"status\": \"Completed\", \"run_type\": \"azureml.scriptrun\", \"training_percent\": \"100\", \"start_time\": \"2021-03-29T19:11:47.146981Z\", \"end_time\": \"2021-03-29T19:12:26.961071Z\", \"created_time\": \"2021-03-29T19:11:35.250852Z\", \"created_time_dt\": \"2021-03-29T19:11:35.250852Z\", \"duration\": \"0:00:51\", \"iteration\": \"12\", \"goal\": \"normalized_root_mean_squared_error_min\", \"run_name\": \"MaxAbsScaler, DecisionTree\", \"run_properties\": \"copy=True\", \"primary_metric\": 0.02083924, \"best_metric\": 0.00206328}, {\"run_id\": \"AutoML_aa54d0b1-9cc7-4363-b8af-d7ce9e6d9c5f_10\", \"run_number\": 17, \"metric\": null, \"status\": \"Completed\", \"run_type\": \"azureml.scriptrun\", \"training_percent\": \"100\", \"start_time\": \"2021-03-29T19:11:48.540649Z\", \"end_time\": \"2021-03-29T19:12:30.629542Z\", \"created_time\": \"2021-03-29T19:11:35.247526Z\", \"created_time_dt\": \"2021-03-29T19:11:35.247526Z\", \"duration\": \"0:00:55\", \"iteration\": \"10\", \"goal\": \"normalized_root_mean_squared_error_min\", \"run_name\": \"MaxAbsScaler, DecisionTree\", \"run_properties\": \"copy=True\", \"primary_metric\": 0.0133487, \"best_metric\": 0.00206328}, {\"run_id\": \"AutoML_aa54d0b1-9cc7-4363-b8af-d7ce9e6d9c5f_13\", \"run_number\": 18, \"metric\": null, \"status\": \"Completed\", \"run_type\": \"azureml.scriptrun\", \"training_percent\": \"100\", \"start_time\": \"2021-03-29T19:11:55.265538Z\", \"end_time\": \"2021-03-29T19:12:36.909917Z\", \"created_time\": \"2021-03-29T19:11:44.744675Z\", \"created_time_dt\": \"2021-03-29T19:11:44.744675Z\", \"duration\": \"0:00:52\", \"iteration\": \"13\", \"goal\": \"normalized_root_mean_squared_error_min\", \"run_name\": \"StandardScalerWrapper, DecisionTree\", \"run_properties\": \"<azureml.automl.runtime.shared.model_wrappers.StandardScalerWrapper object at 0x7f67a8696278\", \"primary_metric\": 0.01150795, \"best_metric\": 0.00206328}, {\"run_id\": \"AutoML_aa54d0b1-9cc7-4363-b8af-d7ce9e6d9c5f_14\", \"run_number\": 19, \"metric\": null, \"status\": \"Completed\", \"run_type\": \"azureml.scriptrun\", \"training_percent\": \"100\", \"start_time\": \"2021-03-29T19:13:06.150822Z\", \"end_time\": \"2021-03-29T19:13:43.387274Z\", \"created_time\": \"2021-03-29T19:12:22.977829Z\", \"created_time_dt\": \"2021-03-29T19:12:22.977829Z\", \"duration\": \"0:01:20\", \"iteration\": \"14\", \"goal\": \"normalized_root_mean_squared_error_min\", \"run_name\": \"MaxAbsScaler, DecisionTree\", \"run_properties\": \"copy=True\", \"primary_metric\": 0.01926607, \"best_metric\": 0.00206328}, {\"run_id\": \"AutoML_aa54d0b1-9cc7-4363-b8af-d7ce9e6d9c5f_15\", \"run_number\": 20, \"metric\": null, \"status\": \"Completed\", \"run_type\": \"azureml.scriptrun\", \"training_percent\": \"100\", \"start_time\": \"2021-03-29T19:12:57.969918Z\", \"end_time\": \"2021-03-29T19:13:35.774864Z\", \"created_time\": \"2021-03-29T19:12:42.975285Z\", \"created_time_dt\": \"2021-03-29T19:12:42.975285Z\", \"duration\": \"0:00:52\", \"iteration\": \"15\", \"goal\": \"normalized_root_mean_squared_error_min\", \"run_name\": \"MaxAbsScaler, DecisionTree\", \"run_properties\": \"copy=True\", \"primary_metric\": 0.02663175, \"best_metric\": 0.00206328}, {\"run_id\": \"AutoML_aa54d0b1-9cc7-4363-b8af-d7ce9e6d9c5f_18\", \"run_number\": 21, \"metric\": null, \"status\": \"Completed\", \"run_type\": \"azureml.scriptrun\", \"training_percent\": \"100\", \"start_time\": \"2021-03-29T19:12:58.825142Z\", \"end_time\": \"2021-03-29T19:13:39.346485Z\", \"created_time\": \"2021-03-29T19:12:43.086712Z\", \"created_time_dt\": \"2021-03-29T19:12:43.086712Z\", \"duration\": \"0:00:56\", \"iteration\": \"18\", \"goal\": \"normalized_root_mean_squared_error_min\", \"run_name\": \"MaxAbsScaler, DecisionTree\", \"run_properties\": \"copy=True\", \"primary_metric\": 0.02235847, \"best_metric\": 0.00206328}, {\"run_id\": \"AutoML_aa54d0b1-9cc7-4363-b8af-d7ce9e6d9c5f_17\", \"run_number\": 22, \"metric\": null, \"status\": \"Completed\", \"run_type\": \"azureml.scriptrun\", \"training_percent\": \"100\", \"start_time\": \"2021-03-29T19:12:57.363526Z\", \"end_time\": \"2021-03-29T19:13:40.605211Z\", \"created_time\": \"2021-03-29T19:12:43.099058Z\", \"created_time_dt\": \"2021-03-29T19:12:43.099058Z\", \"duration\": \"0:00:57\", \"iteration\": \"17\", \"goal\": \"normalized_root_mean_squared_error_min\", \"run_name\": \"MaxAbsScaler, DecisionTree\", \"run_properties\": \"copy=True\", \"primary_metric\": 0.00505618, \"best_metric\": 0.00206328}, {\"run_id\": \"AutoML_aa54d0b1-9cc7-4363-b8af-d7ce9e6d9c5f_16\", \"run_number\": 23, \"metric\": null, \"status\": \"Completed\", \"run_type\": \"azureml.scriptrun\", \"training_percent\": \"100\", \"start_time\": \"2021-03-29T19:13:05.430693Z\", \"end_time\": \"2021-03-29T19:13:43.119275Z\", \"created_time\": \"2021-03-29T19:12:43.245554Z\", \"created_time_dt\": \"2021-03-29T19:12:43.245554Z\", \"duration\": \"0:00:59\", \"iteration\": \"16\", \"goal\": \"normalized_root_mean_squared_error_min\", \"run_name\": \"MaxAbsScaler, SGD\", \"run_properties\": \"copy=True\", \"primary_metric\": 0.07554465, \"best_metric\": 0.00206328}, {\"run_id\": \"AutoML_aa54d0b1-9cc7-4363-b8af-d7ce9e6d9c5f_19\", \"run_number\": 24, \"metric\": null, \"status\": \"Completed\", \"run_type\": \"azureml.scriptrun\", \"training_percent\": \"100\", \"start_time\": \"2021-03-29T19:13:56.865837Z\", \"end_time\": \"2021-03-29T19:14:53.096389Z\", \"created_time\": \"2021-03-29T19:13:40.178028Z\", \"created_time_dt\": \"2021-03-29T19:13:40.178028Z\", \"duration\": \"0:01:12\", \"iteration\": \"19\", \"goal\": \"normalized_root_mean_squared_error_min\", \"run_name\": \"MaxAbsScaler, DecisionTree\", \"run_properties\": \"copy=True\", \"primary_metric\": 0.01926806, \"best_metric\": 0.00206328}, {\"run_id\": \"AutoML_aa54d0b1-9cc7-4363-b8af-d7ce9e6d9c5f_20\", \"run_number\": 25, \"metric\": null, \"status\": \"Completed\", \"run_type\": \"azureml.scriptrun\", \"training_percent\": \"100\", \"start_time\": \"2021-03-29T19:14:00.909663Z\", \"end_time\": \"2021-03-29T19:14:51.996853Z\", \"created_time\": \"2021-03-29T19:13:48.760604Z\", \"created_time_dt\": \"2021-03-29T19:13:48.760604Z\", \"duration\": \"0:01:03\", \"iteration\": \"20\", \"goal\": \"normalized_root_mean_squared_error_min\", \"run_name\": \"MaxAbsScaler, SGD\", \"run_properties\": \"copy=True\", \"primary_metric\": 0.02105314, \"best_metric\": 0.00206328}, {\"run_id\": \"AutoML_aa54d0b1-9cc7-4363-b8af-d7ce9e6d9c5f_22\", \"run_number\": 26, \"metric\": null, \"status\": \"Completed\", \"run_type\": \"azureml.scriptrun\", \"training_percent\": \"100\", \"start_time\": \"2021-03-29T19:14:00.700808Z\", \"end_time\": \"2021-03-29T19:14:56.779049Z\", \"created_time\": \"2021-03-29T19:13:48.838382Z\", \"created_time_dt\": \"2021-03-29T19:13:48.838382Z\", \"duration\": \"0:01:07\", \"iteration\": \"22\", \"goal\": \"normalized_root_mean_squared_error_min\", \"run_name\": \"MaxAbsScaler, DecisionTree\", \"run_properties\": \"copy=True\", \"primary_metric\": 0.01343466, \"best_metric\": 0.00206328}, {\"run_id\": \"AutoML_aa54d0b1-9cc7-4363-b8af-d7ce9e6d9c5f_21\", \"run_number\": 27, \"metric\": null, \"status\": \"Completed\", \"run_type\": \"azureml.scriptrun\", \"training_percent\": \"100\", \"start_time\": \"2021-03-29T19:14:00.571952Z\", \"end_time\": \"2021-03-29T19:15:01.865379Z\", \"created_time\": \"2021-03-29T19:13:48.84809Z\", \"created_time_dt\": \"2021-03-29T19:13:48.84809Z\", \"duration\": \"0:01:13\", \"iteration\": \"21\", \"goal\": \"normalized_root_mean_squared_error_min\", \"run_name\": \"MaxAbsScaler, DecisionTree\", \"run_properties\": \"copy=True\", \"primary_metric\": 0.01012443, \"best_metric\": 0.00206328}, {\"run_id\": \"AutoML_aa54d0b1-9cc7-4363-b8af-d7ce9e6d9c5f_23\", \"run_number\": 28, \"metric\": null, \"status\": \"Completed\", \"run_type\": \"azureml.scriptrun\", \"training_percent\": \"100\", \"start_time\": \"2021-03-29T19:13:59.450807Z\", \"end_time\": \"2021-03-29T19:14:51.286477Z\", \"created_time\": \"2021-03-29T19:13:48.90155Z\", \"created_time_dt\": \"2021-03-29T19:13:48.90155Z\", \"duration\": \"0:01:02\", \"iteration\": \"23\", \"goal\": \"normalized_root_mean_squared_error_min\", \"run_name\": \"MaxAbsScaler, DecisionTree\", \"run_properties\": \"copy=True\", \"primary_metric\": 0.00718877, \"best_metric\": 0.00206328}, {\"run_id\": \"AutoML_aa54d0b1-9cc7-4363-b8af-d7ce9e6d9c5f_24\", \"run_number\": 29, \"metric\": null, \"status\": \"Completed\", \"run_type\": \"azureml.scriptrun\", \"training_percent\": \"100\", \"start_time\": \"2021-03-29T19:15:07.698401Z\", \"end_time\": \"2021-03-29T19:15:49.192372Z\", \"created_time\": \"2021-03-29T19:14:55.412154Z\", \"created_time_dt\": \"2021-03-29T19:14:55.412154Z\", \"duration\": \"0:00:53\", \"iteration\": \"24\", \"goal\": \"normalized_root_mean_squared_error_min\", \"run_name\": \"MaxAbsScaler, DecisionTree\", \"run_properties\": \"copy=True\", \"primary_metric\": 0.00667864, \"best_metric\": 0.00206328}, {\"run_id\": \"AutoML_aa54d0b1-9cc7-4363-b8af-d7ce9e6d9c5f_25\", \"run_number\": 30, \"metric\": null, \"status\": \"Completed\", \"run_type\": \"azureml.scriptrun\", \"training_percent\": \"100\", \"start_time\": \"2021-03-29T19:16:00.243438Z\", \"end_time\": \"2021-03-29T19:16:58.376539Z\", \"created_time\": \"2021-03-29T19:15:46.852299Z\", \"created_time_dt\": \"2021-03-29T19:15:46.852299Z\", \"duration\": \"0:01:11\", \"iteration\": \"25\", \"goal\": \"normalized_root_mean_squared_error_min\", \"run_name\": \"MaxAbsScaler, LightGBM\", \"run_properties\": \"copy=True\", \"primary_metric\": 0.0508366, \"best_metric\": 0.00206328}, {\"run_id\": \"AutoML_aa54d0b1-9cc7-4363-b8af-d7ce9e6d9c5f_28\", \"run_number\": 31, \"metric\": null, \"status\": \"Completed\", \"run_type\": \"azureml.scriptrun\", \"training_percent\": \"100\", \"start_time\": \"2021-03-29T19:15:58.99525Z\", \"end_time\": \"2021-03-29T19:16:56.475964Z\", \"created_time\": \"2021-03-29T19:15:46.994417Z\", \"created_time_dt\": \"2021-03-29T19:15:46.994417Z\", \"duration\": \"0:01:09\", \"iteration\": \"28\", \"goal\": \"normalized_root_mean_squared_error_min\", \"run_name\": \"MaxAbsScaler, DecisionTree\", \"run_properties\": \"copy=True\", \"primary_metric\": 0.00734358, \"best_metric\": 0.00206328}, {\"run_id\": \"AutoML_aa54d0b1-9cc7-4363-b8af-d7ce9e6d9c5f_26\", \"run_number\": 32, \"metric\": null, \"status\": \"Completed\", \"run_type\": \"azureml.scriptrun\", \"training_percent\": \"100\", \"start_time\": \"2021-03-29T19:16:00.161001Z\", \"end_time\": \"2021-03-29T19:16:57.63433Z\", \"created_time\": \"2021-03-29T19:15:47.000909Z\", \"created_time_dt\": \"2021-03-29T19:15:47.000909Z\", \"duration\": \"0:01:10\", \"iteration\": \"26\", \"goal\": \"normalized_root_mean_squared_error_min\", \"run_name\": \"MaxAbsScaler, DecisionTree\", \"run_properties\": \"copy=True\", \"primary_metric\": 0.01877164, \"best_metric\": 0.00206328}, {\"run_id\": \"AutoML_aa54d0b1-9cc7-4363-b8af-d7ce9e6d9c5f_27\", \"run_number\": 33, \"metric\": null, \"status\": \"Completed\", \"run_type\": \"azureml.scriptrun\", \"training_percent\": \"100\", \"start_time\": \"2021-03-29T19:15:58.853899Z\", \"end_time\": \"2021-03-29T19:16:59.546865Z\", \"created_time\": \"2021-03-29T19:15:47.084384Z\", \"created_time_dt\": \"2021-03-29T19:15:47.084384Z\", \"duration\": \"0:01:12\", \"iteration\": \"27\", \"goal\": \"normalized_root_mean_squared_error_min\", \"run_name\": \"MaxAbsScaler, DecisionTree\", \"run_properties\": \"copy=True\", \"primary_metric\": 0.01112596, \"best_metric\": 0.00206328}, {\"run_id\": \"AutoML_aa54d0b1-9cc7-4363-b8af-d7ce9e6d9c5f_29\", \"run_number\": 34, \"metric\": null, \"status\": \"Completed\", \"run_type\": \"azureml.scriptrun\", \"training_percent\": \"100\", \"start_time\": \"2021-03-29T19:16:03.128565Z\", \"end_time\": \"2021-03-29T19:16:59.782314Z\", \"created_time\": \"2021-03-29T19:15:52.398483Z\", \"created_time_dt\": \"2021-03-29T19:15:52.398483Z\", \"duration\": \"0:01:07\", \"iteration\": \"29\", \"goal\": \"normalized_root_mean_squared_error_min\", \"run_name\": \"MaxAbsScaler, DecisionTree\", \"run_properties\": \"copy=True\", \"primary_metric\": 0.00667698, \"best_metric\": 0.00206328}, {\"run_id\": \"AutoML_aa54d0b1-9cc7-4363-b8af-d7ce9e6d9c5f_30\", \"run_number\": 35, \"metric\": null, \"status\": \"Completed\", \"run_type\": \"azureml.scriptrun\", \"training_percent\": \"100\", \"start_time\": \"2021-03-29T19:17:18.782548Z\", \"end_time\": \"2021-03-29T19:18:03.582415Z\", \"created_time\": \"2021-03-29T19:17:00.295094Z\", \"created_time_dt\": \"2021-03-29T19:17:00.295094Z\", \"duration\": \"0:01:03\", \"iteration\": \"30\", \"goal\": \"normalized_root_mean_squared_error_min\", \"run_name\": \"MaxAbsScaler, LightGBM\", \"run_properties\": \"copy=True\", \"primary_metric\": 0.04970042, \"best_metric\": 0.00206328}, {\"run_id\": \"AutoML_aa54d0b1-9cc7-4363-b8af-d7ce9e6d9c5f_31\", \"run_number\": 36, \"metric\": null, \"status\": \"Completed\", \"run_type\": \"azureml.scriptrun\", \"training_percent\": \"100\", \"start_time\": \"2021-03-29T19:17:19.532769Z\", \"end_time\": \"2021-03-29T19:18:07.958457Z\", \"created_time\": \"2021-03-29T19:17:06.394702Z\", \"created_time_dt\": \"2021-03-29T19:17:06.394702Z\", \"duration\": \"0:01:01\", \"iteration\": \"31\", \"goal\": \"normalized_root_mean_squared_error_min\", \"run_name\": \"MaxAbsScaler, DecisionTree\", \"run_properties\": \"copy=True\", \"primary_metric\": 0.01295124, \"best_metric\": 0.00206328}, {\"run_id\": \"AutoML_aa54d0b1-9cc7-4363-b8af-d7ce9e6d9c5f_32\", \"run_number\": 37, \"metric\": null, \"status\": \"Completed\", \"run_type\": \"azureml.scriptrun\", \"training_percent\": \"100\", \"start_time\": \"2021-03-29T19:17:18.67919Z\", \"end_time\": \"2021-03-29T19:18:07.218092Z\", \"created_time\": \"2021-03-29T19:17:06.539438Z\", \"created_time_dt\": \"2021-03-29T19:17:06.539438Z\", \"duration\": \"0:01:00\", \"iteration\": \"32\", \"goal\": \"normalized_root_mean_squared_error_min\", \"run_name\": \"MaxAbsScaler, DecisionTree\", \"run_properties\": \"copy=True\", \"primary_metric\": 0.01044968, \"best_metric\": 0.00206328}, {\"run_id\": \"AutoML_aa54d0b1-9cc7-4363-b8af-d7ce9e6d9c5f_33\", \"run_number\": 38, \"metric\": null, \"status\": \"Completed\", \"run_type\": \"azureml.scriptrun\", \"training_percent\": \"100\", \"start_time\": \"2021-03-29T19:17:18.138366Z\", \"end_time\": \"2021-03-29T19:18:09.39976Z\", \"created_time\": \"2021-03-29T19:17:06.648145Z\", \"created_time_dt\": \"2021-03-29T19:17:06.648145Z\", \"duration\": \"0:01:02\", \"iteration\": \"33\", \"goal\": \"normalized_root_mean_squared_error_min\", \"run_name\": \"MaxAbsScaler, DecisionTree\", \"run_properties\": \"copy=True\", \"primary_metric\": 0.0075783, \"best_metric\": 0.00206328}, {\"run_id\": \"AutoML_aa54d0b1-9cc7-4363-b8af-d7ce9e6d9c5f_34\", \"run_number\": 39, \"metric\": null, \"status\": \"Completed\", \"run_type\": \"azureml.scriptrun\", \"training_percent\": \"100\", \"start_time\": \"2021-03-29T19:17:19.116812Z\", \"end_time\": \"2021-03-29T19:18:07.930501Z\", \"created_time\": \"2021-03-29T19:17:06.702529Z\", \"created_time_dt\": \"2021-03-29T19:17:06.702529Z\", \"duration\": \"0:01:01\", \"iteration\": \"34\", \"goal\": \"normalized_root_mean_squared_error_min\", \"run_name\": \"MaxAbsScaler, DecisionTree\", \"run_properties\": \"copy=True\", \"primary_metric\": 0.00933345, \"best_metric\": 0.00206328}, {\"run_id\": \"AutoML_aa54d0b1-9cc7-4363-b8af-d7ce9e6d9c5f_35\", \"run_number\": 40, \"metric\": null, \"status\": \"Canceled\", \"run_type\": \"azureml.scriptrun\", \"training_percent\": \"100\", \"start_time\": \"2021-03-29T19:18:06.791579Z\", \"end_time\": \"2021-03-29T19:18:26.53889Z\", \"created_time\": \"2021-03-29T19:18:06.791579Z\", \"created_time_dt\": \"2021-03-29T19:18:06.791579Z\", \"duration\": \"0:00:19\", \"iteration\": \"35\", \"goal\": null, \"run_name\": \"Canceled\", \"run_properties\": null}, {\"run_id\": \"AutoML_aa54d0b1-9cc7-4363-b8af-d7ce9e6d9c5f_36\", \"run_number\": 41, \"metric\": null, \"status\": \"Completed\", \"run_type\": \"azureml.scriptrun\", \"training_percent\": \"100\", \"start_time\": \"2021-03-29T19:18:38.408584Z\", \"end_time\": \"2021-03-29T19:19:40.133868Z\", \"created_time\": \"2021-03-29T19:18:27.933895Z\", \"created_time_dt\": \"2021-03-29T19:18:27.933895Z\", \"duration\": \"0:01:12\", \"iteration\": \"36\", \"goal\": \"normalized_root_mean_squared_error_min\", \"run_name\": \"VotingEnsemble\", \"run_properties\": \"estimators=[('0',\\n                                          Pipeline(memory=None,\\n                                                   steps=[('maxabsscaler',\\n                                                           MaxAbsScaler(copy=True\", \"primary_metric\": 0.00206328, \"best_metric\": 0.00206328}, {\"run_id\": \"AutoML_aa54d0b1-9cc7-4363-b8af-d7ce9e6d9c5f_37\", \"run_number\": 42, \"metric\": null, \"status\": \"Completed\", \"run_type\": \"azureml.scriptrun\", \"training_percent\": \"100\", \"start_time\": \"2021-03-29T19:18:39.468508Z\", \"end_time\": \"2021-03-29T19:19:51.132517Z\", \"created_time\": \"2021-03-29T19:18:28.18784Z\", \"created_time_dt\": \"2021-03-29T19:18:28.18784Z\", \"duration\": \"0:01:22\", \"iteration\": \"37\", \"goal\": \"normalized_root_mean_squared_error_min\", \"run_name\": \"StackEnsemble\", \"run_properties\": \"base_learners=[('0',\\n                                       Pipeline(memory=None,\\n                                                steps=[('maxabsscaler',\\n                                                        MaxAbsScaler(copy=True\", \"primary_metric\": 0.00213373, \"best_metric\": 0.00206328}], \"children_metrics\": {\"categories\": [0], \"series\": {\"explained_variance\": [{\"categories\": [\"0\", \"1\", \"2\", \"3\", \"4\", \"5\", \"6\", \"7\", \"8\", \"9\", \"10\", \"11\", \"12\", \"13\", \"14\", \"15\", \"16\", \"17\", \"18\", \"19\", \"20\", \"21\", \"22\", \"23\", \"24\", \"25\", \"26\", \"27\", \"28\", \"29\", \"30\", \"31\", \"32\", \"33\", \"34\", \"36\", \"37\"], \"mode\": \"markers\", \"name\": \"explained_variance\", \"stepped\": false, \"type\": \"scatter\", \"data\": [0.9999406403126474, 0.9997472750548195, 0.9345889733872161, 0.9956576952003419, 0.9977906119191202, 0.9987862520908741, 0.9995273419749238, 0.998587221921653, 0.9966047297389264, 0.9990741116081824, 0.997407126295002, 0.9993071507417721, 0.9939127581117617, 0.9981367391196772, 0.9948245610355231, 0.9894225524911693, 0.9243656996033991, 0.9996435621416242, 0.9930024228115554, 0.9948257070524165, 0.9938241060204791, 0.9985710336224131, 0.9969783767623156, 0.9992795181702637, 0.9993765842013052, 0.9635473120484612, 0.9950890576569766, 0.9982714566490785, 0.9992286602212733, 0.9993783599495853, 0.9655639850487812, 0.9976601636685044, 0.9984776575690082, 0.9991987423243824, 0.9987859722389136, 0.9999406403126474, 0.9999365393842008]}, {\"categories\": [\"0\", \"1\", \"2\", \"3\", \"4\", \"5\", \"6\", \"7\", \"8\", \"9\", \"10\", \"11\", \"12\", \"13\", \"14\", \"15\", \"16\", \"17\", \"18\", \"19\", \"20\", \"21\", \"22\", \"23\", \"24\", \"25\", \"26\", \"27\", \"28\", \"29\", \"30\", \"31\", \"32\", \"33\", \"34\", \"36\", \"37\"], \"mode\": \"lines\", \"name\": \"explained_variance_max\", \"stepped\": true, \"type\": \"scatter\", \"data\": [0.9999406403126474, 0.9999406403126474, 0.9999406403126474, 0.9999406403126474, 0.9999406403126474, 0.9999406403126474, 0.9999406403126474, 0.9999406403126474, 0.9999406403126474, 0.9999406403126474, 0.9999406403126474, 0.9999406403126474, 0.9999406403126474, 0.9999406403126474, 0.9999406403126474, 0.9999406403126474, 0.9999406403126474, 0.9999406403126474, 0.9999406403126474, 0.9999406403126474, 0.9999406403126474, 0.9999406403126474, 0.9999406403126474, 0.9999406403126474, 0.9999406403126474, 0.9999406403126474, 0.9999406403126474, 0.9999406403126474, 0.9999406403126474, 0.9999406403126474, 0.9999406403126474, 0.9999406403126474, 0.9999406403126474, 0.9999406403126474, 0.9999406403126474, 0.9999406403126474, 0.9999406403126474]}], \"spearman_correlation\": [{\"categories\": [\"0\", \"1\", \"2\", \"3\", \"4\", \"5\", \"6\", \"7\", \"8\", \"9\", \"10\", \"11\", \"12\", \"13\", \"14\", \"15\", \"16\", \"17\", \"18\", \"19\", \"20\", \"21\", \"22\", \"23\", \"24\", \"25\", \"26\", \"27\", \"28\", \"29\", \"30\", \"31\", \"32\", \"33\", \"34\", \"36\", \"37\"], \"mode\": \"markers\", \"name\": \"spearman_correlation\", \"stepped\": false, \"type\": \"scatter\", \"data\": [0.9991891601956218, 0.9991934477265705, 0.9990409660626567, 0.9962796882447271, 0.9985879082438418, 0.9987702209234868, 0.9991216749738981, 0.9985360038496318, 0.9979751232536564, 0.9987593571909257, 0.997112979496952, 0.9991955881763077, 0.9942397328044852, 0.9982535457907309, 0.9978968163370516, 0.9942398968331106, 0.9505428567000836, 0.9994557611892632, 0.9948275273971421, 0.9953066166586801, 0.9945185163734804, 0.9991502219417568, 0.9963995909759398, 0.9994524012862075, 0.999375494114651, 0.9910153561202051, 0.9982395065302496, 0.9987897222161981, 0.9991528635025875, 0.9990483014652076, 0.9958954344176714, 0.9968311267989891, 0.9987375946004994, 0.9988556851797059, 0.9987696457710616, 0.9991891601956218, 0.9991891601956218]}, {\"categories\": [\"0\", \"1\", \"2\", \"3\", \"4\", \"5\", \"6\", \"7\", \"8\", \"9\", \"10\", \"11\", \"12\", \"13\", \"14\", \"15\", \"16\", \"17\", \"18\", \"19\", \"20\", \"21\", \"22\", \"23\", \"24\", \"25\", \"26\", \"27\", \"28\", \"29\", \"30\", \"31\", \"32\", \"33\", \"34\", \"36\", \"37\"], \"mode\": \"lines\", \"name\": \"spearman_correlation_max\", \"stepped\": true, \"type\": \"scatter\", \"data\": [0.9991891601956218, 0.9991934477265705, 0.9991934477265705, 0.9991934477265705, 0.9991934477265705, 0.9991934477265705, 0.9991934477265705, 0.9991934477265705, 0.9991934477265705, 0.9991934477265705, 0.9991934477265705, 0.9991955881763077, 0.9991955881763077, 0.9991955881763077, 0.9991955881763077, 0.9991955881763077, 0.9991955881763077, 0.9994557611892632, 0.9994557611892632, 0.9994557611892632, 0.9994557611892632, 0.9994557611892632, 0.9994557611892632, 0.9994557611892632, 0.9994557611892632, 0.9994557611892632, 0.9994557611892632, 0.9994557611892632, 0.9994557611892632, 0.9994557611892632, 0.9994557611892632, 0.9994557611892632, 0.9994557611892632, 0.9994557611892632, 0.9994557611892632, 0.9994557611892632, 0.9994557611892632]}], \"root_mean_squared_log_error\": [{\"categories\": [\"0\", \"1\", \"2\", \"3\", \"4\", \"5\", \"6\", \"7\", \"8\", \"9\", \"10\", \"11\", \"12\", \"13\", \"14\", \"15\", \"16\", \"17\", \"18\", \"19\", \"20\", \"21\", \"22\", \"23\", \"24\", \"25\", \"26\", \"27\", \"28\", \"29\", \"30\", \"31\", \"32\", \"33\", \"34\", \"36\", \"37\"], \"mode\": \"markers\", \"name\": \"root_mean_squared_log_error\", \"stepped\": false, \"type\": \"scatter\", \"data\": [0.0006409369648523152, 0.00133291458473735, 0.021635140715619207, 0.0058012333670167116, 0.004181443959247199, 0.0030299768681914313, 0.0018107151054776686, 0.0032876469324283997, 0.005292986538357167, 0.002531801168766602, 0.004392780904172362, 0.002116230895211542, 0.007008966815943345, 0.003752253211603519, 0.006408668536330557, 0.009023120942475926, 0.024486682498854523, 0.0015632856664708169, 0.007393159710334245, 0.006279127300720642, 0.006887510129691587, 0.0032915095029801824, 0.004341433853469015, 0.00235596751205796, 0.0020786872498080805, 0.016791217002751307, 0.006225354032040992, 0.0035819051399699695, 0.0023346171681162126, 0.0020838433199905984, 0.01660423984774939, 0.004237517063549337, 0.0034103127045279915, 0.002395705264733281, 0.0030303968098985556, 0.0006409369648523152, 0.0006636996990799495]}, {\"categories\": [\"0\", \"1\", \"2\", \"3\", \"4\", \"5\", \"6\", \"7\", \"8\", \"9\", \"10\", \"11\", \"12\", \"13\", \"14\", \"15\", \"16\", \"17\", \"18\", \"19\", \"20\", \"21\", \"22\", \"23\", \"24\", \"25\", \"26\", \"27\", \"28\", \"29\", \"30\", \"31\", \"32\", \"33\", \"34\", \"36\", \"37\"], \"mode\": \"lines\", \"name\": \"root_mean_squared_log_error_min\", \"stepped\": true, \"type\": \"scatter\", \"data\": [0.0006409369648523152, 0.0006409369648523152, 0.0006409369648523152, 0.0006409369648523152, 0.0006409369648523152, 0.0006409369648523152, 0.0006409369648523152, 0.0006409369648523152, 0.0006409369648523152, 0.0006409369648523152, 0.0006409369648523152, 0.0006409369648523152, 0.0006409369648523152, 0.0006409369648523152, 0.0006409369648523152, 0.0006409369648523152, 0.0006409369648523152, 0.0006409369648523152, 0.0006409369648523152, 0.0006409369648523152, 0.0006409369648523152, 0.0006409369648523152, 0.0006409369648523152, 0.0006409369648523152, 0.0006409369648523152, 0.0006409369648523152, 0.0006409369648523152, 0.0006409369648523152, 0.0006409369648523152, 0.0006409369648523152, 0.0006409369648523152, 0.0006409369648523152, 0.0006409369648523152, 0.0006409369648523152, 0.0006409369648523152, 0.0006409369648523152, 0.0006409369648523152]}], \"normalized_mean_absolute_error\": [{\"categories\": [\"0\", \"1\", \"2\", \"3\", \"4\", \"5\", \"6\", \"7\", \"8\", \"9\", \"10\", \"11\", \"12\", \"13\", \"14\", \"15\", \"16\", \"17\", \"18\", \"19\", \"20\", \"21\", \"22\", \"23\", \"24\", \"25\", \"26\", \"27\", \"28\", \"29\", \"30\", \"31\", \"32\", \"33\", \"34\", \"36\", \"37\"], \"mode\": \"markers\", \"name\": \"normalized_mean_absolute_error\", \"stepped\": false, \"type\": \"scatter\", \"data\": [0.0010381993128290275, 0.0030797608051104444, 0.058893286326081505, 0.012116590672462953, 0.009593048024453942, 0.0062521150172251, 0.0031101290265202614, 0.0066253100898037605, 0.010655173175072443, 0.0038926112053485826, 0.008518107140907099, 0.002898808951192185, 0.013229730138389944, 0.007877280327876572, 0.013687966435387531, 0.01736507399726935, 0.06064801269819314, 0.0022495296507608455, 0.015931495507842435, 0.013037563611783064, 0.016668979584648705, 0.006358398421191876, 0.005407464494185121, 0.003644539022737171, 0.002971674451096246, 0.03948040823203701, 0.013260570232948427, 0.007003479843483418, 0.003171704824094754, 0.003937924766108569, 0.02810526600833809, 0.00819702020461104, 0.007182875008755323, 0.003374751407264707, 0.006252507418740889, 0.0010381993128290275, 0.0012049848514356933]}, {\"categories\": [\"0\", \"1\", \"2\", \"3\", \"4\", \"5\", \"6\", \"7\", \"8\", \"9\", \"10\", \"11\", \"12\", \"13\", \"14\", \"15\", \"16\", \"17\", \"18\", \"19\", \"20\", \"21\", \"22\", \"23\", \"24\", \"25\", \"26\", \"27\", \"28\", \"29\", \"30\", \"31\", \"32\", \"33\", \"34\", \"36\", \"37\"], \"mode\": \"lines\", \"name\": \"normalized_mean_absolute_error_min\", \"stepped\": true, \"type\": \"scatter\", \"data\": [0.0010381993128290275, 0.0010381993128290275, 0.0010381993128290275, 0.0010381993128290275, 0.0010381993128290275, 0.0010381993128290275, 0.0010381993128290275, 0.0010381993128290275, 0.0010381993128290275, 0.0010381993128290275, 0.0010381993128290275, 0.0010381993128290275, 0.0010381993128290275, 0.0010381993128290275, 0.0010381993128290275, 0.0010381993128290275, 0.0010381993128290275, 0.0010381993128290275, 0.0010381993128290275, 0.0010381993128290275, 0.0010381993128290275, 0.0010381993128290275, 0.0010381993128290275, 0.0010381993128290275, 0.0010381993128290275, 0.0010381993128290275, 0.0010381993128290275, 0.0010381993128290275, 0.0010381993128290275, 0.0010381993128290275, 0.0010381993128290275, 0.0010381993128290275, 0.0010381993128290275, 0.0010381993128290275, 0.0010381993128290275, 0.0010381993128290275, 0.0010381993128290275]}], \"normalized_root_mean_squared_log_error\": [{\"categories\": [\"0\", \"1\", \"2\", \"3\", \"4\", \"5\", \"6\", \"7\", \"8\", \"9\", \"10\", \"11\", \"12\", \"13\", \"14\", \"15\", \"16\", \"17\", \"18\", \"19\", \"20\", \"21\", \"22\", \"23\", \"24\", \"25\", \"26\", \"27\", \"28\", \"29\", \"30\", \"31\", \"32\", \"33\", \"34\", \"36\", \"37\"], \"mode\": \"markers\", \"name\": \"normalized_root_mean_squared_log_error\", \"stepped\": false, \"type\": \"scatter\", \"data\": [0.0020085880361973988, 0.004177128851966533, 0.06780087151449149, 0.018180084119292207, 0.013103938095549007, 0.009495434997740384, 0.005674474866124144, 0.010302929395308552, 0.01658732452597392, 0.007934236619956778, 0.013766232334235962, 0.006631909674506988, 0.021964916465462815, 0.01175892688814837, 0.020083683194952424, 0.028276934812763402, 0.07673712113748399, 0.004899072855870747, 0.023168912011956887, 0.01967772287387739, 0.02158429175461052, 0.010315034038081133, 0.01360531936245795, 0.007383203681316394, 0.00651425424015393, 0.052620833926612307, 0.019509206545345673, 0.011225084845270902, 0.007316295314719104, 0.006530412491979499, 0.052034879149194205, 0.013279661719914591, 0.010687343176696444, 0.007507735076735932, 0.009496751024019232, 0.0020085880361973988, 0.0020799225950510957]}, {\"categories\": [\"0\", \"1\", \"2\", \"3\", \"4\", \"5\", \"6\", \"7\", \"8\", \"9\", \"10\", \"11\", \"12\", \"13\", \"14\", \"15\", \"16\", \"17\", \"18\", \"19\", \"20\", \"21\", \"22\", \"23\", \"24\", \"25\", \"26\", \"27\", \"28\", \"29\", \"30\", \"31\", \"32\", \"33\", \"34\", \"36\", \"37\"], \"mode\": \"lines\", \"name\": \"normalized_root_mean_squared_log_error_min\", \"stepped\": true, \"type\": \"scatter\", \"data\": [0.0020085880361973988, 0.0020085880361973988, 0.0020085880361973988, 0.0020085880361973988, 0.0020085880361973988, 0.0020085880361973988, 0.0020085880361973988, 0.0020085880361973988, 0.0020085880361973988, 0.0020085880361973988, 0.0020085880361973988, 0.0020085880361973988, 0.0020085880361973988, 0.0020085880361973988, 0.0020085880361973988, 0.0020085880361973988, 0.0020085880361973988, 0.0020085880361973988, 0.0020085880361973988, 0.0020085880361973988, 0.0020085880361973988, 0.0020085880361973988, 0.0020085880361973988, 0.0020085880361973988, 0.0020085880361973988, 0.0020085880361973988, 0.0020085880361973988, 0.0020085880361973988, 0.0020085880361973988, 0.0020085880361973988, 0.0020085880361973988, 0.0020085880361973988, 0.0020085880361973988, 0.0020085880361973988, 0.0020085880361973988, 0.0020085880361973988, 0.0020085880361973988]}], \"median_absolute_error\": [{\"categories\": [\"0\", \"1\", \"2\", \"3\", \"4\", \"5\", \"6\", \"7\", \"8\", \"9\", \"10\", \"11\", \"12\", \"13\", \"14\", \"15\", \"16\", \"17\", \"18\", \"19\", \"20\", \"21\", \"22\", \"23\", \"24\", \"25\", \"26\", \"27\", \"28\", \"29\", \"30\", \"31\", \"32\", \"33\", \"34\", \"36\", \"37\"], \"mode\": \"markers\", \"name\": \"median_absolute_error\", \"stepped\": false, \"type\": \"scatter\", \"data\": [0.00026196511014142665, 0.001146644353866605, 0.02980306340693256, 0.0045559281458208145, 0.004572768721216314, 0.0017712191358019158, 0.0002827380952374614, 0.0018551007147502574, 0.0039996939400119835, 0.0004038281979443781, 0.0033498907912329345, 8.93729534823251e-15, 0.004236673414303838, 0.002830559112247333, 0.0056409189120503744, 0.006538018910101251, 0.027445320616874547, 5.10702591327572e-15, 0.0064299280287868354, 0.004964595503627711, 0.0074846370035709375, 0.0014670824916436787, 0.0009238010490829618, 0.0005434387495457105, 7.494005416219807e-15, 0.01758801670849175, 0.005732941100198008, 0.0018512636112995584, 0.00016740029345166385, 0.0008182503770753358, 0.006625439780933495, 0.0025877027536787, 0.0026544088903771024, 0.0001308922558916903, 0.0017712191358019158, 0.00026196511014142665, 0.0003928837414186037]}, {\"categories\": [\"0\", \"1\", \"2\", \"3\", \"4\", \"5\", \"6\", \"7\", \"8\", \"9\", \"10\", \"11\", \"12\", \"13\", \"14\", \"15\", \"16\", \"17\", \"18\", \"19\", \"20\", \"21\", \"22\", \"23\", \"24\", \"25\", \"26\", \"27\", \"28\", \"29\", \"30\", \"31\", \"32\", \"33\", \"34\", \"36\", \"37\"], \"mode\": \"lines\", \"name\": \"median_absolute_error_min\", \"stepped\": true, \"type\": \"scatter\", \"data\": [0.00026196511014142665, 0.00026196511014142665, 0.00026196511014142665, 0.00026196511014142665, 0.00026196511014142665, 0.00026196511014142665, 0.00026196511014142665, 0.00026196511014142665, 0.00026196511014142665, 0.00026196511014142665, 0.00026196511014142665, 8.93729534823251e-15, 8.93729534823251e-15, 8.93729534823251e-15, 8.93729534823251e-15, 8.93729534823251e-15, 8.93729534823251e-15, 5.10702591327572e-15, 5.10702591327572e-15, 5.10702591327572e-15, 5.10702591327572e-15, 5.10702591327572e-15, 5.10702591327572e-15, 5.10702591327572e-15, 5.10702591327572e-15, 5.10702591327572e-15, 5.10702591327572e-15, 5.10702591327572e-15, 5.10702591327572e-15, 5.10702591327572e-15, 5.10702591327572e-15, 5.10702591327572e-15, 5.10702591327572e-15, 5.10702591327572e-15, 5.10702591327572e-15, 5.10702591327572e-15, 5.10702591327572e-15]}], \"mean_absolute_error\": [{\"categories\": [\"0\", \"1\", \"2\", \"3\", \"4\", \"5\", \"6\", \"7\", \"8\", \"9\", \"10\", \"11\", \"12\", \"13\", \"14\", \"15\", \"16\", \"17\", \"18\", \"19\", \"20\", \"21\", \"22\", \"23\", \"24\", \"25\", \"26\", \"27\", \"28\", \"29\", \"30\", \"31\", \"32\", \"33\", \"34\", \"36\", \"37\"], \"mode\": \"markers\", \"name\": \"mean_absolute_error\", \"stepped\": false, \"type\": \"scatter\", \"data\": [0.0005502456357993846, 0.0016322732267085357, 0.0312134417528232, 0.006421793056405365, 0.00508431545296059, 0.003313620959129303, 0.0016483683840557385, 0.0035114143475959937, 0.005647241782788395, 0.002063083938834749, 0.004514596784680762, 0.001536368744131858, 0.00701175697334667, 0.004174958573774583, 0.007254622210755391, 0.009203489218552754, 0.032143446730042366, 0.001192250714903248, 0.008443692619156491, 0.0069099087142450236, 0.008834559179863814, 0.003369951163231694, 0.0028659561819181145, 0.0019316056820507007, 0.0015749874590810103, 0.02092461636297962, 0.007028102223462666, 0.0037118443170462115, 0.0016810035567702197, 0.0020871001260375412, 0.01489579098441919, 0.00434442070844385, 0.003806923754640322, 0.0017886182458502948, 0.0033138289319326717, 0.0005502456357993846, 0.0006386419712609175]}, {\"categories\": [\"0\", \"1\", \"2\", \"3\", \"4\", \"5\", \"6\", \"7\", \"8\", \"9\", \"10\", \"11\", \"12\", \"13\", \"14\", \"15\", \"16\", \"17\", \"18\", \"19\", \"20\", \"21\", \"22\", \"23\", \"24\", \"25\", \"26\", \"27\", \"28\", \"29\", \"30\", \"31\", \"32\", \"33\", \"34\", \"36\", \"37\"], \"mode\": \"lines\", \"name\": \"mean_absolute_error_min\", \"stepped\": true, \"type\": \"scatter\", \"data\": [0.0005502456357993846, 0.0005502456357993846, 0.0005502456357993846, 0.0005502456357993846, 0.0005502456357993846, 0.0005502456357993846, 0.0005502456357993846, 0.0005502456357993846, 0.0005502456357993846, 0.0005502456357993846, 0.0005502456357993846, 0.0005502456357993846, 0.0005502456357993846, 0.0005502456357993846, 0.0005502456357993846, 0.0005502456357993846, 0.0005502456357993846, 0.0005502456357993846, 0.0005502456357993846, 0.0005502456357993846, 0.0005502456357993846, 0.0005502456357993846, 0.0005502456357993846, 0.0005502456357993846, 0.0005502456357993846, 0.0005502456357993846, 0.0005502456357993846, 0.0005502456357993846, 0.0005502456357993846, 0.0005502456357993846, 0.0005502456357993846, 0.0005502456357993846, 0.0005502456357993846, 0.0005502456357993846, 0.0005502456357993846, 0.0005502456357993846, 0.0005502456357993846]}], \"r2_score\": [{\"categories\": [\"0\", \"1\", \"2\", \"3\", \"4\", \"5\", \"6\", \"7\", \"8\", \"9\", \"10\", \"11\", \"12\", \"13\", \"14\", \"15\", \"16\", \"17\", \"18\", \"19\", \"20\", \"21\", \"22\", \"23\", \"24\", \"25\", \"26\", \"27\", \"28\", \"29\", \"30\", \"31\", \"32\", \"33\", \"34\", \"36\", \"37\"], \"mode\": \"markers\", \"name\": \"r2_score\", \"stepped\": false, \"type\": \"scatter\", \"data\": [0.999940626591641, 0.9997472528148325, 0.9345887994549711, 0.9956576825092847, 0.9977904790247407, 0.9987861443470019, 0.9995273169659525, 0.9985871143791147, 0.9966045511380517, 0.999074022891338, 0.9974070320021244, 0.9993070921857363, 0.9939122621802862, 0.9981365972564207, 0.9948242147790964, 0.9894132548931227, 0.920451975143997, 0.9996435416644924, 0.9930016514845262, 0.9948256299714462, 0.9938215057152833, 0.998570980704583, 0.9969779496626507, 0.9992794911818461, 0.9993763186366014, 0.9635461873890868, 0.9950888845083395, 0.9982714476356562, 0.9992286540784847, 0.9993783275692019, 0.9655539885421834, 0.9976600390847472, 0.9984776337501688, 0.9991986474127057, 0.9987858652291266, 0.999940626591641, 0.9999365372654119]}, {\"categories\": [\"0\", \"1\", \"2\", \"3\", \"4\", \"5\", \"6\", \"7\", \"8\", \"9\", \"10\", \"11\", \"12\", \"13\", \"14\", \"15\", \"16\", \"17\", \"18\", \"19\", \"20\", \"21\", \"22\", \"23\", \"24\", \"25\", \"26\", \"27\", \"28\", \"29\", \"30\", \"31\", \"32\", \"33\", \"34\", \"36\", \"37\"], \"mode\": \"lines\", \"name\": \"r2_score_max\", \"stepped\": true, \"type\": \"scatter\", \"data\": [0.999940626591641, 0.999940626591641, 0.999940626591641, 0.999940626591641, 0.999940626591641, 0.999940626591641, 0.999940626591641, 0.999940626591641, 0.999940626591641, 0.999940626591641, 0.999940626591641, 0.999940626591641, 0.999940626591641, 0.999940626591641, 0.999940626591641, 0.999940626591641, 0.999940626591641, 0.999940626591641, 0.999940626591641, 0.999940626591641, 0.999940626591641, 0.999940626591641, 0.999940626591641, 0.999940626591641, 0.999940626591641, 0.999940626591641, 0.999940626591641, 0.999940626591641, 0.999940626591641, 0.999940626591641, 0.999940626591641, 0.999940626591641, 0.999940626591641, 0.999940626591641, 0.999940626591641, 0.999940626591641, 0.999940626591641]}], \"normalized_root_mean_squared_error\": [{\"categories\": [\"0\", \"1\", \"2\", \"3\", \"4\", \"5\", \"6\", \"7\", \"8\", \"9\", \"10\", \"11\", \"12\", \"13\", \"14\", \"15\", \"16\", \"17\", \"18\", \"19\", \"20\", \"21\", \"22\", \"23\", \"24\", \"25\", \"26\", \"27\", \"28\", \"29\", \"30\", \"31\", \"32\", \"33\", \"34\", \"36\", \"37\"], \"mode\": \"markers\", \"name\": \"normalized_root_mean_squared_error\", \"stepped\": false, \"type\": \"scatter\", \"data\": [0.002063283022957895, 0.004258475380758693, 0.06850779035437311, 0.017598981094768318, 0.012590940785934285, 0.009332369175920115, 0.005823196816766896, 0.010052677639876299, 0.015599596841282265, 0.008031948144603514, 0.013348700362788886, 0.006966087374879684, 0.020839237654403056, 0.01150795224793438, 0.019266070169027913, 0.02663174892868287, 0.07554464996902627, 0.005056178056450346, 0.022358472451732357, 0.019268059802445704, 0.021053141718792953, 0.010124434871534829, 0.013434655323123204, 0.007188771779705512, 0.006678639755284972, 0.0508366021718033, 0.01877163957574246, 0.011125957101940052, 0.007343584081815482, 0.006676978386285948, 0.04970042046173044, 0.012951239607037847, 0.010449675424072966, 0.007578297938239685, 0.009333447513178987, 0.002063283022957895, 0.00213372610936215]}, {\"categories\": [\"0\", \"1\", \"2\", \"3\", \"4\", \"5\", \"6\", \"7\", \"8\", \"9\", \"10\", \"11\", \"12\", \"13\", \"14\", \"15\", \"16\", \"17\", \"18\", \"19\", \"20\", \"21\", \"22\", \"23\", \"24\", \"25\", \"26\", \"27\", \"28\", \"29\", \"30\", \"31\", \"32\", \"33\", \"34\", \"36\", \"37\"], \"mode\": \"lines\", \"name\": \"normalized_root_mean_squared_error_min\", \"stepped\": true, \"type\": \"scatter\", \"data\": [0.002063283022957895, 0.002063283022957895, 0.002063283022957895, 0.002063283022957895, 0.002063283022957895, 0.002063283022957895, 0.002063283022957895, 0.002063283022957895, 0.002063283022957895, 0.002063283022957895, 0.002063283022957895, 0.002063283022957895, 0.002063283022957895, 0.002063283022957895, 0.002063283022957895, 0.002063283022957895, 0.002063283022957895, 0.002063283022957895, 0.002063283022957895, 0.002063283022957895, 0.002063283022957895, 0.002063283022957895, 0.002063283022957895, 0.002063283022957895, 0.002063283022957895, 0.002063283022957895, 0.002063283022957895, 0.002063283022957895, 0.002063283022957895, 0.002063283022957895, 0.002063283022957895, 0.002063283022957895, 0.002063283022957895, 0.002063283022957895, 0.002063283022957895, 0.002063283022957895, 0.002063283022957895]}], \"mean_absolute_percentage_error\": [{\"categories\": [\"0\", \"1\", \"2\", \"3\", \"4\", \"5\", \"6\", \"7\", \"8\", \"9\", \"10\", \"11\", \"12\", \"13\", \"14\", \"15\", \"16\", \"17\", \"18\", \"19\", \"20\", \"21\", \"22\", \"23\", \"24\", \"25\", \"26\", \"27\", \"28\", \"29\", \"30\", \"31\", \"32\", \"33\", \"34\", \"36\", \"37\"], \"mode\": \"markers\", \"name\": \"mean_absolute_percentage_error\", \"stepped\": false, \"type\": \"scatter\", \"data\": [0.08115415494532932, 0.24156026499807026, 4.797249055982, 1.0151808556544006, 0.8313681059756894, 0.5180552577197581, 0.24179235269893637, 0.555900457535271, 0.920548556057914, 0.30879535040836614, 0.7102051372035529, 0.2186672823264239, 1.147593147764662, 0.6606004586509205, 1.1558993104349575, 1.5022471054043378, 4.9987871110404, 0.17068250150183872, 1.3396123938531406, 1.0813376880103096, 1.4016943303697609, 0.5302846745871856, 0.44497019131837645, 0.30315869250227684, 0.22846131431450248, 3.3741277568486243, 1.1071099661950239, 0.5805205796209363, 0.25285431167466854, 0.3088023198204723, 2.469358147595966, 0.6924266437094562, 0.6026456034525416, 0.26155290778382756, 0.5180983643275993, 0.08115415494532932, 0.09559538682113011]}, {\"categories\": [\"0\", \"1\", \"2\", \"3\", \"4\", \"5\", \"6\", \"7\", \"8\", \"9\", \"10\", \"11\", \"12\", \"13\", \"14\", \"15\", \"16\", \"17\", \"18\", \"19\", \"20\", \"21\", \"22\", \"23\", \"24\", \"25\", \"26\", \"27\", \"28\", \"29\", \"30\", \"31\", \"32\", \"33\", \"34\", \"36\", \"37\"], \"mode\": \"lines\", \"name\": \"mean_absolute_percentage_error_min\", \"stepped\": true, \"type\": \"scatter\", \"data\": [0.08115415494532932, 0.08115415494532932, 0.08115415494532932, 0.08115415494532932, 0.08115415494532932, 0.08115415494532932, 0.08115415494532932, 0.08115415494532932, 0.08115415494532932, 0.08115415494532932, 0.08115415494532932, 0.08115415494532932, 0.08115415494532932, 0.08115415494532932, 0.08115415494532932, 0.08115415494532932, 0.08115415494532932, 0.08115415494532932, 0.08115415494532932, 0.08115415494532932, 0.08115415494532932, 0.08115415494532932, 0.08115415494532932, 0.08115415494532932, 0.08115415494532932, 0.08115415494532932, 0.08115415494532932, 0.08115415494532932, 0.08115415494532932, 0.08115415494532932, 0.08115415494532932, 0.08115415494532932, 0.08115415494532932, 0.08115415494532932, 0.08115415494532932, 0.08115415494532932, 0.08115415494532932]}], \"normalized_median_absolute_error\": [{\"categories\": [\"0\", \"1\", \"2\", \"3\", \"4\", \"5\", \"6\", \"7\", \"8\", \"9\", \"10\", \"11\", \"12\", \"13\", \"14\", \"15\", \"16\", \"17\", \"18\", \"19\", \"20\", \"21\", \"22\", \"23\", \"24\", \"25\", \"26\", \"27\", \"28\", \"29\", \"30\", \"31\", \"32\", \"33\", \"34\", \"36\", \"37\"], \"mode\": \"markers\", \"name\": \"normalized_median_absolute_error\", \"stepped\": false, \"type\": \"scatter\", \"data\": [0.0004942737927196728, 0.002163479912955858, 0.056232195107419926, 0.008596090841171349, 0.008627865511728894, 0.0033419228977394637, 0.0005334681042216253, 0.003500190027830674, 0.0075465923396452516, 0.000761939996121468, 0.006320548662703649, 1.6862821411759452e-14, 0.007993723423214787, 0.0053406775702779866, 0.010643243230283725, 0.012335884736040095, 0.05178362380542367, 9.635897949576829e-15, 0.012131939676956293, 0.009367161327599455, 0.014121956610511202, 0.002768080172912601, 0.0017430208473263428, 0.0010253561312183216, 1.4139632860792087e-14, 0.033184937185833485, 0.0108168700003736, 0.003492950209999167, 0.0003158496102861582, 0.0015438686359911995, 0.012500829775346216, 0.004882458025808868, 0.005008318661088872, 0.00024696652055035905, 0.0033419228977394637, 0.0004942737927196728, 0.0007412900781483089]}, {\"categories\": [\"0\", \"1\", \"2\", \"3\", \"4\", \"5\", \"6\", \"7\", \"8\", \"9\", \"10\", \"11\", \"12\", \"13\", \"14\", \"15\", \"16\", \"17\", \"18\", \"19\", \"20\", \"21\", \"22\", \"23\", \"24\", \"25\", \"26\", \"27\", \"28\", \"29\", \"30\", \"31\", \"32\", \"33\", \"34\", \"36\", \"37\"], \"mode\": \"lines\", \"name\": \"normalized_median_absolute_error_min\", \"stepped\": true, \"type\": \"scatter\", \"data\": [0.0004942737927196728, 0.0004942737927196728, 0.0004942737927196728, 0.0004942737927196728, 0.0004942737927196728, 0.0004942737927196728, 0.0004942737927196728, 0.0004942737927196728, 0.0004942737927196728, 0.0004942737927196728, 0.0004942737927196728, 1.6862821411759452e-14, 1.6862821411759452e-14, 1.6862821411759452e-14, 1.6862821411759452e-14, 1.6862821411759452e-14, 1.6862821411759452e-14, 9.635897949576829e-15, 9.635897949576829e-15, 9.635897949576829e-15, 9.635897949576829e-15, 9.635897949576829e-15, 9.635897949576829e-15, 9.635897949576829e-15, 9.635897949576829e-15, 9.635897949576829e-15, 9.635897949576829e-15, 9.635897949576829e-15, 9.635897949576829e-15, 9.635897949576829e-15, 9.635897949576829e-15, 9.635897949576829e-15, 9.635897949576829e-15, 9.635897949576829e-15, 9.635897949576829e-15, 9.635897949576829e-15, 9.635897949576829e-15]}], \"root_mean_squared_error\": [{\"categories\": [\"0\", \"1\", \"2\", \"3\", \"4\", \"5\", \"6\", \"7\", \"8\", \"9\", \"10\", \"11\", \"12\", \"13\", \"14\", \"15\", \"16\", \"17\", \"18\", \"19\", \"20\", \"21\", \"22\", \"23\", \"24\", \"25\", \"26\", \"27\", \"28\", \"29\", \"30\", \"31\", \"32\", \"33\", \"34\", \"36\", \"37\"], \"mode\": \"markers\", \"name\": \"root_mean_squared_error\", \"stepped\": false, \"type\": \"scatter\", \"data\": [0.0010935400021676845, 0.002256991951802107, 0.036309128887817746, 0.00932745998022721, 0.006673198616545171, 0.004946155663237662, 0.0030862943128864553, 0.005327919149134439, 0.0082677863258796, 0.0042569325166398626, 0.00707481119227811, 0.003692026308686233, 0.011044795956833619, 0.006099214691405222, 0.010211017189584795, 0.014114826932201924, 0.040038664483583924, 0.0026797743699186836, 0.011849990399418149, 0.010212071695296225, 0.011158165110960266, 0.005365950481913458, 0.007120367321255299, 0.0038100490432439217, 0.0035396790703010354, 0.02694339915105575, 0.009948968975143507, 0.005896757264028228, 0.0038920995633622054, 0.0035387985447315525, 0.026341222844717134, 0.00686415699173006, 0.005538327974758672, 0.004016497907267033, 0.004946727181984863, 0.0010935400021676845, 0.0011308748379619394]}, {\"categories\": [\"0\", \"1\", \"2\", \"3\", \"4\", \"5\", \"6\", \"7\", \"8\", \"9\", \"10\", \"11\", \"12\", \"13\", \"14\", \"15\", \"16\", \"17\", \"18\", \"19\", \"20\", \"21\", \"22\", \"23\", \"24\", \"25\", \"26\", \"27\", \"28\", \"29\", \"30\", \"31\", \"32\", \"33\", \"34\", \"36\", \"37\"], \"mode\": \"lines\", \"name\": \"root_mean_squared_error_min\", \"stepped\": true, \"type\": \"scatter\", \"data\": [0.0010935400021676845, 0.0010935400021676845, 0.0010935400021676845, 0.0010935400021676845, 0.0010935400021676845, 0.0010935400021676845, 0.0010935400021676845, 0.0010935400021676845, 0.0010935400021676845, 0.0010935400021676845, 0.0010935400021676845, 0.0010935400021676845, 0.0010935400021676845, 0.0010935400021676845, 0.0010935400021676845, 0.0010935400021676845, 0.0010935400021676845, 0.0010935400021676845, 0.0010935400021676845, 0.0010935400021676845, 0.0010935400021676845, 0.0010935400021676845, 0.0010935400021676845, 0.0010935400021676845, 0.0010935400021676845, 0.0010935400021676845, 0.0010935400021676845, 0.0010935400021676845, 0.0010935400021676845, 0.0010935400021676845, 0.0010935400021676845, 0.0010935400021676845, 0.0010935400021676845, 0.0010935400021676845, 0.0010935400021676845, 0.0010935400021676845, 0.0010935400021676845]}]}, \"metricName\": null, \"primaryMetricName\": \"normalized_root_mean_squared_error\", \"showLegend\": false}, \"run_metrics\": [{\"name\": \"experiment_status\", \"run_id\": \"AutoML_aa54d0b1-9cc7-4363-b8af-d7ce9e6d9c5f\", \"categories\": [0, 1, 2, 3, 4, 5, 6, 7, 8, 9, 10, 11, 12], \"series\": [{\"data\": [\"DatasetEvaluation\", \"FeaturesGeneration\", \"DatasetFeaturization\", \"DatasetFeaturizationCompleted\", \"DatasetCrossValidationSplit\", \"ModelSelection\", \"BestRunExplainModel\", \"ModelExplanationDataSetSetup\", \"PickSurrogateModel\", \"EngineeredFeatureExplanations\", \"EngineeredFeatureExplanations\", \"RawFeaturesExplanations\", \"FailedModelExplanations\"]}]}, {\"name\": \"experiment_status_description\", \"run_id\": \"AutoML_aa54d0b1-9cc7-4363-b8af-d7ce9e6d9c5f\", \"categories\": [0, 1, 2, 3, 4, 5, 6, 7, 8, 9, 10, 11, 12], \"series\": [{\"data\": [\"Gathering dataset statistics.\", \"Generating features for the dataset.\", \"Beginning to fit featurizers and featurize the dataset.\", \"Completed fit featurizers and featurizing the dataset.\", \"Generating individually featurized CV splits.\", \"Beginning model selection.\", \"Best run model explanations started\", \"Model explanations data setup completed\", \"Choosing LightGBM as the surrogate model for explanations\", \"Computation of engineered features started\", \"Computation of engineered features completed\", \"Computation of raw features started\", \"Failed to explain best model\"]}]}, {\"name\": \"explained_variance\", \"run_id\": \"AutoML_aa54d0b1-9cc7-4363-b8af-d7ce9e6d9c5f\", \"categories\": [0], \"series\": [{\"data\": [0.9999406403126474]}]}, {\"name\": \"root_mean_squared_error\", \"run_id\": \"AutoML_aa54d0b1-9cc7-4363-b8af-d7ce9e6d9c5f\", \"categories\": [0], \"series\": [{\"data\": [0.0010935400021676845]}]}, {\"name\": \"normalized_root_mean_squared_error\", \"run_id\": \"AutoML_aa54d0b1-9cc7-4363-b8af-d7ce9e6d9c5f\", \"categories\": [0], \"series\": [{\"data\": [0.002063283022957895]}]}, {\"name\": \"r2_score\", \"run_id\": \"AutoML_aa54d0b1-9cc7-4363-b8af-d7ce9e6d9c5f\", \"categories\": [0], \"series\": [{\"data\": [0.999940626591641]}]}, {\"name\": \"mean_absolute_percentage_error\", \"run_id\": \"AutoML_aa54d0b1-9cc7-4363-b8af-d7ce9e6d9c5f\", \"categories\": [0], \"series\": [{\"data\": [0.08115415494532932]}]}, {\"name\": \"median_absolute_error\", \"run_id\": \"AutoML_aa54d0b1-9cc7-4363-b8af-d7ce9e6d9c5f\", \"categories\": [0], \"series\": [{\"data\": [0.00026196511014142665]}]}, {\"name\": \"mean_absolute_error\", \"run_id\": \"AutoML_aa54d0b1-9cc7-4363-b8af-d7ce9e6d9c5f\", \"categories\": [0], \"series\": [{\"data\": [0.0005502456357993846]}]}, {\"name\": \"normalized_median_absolute_error\", \"run_id\": \"AutoML_aa54d0b1-9cc7-4363-b8af-d7ce9e6d9c5f\", \"categories\": [0], \"series\": [{\"data\": [0.0004942737927196728]}]}, {\"name\": \"root_mean_squared_log_error\", \"run_id\": \"AutoML_aa54d0b1-9cc7-4363-b8af-d7ce9e6d9c5f\", \"categories\": [0], \"series\": [{\"data\": [0.0006409369648523152]}]}, {\"name\": \"normalized_root_mean_squared_log_error\", \"run_id\": \"AutoML_aa54d0b1-9cc7-4363-b8af-d7ce9e6d9c5f\", \"categories\": [0], \"series\": [{\"data\": [0.0020085880361973988]}]}, {\"name\": \"normalized_mean_absolute_error\", \"run_id\": \"AutoML_aa54d0b1-9cc7-4363-b8af-d7ce9e6d9c5f\", \"categories\": [0], \"series\": [{\"data\": [0.0010381993128290275]}]}, {\"name\": \"spearman_correlation\", \"run_id\": \"AutoML_aa54d0b1-9cc7-4363-b8af-d7ce9e6d9c5f\", \"categories\": [0], \"series\": [{\"data\": [0.9991891601956218]}]}], \"run_logs\": \"\\nRun is completed.\", \"graph\": {}, \"widget_settings\": {\"childWidgetDisplay\": \"popup\", \"send_telemetry\": false, \"log_level\": \"INFO\", \"sdk_version\": \"1.24.0\"}, \"loading\": false}"
          },
          "metadata": {}
        },
        {
          "output_type": "stream",
          "name": "stdout",
          "text": [
            "\n",
            "\n",
            "****************************************************************************************************\n",
            "DATA GUARDRAILS: \n",
            "\n",
            "TYPE:         Missing feature values imputation\n",
            "STATUS:       PASSED\n",
            "DESCRIPTION:  No feature missing values were detected in the training data.\n",
            "              Learn more about missing value imputation: https://aka.ms/AutomatedMLFeaturization\n",
            "\n",
            "****************************************************************************************************\n",
            "\n",
            "TYPE:         High cardinality feature detection\n",
            "STATUS:       PASSED\n",
            "DESCRIPTION:  Your inputs were analyzed, and no high cardinality features were detected.\n",
            "              Learn more about high cardinality feature handling: https://aka.ms/AutomatedMLFeaturization\n",
            "\n",
            "****************************************************************************************************\n",
            "\n",
            "****************************************************************************************************\n",
            "ITERATION: The iteration being evaluated.\n",
            "PIPELINE: A summary description of the pipeline being evaluated.\n",
            "DURATION: Time taken for the current iteration.\n",
            "METRIC: The result of computing score on the fitted pipeline.\n",
            "BEST: The best observed score thus far.\n",
            "****************************************************************************************************\n",
            "\n",
            " ITERATION   PIPELINE                                       DURATION      METRIC      BEST\n",
            "         0   MaxAbsScaler LightGBM                          0:00:49       0.0021    0.0021\n",
            "         1   MaxAbsScaler XGBoostRegressor                  0:00:51       0.0043    0.0021\n",
            "         2   StandardScalerWrapper ElasticNet               0:00:44       0.0685    0.0021\n",
            "         3   MaxAbsScaler DecisionTree                      0:00:41       0.0176    0.0021\n",
            "         4   MaxAbsScaler ElasticNet                        0:00:46       0.0126    0.0021\n",
            "         5   MaxAbsScaler DecisionTree                      0:00:48       0.0093    0.0021\n",
            "         6   MaxAbsScaler DecisionTree                      0:00:42       0.0058    0.0021\n",
            "         7   MaxAbsScaler DecisionTree                      0:00:41       0.0101    0.0021\n",
            "         8   MaxAbsScaler DecisionTree                      0:00:44       0.0156    0.0021\n",
            "         9   MaxAbsScaler DecisionTree                      0:01:10       0.0080    0.0021\n",
            "        10   MaxAbsScaler DecisionTree                      0:00:42       0.0133    0.0021\n",
            "        11   MaxAbsScaler DecisionTree                      0:00:36       0.0070    0.0021\n",
            "        12   MaxAbsScaler DecisionTree                      0:00:40       0.0208    0.0021\n",
            "        13   StandardScalerWrapper DecisionTree             0:00:42       0.0115    0.0021\n",
            "        14   MaxAbsScaler DecisionTree                      0:00:37       0.0193    0.0021\n",
            "        15   MaxAbsScaler DecisionTree                      0:00:38       0.0266    0.0021\n",
            "        16   MaxAbsScaler SGD                               0:00:38       0.0755    0.0021\n",
            "        17   MaxAbsScaler DecisionTree                      0:00:43       0.0051    0.0021\n",
            "        18   MaxAbsScaler DecisionTree                      0:00:41       0.0224    0.0021\n",
            "        19   MaxAbsScaler DecisionTree                      0:00:56       0.0193    0.0021\n",
            "        20   MaxAbsScaler SGD                               0:00:51       0.0211    0.0021\n",
            "        21   MaxAbsScaler DecisionTree                      0:01:01       0.0101    0.0021\n",
            "        22   MaxAbsScaler DecisionTree                      0:00:56       0.0134    0.0021\n",
            "        23   MaxAbsScaler DecisionTree                      0:00:52       0.0072    0.0021\n",
            "        24   MaxAbsScaler DecisionTree                      0:00:41       0.0067    0.0021\n",
            "        25   MaxAbsScaler LightGBM                          0:00:58       0.0508    0.0021\n",
            "        26   MaxAbsScaler DecisionTree                      0:00:57       0.0188    0.0021\n",
            "        27   MaxAbsScaler DecisionTree                      0:01:01       0.0111    0.0021\n",
            "        28   MaxAbsScaler DecisionTree                      0:00:57       0.0073    0.0021\n",
            "        29   MaxAbsScaler DecisionTree                      0:00:57       0.0067    0.0021\n",
            "        30   MaxAbsScaler LightGBM                          0:00:45       0.0497    0.0021\n",
            "        31   MaxAbsScaler DecisionTree                      0:00:48       0.0130    0.0021\n",
            "        32   MaxAbsScaler DecisionTree                      0:00:49       0.0104    0.0021\n",
            "        33   MaxAbsScaler DecisionTree                      0:00:51       0.0076    0.0021\n",
            "        34   MaxAbsScaler DecisionTree                      0:00:49       0.0093    0.0021\n",
            "        35                                                  0:00:20          nan    0.0021\n",
            "        36    VotingEnsemble                                0:01:02       0.0021    0.0021\n",
            "        37    StackEnsemble                                 0:01:12       0.0021    0.0021\n"
          ]
        },
        {
          "output_type": "execute_result",
          "execution_count": 9,
          "data": {
            "text/plain": "{'runId': 'AutoML_aa54d0b1-9cc7-4363-b8af-d7ce9e6d9c5f',\n 'target': 'comp',\n 'status': 'Completed',\n 'startTimeUtc': '2021-03-29T19:04:46.94355Z',\n 'endTimeUtc': '2021-03-29T19:19:55.943365Z',\n 'properties': {'num_iterations': '1000',\n  'training_type': 'TrainFull',\n  'acquisition_function': 'EI',\n  'primary_metric': 'normalized_root_mean_squared_error',\n  'train_split': '0',\n  'acquisition_parameter': '0',\n  'num_cross_validation': '2',\n  'target': 'comp',\n  'AMLSettingsJsonString': '{\"path\":null,\"name\":\"data_quality_analysis\",\"subscription_id\":\"3d1a56d2-7c81-4118-9790-f85d1acf0c77\",\"resource_group\":\"aml-quickstarts-141597\",\"workspace_name\":\"quick-starts-ws-141597\",\"region\":\"southcentralus\",\"compute_target\":\"comp\",\"spark_service\":null,\"azure_service\":\"remote\",\"many_models\":false,\"pipeline_fetch_max_batch_size\":1,\"enable_batch_run\":false,\"iterations\":1000,\"primary_metric\":\"normalized_root_mean_squared_error\",\"task_type\":\"regression\",\"data_script\":null,\"validation_size\":0.0,\"n_cross_validations\":2,\"y_min\":null,\"y_max\":null,\"num_classes\":null,\"featurization\":\"auto\",\"_ignore_package_version_incompatibilities\":false,\"is_timeseries\":false,\"max_cores_per_iteration\":1,\"max_concurrent_iterations\":5,\"iteration_timeout_minutes\":null,\"mem_in_mb\":null,\"enforce_time_on_windows\":false,\"experiment_timeout_minutes\":15,\"experiment_exit_score\":null,\"whitelist_models\":null,\"blacklist_algos\":[\"TensorFlowDNN\",\"TensorFlowLinearRegressor\"],\"supported_models\":[\"ExtremeRandomTrees\",\"RandomForest\",\"ElasticNet\",\"TensorFlowDNN\",\"LassoLars\",\"SGD\",\"GradientBoosting\",\"XGBoostRegressor\",\"TensorFlowLinearRegressor\",\"OnlineGradientDescentRegressor\",\"KNN\",\"FastLinearRegressor\",\"DecisionTree\",\"LightGBM\"],\"private_models\":[],\"auto_blacklist\":true,\"blacklist_samples_reached\":false,\"exclude_nan_labels\":true,\"verbosity\":20,\"_debug_log\":\"azureml_automl.log\",\"show_warnings\":false,\"model_explainability\":true,\"service_url\":null,\"sdk_url\":null,\"sdk_packages\":null,\"enable_onnx_compatible_models\":false,\"enable_split_onnx_featurizer_estimator_models\":false,\"vm_type\":\"STANDARD_DS3_V2\",\"telemetry_verbosity\":20,\"send_telemetry\":true,\"enable_dnn\":false,\"scenario\":\"SDK-1.13.0\",\"environment_label\":null,\"save_mlflow\":false,\"force_text_dnn\":false,\"enable_feature_sweeping\":true,\"enable_early_stopping\":true,\"early_stopping_n_iters\":10,\"metrics\":null,\"enable_metric_confidence\":false,\"enable_ensembling\":true,\"enable_stack_ensembling\":true,\"ensemble_iterations\":15,\"enable_tf\":false,\"enable_subsampling\":null,\"subsample_seed\":null,\"enable_nimbusml\":false,\"enable_streaming\":false,\"force_streaming\":false,\"track_child_runs\":true,\"allowed_private_models\":[],\"label_column_name\":\"score\",\"weight_column_name\":null,\"cv_split_column_names\":null,\"enable_local_managed\":false,\"_local_managed_run_id\":null,\"cost_mode\":1,\"lag_length\":0,\"metric_operation\":\"minimize\",\"preprocess\":true}',\n  'DataPrepJsonString': '{\\\\\"training_data\\\\\": \\\\\"{\\\\\\\\\\\\\"blocks\\\\\\\\\\\\\": [{\\\\\\\\\\\\\"id\\\\\\\\\\\\\": \\\\\\\\\\\\\"8c01d2e6-e8ba-4b3e-af4f-65380ef83898\\\\\\\\\\\\\", \\\\\\\\\\\\\"type\\\\\\\\\\\\\": \\\\\\\\\\\\\"Microsoft.DPrep.GetFilesBlock\\\\\\\\\\\\\", \\\\\\\\\\\\\"arguments\\\\\\\\\\\\\": {\\\\\\\\\\\\\"isArchive\\\\\\\\\\\\\": false, \\\\\\\\\\\\\"path\\\\\\\\\\\\\": {\\\\\\\\\\\\\"target\\\\\\\\\\\\\": 4, \\\\\\\\\\\\\"resourceDetails\\\\\\\\\\\\\": [{\\\\\\\\\\\\\"path\\\\\\\\\\\\\": \\\\\\\\\\\\\"https://raw.githubusercontent.com/shatakshipachori/data_quality_analysis/main/catalogue-scorecard.csv\\\\\\\\\\\\\"}]}}, \\\\\\\\\\\\\"localData\\\\\\\\\\\\\": {}, \\\\\\\\\\\\\"isEnabled\\\\\\\\\\\\\": true, \\\\\\\\\\\\\"name\\\\\\\\\\\\\": null, \\\\\\\\\\\\\"annotation\\\\\\\\\\\\\": null}, {\\\\\\\\\\\\\"id\\\\\\\\\\\\\": \\\\\\\\\\\\\"c4602e17-fcf5-4a66-9421-0f3dd62dd6d6\\\\\\\\\\\\\", \\\\\\\\\\\\\"type\\\\\\\\\\\\\": \\\\\\\\\\\\\"Microsoft.DPrep.ParseDelimitedBlock\\\\\\\\\\\\\", \\\\\\\\\\\\\"arguments\\\\\\\\\\\\\": {\\\\\\\\\\\\\"columnHeadersMode\\\\\\\\\\\\\": 3, \\\\\\\\\\\\\"fileEncoding\\\\\\\\\\\\\": 0, \\\\\\\\\\\\\"handleQuotedLineBreaks\\\\\\\\\\\\\": false, \\\\\\\\\\\\\"preview\\\\\\\\\\\\\": false, \\\\\\\\\\\\\"separator\\\\\\\\\\\\\": \\\\\\\\\\\\\",\\\\\\\\\\\\\", \\\\\\\\\\\\\"skipRows\\\\\\\\\\\\\": 0, \\\\\\\\\\\\\"skipRowsMode\\\\\\\\\\\\\": 0}, \\\\\\\\\\\\\"localData\\\\\\\\\\\\\": {}, \\\\\\\\\\\\\"isEnabled\\\\\\\\\\\\\": true, \\\\\\\\\\\\\"name\\\\\\\\\\\\\": null, \\\\\\\\\\\\\"annotation\\\\\\\\\\\\\": null}, {\\\\\\\\\\\\\"id\\\\\\\\\\\\\": \\\\\\\\\\\\\"e7428db4-e287-4106-91cb-564cedc18823\\\\\\\\\\\\\", \\\\\\\\\\\\\"type\\\\\\\\\\\\\": \\\\\\\\\\\\\"Microsoft.DPrep.DropColumnsBlock\\\\\\\\\\\\\", \\\\\\\\\\\\\"arguments\\\\\\\\\\\\\": {\\\\\\\\\\\\\"columns\\\\\\\\\\\\\": {\\\\\\\\\\\\\"type\\\\\\\\\\\\\": 0, \\\\\\\\\\\\\"details\\\\\\\\\\\\\": {\\\\\\\\\\\\\"selectedColumns\\\\\\\\\\\\\": [\\\\\\\\\\\\\"Path\\\\\\\\\\\\\"]}}}, \\\\\\\\\\\\\"localData\\\\\\\\\\\\\": {}, \\\\\\\\\\\\\"isEnabled\\\\\\\\\\\\\": true, \\\\\\\\\\\\\"name\\\\\\\\\\\\\": null, \\\\\\\\\\\\\"annotation\\\\\\\\\\\\\": null}, {\\\\\\\\\\\\\"id\\\\\\\\\\\\\": \\\\\\\\\\\\\"7806b35a-a698-495a-b558-8841b0b48ba2\\\\\\\\\\\\\", \\\\\\\\\\\\\"type\\\\\\\\\\\\\": \\\\\\\\\\\\\"Microsoft.DPrep.SetColumnTypesBlock\\\\\\\\\\\\\", \\\\\\\\\\\\\"arguments\\\\\\\\\\\\\": {\\\\\\\\\\\\\"columnConversion\\\\\\\\\\\\\": [{\\\\\\\\\\\\\"column\\\\\\\\\\\\\": {\\\\\\\\\\\\\"type\\\\\\\\\\\\\": 2, \\\\\\\\\\\\\"details\\\\\\\\\\\\\": {\\\\\\\\\\\\\"selectedColumn\\\\\\\\\\\\\": \\\\\\\\\\\\\"_id\\\\\\\\\\\\\"}}, \\\\\\\\\\\\\"typeProperty\\\\\\\\\\\\\": 2}, {\\\\\\\\\\\\\"column\\\\\\\\\\\\\": {\\\\\\\\\\\\\"type\\\\\\\\\\\\\": 2, \\\\\\\\\\\\\"details\\\\\\\\\\\\\": {\\\\\\\\\\\\\"selectedColumn\\\\\\\\\\\\\": \\\\\\\\\\\\\"package\\\\\\\\\\\\\"}}, \\\\\\\\\\\\\"typeProperty\\\\\\\\\\\\\": 0}, {\\\\\\\\\\\\\"column\\\\\\\\\\\\\": {\\\\\\\\\\\\\"type\\\\\\\\\\\\\": 2, \\\\\\\\\\\\\"details\\\\\\\\\\\\\": {\\\\\\\\\\\\\"selectedColumn\\\\\\\\\\\\\": \\\\\\\\\\\\\"accessibility\\\\\\\\\\\\\"}}, \\\\\\\\\\\\\"typeProperty\\\\\\\\\\\\\": 2}, {\\\\\\\\\\\\\"column\\\\\\\\\\\\\": {\\\\\\\\\\\\\"type\\\\\\\\\\\\\": 2, \\\\\\\\\\\\\"details\\\\\\\\\\\\\": {\\\\\\\\\\\\\"selectedColumn\\\\\\\\\\\\\": \\\\\\\\\\\\\"completeness\\\\\\\\\\\\\"}}, \\\\\\\\\\\\\"typeProperty\\\\\\\\\\\\\": 3}, {\\\\\\\\\\\\\"column\\\\\\\\\\\\\": {\\\\\\\\\\\\\"type\\\\\\\\\\\\\": 2, \\\\\\\\\\\\\"details\\\\\\\\\\\\\": {\\\\\\\\\\\\\"selectedColumn\\\\\\\\\\\\\": \\\\\\\\\\\\\"freshness\\\\\\\\\\\\\"}}, \\\\\\\\\\\\\"typeProperty\\\\\\\\\\\\\": 3}, {\\\\\\\\\\\\\"column\\\\\\\\\\\\\": {\\\\\\\\\\\\\"type\\\\\\\\\\\\\": 2, \\\\\\\\\\\\\"details\\\\\\\\\\\\\": {\\\\\\\\\\\\\"selectedColumn\\\\\\\\\\\\\": \\\\\\\\\\\\\"metadata\\\\\\\\\\\\\"}}, \\\\\\\\\\\\\"typeProperty\\\\\\\\\\\\\": 3}, {\\\\\\\\\\\\\"column\\\\\\\\\\\\\": {\\\\\\\\\\\\\"type\\\\\\\\\\\\\": 2, \\\\\\\\\\\\\"details\\\\\\\\\\\\\": {\\\\\\\\\\\\\"selectedColumn\\\\\\\\\\\\\": \\\\\\\\\\\\\"usability\\\\\\\\\\\\\"}}, \\\\\\\\\\\\\"typeProperty\\\\\\\\\\\\\": 3}, {\\\\\\\\\\\\\"column\\\\\\\\\\\\\": {\\\\\\\\\\\\\"type\\\\\\\\\\\\\": 2, \\\\\\\\\\\\\"details\\\\\\\\\\\\\": {\\\\\\\\\\\\\"selectedColumn\\\\\\\\\\\\\": \\\\\\\\\\\\\"score\\\\\\\\\\\\\"}}, \\\\\\\\\\\\\"typeProperty\\\\\\\\\\\\\": 3}, {\\\\\\\\\\\\\"column\\\\\\\\\\\\\": {\\\\\\\\\\\\\"type\\\\\\\\\\\\\": 2, \\\\\\\\\\\\\"details\\\\\\\\\\\\\": {\\\\\\\\\\\\\"selectedColumn\\\\\\\\\\\\\": \\\\\\\\\\\\\"score_norm\\\\\\\\\\\\\"}}, \\\\\\\\\\\\\"typeProperty\\\\\\\\\\\\\": 3}, {\\\\\\\\\\\\\"column\\\\\\\\\\\\\": {\\\\\\\\\\\\\"type\\\\\\\\\\\\\": 2, \\\\\\\\\\\\\"details\\\\\\\\\\\\\": {\\\\\\\\\\\\\"selectedColumn\\\\\\\\\\\\\": \\\\\\\\\\\\\"grade\\\\\\\\\\\\\"}}, \\\\\\\\\\\\\"typeProperty\\\\\\\\\\\\\": 0}, {\\\\\\\\\\\\\"column\\\\\\\\\\\\\": {\\\\\\\\\\\\\"type\\\\\\\\\\\\\": 2, \\\\\\\\\\\\\"details\\\\\\\\\\\\\": {\\\\\\\\\\\\\"selectedColumn\\\\\\\\\\\\\": \\\\\\\\\\\\\"grade_norm\\\\\\\\\\\\\"}}, \\\\\\\\\\\\\"typeProperty\\\\\\\\\\\\\": 0}, {\\\\\\\\\\\\\"column\\\\\\\\\\\\\": {\\\\\\\\\\\\\"type\\\\\\\\\\\\\": 2, \\\\\\\\\\\\\"details\\\\\\\\\\\\\": {\\\\\\\\\\\\\"selectedColumn\\\\\\\\\\\\\": \\\\\\\\\\\\\"recorded_at\\\\\\\\\\\\\"}}, \\\\\\\\\\\\\"typeArguments\\\\\\\\\\\\\": {\\\\\\\\\\\\\"dateTimeFormats\\\\\\\\\\\\\": [\\\\\\\\\\\\\"%Y-%m-%dT%H:%M:%S\\\\\\\\\\\\\"]}, \\\\\\\\\\\\\"typeProperty\\\\\\\\\\\\\": 4}]}, \\\\\\\\\\\\\"localData\\\\\\\\\\\\\": {}, \\\\\\\\\\\\\"isEnabled\\\\\\\\\\\\\": true, \\\\\\\\\\\\\"name\\\\\\\\\\\\\": null, \\\\\\\\\\\\\"annotation\\\\\\\\\\\\\": null}], \\\\\\\\\\\\\"inspectors\\\\\\\\\\\\\": [], \\\\\\\\\\\\\"meta\\\\\\\\\\\\\": {\\\\\\\\\\\\\"savedDatasetId\\\\\\\\\\\\\": \\\\\\\\\\\\\"044b4204-a665-4818-8af2-940ce69054fc\\\\\\\\\\\\\", \\\\\\\\\\\\\"datasetType\\\\\\\\\\\\\": \\\\\\\\\\\\\"tabular\\\\\\\\\\\\\", \\\\\\\\\\\\\"subscriptionId\\\\\\\\\\\\\": \\\\\\\\\\\\\"3d1a56d2-7c81-4118-9790-f85d1acf0c77\\\\\\\\\\\\\", \\\\\\\\\\\\\"workspaceId\\\\\\\\\\\\\": \\\\\\\\\\\\\"58db17b4-8219-4387-8ed9-e00a8643a8b3\\\\\\\\\\\\\", \\\\\\\\\\\\\"workspaceLocation\\\\\\\\\\\\\": \\\\\\\\\\\\\"southcentralus\\\\\\\\\\\\\", \\\\\\\\\\\\\"partition_keys\\\\\\\\\\\\\": \\\\\\\\\\\\\"true\\\\\\\\\\\\\"}}\\\\\", \\\\\"activities\\\\\": 0}',\n  'EnableSubsampling': None,\n  'runTemplate': 'AutoML',\n  'azureml.runsource': 'automl',\n  'display_task_type': 'regression',\n  'dependencies_versions': '{\"azureml-widgets\": \"1.24.0\", \"azureml-train\": \"1.24.0\", \"azureml-train-restclients-hyperdrive\": \"1.24.0\", \"azureml-train-core\": \"1.24.0\", \"azureml-train-automl\": \"1.24.0\", \"azureml-train-automl-runtime\": \"1.24.0\", \"azureml-train-automl-client\": \"1.24.0\", \"azureml-tensorboard\": \"1.24.0\", \"azureml-telemetry\": \"1.24.0\", \"azureml-sdk\": \"1.24.0\", \"azureml-samples\": \"0+unknown\", \"azureml-pipeline\": \"1.24.0\", \"azureml-pipeline-steps\": \"1.24.0\", \"azureml-pipeline-core\": \"1.24.0\", \"azureml-opendatasets\": \"1.24.0\", \"azureml-model-management-sdk\": \"1.0.1b6.post1\", \"azureml-mlflow\": \"1.24.0\", \"azureml-interpret\": \"1.24.0\", \"azureml-explain-model\": \"1.24.0\", \"azureml-defaults\": \"1.24.0\", \"azureml-dataset-runtime\": \"1.24.0\", \"azureml-dataprep\": \"2.11.1\", \"azureml-dataprep-rslex\": \"1.9.0\", \"azureml-dataprep-native\": \"30.0.0\", \"azureml-datadrift\": \"1.24.0\", \"azureml-core\": \"1.24.0\", \"azureml-contrib-services\": \"1.24.0\", \"azureml-contrib-server\": \"1.24.0\", \"azureml-contrib-reinforcementlearning\": \"1.24.0\", \"azureml-contrib-pipeline-steps\": \"1.24.0\", \"azureml-contrib-notebook\": \"1.24.0\", \"azureml-contrib-gbdt\": \"1.24.0\", \"azureml-contrib-fairness\": \"1.24.0\", \"azureml-contrib-dataset\": \"1.24.0\", \"azureml-cli-common\": \"1.24.0\", \"azureml-automl-runtime\": \"1.24.0\", \"azureml-automl-dnn-nlp\": \"1.24.0\", \"azureml-automl-core\": \"1.24.0\", \"azureml-accel-models\": \"1.24.0\"}',\n  '_aml_system_scenario_identification': 'Remote.Parent',\n  'ClientType': 'SDK',\n  'environment_cpu_name': 'AzureML-AutoML',\n  'environment_cpu_label': 'prod',\n  'environment_gpu_name': 'AzureML-AutoML-GPU',\n  'environment_gpu_label': 'prod',\n  'root_attribution': 'automl',\n  'attribution': 'AutoML',\n  'Orchestrator': 'AutoML',\n  'CancelUri': 'https://southcentralus.experiments.azureml.net/jasmine/v1.0/subscriptions/3d1a56d2-7c81-4118-9790-f85d1acf0c77/resourceGroups/aml-quickstarts-141597/providers/Microsoft.MachineLearningServices/workspaces/quick-starts-ws-141597/experimentids/352e926f-81cd-403e-8035-24da0bb38a9d/cancel/AutoML_aa54d0b1-9cc7-4363-b8af-d7ce9e6d9c5f',\n  'ClientSdkVersion': '1.24.0',\n  'snapshotId': '00000000-0000-0000-0000-000000000000',\n  'SetupRunId': 'AutoML_aa54d0b1-9cc7-4363-b8af-d7ce9e6d9c5f_setup',\n  'SetupRunContainerId': 'dcid.AutoML_aa54d0b1-9cc7-4363-b8af-d7ce9e6d9c5f_setup',\n  'FeaturizationRunJsonPath': 'featurizer_container.json',\n  'FeaturizationRunId': 'AutoML_aa54d0b1-9cc7-4363-b8af-d7ce9e6d9c5f_featurize',\n  'ProblemInfoJsonString': '{\"dataset_num_categorical\": 0, \"is_sparse\": true, \"subsampling\": false, \"dataset_classes\": 50, \"dataset_features\": 175, \"dataset_samples\": 23027, \"single_frequency_class_detected\": false}',\n  'ModelExplainRunId': 'AutoML_aa54d0b1-9cc7-4363-b8af-d7ce9e6d9c5f_ModelExplain'},\n 'inputDatasets': [{'dataset': {'id': '044b4204-a665-4818-8af2-940ce69054fc'}, 'consumptionDetails': {'type': 'RunInput', 'inputName': 'training_data', 'mechanism': 'Direct'}}],\n 'outputDatasets': [],\n 'logFiles': {},\n 'submittedBy': 'ODL_User 141597'}"
          },
          "metadata": {}
        }
      ],
      "execution_count": 9,
      "metadata": {
        "collapsed": true,
        "jupyter": {
          "source_hidden": false,
          "outputs_hidden": false
        },
        "nteract": {
          "transient": {
            "deleting": false
          }
        },
        "gather": {
          "logged": 1617045799530
        }
      }
    },
    {
      "cell_type": "markdown",
      "source": [
        "## Best Model"
      ],
      "metadata": {
        "nteract": {
          "transient": {
            "deleting": false
          }
        }
      }
    },
    {
      "cell_type": "code",
      "source": [
        "# Retrieve and save your best automl model.\r\n",
        "best_automl_run,best_automl_model=automl_run.get_output()\r\n",
        "best_run_metrics=automl_run.get_metrics()\r\n",
        "for primary_metric in best_run_metrics:\r\n",
        "    metric=best_run_metrics[primary_metric]\r\n",
        "    print(primary_metric,metric)"
      ],
      "outputs": [
        {
          "output_type": "stream",
          "name": "stdout",
          "text": [
            "experiment_status ['DatasetEvaluation', 'FeaturesGeneration', 'DatasetFeaturization', 'DatasetFeaturizationCompleted', 'DatasetCrossValidationSplit', 'ModelSelection', 'BestRunExplainModel', 'ModelExplanationDataSetSetup', 'PickSurrogateModel', 'EngineeredFeatureExplanations', 'EngineeredFeatureExplanations', 'RawFeaturesExplanations', 'FailedModelExplanations']\n",
            "experiment_status_description ['Gathering dataset statistics.', 'Generating features for the dataset.', 'Beginning to fit featurizers and featurize the dataset.', 'Completed fit featurizers and featurizing the dataset.', 'Generating individually featurized CV splits.', 'Beginning model selection.', 'Best run model explanations started', 'Model explanations data setup completed', 'Choosing LightGBM as the surrogate model for explanations', 'Computation of engineered features started', 'Computation of engineered features completed', 'Computation of raw features started', 'Failed to explain best model']\n",
            "explained_variance 0.9999406403126474\n",
            "root_mean_squared_error 0.0010935400021676845\n",
            "normalized_root_mean_squared_error 0.002063283022957895\n",
            "r2_score 0.999940626591641\n",
            "mean_absolute_percentage_error 0.08115415494532932\n",
            "median_absolute_error 0.00026196511014142665\n",
            "mean_absolute_error 0.0005502456357993846\n",
            "normalized_median_absolute_error 0.0004942737927196728\n",
            "root_mean_squared_log_error 0.0006409369648523152\n",
            "normalized_root_mean_squared_log_error 0.0020085880361973988\n",
            "normalized_mean_absolute_error 0.0010381993128290275\n",
            "spearman_correlation 0.9991891601956218\n"
          ]
        }
      ],
      "execution_count": 10,
      "metadata": {
        "collapsed": true,
        "jupyter": {
          "source_hidden": false,
          "outputs_hidden": false
        },
        "nteract": {
          "transient": {
            "deleting": false
          }
        },
        "gather": {
          "logged": 1617045916501
        }
      }
    },
    {
      "cell_type": "code",
      "source": [
        "print(best_automl_run)\r\n",
        "best_automl_run"
      ],
      "outputs": [
        {
          "output_type": "stream",
          "name": "stdout",
          "text": [
            "Run(Experiment: data_quality_analysis,\n",
            "Id: AutoML_aa54d0b1-9cc7-4363-b8af-d7ce9e6d9c5f_0,\n",
            "Type: azureml.scriptrun,\n",
            "Status: Completed)\n"
          ]
        },
        {
          "output_type": "execute_result",
          "execution_count": 11,
          "data": {
            "text/plain": "Run(Experiment: data_quality_analysis,\nId: AutoML_aa54d0b1-9cc7-4363-b8af-d7ce9e6d9c5f_0,\nType: azureml.scriptrun,\nStatus: Completed)",
            "text/html": "<table style=\"width:100%\"><tr><th>Experiment</th><th>Id</th><th>Type</th><th>Status</th><th>Details Page</th><th>Docs Page</th></tr><tr><td>data_quality_analysis</td><td>AutoML_aa54d0b1-9cc7-4363-b8af-d7ce9e6d9c5f_0</td><td>azureml.scriptrun</td><td>Completed</td><td><a href=\"https://ml.azure.com/experiments/data_quality_analysis/runs/AutoML_aa54d0b1-9cc7-4363-b8af-d7ce9e6d9c5f_0?wsid=/subscriptions/3d1a56d2-7c81-4118-9790-f85d1acf0c77/resourcegroups/aml-quickstarts-141597/workspaces/quick-starts-ws-141597\" target=\"_blank\" rel=\"noopener\">Link to Azure Machine Learning studio</a></td><td><a href=\"https://docs.microsoft.com/en-us/python/api/azureml-core/azureml.core.run.Run?view=azure-ml-py\" target=\"_blank\" rel=\"noopener\">Link to Documentation</a></td></tr></table>"
          },
          "metadata": {}
        }
      ],
      "execution_count": 11,
      "metadata": {
        "collapsed": true,
        "jupyter": {
          "source_hidden": false,
          "outputs_hidden": false
        },
        "nteract": {
          "transient": {
            "deleting": false
          }
        },
        "gather": {
          "logged": 1617046052175
        }
      }
    },
    {
      "cell_type": "markdown",
      "source": [
        "## Classification using kNN"
      ],
      "metadata": {
        "nteract": {
          "transient": {
            "deleting": false
          }
        }
      }
    },
    {
      "cell_type": "code",
      "source": [
        "from numpy import asarray\r\n",
        "from sklearn.preprocessing import OrdinalEncoder\r\n",
        "# define data\r\n",
        "ds = asarray([['Gold'], ['Silver'], ['Bronze']])\r\n",
        "print(ds)\r\n",
        "# define ordinal encoding\r\n",
        "encoder = OrdinalEncoder()\r\n",
        "# transform data\r\n",
        "result = encoder.fit_transform(ds)\r\n",
        "print(result)"
      ],
      "outputs": [
        {
          "output_type": "stream",
          "name": "stdout",
          "text": [
            "[['Gold']\n",
            " ['Silver']\n",
            " ['Bronze']]\n",
            "[[1.]\n",
            " [2.]\n",
            " [0.]]\n"
          ]
        }
      ],
      "execution_count": 58,
      "metadata": {
        "collapsed": true,
        "jupyter": {
          "source_hidden": false,
          "outputs_hidden": false
        },
        "nteract": {
          "transient": {
            "deleting": false
          }
        },
        "gather": {
          "logged": 1617057287312
        }
      }
    },
    {
      "cell_type": "code",
      "source": [
        "ds=ds.drop_columns('package','grade')\r\n",
        "def data(df):\r\n",
        "    y=df.pop('grade_norm')\r\n",
        "    X=df\r\n",
        "    return X,y\r\n",
        "\r\n",
        "ds=TabularDatasetFactory.from_delimited_files(path=auto_ds_path)\r\n",
        "ds= ds.to_pandas_dataframe()\r\n",
        "X,y=data(ds)\r\n"
      ],
      "outputs": [
        {
          "output_type": "error",
          "ename": "AttributeError",
          "evalue": "'DataFrame' object has no attribute 'drop_columns'",
          "traceback": [
            "\u001b[0;31m---------------------------------------------------------------------------\u001b[0m",
            "\u001b[0;31mAttributeError\u001b[0m                            Traceback (most recent call last)",
            "\u001b[0;32m<ipython-input-65-4dc9820b11e4>\u001b[0m in \u001b[0;36m<module>\u001b[0;34m\u001b[0m\n\u001b[0;32m----> 1\u001b[0;31m \u001b[0mds\u001b[0m\u001b[0;34m=\u001b[0m\u001b[0mds\u001b[0m\u001b[0;34m.\u001b[0m\u001b[0mdrop_columns\u001b[0m\u001b[0;34m(\u001b[0m\u001b[0;34m'package'\u001b[0m\u001b[0;34m,\u001b[0m\u001b[0;34m'grade'\u001b[0m\u001b[0;34m)\u001b[0m\u001b[0;34m\u001b[0m\u001b[0;34m\u001b[0m\u001b[0m\n\u001b[0m\u001b[1;32m      2\u001b[0m \u001b[0;32mdef\u001b[0m \u001b[0mdata\u001b[0m\u001b[0;34m(\u001b[0m\u001b[0mdf\u001b[0m\u001b[0;34m)\u001b[0m\u001b[0;34m:\u001b[0m\u001b[0;34m\u001b[0m\u001b[0;34m\u001b[0m\u001b[0m\n\u001b[1;32m      3\u001b[0m     \u001b[0my\u001b[0m\u001b[0;34m=\u001b[0m\u001b[0mdf\u001b[0m\u001b[0;34m.\u001b[0m\u001b[0mpop\u001b[0m\u001b[0;34m(\u001b[0m\u001b[0;34m'grade_norm'\u001b[0m\u001b[0;34m)\u001b[0m\u001b[0;34m\u001b[0m\u001b[0;34m\u001b[0m\u001b[0m\n\u001b[1;32m      4\u001b[0m     \u001b[0mX\u001b[0m\u001b[0;34m=\u001b[0m\u001b[0mdf\u001b[0m\u001b[0;34m\u001b[0m\u001b[0;34m\u001b[0m\u001b[0m\n\u001b[1;32m      5\u001b[0m     \u001b[0;32mreturn\u001b[0m \u001b[0mX\u001b[0m\u001b[0;34m,\u001b[0m\u001b[0my\u001b[0m\u001b[0;34m\u001b[0m\u001b[0;34m\u001b[0m\u001b[0m\n",
            "\u001b[0;32m/anaconda/envs/azureml_py36/lib/python3.6/site-packages/pandas/core/generic.py\u001b[0m in \u001b[0;36m__getattr__\u001b[0;34m(self, name)\u001b[0m\n\u001b[1;32m   5177\u001b[0m             \u001b[0;32mif\u001b[0m \u001b[0mself\u001b[0m\u001b[0;34m.\u001b[0m\u001b[0m_info_axis\u001b[0m\u001b[0;34m.\u001b[0m\u001b[0m_can_hold_identifiers_and_holds_name\u001b[0m\u001b[0;34m(\u001b[0m\u001b[0mname\u001b[0m\u001b[0;34m)\u001b[0m\u001b[0;34m:\u001b[0m\u001b[0;34m\u001b[0m\u001b[0;34m\u001b[0m\u001b[0m\n\u001b[1;32m   5178\u001b[0m                 \u001b[0;32mreturn\u001b[0m \u001b[0mself\u001b[0m\u001b[0;34m[\u001b[0m\u001b[0mname\u001b[0m\u001b[0;34m]\u001b[0m\u001b[0;34m\u001b[0m\u001b[0;34m\u001b[0m\u001b[0m\n\u001b[0;32m-> 5179\u001b[0;31m             \u001b[0;32mreturn\u001b[0m \u001b[0mobject\u001b[0m\u001b[0;34m.\u001b[0m\u001b[0m__getattribute__\u001b[0m\u001b[0;34m(\u001b[0m\u001b[0mself\u001b[0m\u001b[0;34m,\u001b[0m \u001b[0mname\u001b[0m\u001b[0;34m)\u001b[0m\u001b[0;34m\u001b[0m\u001b[0;34m\u001b[0m\u001b[0m\n\u001b[0m\u001b[1;32m   5180\u001b[0m \u001b[0;34m\u001b[0m\u001b[0m\n\u001b[1;32m   5181\u001b[0m     \u001b[0;32mdef\u001b[0m \u001b[0m__setattr__\u001b[0m\u001b[0;34m(\u001b[0m\u001b[0mself\u001b[0m\u001b[0;34m,\u001b[0m \u001b[0mname\u001b[0m\u001b[0;34m,\u001b[0m \u001b[0mvalue\u001b[0m\u001b[0;34m)\u001b[0m\u001b[0;34m:\u001b[0m\u001b[0;34m\u001b[0m\u001b[0;34m\u001b[0m\u001b[0m\n",
            "\u001b[0;31mAttributeError\u001b[0m: 'DataFrame' object has no attribute 'drop_columns'"
          ]
        }
      ],
      "execution_count": 65,
      "metadata": {
        "collapsed": true,
        "jupyter": {
          "source_hidden": false,
          "outputs_hidden": false
        },
        "nteract": {
          "transient": {
            "deleting": false
          }
        },
        "gather": {
          "logged": 1617049147645
        }
      }
    },
    {
      "cell_type": "markdown",
      "source": [
        "## Import the class"
      ],
      "metadata": {
        "nteract": {
          "transient": {
            "deleting": false
          }
        }
      }
    },
    {
      "cell_type": "code",
      "source": [
        "from sklearn.model_selection import train_test_split\r\n",
        "from sklearn.neighbors import KNeighborsClassifier\r\n",
        "import argparse\r\n",
        "X_train,X_test,y_train,y_test=train_test_split(X,y,test_size=0.2,random_state=0)"
      ],
      "outputs": [],
      "execution_count": 34,
      "metadata": {
        "collapsed": true,
        "jupyter": {
          "source_hidden": false,
          "outputs_hidden": false
        },
        "nteract": {
          "transient": {
            "deleting": false
          }
        },
        "gather": {
          "logged": 1617049503615
        }
      }
    },
    {
      "cell_type": "markdown",
      "source": [
        "## Instantiate the estimator"
      ],
      "metadata": {
        "nteract": {
          "transient": {
            "deleting": false
          }
        }
      }
    },
    {
      "cell_type": "code",
      "source": [
        "knn=KNeighborsClassifier(n_neighbors=5)\r\n",
        "print(knn)"
      ],
      "outputs": [
        {
          "output_type": "stream",
          "name": "stdout",
          "text": [
            "KNeighborsClassifier(algorithm='auto', leaf_size=30, metric='minkowski',\n",
            "                     metric_params=None, n_jobs=None, n_neighbors=5, p=2,\n",
            "                     weights='uniform')\n"
          ]
        }
      ],
      "execution_count": 35,
      "metadata": {
        "collapsed": true,
        "jupyter": {
          "source_hidden": false,
          "outputs_hidden": false
        },
        "nteract": {
          "transient": {
            "deleting": false
          }
        },
        "gather": {
          "logged": 1617049507620
        }
      }
    },
    {
      "cell_type": "markdown",
      "source": [
        "## Model Training"
      ],
      "metadata": {
        "nteract": {
          "transient": {
            "deleting": false
          }
        }
      }
    },
    {
      "cell_type": "code",
      "source": [
        "type(X)"
      ],
      "outputs": [
        {
          "output_type": "execute_result",
          "execution_count": 44,
          "data": {
            "text/plain": "pandas.core.frame.DataFrame"
          },
          "metadata": {}
        }
      ],
      "execution_count": 44,
      "metadata": {
        "collapsed": true,
        "jupyter": {
          "source_hidden": false,
          "outputs_hidden": false
        },
        "nteract": {
          "transient": {
            "deleting": false
          }
        },
        "gather": {
          "logged": 1617049732753
        }
      }
    },
    {
      "cell_type": "code",
      "source": [
        "knn.fit(X,y)\r\n",
        "except ValueError,e:\r\n",
        "        print \"error\",e,\"on line\",i"
      ],
      "outputs": [
        {
          "output_type": "error",
          "ename": "SyntaxError",
          "evalue": "invalid syntax (<ipython-input-40-e94cfc61570c>, line 2)",
          "traceback": [
            "\u001b[0;36m  File \u001b[0;32m\"<ipython-input-40-e94cfc61570c>\"\u001b[0;36m, line \u001b[0;32m2\u001b[0m\n\u001b[0;31m    except ValueError,e:\u001b[0m\n\u001b[0m         ^\u001b[0m\n\u001b[0;31mSyntaxError\u001b[0m\u001b[0;31m:\u001b[0m invalid syntax\n"
          ]
        }
      ],
      "execution_count": 40,
      "metadata": {
        "collapsed": true,
        "jupyter": {
          "source_hidden": false,
          "outputs_hidden": false
        },
        "nteract": {
          "transient": {
            "deleting": false
          }
        }
      }
    },
    {
      "cell_type": "markdown",
      "source": [
        "## Model Prediction"
      ],
      "metadata": {
        "nteract": {
          "transient": {
            "deleting": false
          }
        }
      }
    },
    {
      "cell_type": "code",
      "source": [],
      "outputs": [],
      "execution_count": null,
      "metadata": {
        "collapsed": true,
        "jupyter": {
          "source_hidden": false,
          "outputs_hidden": false
        },
        "nteract": {
          "transient": {
            "deleting": false
          }
        }
      }
    }
  ],
  "metadata": {
    "kernelspec": {
      "name": "python3-azureml",
      "language": "python",
      "display_name": "Python 3.6 - AzureML"
    },
    "language_info": {
      "name": "python",
      "version": "3.6.9",
      "mimetype": "text/x-python",
      "codemirror_mode": {
        "name": "ipython",
        "version": 3
      },
      "pygments_lexer": "ipython3",
      "nbconvert_exporter": "python",
      "file_extension": ".py"
    },
    "kernel_info": {
      "name": "python3-azureml"
    },
    "nteract": {
      "version": "nteract-front-end@1.0.0"
    },
    "microsoft": {
      "host": {
        "AzureML": {
          "notebookHasBeenCompleted": true
        }
      }
    }
  },
  "nbformat": 4,
  "nbformat_minor": 2
}