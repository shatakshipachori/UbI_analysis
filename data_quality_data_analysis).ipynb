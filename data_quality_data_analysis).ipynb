{
  "cells": [
    {
      "cell_type": "markdown",
      "source": [
        "## Importing dependencies"
      ],
      "metadata": {
        "nteract": {
          "transient": {
            "deleting": false
          }
        }
      }
    },
    {
      "cell_type": "code",
      "source": [
        "import os\r\n",
        "import joblib\r\n",
        "from azureml.core import Workspace, Experiment\r\n",
        "from azureml.data.dataset_factory import TabularDatasetFactory\r\n",
        "from azureml.core.compute import ComputeTarget, AmlCompute\r\n",
        "from azureml.train.automl import AutoMLConfig\r\n",
        "\r\n",
        "from matplotlib import pyplot as plt\r\n",
        "import numpy as np\r\n",
        "import pandas as pd\r\n"
      ],
      "outputs": [],
      "execution_count": 130,
      "metadata": {
        "collapsed": true,
        "jupyter": {
          "source_hidden": false,
          "outputs_hidden": false
        },
        "nteract": {
          "transient": {
            "deleting": false
          }
        },
        "gather": {
          "logged": 1617223588912
        }
      }
    },
    {
      "cell_type": "markdown",
      "source": [
        "## Initialize workspace"
      ],
      "metadata": {
        "nteract": {
          "transient": {
            "deleting": false
          }
        }
      }
    },
    {
      "cell_type": "code",
      "source": [
        "ws = Workspace.from_config()\r\n",
        "print(ws.name, ws.resource_group, ws.location, ws.subscription_id, sep = '\\n')"
      ],
      "outputs": [
        {
          "output_type": "stream",
          "name": "stdout",
          "text": [
            "quick-starts-ws-141702\n",
            "aml-quickstarts-141702\n",
            "southcentralus\n",
            "d4ad7261-832d-46b2-b093-22156001df5b\n"
          ]
        }
      ],
      "execution_count": 132,
      "metadata": {
        "collapsed": true,
        "jupyter": {
          "source_hidden": false,
          "outputs_hidden": false
        },
        "nteract": {
          "transient": {
            "deleting": false
          }
        },
        "gather": {
          "logged": 1617223596748
        }
      }
    },
    {
      "cell_type": "markdown",
      "source": [
        "## Auto ML Experiment"
      ],
      "metadata": {
        "nteract": {
          "transient": {
            "deleting": false
          }
        }
      }
    },
    {
      "cell_type": "code",
      "source": [
        "# Choose a name for the run history container in the workspace.\r\n",
        "# NOTE: update these to match your existing experiment name\r\n",
        "experiment_name = 'data_quality_analysis'\r\n",
        "project_folder = './catalogue-scorecard-project'\r\n",
        "\r\n",
        "experiment = Experiment(ws, experiment_name)\r\n",
        "experiment"
      ],
      "outputs": [
        {
          "output_type": "execute_result",
          "execution_count": 131,
          "data": {
            "text/plain": "Experiment(Name: data_quality_analysis,\nWorkspace: quick-starts-ws-141702)",
            "text/html": "<table style=\"width:100%\"><tr><th>Name</th><th>Workspace</th><th>Report Page</th><th>Docs Page</th></tr><tr><td>data_quality_analysis</td><td>quick-starts-ws-141702</td><td><a href=\"https://ml.azure.com/experiments/data_quality_analysis?wsid=/subscriptions/d4ad7261-832d-46b2-b093-22156001df5b/resourcegroups/aml-quickstarts-141702/workspaces/quick-starts-ws-141702\" target=\"_blank\" rel=\"noopener\">Link to Azure Machine Learning studio</a></td><td><a href=\"https://docs.microsoft.com/en-us/python/api/azureml-core/azureml.core.experiment.Experiment?view=azure-ml-py\" target=\"_blank\" rel=\"noopener\">Link to Documentation</a></td></tr></table>"
          },
          "metadata": {}
        }
      ],
      "execution_count": 131,
      "metadata": {
        "collapsed": true,
        "jupyter": {
          "source_hidden": false,
          "outputs_hidden": false
        },
        "nteract": {
          "transient": {
            "deleting": false
          }
        },
        "gather": {
          "logged": 1617223591647
        }
      }
    },
    {
      "cell_type": "markdown",
      "source": [
        "## Create an AmlCompute cluster"
      ],
      "metadata": {
        "nteract": {
          "transient": {
            "deleting": false
          }
        }
      }
    },
    {
      "cell_type": "code",
      "source": [
        "from azureml.core.compute import AmlCompute\r\n",
        "from azureml.core.compute import ComputeTarget\r\n",
        "from azureml.core.compute_target import ComputeTargetException\r\n",
        "\r\n",
        "# Choose a name for your CPU cluster\r\n",
        "amlcompute_cluster_name = \"comp\"\r\n",
        "\r\n",
        "# Verify that cluster does not exist already\r\n",
        "try:\r\n",
        "    compute_target = ComputeTarget(workspace=ws, name=amlcompute_cluster_name)\r\n",
        "    print('Found existing cluster, use it.')\r\n",
        "except ComputeTargetException:\r\n",
        "    compute_config = AmlCompute.provisioning_configuration(vm_size='STANDARD_DS3_v2',#for GPU, use \"STANDARD_NC6\"\r\n",
        "                                                           #vm_priority = 'lowpriority', # optional\r\n",
        "                                                           max_nodes=4)\r\n",
        "    compute_target = ComputeTarget.create(ws, amlcompute_cluster_name, compute_config)\r\n",
        "\r\n",
        "compute_target.wait_for_completion(show_output=True)"
      ],
      "outputs": [
        {
          "output_type": "stream",
          "name": "stdout",
          "text": [
            "Found existing cluster, use it.\n",
            "\n",
            "Running\n"
          ]
        }
      ],
      "execution_count": 133,
      "metadata": {
        "collapsed": true,
        "jupyter": {
          "source_hidden": false,
          "outputs_hidden": false
        },
        "nteract": {
          "transient": {
            "deleting": false
          }
        },
        "gather": {
          "logged": 1617223608208
        }
      }
    },
    {
      "cell_type": "markdown",
      "source": [
        "## Data import"
      ],
      "metadata": {
        "nteract": {
          "transient": {
            "deleting": false
          }
        }
      }
    },
    {
      "cell_type": "code",
      "source": [
        "import pandas as pd\r\n",
        "\r\n",
        "auto_ds_path=\"https://raw.githubusercontent.com/shatakshipachori/data_quality_analysis/main/catalogue-scorecard.csv\"\r\n",
        "data=TabularDatasetFactory.from_delimited_files(path=auto_ds_path)\r\n"
      ],
      "outputs": [],
      "execution_count": 135,
      "metadata": {
        "collapsed": true,
        "jupyter": {
          "source_hidden": false,
          "outputs_hidden": false
        },
        "nteract": {
          "transient": {
            "deleting": false
          }
        },
        "gather": {
          "logged": 1617224164034
        }
      }
    },
    {
      "cell_type": "markdown",
      "source": [
        "## AutoML Configuration"
      ],
      "metadata": {
        "nteract": {
          "transient": {
            "deleting": false
          }
        }
      }
    },
    {
      "cell_type": "code",
      "source": [
        "import logging\r\n",
        "import time\r\n",
        "\r\n",
        "# TODO: Put your automl settings here\r\n",
        "automl_settings = {\r\n",
        "    \"n_cross_validations\":5,\r\n",
        "    \"primary_metric\":'normalized_root_mean_squared_error',\r\n",
        "    \"enable_early_stopping\":True,\r\n",
        "    \"experiment_timeout_minutes\":30,\r\n",
        "    \"max_concurrent_iterations\":5,\r\n",
        "   }\r\n",
        "\r\n",
        "# TODO: Put your automl config here\r\n",
        "automl_config = AutoMLConfig(\r\n",
        "    task='regression',\r\n",
        "    compute_target='comp',\r\n",
        "    training_data=data,\r\n",
        "    label_column_name='score',\r\n",
        "    **automl_settings\r\n",
        "    )"
      ],
      "outputs": [],
      "execution_count": 136,
      "metadata": {
        "collapsed": true,
        "jupyter": {
          "source_hidden": false,
          "outputs_hidden": false
        },
        "nteract": {
          "transient": {
            "deleting": false
          }
        },
        "gather": {
          "logged": 1617224167285
        }
      }
    },
    {
      "cell_type": "markdown",
      "source": [
        "## Submit the experiment"
      ],
      "metadata": {
        "nteract": {
          "transient": {
            "deleting": false
          }
        }
      }
    },
    {
      "cell_type": "code",
      "source": [
        "automl_run=experiment.submit(config=automl_config,show_output=True)"
      ],
      "outputs": [
        {
          "output_type": "stream",
          "name": "stdout",
          "text": [
            "Running on remote.\n",
            "No run_configuration provided, running on comp with default configuration\n",
            "Running on remote compute: comp\n",
            "Parent Run ID: AutoML_5c98a544-75e6-424d-97da-798a6fafe860\n",
            "\n",
            "Current status: FeaturesGeneration. Generating features for the dataset.\n",
            "Current status: DatasetCrossValidationSplit. Generating individually featurized CV splits.\n",
            "Current status: ModelSelection. Beginning model selection.\n",
            "\n",
            "****************************************************************************************************\n",
            "DATA GUARDRAILS: \n",
            "\n",
            "TYPE:         Missing feature values imputation\n",
            "STATUS:       PASSED\n",
            "DESCRIPTION:  No feature missing values were detected in the training data.\n",
            "              Learn more about missing value imputation: https://aka.ms/AutomatedMLFeaturization\n",
            "\n",
            "****************************************************************************************************\n",
            "\n",
            "TYPE:         High cardinality feature detection\n",
            "STATUS:       PASSED\n",
            "DESCRIPTION:  Your inputs were analyzed, and no high cardinality features were detected.\n",
            "              Learn more about high cardinality feature handling: https://aka.ms/AutomatedMLFeaturization\n",
            "\n",
            "****************************************************************************************************\n",
            "\n",
            "****************************************************************************************************\n",
            "ITERATION: The iteration being evaluated.\n",
            "PIPELINE: A summary description of the pipeline being evaluated.\n",
            "DURATION: Time taken for the current iteration.\n",
            "METRIC: The result of computing score on the fitted pipeline.\n",
            "BEST: The best observed score thus far.\n",
            "****************************************************************************************************\n",
            "\n",
            " ITERATION   PIPELINE                                       DURATION      METRIC      BEST\n",
            "         0   MaxAbsScaler LightGBM                          0:00:50       0.0018    0.0018\n",
            "         2   StandardScalerWrapper ElasticNet               0:00:51       0.0685    0.0018\n",
            "         3   MaxAbsScaler DecisionTree                      0:00:48       0.0168    0.0018\n",
            "         4   MaxAbsScaler ElasticNet                        0:00:52       0.0126    0.0018\n",
            "         1   MaxAbsScaler XGBoostRegressor                  0:00:57       0.0042    0.0018\n",
            "         5   MaxAbsScaler DecisionTree                      0:00:45       0.0094    0.0018\n",
            "         8   MaxAbsScaler DecisionTree                      0:00:44       0.0171    0.0018\n",
            "         9   MaxAbsScaler DecisionTree                      0:00:39       0.0082    0.0018\n",
            "         6   MaxAbsScaler DecisionTree                      0:00:45       0.0059    0.0018\n",
            "         7   MaxAbsScaler DecisionTree                      0:00:47       0.0101    0.0018\n",
            "        10   MaxAbsScaler DecisionTree                      0:00:47       0.0177    0.0018\n",
            "        11   MaxAbsScaler DecisionTree                      0:00:44       0.0064    0.0018\n",
            "        12   MaxAbsScaler DecisionTree                      0:00:45       0.0208    0.0018\n",
            "        13   StandardScalerWrapper DecisionTree             0:00:43       0.0154    0.0018\n",
            "        14   MaxAbsScaler DecisionTree                      0:01:19       0.0246    0.0018\n",
            "        17   MaxAbsScaler DecisionTree                      0:00:43       0.0058    0.0018\n",
            "        18   MaxAbsScaler DecisionTree                      0:00:42       0.0216    0.0018\n",
            "        15   MaxAbsScaler DecisionTree                      0:00:51       0.0213    0.0018\n",
            "        16   MaxAbsScaler SGD                               0:00:45       0.0719    0.0018\n",
            "        19   MaxAbsScaler DecisionTree                      0:00:53       0.0237    0.0018\n",
            "        20   MaxAbsScaler SGD                               0:00:45       0.0153    0.0018\n",
            "        21   MaxAbsScaler DecisionTree                      0:00:45       0.0110    0.0018\n",
            "        22   MaxAbsScaler DecisionTree                      0:00:41       0.0078    0.0018\n",
            "        23   MaxAbsScaler DecisionTree                      0:00:45       0.0072    0.0018\n",
            "        24   MaxAbsScaler DecisionTree                      0:00:50       0.0080    0.0018\n",
            "        25   MaxAbsScaler LightGBM                          0:00:47       0.0464    0.0018\n",
            "        26   MaxAbsScaler DecisionTree                      0:00:42       0.0188    0.0018\n",
            "        27   MaxAbsScaler DecisionTree                      0:00:42       0.0118    0.0018\n",
            "        28   MaxAbsScaler DecisionTree                      0:00:45       0.0093    0.0018\n",
            "        29   MaxAbsScaler DecisionTree                      0:02:25       0.0086    0.0018\n",
            "        30   MaxAbsScaler LightGBM                          0:02:22       0.0451    0.0018\n",
            "        31   MaxAbsScaler DecisionTree                      0:02:22       0.0124    0.0018\n",
            "        32   MaxAbsScaler DecisionTree                      0:02:23       0.0103    0.0018\n",
            "        33   MaxAbsScaler DecisionTree                      0:02:26       0.0063    0.0018\n",
            "        34                                                  0:00:19          nan    0.0018\n",
            "        35                                                  0:00:07          nan    0.0018\n",
            "        36                                                  0:00:08          nan    0.0018\n",
            "        37                                                  0:00:08          nan    0.0018\n",
            "        38    VotingEnsemble                                0:00:57       0.0018    0.0018\n",
            "        39    StackEnsemble                                 0:01:06       0.0019    0.0018\n"
          ]
        }
      ],
      "execution_count": 137,
      "metadata": {
        "collapsed": true,
        "jupyter": {
          "source_hidden": false,
          "outputs_hidden": false
        },
        "nteract": {
          "transient": {
            "deleting": false
          }
        },
        "gather": {
          "logged": 1617225098653
        }
      }
    },
    {
      "cell_type": "markdown",
      "source": [
        "## Run Details"
      ],
      "metadata": {
        "nteract": {
          "transient": {
            "deleting": false
          }
        }
      }
    },
    {
      "cell_type": "code",
      "source": [
        "from azureml.widgets import RunDetails\r\n",
        "RunDetails(automl_run).show()\r\n",
        "automl_run.wait_for_completion(show_output=True)"
      ],
      "outputs": [
        {
          "output_type": "display_data",
          "data": {
            "text/plain": "_AutoMLWidget(widget_settings={'childWidgetDisplay': 'popup', 'send_telemetry': False, 'log_level': 'INFO', 's…",
            "application/vnd.jupyter.widget-view+json": {
              "version_major": 2,
              "version_minor": 0,
              "model_id": "36d2c013b38b4eb696e5e657ed182edb"
            }
          },
          "metadata": {}
        },
        {
          "output_type": "display_data",
          "data": {
            "application/aml.mini.widget.v1": "{\"status\": \"Completed\", \"workbench_run_details_uri\": \"https://ml.azure.com/experiments/data_quality_analysis/runs/AutoML_7d5080b1-bb8e-49af-9e32-8ee709929dba?wsid=/subscriptions/d4ad7261-832d-46b2-b093-22156001df5b/resourcegroups/aml-quickstarts-141702/workspaces/quick-starts-ws-141702\", \"run_id\": \"AutoML_7d5080b1-bb8e-49af-9e32-8ee709929dba\", \"run_properties\": {\"run_id\": \"AutoML_7d5080b1-bb8e-49af-9e32-8ee709929dba\", \"created_utc\": \"2021-03-31T17:05:57.617567Z\", \"properties\": {\"num_iterations\": \"1000\", \"training_type\": \"TrainFull\", \"acquisition_function\": \"EI\", \"primary_metric\": \"normalized_root_mean_squared_error\", \"train_split\": \"0\", \"acquisition_parameter\": \"0\", \"num_cross_validation\": \"5\", \"target\": \"comp\", \"AMLSettingsJsonString\": \"{\\\"path\\\":null,\\\"name\\\":\\\"data_quality_analysis\\\",\\\"subscription_id\\\":\\\"d4ad7261-832d-46b2-b093-22156001df5b\\\",\\\"resource_group\\\":\\\"aml-quickstarts-141702\\\",\\\"workspace_name\\\":\\\"quick-starts-ws-141702\\\",\\\"region\\\":\\\"southcentralus\\\",\\\"compute_target\\\":\\\"comp\\\",\\\"spark_service\\\":null,\\\"azure_service\\\":\\\"remote\\\",\\\"many_models\\\":false,\\\"pipeline_fetch_max_batch_size\\\":1,\\\"enable_batch_run\\\":false,\\\"iterations\\\":1000,\\\"primary_metric\\\":\\\"normalized_root_mean_squared_error\\\",\\\"task_type\\\":\\\"regression\\\",\\\"data_script\\\":null,\\\"validation_size\\\":0.0,\\\"n_cross_validations\\\":5,\\\"y_min\\\":null,\\\"y_max\\\":null,\\\"num_classes\\\":null,\\\"featurization\\\":\\\"auto\\\",\\\"_ignore_package_version_incompatibilities\\\":false,\\\"is_timeseries\\\":false,\\\"max_cores_per_iteration\\\":1,\\\"max_concurrent_iterations\\\":5,\\\"iteration_timeout_minutes\\\":null,\\\"mem_in_mb\\\":null,\\\"enforce_time_on_windows\\\":false,\\\"experiment_timeout_minutes\\\":30,\\\"experiment_exit_score\\\":null,\\\"whitelist_models\\\":null,\\\"blacklist_algos\\\":[\\\"TensorFlowDNN\\\",\\\"TensorFlowLinearRegressor\\\"],\\\"supported_models\\\":[\\\"ElasticNet\\\",\\\"SGD\\\",\\\"XGBoostRegressor\\\",\\\"FastLinearRegressor\\\",\\\"LightGBM\\\",\\\"DecisionTree\\\",\\\"KNN\\\",\\\"GradientBoosting\\\",\\\"ExtremeRandomTrees\\\",\\\"TensorFlowDNN\\\",\\\"LassoLars\\\",\\\"RandomForest\\\",\\\"OnlineGradientDescentRegressor\\\",\\\"TensorFlowLinearRegressor\\\"],\\\"private_models\\\":[],\\\"auto_blacklist\\\":true,\\\"blacklist_samples_reached\\\":false,\\\"exclude_nan_labels\\\":true,\\\"verbosity\\\":20,\\\"_debug_log\\\":\\\"azureml_automl.log\\\",\\\"show_warnings\\\":false,\\\"model_explainability\\\":true,\\\"service_url\\\":null,\\\"sdk_url\\\":null,\\\"sdk_packages\\\":null,\\\"enable_onnx_compatible_models\\\":false,\\\"enable_split_onnx_featurizer_estimator_models\\\":false,\\\"vm_type\\\":\\\"STANDARD_DS3_V2\\\",\\\"telemetry_verbosity\\\":20,\\\"send_telemetry\\\":true,\\\"enable_dnn\\\":false,\\\"scenario\\\":\\\"SDK-1.13.0\\\",\\\"environment_label\\\":null,\\\"save_mlflow\\\":false,\\\"force_text_dnn\\\":false,\\\"enable_feature_sweeping\\\":true,\\\"enable_early_stopping\\\":true,\\\"early_stopping_n_iters\\\":10,\\\"metrics\\\":null,\\\"enable_metric_confidence\\\":false,\\\"enable_ensembling\\\":true,\\\"enable_stack_ensembling\\\":true,\\\"ensemble_iterations\\\":15,\\\"enable_tf\\\":false,\\\"enable_subsampling\\\":null,\\\"subsample_seed\\\":null,\\\"enable_nimbusml\\\":false,\\\"enable_streaming\\\":false,\\\"force_streaming\\\":false,\\\"track_child_runs\\\":true,\\\"allowed_private_models\\\":[],\\\"label_column_name\\\":\\\"score\\\",\\\"weight_column_name\\\":null,\\\"cv_split_column_names\\\":null,\\\"enable_local_managed\\\":false,\\\"_local_managed_run_id\\\":null,\\\"cost_mode\\\":1,\\\"lag_length\\\":0,\\\"metric_operation\\\":\\\"minimize\\\",\\\"preprocess\\\":true}\", \"DataPrepJsonString\": \"{\\\\\\\"training_data\\\\\\\": \\\\\\\"{\\\\\\\\\\\\\\\"blocks\\\\\\\\\\\\\\\": [{\\\\\\\\\\\\\\\"id\\\\\\\\\\\\\\\": \\\\\\\\\\\\\\\"d7832a35-6728-4b6a-9293-7c16ba28ab40\\\\\\\\\\\\\\\", \\\\\\\\\\\\\\\"type\\\\\\\\\\\\\\\": \\\\\\\\\\\\\\\"Microsoft.DPrep.GetFilesBlock\\\\\\\\\\\\\\\", \\\\\\\\\\\\\\\"arguments\\\\\\\\\\\\\\\": {\\\\\\\\\\\\\\\"isArchive\\\\\\\\\\\\\\\": false, \\\\\\\\\\\\\\\"path\\\\\\\\\\\\\\\": {\\\\\\\\\\\\\\\"target\\\\\\\\\\\\\\\": 4, \\\\\\\\\\\\\\\"resourceDetails\\\\\\\\\\\\\\\": [{\\\\\\\\\\\\\\\"path\\\\\\\\\\\\\\\": \\\\\\\\\\\\\\\"https://raw.githubusercontent.com/shatakshipachori/data_quality_analysis/main/catalogue-scorecard.csv\\\\\\\\\\\\\\\"}]}}, \\\\\\\\\\\\\\\"localData\\\\\\\\\\\\\\\": {}, \\\\\\\\\\\\\\\"isEnabled\\\\\\\\\\\\\\\": true, \\\\\\\\\\\\\\\"name\\\\\\\\\\\\\\\": null, \\\\\\\\\\\\\\\"annotation\\\\\\\\\\\\\\\": null}, {\\\\\\\\\\\\\\\"id\\\\\\\\\\\\\\\": \\\\\\\\\\\\\\\"888b2f63-8147-421f-97ff-c547569aa964\\\\\\\\\\\\\\\", \\\\\\\\\\\\\\\"type\\\\\\\\\\\\\\\": \\\\\\\\\\\\\\\"Microsoft.DPrep.ParseDelimitedBlock\\\\\\\\\\\\\\\", \\\\\\\\\\\\\\\"arguments\\\\\\\\\\\\\\\": {\\\\\\\\\\\\\\\"columnHeadersMode\\\\\\\\\\\\\\\": 3, \\\\\\\\\\\\\\\"fileEncoding\\\\\\\\\\\\\\\": 0, \\\\\\\\\\\\\\\"handleQuotedLineBreaks\\\\\\\\\\\\\\\": false, \\\\\\\\\\\\\\\"preview\\\\\\\\\\\\\\\": false, \\\\\\\\\\\\\\\"separator\\\\\\\\\\\\\\\": \\\\\\\\\\\\\\\",\\\\\\\\\\\\\\\", \\\\\\\\\\\\\\\"skipRows\\\\\\\\\\\\\\\": 0, \\\\\\\\\\\\\\\"skipRowsMode\\\\\\\\\\\\\\\": 0}, \\\\\\\\\\\\\\\"localData\\\\\\\\\\\\\\\": {}, \\\\\\\\\\\\\\\"isEnabled\\\\\\\\\\\\\\\": true, \\\\\\\\\\\\\\\"name\\\\\\\\\\\\\\\": null, \\\\\\\\\\\\\\\"annotation\\\\\\\\\\\\\\\": null}, {\\\\\\\\\\\\\\\"id\\\\\\\\\\\\\\\": \\\\\\\\\\\\\\\"73059e80-ac6f-4059-b41f-aa6242118089\\\\\\\\\\\\\\\", \\\\\\\\\\\\\\\"type\\\\\\\\\\\\\\\": \\\\\\\\\\\\\\\"Microsoft.DPrep.DropColumnsBlock\\\\\\\\\\\\\\\", \\\\\\\\\\\\\\\"arguments\\\\\\\\\\\\\\\": {\\\\\\\\\\\\\\\"columns\\\\\\\\\\\\\\\": {\\\\\\\\\\\\\\\"type\\\\\\\\\\\\\\\": 0, \\\\\\\\\\\\\\\"details\\\\\\\\\\\\\\\": {\\\\\\\\\\\\\\\"selectedColumns\\\\\\\\\\\\\\\": [\\\\\\\\\\\\\\\"Path\\\\\\\\\\\\\\\"]}}}, \\\\\\\\\\\\\\\"localData\\\\\\\\\\\\\\\": {}, \\\\\\\\\\\\\\\"isEnabled\\\\\\\\\\\\\\\": true, \\\\\\\\\\\\\\\"name\\\\\\\\\\\\\\\": null, \\\\\\\\\\\\\\\"annotation\\\\\\\\\\\\\\\": null}, {\\\\\\\\\\\\\\\"id\\\\\\\\\\\\\\\": \\\\\\\\\\\\\\\"56aa8282-9528-40a7-8146-ccaa74144b0f\\\\\\\\\\\\\\\", \\\\\\\\\\\\\\\"type\\\\\\\\\\\\\\\": \\\\\\\\\\\\\\\"Microsoft.DPrep.SetColumnTypesBlock\\\\\\\\\\\\\\\", \\\\\\\\\\\\\\\"arguments\\\\\\\\\\\\\\\": {\\\\\\\\\\\\\\\"columnConversion\\\\\\\\\\\\\\\": [{\\\\\\\\\\\\\\\"column\\\\\\\\\\\\\\\": {\\\\\\\\\\\\\\\"type\\\\\\\\\\\\\\\": 2, \\\\\\\\\\\\\\\"details\\\\\\\\\\\\\\\": {\\\\\\\\\\\\\\\"selectedColumn\\\\\\\\\\\\\\\": \\\\\\\\\\\\\\\"_id\\\\\\\\\\\\\\\"}}, \\\\\\\\\\\\\\\"typeProperty\\\\\\\\\\\\\\\": 2}, {\\\\\\\\\\\\\\\"column\\\\\\\\\\\\\\\": {\\\\\\\\\\\\\\\"type\\\\\\\\\\\\\\\": 2, \\\\\\\\\\\\\\\"details\\\\\\\\\\\\\\\": {\\\\\\\\\\\\\\\"selectedColumn\\\\\\\\\\\\\\\": \\\\\\\\\\\\\\\"package\\\\\\\\\\\\\\\"}}, \\\\\\\\\\\\\\\"typeProperty\\\\\\\\\\\\\\\": 0}, {\\\\\\\\\\\\\\\"column\\\\\\\\\\\\\\\": {\\\\\\\\\\\\\\\"type\\\\\\\\\\\\\\\": 2, \\\\\\\\\\\\\\\"details\\\\\\\\\\\\\\\": {\\\\\\\\\\\\\\\"selectedColumn\\\\\\\\\\\\\\\": \\\\\\\\\\\\\\\"accessibility\\\\\\\\\\\\\\\"}}, \\\\\\\\\\\\\\\"typeProperty\\\\\\\\\\\\\\\": 2}, {\\\\\\\\\\\\\\\"column\\\\\\\\\\\\\\\": {\\\\\\\\\\\\\\\"type\\\\\\\\\\\\\\\": 2, \\\\\\\\\\\\\\\"details\\\\\\\\\\\\\\\": {\\\\\\\\\\\\\\\"selectedColumn\\\\\\\\\\\\\\\": \\\\\\\\\\\\\\\"completeness\\\\\\\\\\\\\\\"}}, \\\\\\\\\\\\\\\"typeProperty\\\\\\\\\\\\\\\": 3}, {\\\\\\\\\\\\\\\"column\\\\\\\\\\\\\\\": {\\\\\\\\\\\\\\\"type\\\\\\\\\\\\\\\": 2, \\\\\\\\\\\\\\\"details\\\\\\\\\\\\\\\": {\\\\\\\\\\\\\\\"selectedColumn\\\\\\\\\\\\\\\": \\\\\\\\\\\\\\\"freshness\\\\\\\\\\\\\\\"}}, \\\\\\\\\\\\\\\"typeProperty\\\\\\\\\\\\\\\": 3}, {\\\\\\\\\\\\\\\"column\\\\\\\\\\\\\\\": {\\\\\\\\\\\\\\\"type\\\\\\\\\\\\\\\": 2, \\\\\\\\\\\\\\\"details\\\\\\\\\\\\\\\": {\\\\\\\\\\\\\\\"selectedColumn\\\\\\\\\\\\\\\": \\\\\\\\\\\\\\\"metadata\\\\\\\\\\\\\\\"}}, \\\\\\\\\\\\\\\"typeProperty\\\\\\\\\\\\\\\": 3}, {\\\\\\\\\\\\\\\"column\\\\\\\\\\\\\\\": {\\\\\\\\\\\\\\\"type\\\\\\\\\\\\\\\": 2, \\\\\\\\\\\\\\\"details\\\\\\\\\\\\\\\": {\\\\\\\\\\\\\\\"selectedColumn\\\\\\\\\\\\\\\": \\\\\\\\\\\\\\\"usability\\\\\\\\\\\\\\\"}}, \\\\\\\\\\\\\\\"typeProperty\\\\\\\\\\\\\\\": 3}, {\\\\\\\\\\\\\\\"column\\\\\\\\\\\\\\\": {\\\\\\\\\\\\\\\"type\\\\\\\\\\\\\\\": 2, \\\\\\\\\\\\\\\"details\\\\\\\\\\\\\\\": {\\\\\\\\\\\\\\\"selectedColumn\\\\\\\\\\\\\\\": \\\\\\\\\\\\\\\"score\\\\\\\\\\\\\\\"}}, \\\\\\\\\\\\\\\"typeProperty\\\\\\\\\\\\\\\": 3}, {\\\\\\\\\\\\\\\"column\\\\\\\\\\\\\\\": {\\\\\\\\\\\\\\\"type\\\\\\\\\\\\\\\": 2, \\\\\\\\\\\\\\\"details\\\\\\\\\\\\\\\": {\\\\\\\\\\\\\\\"selectedColumn\\\\\\\\\\\\\\\": \\\\\\\\\\\\\\\"score_norm\\\\\\\\\\\\\\\"}}, \\\\\\\\\\\\\\\"typeProperty\\\\\\\\\\\\\\\": 3}, {\\\\\\\\\\\\\\\"column\\\\\\\\\\\\\\\": {\\\\\\\\\\\\\\\"type\\\\\\\\\\\\\\\": 2, \\\\\\\\\\\\\\\"details\\\\\\\\\\\\\\\": {\\\\\\\\\\\\\\\"selectedColumn\\\\\\\\\\\\\\\": \\\\\\\\\\\\\\\"grade\\\\\\\\\\\\\\\"}}, \\\\\\\\\\\\\\\"typeProperty\\\\\\\\\\\\\\\": 0}, {\\\\\\\\\\\\\\\"column\\\\\\\\\\\\\\\": {\\\\\\\\\\\\\\\"type\\\\\\\\\\\\\\\": 2, \\\\\\\\\\\\\\\"details\\\\\\\\\\\\\\\": {\\\\\\\\\\\\\\\"selectedColumn\\\\\\\\\\\\\\\": \\\\\\\\\\\\\\\"grade_norm\\\\\\\\\\\\\\\"}}, \\\\\\\\\\\\\\\"typeProperty\\\\\\\\\\\\\\\": 0}, {\\\\\\\\\\\\\\\"column\\\\\\\\\\\\\\\": {\\\\\\\\\\\\\\\"type\\\\\\\\\\\\\\\": 2, \\\\\\\\\\\\\\\"details\\\\\\\\\\\\\\\": {\\\\\\\\\\\\\\\"selectedColumn\\\\\\\\\\\\\\\": \\\\\\\\\\\\\\\"recorded_at\\\\\\\\\\\\\\\"}}, \\\\\\\\\\\\\\\"typeArguments\\\\\\\\\\\\\\\": {\\\\\\\\\\\\\\\"dateTimeFormats\\\\\\\\\\\\\\\": [\\\\\\\\\\\\\\\"%Y-%m-%dT%H:%M:%S\\\\\\\\\\\\\\\"]}, \\\\\\\\\\\\\\\"typeProperty\\\\\\\\\\\\\\\": 4}]}, \\\\\\\\\\\\\\\"localData\\\\\\\\\\\\\\\": {}, \\\\\\\\\\\\\\\"isEnabled\\\\\\\\\\\\\\\": true, \\\\\\\\\\\\\\\"name\\\\\\\\\\\\\\\": null, \\\\\\\\\\\\\\\"annotation\\\\\\\\\\\\\\\": null}], \\\\\\\\\\\\\\\"inspectors\\\\\\\\\\\\\\\": [], \\\\\\\\\\\\\\\"meta\\\\\\\\\\\\\\\": {\\\\\\\\\\\\\\\"savedDatasetId\\\\\\\\\\\\\\\": \\\\\\\\\\\\\\\"9143d18b-2aa2-48af-a79a-6a94d17f7ffb\\\\\\\\\\\\\\\", \\\\\\\\\\\\\\\"datasetType\\\\\\\\\\\\\\\": \\\\\\\\\\\\\\\"tabular\\\\\\\\\\\\\\\", \\\\\\\\\\\\\\\"subscriptionId\\\\\\\\\\\\\\\": \\\\\\\\\\\\\\\"d4ad7261-832d-46b2-b093-22156001df5b\\\\\\\\\\\\\\\", \\\\\\\\\\\\\\\"workspaceId\\\\\\\\\\\\\\\": \\\\\\\\\\\\\\\"48dc690b-1053-446a-a565-0710230b6630\\\\\\\\\\\\\\\", \\\\\\\\\\\\\\\"workspaceLocation\\\\\\\\\\\\\\\": \\\\\\\\\\\\\\\"southcentralus\\\\\\\\\\\\\\\", \\\\\\\\\\\\\\\"partition_keys\\\\\\\\\\\\\\\": \\\\\\\\\\\\\\\"true\\\\\\\\\\\\\\\"}}\\\\\\\", \\\\\\\"activities\\\\\\\": 0}\", \"EnableSubsampling\": null, \"runTemplate\": \"AutoML\", \"azureml.runsource\": \"automl\", \"display_task_type\": \"regression\", \"dependencies_versions\": \"{\\\"azureml-widgets\\\": \\\"1.24.0\\\", \\\"azureml-train\\\": \\\"1.24.0\\\", \\\"azureml-train-restclients-hyperdrive\\\": \\\"1.24.0\\\", \\\"azureml-train-core\\\": \\\"1.24.0\\\", \\\"azureml-train-automl\\\": \\\"1.24.0\\\", \\\"azureml-train-automl-runtime\\\": \\\"1.24.0\\\", \\\"azureml-train-automl-client\\\": \\\"1.24.0\\\", \\\"azureml-tensorboard\\\": \\\"1.24.0\\\", \\\"azureml-telemetry\\\": \\\"1.24.0\\\", \\\"azureml-sdk\\\": \\\"1.24.0\\\", \\\"azureml-samples\\\": \\\"0+unknown\\\", \\\"azureml-pipeline\\\": \\\"1.24.0\\\", \\\"azureml-pipeline-steps\\\": \\\"1.24.0\\\", \\\"azureml-pipeline-core\\\": \\\"1.24.0\\\", \\\"azureml-opendatasets\\\": \\\"1.24.0\\\", \\\"azureml-model-management-sdk\\\": \\\"1.0.1b6.post1\\\", \\\"azureml-mlflow\\\": \\\"1.24.0\\\", \\\"azureml-interpret\\\": \\\"1.24.0\\\", \\\"azureml-explain-model\\\": \\\"1.24.0\\\", \\\"azureml-defaults\\\": \\\"1.24.0\\\", \\\"azureml-dataset-runtime\\\": \\\"1.24.0\\\", \\\"azureml-dataprep\\\": \\\"2.11.1\\\", \\\"azureml-dataprep-rslex\\\": \\\"1.9.0\\\", \\\"azureml-dataprep-native\\\": \\\"30.0.0\\\", \\\"azureml-datadrift\\\": \\\"1.24.0\\\", \\\"azureml-core\\\": \\\"1.24.0\\\", \\\"azureml-contrib-services\\\": \\\"1.24.0\\\", \\\"azureml-contrib-server\\\": \\\"1.24.0\\\", \\\"azureml-contrib-reinforcementlearning\\\": \\\"1.24.0\\\", \\\"azureml-contrib-pipeline-steps\\\": \\\"1.24.0\\\", \\\"azureml-contrib-notebook\\\": \\\"1.24.0\\\", \\\"azureml-contrib-gbdt\\\": \\\"1.24.0\\\", \\\"azureml-contrib-fairness\\\": \\\"1.24.0\\\", \\\"azureml-contrib-dataset\\\": \\\"1.24.0\\\", \\\"azureml-cli-common\\\": \\\"1.24.0\\\", \\\"azureml-automl-runtime\\\": \\\"1.24.0\\\", \\\"azureml-automl-dnn-nlp\\\": \\\"1.24.0\\\", \\\"azureml-automl-core\\\": \\\"1.24.0\\\", \\\"azureml-accel-models\\\": \\\"1.24.0\\\"}\", \"_aml_system_scenario_identification\": \"Remote.Parent\", \"ClientType\": \"SDK\", \"environment_cpu_name\": \"AzureML-AutoML\", \"environment_cpu_label\": \"prod\", \"environment_gpu_name\": \"AzureML-AutoML-GPU\", \"environment_gpu_label\": \"prod\", \"root_attribution\": \"automl\", \"attribution\": \"AutoML\", \"Orchestrator\": \"AutoML\", \"CancelUri\": \"https://southcentralus.experiments.azureml.net/jasmine/v1.0/subscriptions/d4ad7261-832d-46b2-b093-22156001df5b/resourceGroups/aml-quickstarts-141702/providers/Microsoft.MachineLearningServices/workspaces/quick-starts-ws-141702/experimentids/2b38d033-dd73-410f-9a66-dbcc03f201f7/cancel/AutoML_7d5080b1-bb8e-49af-9e32-8ee709929dba\", \"ClientSdkVersion\": \"1.24.0\", \"snapshotId\": \"00000000-0000-0000-0000-000000000000\", \"SetupRunId\": \"AutoML_7d5080b1-bb8e-49af-9e32-8ee709929dba_setup\", \"SetupRunContainerId\": \"dcid.AutoML_7d5080b1-bb8e-49af-9e32-8ee709929dba_setup\", \"FeaturizationRunJsonPath\": \"featurizer_container.json\", \"FeaturizationRunId\": \"AutoML_7d5080b1-bb8e-49af-9e32-8ee709929dba_featurize\", \"ProblemInfoJsonString\": \"{\\\"dataset_num_categorical\\\": 0, \\\"is_sparse\\\": true, \\\"subsampling\\\": false, \\\"dataset_classes\\\": 50, \\\"dataset_features\\\": 175, \\\"dataset_samples\\\": 23027, \\\"single_frequency_class_detected\\\": false}\", \"ModelExplainRunId\": \"AutoML_7d5080b1-bb8e-49af-9e32-8ee709929dba_ModelExplain\"}, \"tags\": {\"model_explain_run\": \"best_run\", \"_aml_system_azureml.automlComponent\": \"AutoML\", \"pipeline_id\": \"\", \"score\": \"\", \"predicted_cost\": \"\", \"fit_time\": \"\", \"training_percent\": \"\", \"iteration\": \"\", \"run_preprocessor\": \"\", \"run_algorithm\": \"\", \"dynamic_whitelisting_iterations\": \"<25>;<30>;<35>;\", \"automl_best_child_run_id\": \"AutoML_7d5080b1-bb8e-49af-9e32-8ee709929dba_0\"}, \"end_time_utc\": \"2021-03-31T17:20:18.316458Z\", \"status\": \"Completed\", \"log_files\": {}, \"log_groups\": [], \"run_duration\": \"0:14:20\", \"run_number\": \"1\", \"run_queued_details\": {\"status\": \"Completed\", \"details\": null}}, \"child_runs\": [{\"run_id\": \"AutoML_7d5080b1-bb8e-49af-9e32-8ee709929dba_0\", \"run_number\": 5, \"metric\": null, \"status\": \"Completed\", \"run_type\": \"azureml.scriptrun\", \"training_percent\": \"100\", \"start_time\": \"2021-03-31T17:11:19.170237Z\", \"end_time\": \"2021-03-31T17:12:23.432647Z\", \"created_time\": \"2021-03-31T17:11:05.67849Z\", \"created_time_dt\": \"2021-03-31T17:11:05.67849Z\", \"duration\": \"0:01:17\", \"iteration\": \"0\", \"goal\": \"normalized_root_mean_squared_error_min\", \"run_name\": \"MaxAbsScaler, LightGBM\", \"run_properties\": \"copy=True\", \"primary_metric\": 0.00182793, \"best_metric\": 0.00182793}, {\"run_id\": \"AutoML_7d5080b1-bb8e-49af-9e32-8ee709929dba_1\", \"run_number\": 6, \"metric\": null, \"status\": \"Completed\", \"run_type\": \"azureml.scriptrun\", \"training_percent\": \"100\", \"start_time\": \"2021-03-31T17:11:17.294979Z\", \"end_time\": \"2021-03-31T17:12:22.779509Z\", \"created_time\": \"2021-03-31T17:11:05.792665Z\", \"created_time_dt\": \"2021-03-31T17:11:05.792665Z\", \"duration\": \"0:01:16\", \"iteration\": \"1\", \"goal\": \"normalized_root_mean_squared_error_min\", \"run_name\": \"MaxAbsScaler, XGBoostRegressor\", \"run_properties\": \"copy=True\", \"primary_metric\": 0.00424512, \"best_metric\": 0.00182793}, {\"run_id\": \"AutoML_7d5080b1-bb8e-49af-9e32-8ee709929dba_2\", \"run_number\": 7, \"metric\": null, \"status\": \"Completed\", \"run_type\": \"azureml.scriptrun\", \"training_percent\": \"100\", \"start_time\": \"2021-03-31T17:11:19.055121Z\", \"end_time\": \"2021-03-31T17:12:15.82493Z\", \"created_time\": \"2021-03-31T17:11:05.796287Z\", \"created_time_dt\": \"2021-03-31T17:11:05.796287Z\", \"duration\": \"0:01:10\", \"iteration\": \"2\", \"goal\": \"normalized_root_mean_squared_error_min\", \"run_name\": \"StandardScalerWrapper, ElasticNet\", \"run_properties\": \"<azureml.automl.runtime.shared.model_wrappers.StandardScalerWrapper object at 0x7f4a4b2eea58\", \"primary_metric\": 0.0685102, \"best_metric\": 0.00182793}, {\"run_id\": \"AutoML_7d5080b1-bb8e-49af-9e32-8ee709929dba_3\", \"run_number\": 8, \"metric\": null, \"status\": \"Completed\", \"run_type\": \"azureml.scriptrun\", \"training_percent\": \"100\", \"start_time\": \"2021-03-31T17:11:18.673614Z\", \"end_time\": \"2021-03-31T17:12:16.360635Z\", \"created_time\": \"2021-03-31T17:11:05.87845Z\", \"created_time_dt\": \"2021-03-31T17:11:05.87845Z\", \"duration\": \"0:01:10\", \"iteration\": \"3\", \"goal\": \"normalized_root_mean_squared_error_min\", \"run_name\": \"MaxAbsScaler, DecisionTree\", \"run_properties\": \"copy=True\", \"primary_metric\": 0.01716913, \"best_metric\": 0.00182793}, {\"run_id\": \"AutoML_7d5080b1-bb8e-49af-9e32-8ee709929dba_4\", \"run_number\": 9, \"metric\": null, \"status\": \"Completed\", \"run_type\": \"azureml.scriptrun\", \"training_percent\": \"100\", \"start_time\": \"2021-03-31T17:11:19.09267Z\", \"end_time\": \"2021-03-31T17:12:23.786595Z\", \"created_time\": \"2021-03-31T17:11:06.237288Z\", \"created_time_dt\": \"2021-03-31T17:11:06.237288Z\", \"duration\": \"0:01:17\", \"iteration\": \"4\", \"goal\": \"normalized_root_mean_squared_error_min\", \"run_name\": \"MaxAbsScaler, ElasticNet\", \"run_properties\": \"copy=True\", \"primary_metric\": 0.01259029, \"best_metric\": 0.00182793}, {\"run_id\": \"AutoML_7d5080b1-bb8e-49af-9e32-8ee709929dba_5\", \"run_number\": 10, \"metric\": null, \"status\": \"Completed\", \"run_type\": \"azureml.scriptrun\", \"training_percent\": \"100\", \"start_time\": \"2021-03-31T17:12:27.549088Z\", \"end_time\": \"2021-03-31T17:13:13.862797Z\", \"created_time\": \"2021-03-31T17:12:19.743168Z\", \"created_time_dt\": \"2021-03-31T17:12:19.743168Z\", \"duration\": \"0:00:54\", \"iteration\": \"5\", \"goal\": \"normalized_root_mean_squared_error_min\", \"run_name\": \"MaxAbsScaler, DecisionTree\", \"run_properties\": \"copy=True\", \"primary_metric\": 0.00937182, \"best_metric\": 0.00182793}, {\"run_id\": \"AutoML_7d5080b1-bb8e-49af-9e32-8ee709929dba_6\", \"run_number\": 11, \"metric\": null, \"status\": \"Completed\", \"run_type\": \"azureml.scriptrun\", \"training_percent\": \"100\", \"start_time\": \"2021-03-31T17:12:28.0117Z\", \"end_time\": \"2021-03-31T17:13:17.112049Z\", \"created_time\": \"2021-03-31T17:12:19.876753Z\", \"created_time_dt\": \"2021-03-31T17:12:19.876753Z\", \"duration\": \"0:00:57\", \"iteration\": \"6\", \"goal\": \"normalized_root_mean_squared_error_min\", \"run_name\": \"MaxAbsScaler, DecisionTree\", \"run_properties\": \"copy=True\", \"primary_metric\": 0.00585433, \"best_metric\": 0.00182793}, {\"run_id\": \"AutoML_7d5080b1-bb8e-49af-9e32-8ee709929dba_7\", \"run_number\": 12, \"metric\": null, \"status\": \"Completed\", \"run_type\": \"azureml.scriptrun\", \"training_percent\": \"100\", \"start_time\": \"2021-03-31T17:12:34.315074Z\", \"end_time\": \"2021-03-31T17:13:17.817781Z\", \"created_time\": \"2021-03-31T17:12:26.595314Z\", \"created_time_dt\": \"2021-03-31T17:12:26.595314Z\", \"duration\": \"0:00:51\", \"iteration\": \"7\", \"goal\": \"normalized_root_mean_squared_error_min\", \"run_name\": \"MaxAbsScaler, DecisionTree\", \"run_properties\": \"copy=True\", \"primary_metric\": 0.01000139, \"best_metric\": 0.00182793}, {\"run_id\": \"AutoML_7d5080b1-bb8e-49af-9e32-8ee709929dba_8\", \"run_number\": 13, \"metric\": null, \"status\": \"Completed\", \"run_type\": \"azureml.scriptrun\", \"training_percent\": \"100\", \"start_time\": \"2021-03-31T17:12:39.567624Z\", \"end_time\": \"2021-03-31T17:13:23.086139Z\", \"created_time\": \"2021-03-31T17:12:31.856662Z\", \"created_time_dt\": \"2021-03-31T17:12:31.856662Z\", \"duration\": \"0:00:51\", \"iteration\": \"8\", \"goal\": \"normalized_root_mean_squared_error_min\", \"run_name\": \"MaxAbsScaler, DecisionTree\", \"run_properties\": \"copy=True\", \"primary_metric\": 0.01777169, \"best_metric\": 0.00182793}, {\"run_id\": \"AutoML_7d5080b1-bb8e-49af-9e32-8ee709929dba_9\", \"run_number\": 14, \"metric\": null, \"status\": \"Completed\", \"run_type\": \"azureml.scriptrun\", \"training_percent\": \"100\", \"start_time\": \"2021-03-31T17:12:41.411194Z\", \"end_time\": \"2021-03-31T17:13:26.212797Z\", \"created_time\": \"2021-03-31T17:12:32.005145Z\", \"created_time_dt\": \"2021-03-31T17:12:32.005145Z\", \"duration\": \"0:00:54\", \"iteration\": \"9\", \"goal\": \"normalized_root_mean_squared_error_min\", \"run_name\": \"MaxAbsScaler, DecisionTree\", \"run_properties\": \"copy=True\", \"primary_metric\": 0.00896715, \"best_metric\": 0.00182793}, {\"run_id\": \"AutoML_7d5080b1-bb8e-49af-9e32-8ee709929dba_10\", \"run_number\": 15, \"metric\": null, \"status\": \"Completed\", \"run_type\": \"azureml.scriptrun\", \"training_percent\": \"100\", \"start_time\": \"2021-03-31T17:13:24.940211Z\", \"end_time\": \"2021-03-31T17:14:17.436666Z\", \"created_time\": \"2021-03-31T17:13:17.222818Z\", \"created_time_dt\": \"2021-03-31T17:13:17.222818Z\", \"duration\": \"0:01:00\", \"iteration\": \"10\", \"goal\": \"normalized_root_mean_squared_error_min\", \"run_name\": \"MaxAbsScaler, DecisionTree\", \"run_properties\": \"copy=True\", \"primary_metric\": 0.01337116, \"best_metric\": 0.00182793}, {\"run_id\": \"AutoML_7d5080b1-bb8e-49af-9e32-8ee709929dba_11\", \"run_number\": 16, \"metric\": null, \"status\": \"Completed\", \"run_type\": \"azureml.scriptrun\", \"training_percent\": \"100\", \"start_time\": \"2021-03-31T17:13:30.143184Z\", \"end_time\": \"2021-03-31T17:14:17.149981Z\", \"created_time\": \"2021-03-31T17:13:22.521791Z\", \"created_time_dt\": \"2021-03-31T17:13:22.521791Z\", \"duration\": \"0:00:54\", \"iteration\": \"11\", \"goal\": \"normalized_root_mean_squared_error_min\", \"run_name\": \"MaxAbsScaler, DecisionTree\", \"run_properties\": \"copy=True\", \"primary_metric\": 0.00621924, \"best_metric\": 0.00182793}, {\"run_id\": \"AutoML_7d5080b1-bb8e-49af-9e32-8ee709929dba_12\", \"run_number\": 17, \"metric\": null, \"status\": \"Completed\", \"run_type\": \"azureml.scriptrun\", \"training_percent\": \"100\", \"start_time\": \"2021-03-31T17:13:30.935563Z\", \"end_time\": \"2021-03-31T17:14:20.614386Z\", \"created_time\": \"2021-03-31T17:13:22.643464Z\", \"created_time_dt\": \"2021-03-31T17:13:22.643464Z\", \"duration\": \"0:00:57\", \"iteration\": \"12\", \"goal\": \"normalized_root_mean_squared_error_min\", \"run_name\": \"MaxAbsScaler, DecisionTree\", \"run_properties\": \"copy=True\", \"primary_metric\": 0.02275917, \"best_metric\": 0.00182793}, {\"run_id\": \"AutoML_7d5080b1-bb8e-49af-9e32-8ee709929dba_13\", \"run_number\": 18, \"metric\": null, \"status\": \"Completed\", \"run_type\": \"azureml.scriptrun\", \"training_percent\": \"100\", \"start_time\": \"2021-03-31T17:13:38.430871Z\", \"end_time\": \"2021-03-31T17:14:26.323945Z\", \"created_time\": \"2021-03-31T17:13:27.841942Z\", \"created_time_dt\": \"2021-03-31T17:13:27.841942Z\", \"duration\": \"0:00:58\", \"iteration\": \"13\", \"goal\": \"normalized_root_mean_squared_error_min\", \"run_name\": \"StandardScalerWrapper, DecisionTree\", \"run_properties\": \"<azureml.automl.runtime.shared.model_wrappers.StandardScalerWrapper object at 0x7f095f3d4ba8\", \"primary_metric\": 0.01898939, \"best_metric\": 0.00182793}, {\"run_id\": \"AutoML_7d5080b1-bb8e-49af-9e32-8ee709929dba_14\", \"run_number\": 19, \"metric\": null, \"status\": \"Completed\", \"run_type\": \"azureml.scriptrun\", \"training_percent\": \"100\", \"start_time\": \"2021-03-31T17:13:41.899401Z\", \"end_time\": \"2021-03-31T17:14:25.472799Z\", \"created_time\": \"2021-03-31T17:13:34.001944Z\", \"created_time_dt\": \"2021-03-31T17:13:34.001944Z\", \"duration\": \"0:00:51\", \"iteration\": \"14\", \"goal\": \"normalized_root_mean_squared_error_min\", \"run_name\": \"MaxAbsScaler, DecisionTree\", \"run_properties\": \"copy=True\", \"primary_metric\": 0.02416917, \"best_metric\": 0.00182793}, {\"run_id\": \"AutoML_7d5080b1-bb8e-49af-9e32-8ee709929dba_15\", \"run_number\": 20, \"metric\": null, \"status\": \"Completed\", \"run_type\": \"azureml.scriptrun\", \"training_percent\": \"100\", \"start_time\": \"2021-03-31T17:14:32.270885Z\", \"end_time\": \"2021-03-31T17:15:26.910922Z\", \"created_time\": \"2021-03-31T17:14:20.486059Z\", \"created_time_dt\": \"2021-03-31T17:14:20.486059Z\", \"duration\": \"0:01:06\", \"iteration\": \"15\", \"goal\": \"normalized_root_mean_squared_error_min\", \"run_name\": \"MaxAbsScaler, DecisionTree\", \"run_properties\": \"copy=True\", \"primary_metric\": 0.02414198, \"best_metric\": 0.00182793}, {\"run_id\": \"AutoML_7d5080b1-bb8e-49af-9e32-8ee709929dba_16\", \"run_number\": 21, \"metric\": null, \"status\": \"Completed\", \"run_type\": \"azureml.scriptrun\", \"training_percent\": \"100\", \"start_time\": \"2021-03-31T17:14:32.03248Z\", \"end_time\": \"2021-03-31T17:15:31.001161Z\", \"created_time\": \"2021-03-31T17:14:20.663825Z\", \"created_time_dt\": \"2021-03-31T17:14:20.663825Z\", \"duration\": \"0:01:10\", \"iteration\": \"16\", \"goal\": \"normalized_root_mean_squared_error_min\", \"run_name\": \"MaxAbsScaler, SGD\", \"run_properties\": \"copy=True\", \"primary_metric\": 0.07208439, \"best_metric\": 0.00182793}, {\"run_id\": \"AutoML_7d5080b1-bb8e-49af-9e32-8ee709929dba_17\", \"run_number\": 22, \"metric\": null, \"status\": \"Completed\", \"run_type\": \"azureml.scriptrun\", \"training_percent\": \"100\", \"start_time\": \"2021-03-31T17:14:34.08764Z\", \"end_time\": \"2021-03-31T17:15:29.216042Z\", \"created_time\": \"2021-03-31T17:14:26.462254Z\", \"created_time_dt\": \"2021-03-31T17:14:26.462254Z\", \"duration\": \"0:01:02\", \"iteration\": \"17\", \"goal\": \"normalized_root_mean_squared_error_min\", \"run_name\": \"MaxAbsScaler, DecisionTree\", \"run_properties\": \"copy=True\", \"primary_metric\": 0.00505705, \"best_metric\": 0.00182793}, {\"run_id\": \"AutoML_7d5080b1-bb8e-49af-9e32-8ee709929dba_18\", \"run_number\": 23, \"metric\": null, \"status\": \"Completed\", \"run_type\": \"azureml.scriptrun\", \"training_percent\": \"100\", \"start_time\": \"2021-03-31T17:14:40.976145Z\", \"end_time\": \"2021-03-31T17:15:29.646973Z\", \"created_time\": \"2021-03-31T17:14:31.592754Z\", \"created_time_dt\": \"2021-03-31T17:14:31.592754Z\", \"duration\": \"0:00:58\", \"iteration\": \"18\", \"goal\": \"normalized_root_mean_squared_error_min\", \"run_name\": \"MaxAbsScaler, DecisionTree\", \"run_properties\": \"copy=True\", \"primary_metric\": 0.02316429, \"best_metric\": 0.00182793}, {\"run_id\": \"AutoML_7d5080b1-bb8e-49af-9e32-8ee709929dba_19\", \"run_number\": 24, \"metric\": null, \"status\": \"Completed\", \"run_type\": \"azureml.scriptrun\", \"training_percent\": \"100\", \"start_time\": \"2021-03-31T17:14:40.286046Z\", \"end_time\": \"2021-03-31T17:15:29.427069Z\", \"created_time\": \"2021-03-31T17:14:31.629851Z\", \"created_time_dt\": \"2021-03-31T17:14:31.629851Z\", \"duration\": \"0:00:57\", \"iteration\": \"19\", \"goal\": \"normalized_root_mean_squared_error_min\", \"run_name\": \"MaxAbsScaler, DecisionTree\", \"run_properties\": \"copy=True\", \"primary_metric\": 0.02008836, \"best_metric\": 0.00182793}, {\"run_id\": \"AutoML_7d5080b1-bb8e-49af-9e32-8ee709929dba_20\", \"run_number\": 25, \"metric\": null, \"status\": \"Completed\", \"run_type\": \"azureml.scriptrun\", \"training_percent\": \"100\", \"start_time\": \"2021-03-31T17:15:39.89481Z\", \"end_time\": \"2021-03-31T17:16:26.268832Z\", \"created_time\": \"2021-03-31T17:15:30.204904Z\", \"created_time_dt\": \"2021-03-31T17:15:30.204904Z\", \"duration\": \"0:00:56\", \"iteration\": \"20\", \"goal\": \"normalized_root_mean_squared_error_min\", \"run_name\": \"MaxAbsScaler, SGD\", \"run_properties\": \"copy=True\", \"primary_metric\": 0.01527181, \"best_metric\": 0.00182793}, {\"run_id\": \"AutoML_7d5080b1-bb8e-49af-9e32-8ee709929dba_21\", \"run_number\": 26, \"metric\": null, \"status\": \"Completed\", \"run_type\": \"azureml.scriptrun\", \"training_percent\": \"100\", \"start_time\": \"2021-03-31T17:15:43.842844Z\", \"end_time\": \"2021-03-31T17:16:25.769194Z\", \"created_time\": \"2021-03-31T17:15:36.064008Z\", \"created_time_dt\": \"2021-03-31T17:15:36.064008Z\", \"duration\": \"0:00:49\", \"iteration\": \"21\", \"goal\": \"normalized_root_mean_squared_error_min\", \"run_name\": \"MaxAbsScaler, DecisionTree\", \"run_properties\": \"copy=True\", \"primary_metric\": 0.01278738, \"best_metric\": 0.00182793}, {\"run_id\": \"AutoML_7d5080b1-bb8e-49af-9e32-8ee709929dba_24\", \"run_number\": 27, \"metric\": null, \"status\": \"Completed\", \"run_type\": \"azureml.scriptrun\", \"training_percent\": \"100\", \"start_time\": \"2021-03-31T17:15:46.817688Z\", \"end_time\": \"2021-03-31T17:16:32.243186Z\", \"created_time\": \"2021-03-31T17:15:36.176214Z\", \"created_time_dt\": \"2021-03-31T17:15:36.176214Z\", \"duration\": \"0:00:56\", \"iteration\": \"24\", \"goal\": \"normalized_root_mean_squared_error_min\", \"run_name\": \"MaxAbsScaler, DecisionTree\", \"run_properties\": \"copy=True\", \"primary_metric\": 0.00579877, \"best_metric\": 0.00182793}, {\"run_id\": \"AutoML_7d5080b1-bb8e-49af-9e32-8ee709929dba_22\", \"run_number\": 28, \"metric\": null, \"status\": \"Completed\", \"run_type\": \"azureml.scriptrun\", \"training_percent\": \"100\", \"start_time\": \"2021-03-31T17:15:45.910537Z\", \"end_time\": \"2021-03-31T17:16:28.197655Z\", \"created_time\": \"2021-03-31T17:15:36.17665Z\", \"created_time_dt\": \"2021-03-31T17:15:36.17665Z\", \"duration\": \"0:00:52\", \"iteration\": \"22\", \"goal\": \"normalized_root_mean_squared_error_min\", \"run_name\": \"MaxAbsScaler, DecisionTree\", \"run_properties\": \"copy=True\", \"primary_metric\": 0.00778438, \"best_metric\": 0.00182793}, {\"run_id\": \"AutoML_7d5080b1-bb8e-49af-9e32-8ee709929dba_23\", \"run_number\": 29, \"metric\": null, \"status\": \"Completed\", \"run_type\": \"azureml.scriptrun\", \"training_percent\": \"100\", \"start_time\": \"2021-03-31T17:15:44.265508Z\", \"end_time\": \"2021-03-31T17:16:30.946682Z\", \"created_time\": \"2021-03-31T17:15:36.198498Z\", \"created_time_dt\": \"2021-03-31T17:15:36.198498Z\", \"duration\": \"0:00:54\", \"iteration\": \"23\", \"goal\": \"normalized_root_mean_squared_error_min\", \"run_name\": \"MaxAbsScaler, DecisionTree\", \"run_properties\": \"copy=True\", \"primary_metric\": 0.00720522, \"best_metric\": 0.00182793}, {\"run_id\": \"AutoML_7d5080b1-bb8e-49af-9e32-8ee709929dba_25\", \"run_number\": 30, \"metric\": null, \"status\": \"Completed\", \"run_type\": \"azureml.scriptrun\", \"training_percent\": \"100\", \"start_time\": \"2021-03-31T17:16:37.309738Z\", \"end_time\": \"2021-03-31T17:17:29.264948Z\", \"created_time\": \"2021-03-31T17:16:29.523336Z\", \"created_time_dt\": \"2021-03-31T17:16:29.523336Z\", \"duration\": \"0:00:59\", \"iteration\": \"25\", \"goal\": \"normalized_root_mean_squared_error_min\", \"run_name\": \"MaxAbsScaler, LightGBM\", \"run_properties\": \"copy=True\", \"primary_metric\": 0.05067054, \"best_metric\": 0.00182793}, {\"run_id\": \"AutoML_7d5080b1-bb8e-49af-9e32-8ee709929dba_26\", \"run_number\": 31, \"metric\": null, \"status\": \"Completed\", \"run_type\": \"azureml.scriptrun\", \"training_percent\": \"100\", \"start_time\": \"2021-03-31T17:16:38.718319Z\", \"end_time\": \"2021-03-31T17:17:18.097389Z\", \"created_time\": \"2021-03-31T17:16:29.531233Z\", \"created_time_dt\": \"2021-03-31T17:16:29.531233Z\", \"duration\": \"0:00:48\", \"iteration\": \"26\", \"goal\": \"normalized_root_mean_squared_error_min\", \"run_name\": \"MaxAbsScaler, DecisionTree\", \"run_properties\": \"copy=True\", \"primary_metric\": 0.01884612, \"best_metric\": 0.00182793}, {\"run_id\": \"AutoML_7d5080b1-bb8e-49af-9e32-8ee709929dba_27\", \"run_number\": 32, \"metric\": null, \"status\": \"Completed\", \"run_type\": \"azureml.scriptrun\", \"training_percent\": \"100\", \"start_time\": \"2021-03-31T17:16:42.742621Z\", \"end_time\": \"2021-03-31T17:17:29.171998Z\", \"created_time\": \"2021-03-31T17:16:33.971428Z\", \"created_time_dt\": \"2021-03-31T17:16:33.971428Z\", \"duration\": \"0:00:55\", \"iteration\": \"27\", \"goal\": \"normalized_root_mean_squared_error_min\", \"run_name\": \"MaxAbsScaler, DecisionTree\", \"run_properties\": \"copy=True\", \"primary_metric\": 0.01204498, \"best_metric\": 0.00182793}, {\"run_id\": \"AutoML_7d5080b1-bb8e-49af-9e32-8ee709929dba_28\", \"run_number\": 33, \"metric\": null, \"status\": \"Completed\", \"run_type\": \"azureml.scriptrun\", \"training_percent\": \"100\", \"start_time\": \"2021-03-31T17:16:43.219233Z\", \"end_time\": \"2021-03-31T17:17:27.062797Z\", \"created_time\": \"2021-03-31T17:16:34.121932Z\", \"created_time_dt\": \"2021-03-31T17:16:34.121932Z\", \"duration\": \"0:00:52\", \"iteration\": \"28\", \"goal\": \"normalized_root_mean_squared_error_min\", \"run_name\": \"MaxAbsScaler, DecisionTree\", \"run_properties\": \"copy=True\", \"primary_metric\": 0.01316356, \"best_metric\": 0.00182793}, {\"run_id\": \"AutoML_7d5080b1-bb8e-49af-9e32-8ee709929dba_29\", \"run_number\": 34, \"metric\": null, \"status\": \"Completed\", \"run_type\": \"azureml.scriptrun\", \"training_percent\": \"100\", \"start_time\": \"2021-03-31T17:16:48.751311Z\", \"end_time\": \"2021-03-31T17:17:30.695626Z\", \"created_time\": \"2021-03-31T17:16:39.182205Z\", \"created_time_dt\": \"2021-03-31T17:16:39.182205Z\", \"duration\": \"0:00:51\", \"iteration\": \"29\", \"goal\": \"normalized_root_mean_squared_error_min\", \"run_name\": \"MaxAbsScaler, DecisionTree\", \"run_properties\": \"copy=True\", \"primary_metric\": 0.00787073, \"best_metric\": 0.00182793}, {\"run_id\": \"AutoML_7d5080b1-bb8e-49af-9e32-8ee709929dba_30\", \"run_number\": 35, \"metric\": null, \"status\": \"Completed\", \"run_type\": \"azureml.scriptrun\", \"training_percent\": \"100\", \"start_time\": \"2021-03-31T17:17:33.06578Z\", \"end_time\": \"2021-03-31T17:18:17.495335Z\", \"created_time\": \"2021-03-31T17:17:21.588247Z\", \"created_time_dt\": \"2021-03-31T17:17:21.588247Z\", \"duration\": \"0:00:55\", \"iteration\": \"30\", \"goal\": \"normalized_root_mean_squared_error_min\", \"run_name\": \"MaxAbsScaler, LightGBM\", \"run_properties\": \"copy=True\", \"primary_metric\": 0.04513544, \"best_metric\": 0.00182793}, {\"run_id\": \"AutoML_7d5080b1-bb8e-49af-9e32-8ee709929dba_31\", \"run_number\": 36, \"metric\": null, \"status\": \"Completed\", \"run_type\": \"azureml.scriptrun\", \"training_percent\": \"100\", \"start_time\": \"2021-03-31T17:17:39.368649Z\", \"end_time\": \"2021-03-31T17:18:23.868057Z\", \"created_time\": \"2021-03-31T17:17:29.361695Z\", \"created_time_dt\": \"2021-03-31T17:17:29.361695Z\", \"duration\": \"0:00:54\", \"iteration\": \"31\", \"goal\": \"normalized_root_mean_squared_error_min\", \"run_name\": \"MaxAbsScaler, DecisionTree\", \"run_properties\": \"copy=True\", \"primary_metric\": 0.00697413, \"best_metric\": 0.00182793}, {\"run_id\": \"AutoML_7d5080b1-bb8e-49af-9e32-8ee709929dba_32\", \"run_number\": 37, \"metric\": null, \"status\": \"Completed\", \"run_type\": \"azureml.scriptrun\", \"training_percent\": \"100\", \"start_time\": \"2021-03-31T17:17:44.820144Z\", \"end_time\": \"2021-03-31T17:18:29.828706Z\", \"created_time\": \"2021-03-31T17:17:34.678347Z\", \"created_time_dt\": \"2021-03-31T17:17:34.678347Z\", \"duration\": \"0:00:55\", \"iteration\": \"32\", \"goal\": \"normalized_root_mean_squared_error_min\", \"run_name\": \"MaxAbsScaler, DecisionTree\", \"run_properties\": \"copy=True\", \"primary_metric\": 0.01030583, \"best_metric\": 0.00182793}, {\"run_id\": \"AutoML_7d5080b1-bb8e-49af-9e32-8ee709929dba_33\", \"run_number\": 38, \"metric\": null, \"status\": \"Completed\", \"run_type\": \"azureml.scriptrun\", \"training_percent\": \"100\", \"start_time\": \"2021-03-31T17:17:42.681085Z\", \"end_time\": \"2021-03-31T17:18:29.2452Z\", \"created_time\": \"2021-03-31T17:17:34.779611Z\", \"created_time_dt\": \"2021-03-31T17:17:34.779611Z\", \"duration\": \"0:00:54\", \"iteration\": \"33\", \"goal\": \"normalized_root_mean_squared_error_min\", \"run_name\": \"MaxAbsScaler, DecisionTree\", \"run_properties\": \"copy=True\", \"primary_metric\": 0.00612305, \"best_metric\": 0.00182793}, {\"run_id\": \"AutoML_7d5080b1-bb8e-49af-9e32-8ee709929dba_34\", \"run_number\": 39, \"metric\": null, \"status\": \"Completed\", \"run_type\": \"azureml.scriptrun\", \"training_percent\": \"100\", \"start_time\": \"2021-03-31T17:17:43.965986Z\", \"end_time\": \"2021-03-31T17:18:30.367986Z\", \"created_time\": \"2021-03-31T17:17:34.809328Z\", \"created_time_dt\": \"2021-03-31T17:17:34.809328Z\", \"duration\": \"0:00:55\", \"iteration\": \"34\", \"goal\": \"normalized_root_mean_squared_error_min\", \"run_name\": \"MaxAbsScaler, DecisionTree\", \"run_properties\": \"copy=True\", \"primary_metric\": 0.00937182, \"best_metric\": 0.00182793}, {\"run_id\": \"AutoML_7d5080b1-bb8e-49af-9e32-8ee709929dba_35\", \"run_number\": 40, \"metric\": null, \"status\": \"Canceled\", \"run_type\": \"azureml.scriptrun\", \"training_percent\": \"100\", \"start_time\": \"2021-03-31T17:18:20.880349Z\", \"end_time\": \"2021-03-31T17:18:39.117363Z\", \"created_time\": \"2021-03-31T17:18:20.880349Z\", \"created_time_dt\": \"2021-03-31T17:18:20.880349Z\", \"duration\": \"0:00:18\", \"iteration\": \"35\", \"goal\": null, \"run_name\": \"Canceled\", \"run_properties\": null}, {\"run_id\": \"AutoML_7d5080b1-bb8e-49af-9e32-8ee709929dba_36\", \"run_number\": 41, \"metric\": null, \"status\": \"Canceled\", \"run_type\": \"azureml.scriptrun\", \"training_percent\": \"100\", \"start_time\": \"2021-03-31T17:18:37.010294Z\", \"end_time\": \"2021-03-31T17:18:45.053311Z\", \"created_time\": \"2021-03-31T17:18:27.190628Z\", \"created_time_dt\": \"2021-03-31T17:18:27.190628Z\", \"duration\": \"0:00:17\", \"iteration\": \"36\", \"goal\": null, \"run_name\": \"Canceled\", \"run_properties\": null}, {\"run_id\": \"AutoML_7d5080b1-bb8e-49af-9e32-8ee709929dba_37\", \"run_number\": 42, \"metric\": null, \"status\": \"Completed\", \"run_type\": \"azureml.scriptrun\", \"training_percent\": \"100\", \"start_time\": \"2021-03-31T17:18:57.837141Z\", \"end_time\": \"2021-03-31T17:20:06.657479Z\", \"created_time\": \"2021-03-31T17:18:47.057218Z\", \"created_time_dt\": \"2021-03-31T17:18:47.057218Z\", \"duration\": \"0:01:19\", \"iteration\": \"37\", \"goal\": \"normalized_root_mean_squared_error_min\", \"run_name\": \"VotingEnsemble\", \"run_properties\": \"estimators=[('0',\\n                                          Pipeline(memory=None,\\n                                                   steps=[('maxabsscaler',\\n                                                           MaxAbsScaler(copy=True\", \"primary_metric\": 0.00182793, \"best_metric\": 0.00182793}, {\"run_id\": \"AutoML_7d5080b1-bb8e-49af-9e32-8ee709929dba_38\", \"run_number\": 43, \"metric\": null, \"status\": \"Completed\", \"run_type\": \"azureml.scriptrun\", \"training_percent\": \"100\", \"start_time\": \"2021-03-31T17:18:56.604013Z\", \"end_time\": \"2021-03-31T17:19:59.054448Z\", \"created_time\": \"2021-03-31T17:18:47.070026Z\", \"created_time_dt\": \"2021-03-31T17:18:47.070026Z\", \"duration\": \"0:01:11\", \"iteration\": \"38\", \"goal\": \"normalized_root_mean_squared_error_min\", \"run_name\": \"StackEnsemble\", \"run_properties\": \"base_learners=[('0',\\n                                       Pipeline(memory=None,\\n                                                steps=[('maxabsscaler',\\n                                                        MaxAbsScaler(copy=True\", \"primary_metric\": 0.00190482, \"best_metric\": 0.00182793}], \"children_metrics\": {\"categories\": [0], \"series\": {\"root_mean_squared_error\": [{\"categories\": [\"0\", \"1\", \"2\", \"3\", \"4\", \"5\", \"6\", \"7\", \"8\", \"9\", \"10\", \"11\", \"12\", \"13\", \"14\", \"15\", \"16\", \"17\", \"18\", \"19\", \"20\", \"21\", \"22\", \"23\", \"24\", \"25\", \"26\", \"27\", \"28\", \"29\", \"30\", \"31\", \"32\", \"33\", \"34\", \"37\", \"38\"], \"mode\": \"markers\", \"name\": \"root_mean_squared_error\", \"stepped\": false, \"type\": \"scatter\", \"data\": [0.0009688033933163006, 0.002249912487191181, 0.03631040496436072, 0.009099639780451476, 0.006672853480727031, 0.004967067125991733, 0.0031027958400313906, 0.005300734832446551, 0.009418996653295968, 0.00475258987373421, 0.007086717435457923, 0.00329619736181416, 0.012062362511230367, 0.010064376771435953, 0.012809658396008922, 0.012795249775087258, 0.03820472421881992, 0.0026802376942124378, 0.01227707400004972, 0.010646831056208408, 0.008094060419747407, 0.006777313794618283, 0.004125720671512933, 0.003818766272947423, 0.003073350194405701, 0.02685538615497272, 0.0099884427347536, 0.006383839354322981, 0.006976686711478284, 0.004171488800507377, 0.023921780757254048, 0.0036962892416024322, 0.005462088312414091, 0.0032452149139289878, 0.004967067125991733, 0.0009688033933163006, 0.0010095567477108418]}, {\"categories\": [\"0\", \"1\", \"2\", \"3\", \"4\", \"5\", \"6\", \"7\", \"8\", \"9\", \"10\", \"11\", \"12\", \"13\", \"14\", \"15\", \"16\", \"17\", \"18\", \"19\", \"20\", \"21\", \"22\", \"23\", \"24\", \"25\", \"26\", \"27\", \"28\", \"29\", \"30\", \"31\", \"32\", \"33\", \"34\", \"37\", \"38\"], \"mode\": \"lines\", \"name\": \"root_mean_squared_error_min\", \"stepped\": true, \"type\": \"scatter\", \"data\": [0.0009688033933163006, 0.0009688033933163006, 0.0009688033933163006, 0.0009688033933163006, 0.0009688033933163006, 0.0009688033933163006, 0.0009688033933163006, 0.0009688033933163006, 0.0009688033933163006, 0.0009688033933163006, 0.0009688033933163006, 0.0009688033933163006, 0.0009688033933163006, 0.0009688033933163006, 0.0009688033933163006, 0.0009688033933163006, 0.0009688033933163006, 0.0009688033933163006, 0.0009688033933163006, 0.0009688033933163006, 0.0009688033933163006, 0.0009688033933163006, 0.0009688033933163006, 0.0009688033933163006, 0.0009688033933163006, 0.0009688033933163006, 0.0009688033933163006, 0.0009688033933163006, 0.0009688033933163006, 0.0009688033933163006, 0.0009688033933163006, 0.0009688033933163006, 0.0009688033933163006, 0.0009688033933163006, 0.0009688033933163006, 0.0009688033933163006, 0.0009688033933163006]}], \"mean_absolute_percentage_error\": [{\"categories\": [\"0\", \"1\", \"2\", \"3\", \"4\", \"5\", \"6\", \"7\", \"8\", \"9\", \"10\", \"11\", \"12\", \"13\", \"14\", \"15\", \"16\", \"17\", \"18\", \"19\", \"20\", \"21\", \"22\", \"23\", \"24\", \"25\", \"26\", \"27\", \"28\", \"29\", \"30\", \"31\", \"32\", \"33\", \"34\", \"37\", \"38\"], \"mode\": \"markers\", \"name\": \"mean_absolute_percentage_error\", \"stepped\": false, \"type\": \"scatter\", \"data\": [0.07381853029567127, 0.24092955465026372, 4.797476522482008, 0.9637756251286016, 0.8313811120949737, 0.518431414008939, 0.24324327692954872, 0.544619503992291, 1.0064940085224827, 0.32832632280109636, 0.6926833603830043, 0.21494940396317647, 1.219397397906881, 0.8565738573205326, 1.4135036498779638, 1.4054799509205567, 4.775351467312367, 0.16331679120178771, 1.3323778160853843, 1.0991322922858804, 1.0177810221835908, 0.6496251050810666, 0.35224276039783753, 0.3032185459418376, 0.20245108903597328, 2.5880629321344912, 1.1111002336387688, 0.5882789705303539, 0.7228197858588341, 0.2823269616165826, 2.250860200689143, 0.3272947918256442, 0.5751125133320041, 0.23498570364616103, 0.518431414008939, 0.07381853029567127, 0.08781457311098487]}, {\"categories\": [\"0\", \"1\", \"2\", \"3\", \"4\", \"5\", \"6\", \"7\", \"8\", \"9\", \"10\", \"11\", \"12\", \"13\", \"14\", \"15\", \"16\", \"17\", \"18\", \"19\", \"20\", \"21\", \"22\", \"23\", \"24\", \"25\", \"26\", \"27\", \"28\", \"29\", \"30\", \"31\", \"32\", \"33\", \"34\", \"37\", \"38\"], \"mode\": \"lines\", \"name\": \"mean_absolute_percentage_error_min\", \"stepped\": true, \"type\": \"scatter\", \"data\": [0.07381853029567127, 0.07381853029567127, 0.07381853029567127, 0.07381853029567127, 0.07381853029567127, 0.07381853029567127, 0.07381853029567127, 0.07381853029567127, 0.07381853029567127, 0.07381853029567127, 0.07381853029567127, 0.07381853029567127, 0.07381853029567127, 0.07381853029567127, 0.07381853029567127, 0.07381853029567127, 0.07381853029567127, 0.07381853029567127, 0.07381853029567127, 0.07381853029567127, 0.07381853029567127, 0.07381853029567127, 0.07381853029567127, 0.07381853029567127, 0.07381853029567127, 0.07381853029567127, 0.07381853029567127, 0.07381853029567127, 0.07381853029567127, 0.07381853029567127, 0.07381853029567127, 0.07381853029567127, 0.07381853029567127, 0.07381853029567127, 0.07381853029567127, 0.07381853029567127, 0.07381853029567127]}], \"median_absolute_error\": [{\"categories\": [\"0\", \"1\", \"2\", \"3\", \"4\", \"5\", \"6\", \"7\", \"8\", \"9\", \"10\", \"11\", \"12\", \"13\", \"14\", \"15\", \"16\", \"17\", \"18\", \"19\", \"20\", \"21\", \"22\", \"23\", \"24\", \"25\", \"26\", \"27\", \"28\", \"29\", \"30\", \"31\", \"32\", \"33\", \"34\", \"37\", \"38\"], \"mode\": \"markers\", \"name\": \"median_absolute_error\", \"stepped\": false, \"type\": \"scatter\", \"data\": [0.000266984689353611, 0.0011870985031127823, 0.030354610987845664, 0.0038082924465538404, 0.004581553944942885, 0.0018377274460247728, 0.0003309151336482463, 0.002194862172619516, 0.004404555596530124, 0.00036733451363161194, 0.0031493815391821943, 1.2903225811911057e-05, 0.004799568615083327, 0.0026644360039440817, 0.007035756032500884, 0.007072211478197499, 0.02649870527358107, 5.639932965095795e-15, 0.006304080726807215, 0.004565531866945971, 0.005601360204645578, 0.001891153377343313, 0.0009447920421800093, 0.00043685925209719924, 3.003418584617279e-05, 0.008247278072968878, 0.0056698507618239136, 0.0017349335138474586, 0.00292668159186803, 0.00020075901432601296, 0.0060288770293497555, 0.001043448184425877, 0.0015542592062375515, 0.00017409016491267692, 0.0018377274460247728, 0.000266984689353611, 0.0003834555277048901]}, {\"categories\": [\"0\", \"1\", \"2\", \"3\", \"4\", \"5\", \"6\", \"7\", \"8\", \"9\", \"10\", \"11\", \"12\", \"13\", \"14\", \"15\", \"16\", \"17\", \"18\", \"19\", \"20\", \"21\", \"22\", \"23\", \"24\", \"25\", \"26\", \"27\", \"28\", \"29\", \"30\", \"31\", \"32\", \"33\", \"34\", \"37\", \"38\"], \"mode\": \"lines\", \"name\": \"median_absolute_error_min\", \"stepped\": true, \"type\": \"scatter\", \"data\": [0.000266984689353611, 0.000266984689353611, 0.000266984689353611, 0.000266984689353611, 0.000266984689353611, 0.000266984689353611, 0.000266984689353611, 0.000266984689353611, 0.000266984689353611, 0.000266984689353611, 0.000266984689353611, 1.2903225811911057e-05, 1.2903225811911057e-05, 1.2903225811911057e-05, 1.2903225811911057e-05, 1.2903225811911057e-05, 1.2903225811911057e-05, 5.639932965095795e-15, 5.639932965095795e-15, 5.639932965095795e-15, 5.639932965095795e-15, 5.639932965095795e-15, 5.639932965095795e-15, 5.639932965095795e-15, 5.639932965095795e-15, 5.639932965095795e-15, 5.639932965095795e-15, 5.639932965095795e-15, 5.639932965095795e-15, 5.639932965095795e-15, 5.639932965095795e-15, 5.639932965095795e-15, 5.639932965095795e-15, 5.639932965095795e-15, 5.639932965095795e-15, 5.639932965095795e-15, 5.639932965095795e-15]}], \"normalized_median_absolute_error\": [{\"categories\": [\"0\", \"1\", \"2\", \"3\", \"4\", \"5\", \"6\", \"7\", \"8\", \"9\", \"10\", \"11\", \"12\", \"13\", \"14\", \"15\", \"16\", \"17\", \"18\", \"19\", \"20\", \"21\", \"22\", \"23\", \"24\", \"25\", \"26\", \"27\", \"28\", \"29\", \"30\", \"31\", \"32\", \"33\", \"34\", \"37\", \"38\"], \"mode\": \"markers\", \"name\": \"normalized_median_absolute_error\", \"stepped\": false, \"type\": \"scatter\", \"data\": [0.0005037446968936056, 0.0022398084964392116, 0.05727285092046351, 0.007185457446328, 0.008644441405552613, 0.0034674102755184394, 0.0006243681766948043, 0.0041412493823009735, 0.008310482257604007, 0.0006930839879841736, 0.005942229319211687, 2.4345709079077462e-05, 0.009055789839779862, 0.00502723774329072, 0.01327501138207714, 0.013343795241882072, 0.04999755711996427, 1.0641382953010933e-14, 0.011894491937372104, 0.008614211069709379, 0.010568604159708637, 0.003568213919515685, 0.0017826264946792629, 0.0008242627398060363, 5.6668275181458085e-05, 0.01556090202446958, 0.010697831626082855, 0.0032734594600895444, 0.005522040739373642, 0.00037879059306794897, 0.011375239678018406, 0.0019687701592941073, 0.0029325645400708517, 0.0003284720092692017, 0.0034674102755184394, 0.0005037446968936056, 0.0007235009956696039]}, {\"categories\": [\"0\", \"1\", \"2\", \"3\", \"4\", \"5\", \"6\", \"7\", \"8\", \"9\", \"10\", \"11\", \"12\", \"13\", \"14\", \"15\", \"16\", \"17\", \"18\", \"19\", \"20\", \"21\", \"22\", \"23\", \"24\", \"25\", \"26\", \"27\", \"28\", \"29\", \"30\", \"31\", \"32\", \"33\", \"34\", \"37\", \"38\"], \"mode\": \"lines\", \"name\": \"normalized_median_absolute_error_min\", \"stepped\": true, \"type\": \"scatter\", \"data\": [0.0005037446968936056, 0.0005037446968936056, 0.0005037446968936056, 0.0005037446968936056, 0.0005037446968936056, 0.0005037446968936056, 0.0005037446968936056, 0.0005037446968936056, 0.0005037446968936056, 0.0005037446968936056, 0.0005037446968936056, 2.4345709079077462e-05, 2.4345709079077462e-05, 2.4345709079077462e-05, 2.4345709079077462e-05, 2.4345709079077462e-05, 2.4345709079077462e-05, 1.0641382953010933e-14, 1.0641382953010933e-14, 1.0641382953010933e-14, 1.0641382953010933e-14, 1.0641382953010933e-14, 1.0641382953010933e-14, 1.0641382953010933e-14, 1.0641382953010933e-14, 1.0641382953010933e-14, 1.0641382953010933e-14, 1.0641382953010933e-14, 1.0641382953010933e-14, 1.0641382953010933e-14, 1.0641382953010933e-14, 1.0641382953010933e-14, 1.0641382953010933e-14, 1.0641382953010933e-14, 1.0641382953010933e-14, 1.0641382953010933e-14, 1.0641382953010933e-14]}], \"explained_variance\": [{\"categories\": [\"0\", \"1\", \"2\", \"3\", \"4\", \"5\", \"6\", \"7\", \"8\", \"9\", \"10\", \"11\", \"12\", \"13\", \"14\", \"15\", \"16\", \"17\", \"18\", \"19\", \"20\", \"21\", \"22\", \"23\", \"24\", \"25\", \"26\", \"27\", \"28\", \"29\", \"30\", \"31\", \"32\", \"33\", \"34\", \"37\", \"38\"], \"mode\": \"markers\", \"name\": \"explained_variance\", \"stepped\": false, \"type\": \"scatter\", \"data\": [0.999953402885974, 0.9997488154306726, 0.934587866826212, 0.9958771632406391, 0.997791042467991, 0.9987754746184487, 0.9995221539313375, 0.9985806523522923, 0.9955545645493032, 0.9988479008681879, 0.9974503142150482, 0.999459232058936, 0.9927709793677624, 0.9947991182666037, 0.9917448027497254, 0.9916264211921562, 0.93101299336913, 0.9996414903899049, 0.9924360313062843, 0.9942940198791966, 0.9967552392354608, 0.9976057924291659, 0.9991418887447778, 0.9992760489448248, 0.9995313433439923, 0.9642088033832426, 0.9950484729727547, 0.9979567129622134, 0.9975156744659623, 0.9991208762430581, 0.9715929027105311, 0.9993129185228578, 0.9985191598087919, 0.9994739076051479, 0.9987754746184487, 0.999953402885974, 0.99994940916712]}, {\"categories\": [\"0\", \"1\", \"2\", \"3\", \"4\", \"5\", \"6\", \"7\", \"8\", \"9\", \"10\", \"11\", \"12\", \"13\", \"14\", \"15\", \"16\", \"17\", \"18\", \"19\", \"20\", \"21\", \"22\", \"23\", \"24\", \"25\", \"26\", \"27\", \"28\", \"29\", \"30\", \"31\", \"32\", \"33\", \"34\", \"37\", \"38\"], \"mode\": \"lines\", \"name\": \"explained_variance_max\", \"stepped\": true, \"type\": \"scatter\", \"data\": [0.999953402885974, 0.999953402885974, 0.999953402885974, 0.999953402885974, 0.999953402885974, 0.999953402885974, 0.999953402885974, 0.999953402885974, 0.999953402885974, 0.999953402885974, 0.999953402885974, 0.999953402885974, 0.999953402885974, 0.999953402885974, 0.999953402885974, 0.999953402885974, 0.999953402885974, 0.999953402885974, 0.999953402885974, 0.999953402885974, 0.999953402885974, 0.999953402885974, 0.999953402885974, 0.999953402885974, 0.999953402885974, 0.999953402885974, 0.999953402885974, 0.999953402885974, 0.999953402885974, 0.999953402885974, 0.999953402885974, 0.999953402885974, 0.999953402885974, 0.999953402885974, 0.999953402885974, 0.999953402885974, 0.999953402885974]}], \"normalized_root_mean_squared_error\": [{\"categories\": [\"0\", \"1\", \"2\", \"3\", \"4\", \"5\", \"6\", \"7\", \"8\", \"9\", \"10\", \"11\", \"12\", \"13\", \"14\", \"15\", \"16\", \"17\", \"18\", \"19\", \"20\", \"21\", \"22\", \"23\", \"24\", \"25\", \"26\", \"27\", \"28\", \"29\", \"30\", \"31\", \"32\", \"33\", \"34\", \"37\", \"38\"], \"mode\": \"markers\", \"name\": \"normalized_root_mean_squared_error\", \"stepped\": false, \"type\": \"scatter\", \"data\": [0.0018279309307854727, 0.004245117900360718, 0.06851019804596363, 0.017169131661229197, 0.012590289586277417, 0.009371824766022139, 0.005854331773644132, 0.010001386476314244, 0.017771691798671635, 0.008967150705158886, 0.013371164972562119, 0.006219240305309734, 0.022759174549491258, 0.018989390134784817, 0.024169166784922497, 0.024141980707711803, 0.07208438531852815, 0.0050570522532310145, 0.023164290566131545, 0.020088360483412084, 0.015271812112730956, 0.0127873845181477, 0.007784378625496099, 0.007205219382919665, 0.00579877395170887, 0.050670539915042855, 0.01884611836745962, 0.012044979913816947, 0.013163559832977892, 0.007870733585862974, 0.04513543539104537, 0.00697413064453289, 0.010305827004554888, 0.006123047007413183, 0.009371824766022139, 0.0018279309307854727, 0.0019048240522846073]}, {\"categories\": [\"0\", \"1\", \"2\", \"3\", \"4\", \"5\", \"6\", \"7\", \"8\", \"9\", \"10\", \"11\", \"12\", \"13\", \"14\", \"15\", \"16\", \"17\", \"18\", \"19\", \"20\", \"21\", \"22\", \"23\", \"24\", \"25\", \"26\", \"27\", \"28\", \"29\", \"30\", \"31\", \"32\", \"33\", \"34\", \"37\", \"38\"], \"mode\": \"lines\", \"name\": \"normalized_root_mean_squared_error_min\", \"stepped\": true, \"type\": \"scatter\", \"data\": [0.0018279309307854727, 0.0018279309307854727, 0.0018279309307854727, 0.0018279309307854727, 0.0018279309307854727, 0.0018279309307854727, 0.0018279309307854727, 0.0018279309307854727, 0.0018279309307854727, 0.0018279309307854727, 0.0018279309307854727, 0.0018279309307854727, 0.0018279309307854727, 0.0018279309307854727, 0.0018279309307854727, 0.0018279309307854727, 0.0018279309307854727, 0.0018279309307854727, 0.0018279309307854727, 0.0018279309307854727, 0.0018279309307854727, 0.0018279309307854727, 0.0018279309307854727, 0.0018279309307854727, 0.0018279309307854727, 0.0018279309307854727, 0.0018279309307854727, 0.0018279309307854727, 0.0018279309307854727, 0.0018279309307854727, 0.0018279309307854727, 0.0018279309307854727, 0.0018279309307854727, 0.0018279309307854727, 0.0018279309307854727, 0.0018279309307854727, 0.0018279309307854727]}], \"normalized_root_mean_squared_log_error\": [{\"categories\": [\"0\", \"1\", \"2\", \"3\", \"4\", \"5\", \"6\", \"7\", \"8\", \"9\", \"10\", \"11\", \"12\", \"13\", \"14\", \"15\", \"16\", \"17\", \"18\", \"19\", \"20\", \"21\", \"22\", \"23\", \"24\", \"25\", \"26\", \"27\", \"28\", \"29\", \"30\", \"31\", \"32\", \"33\", \"34\", \"37\", \"38\"], \"mode\": \"markers\", \"name\": \"normalized_root_mean_squared_log_error\", \"stepped\": false, \"type\": \"scatter\", \"data\": [0.0017902335376288419, 0.0041734600196193196, 0.06780327639489453, 0.018229094195816833, 0.013103137593527192, 0.009526061456284502, 0.005696238164409493, 0.010162920137601141, 0.0186103717458746, 0.009110717291937472, 0.013591424419243922, 0.006114727537145307, 0.0236086000091423, 0.019890066235489896, 0.02446137013131927, 0.025234239298423923, 0.07323409915936188, 0.004916325433277302, 0.023889104946915644, 0.020574630228661725, 0.015512933426915943, 0.013240115835533469, 0.007757305224890977, 0.00739773900787462, 0.005619707614844734, 0.05254430519775215, 0.01956913309685513, 0.01226664701352308, 0.013527012296284401, 0.007780973206692396, 0.04727884529418923, 0.0069067701470705845, 0.010537650775508058, 0.005972065846183085, 0.009526061456284502, 0.0017902335376288419, 0.0018679722900928175]}, {\"categories\": [\"0\", \"1\", \"2\", \"3\", \"4\", \"5\", \"6\", \"7\", \"8\", \"9\", \"10\", \"11\", \"12\", \"13\", \"14\", \"15\", \"16\", \"17\", \"18\", \"19\", \"20\", \"21\", \"22\", \"23\", \"24\", \"25\", \"26\", \"27\", \"28\", \"29\", \"30\", \"31\", \"32\", \"33\", \"34\", \"37\", \"38\"], \"mode\": \"lines\", \"name\": \"normalized_root_mean_squared_log_error_min\", \"stepped\": true, \"type\": \"scatter\", \"data\": [0.0017902335376288419, 0.0017902335376288419, 0.0017902335376288419, 0.0017902335376288419, 0.0017902335376288419, 0.0017902335376288419, 0.0017902335376288419, 0.0017902335376288419, 0.0017902335376288419, 0.0017902335376288419, 0.0017902335376288419, 0.0017902335376288419, 0.0017902335376288419, 0.0017902335376288419, 0.0017902335376288419, 0.0017902335376288419, 0.0017902335376288419, 0.0017902335376288419, 0.0017902335376288419, 0.0017902335376288419, 0.0017902335376288419, 0.0017902335376288419, 0.0017902335376288419, 0.0017902335376288419, 0.0017902335376288419, 0.0017902335376288419, 0.0017902335376288419, 0.0017902335376288419, 0.0017902335376288419, 0.0017902335376288419, 0.0017902335376288419, 0.0017902335376288419, 0.0017902335376288419, 0.0017902335376288419, 0.0017902335376288419, 0.0017902335376288419, 0.0017902335376288419]}], \"root_mean_squared_log_error\": [{\"categories\": [\"0\", \"1\", \"2\", \"3\", \"4\", \"5\", \"6\", \"7\", \"8\", \"9\", \"10\", \"11\", \"12\", \"13\", \"14\", \"15\", \"16\", \"17\", \"18\", \"19\", \"20\", \"21\", \"22\", \"23\", \"24\", \"25\", \"26\", \"27\", \"28\", \"29\", \"30\", \"31\", \"32\", \"33\", \"34\", \"37\", \"38\"], \"mode\": \"markers\", \"name\": \"root_mean_squared_log_error\", \"stepped\": false, \"type\": \"scatter\", \"data\": [0.0005712604223994724, 0.001331743866687258, 0.02163590810879221, 0.0058168723975838485, 0.004181188520437958, 0.003039749718088817, 0.001817659736281402, 0.0032429702206940706, 0.005938537403695799, 0.0029072141143371955, 0.00433700000114594, 0.0019511989705845389, 0.0075334633889977565, 0.00634688569977798, 0.0078055808585708614, 0.008052202071714096, 0.023368874250469695, 0.0015687909340516052, 0.00762297202899887, 0.006565328884803311, 0.004950150198757021, 0.004224898040309699, 0.002475342666925056, 0.0023606057095974632, 0.0017932389704137636, 0.016766796817867358, 0.006244476490875932, 0.003914265824587202, 0.004316446204227222, 0.0024828950789411598, 0.015086597678809299, 0.00220393839613657, 0.003362546118473453, 0.0019056758719907963, 0.003039749718088817, 0.0005712604223994724, 0.000596066723720471]}, {\"categories\": [\"0\", \"1\", \"2\", \"3\", \"4\", \"5\", \"6\", \"7\", \"8\", \"9\", \"10\", \"11\", \"12\", \"13\", \"14\", \"15\", \"16\", \"17\", \"18\", \"19\", \"20\", \"21\", \"22\", \"23\", \"24\", \"25\", \"26\", \"27\", \"28\", \"29\", \"30\", \"31\", \"32\", \"33\", \"34\", \"37\", \"38\"], \"mode\": \"lines\", \"name\": \"root_mean_squared_log_error_min\", \"stepped\": true, \"type\": \"scatter\", \"data\": [0.0005712604223994724, 0.0005712604223994724, 0.0005712604223994724, 0.0005712604223994724, 0.0005712604223994724, 0.0005712604223994724, 0.0005712604223994724, 0.0005712604223994724, 0.0005712604223994724, 0.0005712604223994724, 0.0005712604223994724, 0.0005712604223994724, 0.0005712604223994724, 0.0005712604223994724, 0.0005712604223994724, 0.0005712604223994724, 0.0005712604223994724, 0.0005712604223994724, 0.0005712604223994724, 0.0005712604223994724, 0.0005712604223994724, 0.0005712604223994724, 0.0005712604223994724, 0.0005712604223994724, 0.0005712604223994724, 0.0005712604223994724, 0.0005712604223994724, 0.0005712604223994724, 0.0005712604223994724, 0.0005712604223994724, 0.0005712604223994724, 0.0005712604223994724, 0.0005712604223994724, 0.0005712604223994724, 0.0005712604223994724, 0.0005712604223994724, 0.0005712604223994724]}], \"r2_score\": [{\"categories\": [\"0\", \"1\", \"2\", \"3\", \"4\", \"5\", \"6\", \"7\", \"8\", \"9\", \"10\", \"11\", \"12\", \"13\", \"14\", \"15\", \"16\", \"17\", \"18\", \"19\", \"20\", \"21\", \"22\", \"23\", \"24\", \"25\", \"26\", \"27\", \"28\", \"29\", \"30\", \"31\", \"32\", \"33\", \"34\", \"37\", \"38\"], \"mode\": \"markers\", \"name\": \"r2_score\", \"stepped\": false, \"type\": \"scatter\", \"data\": [0.9999533980442392, 0.9997487767606934, 0.9345748189617676, 0.9958755721620782, 0.9977900569691922, 0.9987753964436429, 0.9995220916033452, 0.9985803312835753, 0.9955543707072044, 0.9988474041768847, 0.9974499603441214, 0.9994591862018962, 0.9927684096371522, 0.9947976478675502, 0.9917440293315302, 0.9916242189791792, 0.927547773483794, 0.9996413797202296, 0.9924343793183708, 0.9942934949115229, 0.9967473394412563, 0.9976050630850262, 0.9991418194857262, 0.9992759802230118, 0.9995312492098531, 0.9642042758695023, 0.9950479430401632, 0.9979558288059213, 0.9975143501220123, 0.9991203552582484, 0.9715893918580718, 0.9993128604314659, 0.9985190604786969, 0.9994737820580951, 0.9987753964436429, 0.9999533980442392, 0.9999494062830683]}, {\"categories\": [\"0\", \"1\", \"2\", \"3\", \"4\", \"5\", \"6\", \"7\", \"8\", \"9\", \"10\", \"11\", \"12\", \"13\", \"14\", \"15\", \"16\", \"17\", \"18\", \"19\", \"20\", \"21\", \"22\", \"23\", \"24\", \"25\", \"26\", \"27\", \"28\", \"29\", \"30\", \"31\", \"32\", \"33\", \"34\", \"37\", \"38\"], \"mode\": \"lines\", \"name\": \"r2_score_max\", \"stepped\": true, \"type\": \"scatter\", \"data\": [0.9999533980442392, 0.9999533980442392, 0.9999533980442392, 0.9999533980442392, 0.9999533980442392, 0.9999533980442392, 0.9999533980442392, 0.9999533980442392, 0.9999533980442392, 0.9999533980442392, 0.9999533980442392, 0.9999533980442392, 0.9999533980442392, 0.9999533980442392, 0.9999533980442392, 0.9999533980442392, 0.9999533980442392, 0.9999533980442392, 0.9999533980442392, 0.9999533980442392, 0.9999533980442392, 0.9999533980442392, 0.9999533980442392, 0.9999533980442392, 0.9999533980442392, 0.9999533980442392, 0.9999533980442392, 0.9999533980442392, 0.9999533980442392, 0.9999533980442392, 0.9999533980442392, 0.9999533980442392, 0.9999533980442392, 0.9999533980442392, 0.9999533980442392, 0.9999533980442392, 0.9999533980442392]}], \"spearman_correlation\": [{\"categories\": [\"0\", \"1\", \"2\", \"3\", \"4\", \"5\", \"6\", \"7\", \"8\", \"9\", \"10\", \"11\", \"12\", \"13\", \"14\", \"15\", \"16\", \"17\", \"18\", \"19\", \"20\", \"21\", \"22\", \"23\", \"24\", \"25\", \"26\", \"27\", \"28\", \"29\", \"30\", \"31\", \"32\", \"33\", \"34\", \"37\", \"38\"], \"mode\": \"markers\", \"name\": \"spearman_correlation\", \"stepped\": false, \"type\": \"scatter\", \"data\": [0.999185767688334, 0.9991857182954618, 0.9990387348649689, 0.9969474467363091, 0.9985851431119162, 0.9987586832364961, 0.9990907735286981, 0.9982923349381811, 0.9967405346246663, 0.9986123278348196, 0.9978657332405237, 0.9993519816279962, 0.9949811236076286, 0.9961776588984617, 0.9953893074431243, 0.9963506901101132, 0.9543210210778084, 0.9994204688431871, 0.9953179695704566, 0.994819701986347, 0.996823840975831, 0.9981548011754956, 0.9985526137099534, 0.9994487580983883, 0.9993210627543195, 0.9948962391323931, 0.9982457118788511, 0.9982783251092199, 0.9974659251358228, 0.9990017628983537, 0.9960695030538768, 0.9988405929218199, 0.9987715015164429, 0.9990532186331211, 0.9987586832364961, 0.999185767688334, 0.999185767688334]}, {\"categories\": [\"0\", \"1\", \"2\", \"3\", \"4\", \"5\", \"6\", \"7\", \"8\", \"9\", \"10\", \"11\", \"12\", \"13\", \"14\", \"15\", \"16\", \"17\", \"18\", \"19\", \"20\", \"21\", \"22\", \"23\", \"24\", \"25\", \"26\", \"27\", \"28\", \"29\", \"30\", \"31\", \"32\", \"33\", \"34\", \"37\", \"38\"], \"mode\": \"lines\", \"name\": \"spearman_correlation_max\", \"stepped\": true, \"type\": \"scatter\", \"data\": [0.999185767688334, 0.999185767688334, 0.999185767688334, 0.999185767688334, 0.999185767688334, 0.999185767688334, 0.999185767688334, 0.999185767688334, 0.999185767688334, 0.999185767688334, 0.999185767688334, 0.9993519816279962, 0.9993519816279962, 0.9993519816279962, 0.9993519816279962, 0.9993519816279962, 0.9993519816279962, 0.9994204688431871, 0.9994204688431871, 0.9994204688431871, 0.9994204688431871, 0.9994204688431871, 0.9994204688431871, 0.9994487580983883, 0.9994487580983883, 0.9994487580983883, 0.9994487580983883, 0.9994487580983883, 0.9994487580983883, 0.9994487580983883, 0.9994487580983883, 0.9994487580983883, 0.9994487580983883, 0.9994487580983883, 0.9994487580983883, 0.9994487580983883, 0.9994487580983883]}], \"mean_absolute_error\": [{\"categories\": [\"0\", \"1\", \"2\", \"3\", \"4\", \"5\", \"6\", \"7\", \"8\", \"9\", \"10\", \"11\", \"12\", \"13\", \"14\", \"15\", \"16\", \"17\", \"18\", \"19\", \"20\", \"21\", \"22\", \"23\", \"24\", \"25\", \"26\", \"27\", \"28\", \"29\", \"30\", \"31\", \"32\", \"33\", \"34\", \"37\", \"38\"], \"mode\": \"markers\", \"name\": \"mean_absolute_error\", \"stepped\": false, \"type\": \"scatter\", \"data\": [0.0005009754499645351, 0.001622824229330642, 0.031214974647931555, 0.0058913418297833345, 0.005084466533375788, 0.003318744707114276, 0.0016671410290611973, 0.003466588577291413, 0.006257463727344588, 0.0021626699679851203, 0.004409415876519482, 0.001482814308133561, 0.007591355931310703, 0.00526771163021846, 0.009114775899503118, 0.008788727623014778, 0.030698309803527623, 0.0011377126626944888, 0.008426719497589458, 0.006975248179380058, 0.006496295687331205, 0.004053630561213808, 0.002321421342669953, 0.0019365601659608906, 0.0014165786209861466, 0.015841550813255716, 0.0070581060640602655, 0.0037463801875658167, 0.004522259246422895, 0.001880276294442769, 0.01363654501989855, 0.0021602959032739335, 0.003634039083809915, 0.0016251993198049056, 0.003318744707114276, 0.0005009754499645351, 0.0005857455816310768]}, {\"categories\": [\"0\", \"1\", \"2\", \"3\", \"4\", \"5\", \"6\", \"7\", \"8\", \"9\", \"10\", \"11\", \"12\", \"13\", \"14\", \"15\", \"16\", \"17\", \"18\", \"19\", \"20\", \"21\", \"22\", \"23\", \"24\", \"25\", \"26\", \"27\", \"28\", \"29\", \"30\", \"31\", \"32\", \"33\", \"34\", \"37\", \"38\"], \"mode\": \"lines\", \"name\": \"mean_absolute_error_min\", \"stepped\": true, \"type\": \"scatter\", \"data\": [0.0005009754499645351, 0.0005009754499645351, 0.0005009754499645351, 0.0005009754499645351, 0.0005009754499645351, 0.0005009754499645351, 0.0005009754499645351, 0.0005009754499645351, 0.0005009754499645351, 0.0005009754499645351, 0.0005009754499645351, 0.0005009754499645351, 0.0005009754499645351, 0.0005009754499645351, 0.0005009754499645351, 0.0005009754499645351, 0.0005009754499645351, 0.0005009754499645351, 0.0005009754499645351, 0.0005009754499645351, 0.0005009754499645351, 0.0005009754499645351, 0.0005009754499645351, 0.0005009754499645351, 0.0005009754499645351, 0.0005009754499645351, 0.0005009754499645351, 0.0005009754499645351, 0.0005009754499645351, 0.0005009754499645351, 0.0005009754499645351, 0.0005009754499645351, 0.0005009754499645351, 0.0005009754499645351, 0.0005009754499645351, 0.0005009754499645351, 0.0005009754499645351]}], \"normalized_mean_absolute_error\": [{\"categories\": [\"0\", \"1\", \"2\", \"3\", \"4\", \"5\", \"6\", \"7\", \"8\", \"9\", \"10\", \"11\", \"12\", \"13\", \"14\", \"15\", \"16\", \"17\", \"18\", \"19\", \"20\", \"21\", \"22\", \"23\", \"24\", \"25\", \"26\", \"27\", \"28\", \"29\", \"30\", \"31\", \"32\", \"33\", \"34\", \"37\", \"38\"], \"mode\": \"markers\", \"name\": \"normalized_mean_absolute_error\", \"stepped\": false, \"type\": \"scatter\", \"data\": [0.0009452366980462927, 0.0030619325081710225, 0.058896178581002934, 0.01111573930147799, 0.00959333308184111, 0.0062617824662533515, 0.003145549111436221, 0.006540733164700778, 0.011806535334612431, 0.00408050937355683, 0.00831965259720657, 0.0027977628455350214, 0.014323313077944724, 0.009939078547582001, 0.017197690376420972, 0.016582504949084486, 0.05792133925193891, 0.0021466276654612997, 0.01589947075016879, 0.013160845621471809, 0.01225716167420982, 0.007648359549460014, 0.004380040269188591, 0.0036538871055865852, 0.0026727898509172573, 0.029889718515576813, 0.013317181252943896, 0.00706864186333173, 0.008532564615892255, 0.0035476911215901303, 0.02572933022622368, 0.004076030006177233, 0.006856677516622481, 0.0030664138109526514, 0.0062617824662533515, 0.0009452366980462927, 0.0011051803427001448]}, {\"categories\": [\"0\", \"1\", \"2\", \"3\", \"4\", \"5\", \"6\", \"7\", \"8\", \"9\", \"10\", \"11\", \"12\", \"13\", \"14\", \"15\", \"16\", \"17\", \"18\", \"19\", \"20\", \"21\", \"22\", \"23\", \"24\", \"25\", \"26\", \"27\", \"28\", \"29\", \"30\", \"31\", \"32\", \"33\", \"34\", \"37\", \"38\"], \"mode\": \"lines\", \"name\": \"normalized_mean_absolute_error_min\", \"stepped\": true, \"type\": \"scatter\", \"data\": [0.0009452366980462927, 0.0009452366980462927, 0.0009452366980462927, 0.0009452366980462927, 0.0009452366980462927, 0.0009452366980462927, 0.0009452366980462927, 0.0009452366980462927, 0.0009452366980462927, 0.0009452366980462927, 0.0009452366980462927, 0.0009452366980462927, 0.0009452366980462927, 0.0009452366980462927, 0.0009452366980462927, 0.0009452366980462927, 0.0009452366980462927, 0.0009452366980462927, 0.0009452366980462927, 0.0009452366980462927, 0.0009452366980462927, 0.0009452366980462927, 0.0009452366980462927, 0.0009452366980462927, 0.0009452366980462927, 0.0009452366980462927, 0.0009452366980462927, 0.0009452366980462927, 0.0009452366980462927, 0.0009452366980462927, 0.0009452366980462927, 0.0009452366980462927, 0.0009452366980462927, 0.0009452366980462927, 0.0009452366980462927, 0.0009452366980462927, 0.0009452366980462927]}]}, \"metricName\": null, \"primaryMetricName\": \"normalized_root_mean_squared_error\", \"showLegend\": false}, \"run_metrics\": [{\"name\": \"experiment_status\", \"run_id\": \"AutoML_7d5080b1-bb8e-49af-9e32-8ee709929dba\", \"categories\": [0, 1, 2, 3, 4, 5, 6, 7, 8, 9, 10, 11, 12], \"series\": [{\"data\": [\"DatasetEvaluation\", \"FeaturesGeneration\", \"DatasetFeaturization\", \"DatasetFeaturizationCompleted\", \"DatasetCrossValidationSplit\", \"ModelSelection\", \"BestRunExplainModel\", \"ModelExplanationDataSetSetup\", \"PickSurrogateModel\", \"EngineeredFeatureExplanations\", \"EngineeredFeatureExplanations\", \"RawFeaturesExplanations\", \"FailedModelExplanations\"]}]}, {\"name\": \"experiment_status_description\", \"run_id\": \"AutoML_7d5080b1-bb8e-49af-9e32-8ee709929dba\", \"categories\": [0, 1, 2, 3, 4, 5, 6, 7, 8, 9, 10, 11, 12], \"series\": [{\"data\": [\"Gathering dataset statistics.\", \"Generating features for the dataset.\", \"Beginning to fit featurizers and featurize the dataset.\", \"Completed fit featurizers and featurizing the dataset.\", \"Generating individually featurized CV splits.\", \"Beginning model selection.\", \"Best run model explanations started\", \"Model explanations data setup completed\", \"Choosing LightGBM as the surrogate model for explanations\", \"Computation of engineered features started\", \"Computation of engineered features completed\", \"Computation of raw features started\", \"Failed to explain best model\"]}]}, {\"name\": \"normalized_root_mean_squared_error\", \"run_id\": \"AutoML_7d5080b1-bb8e-49af-9e32-8ee709929dba\", \"categories\": [0], \"series\": [{\"data\": [0.0018279309307854727]}]}, {\"name\": \"mean_absolute_percentage_error\", \"run_id\": \"AutoML_7d5080b1-bb8e-49af-9e32-8ee709929dba\", \"categories\": [0], \"series\": [{\"data\": [0.07381853029567127]}]}, {\"name\": \"explained_variance\", \"run_id\": \"AutoML_7d5080b1-bb8e-49af-9e32-8ee709929dba\", \"categories\": [0], \"series\": [{\"data\": [0.999953402885974]}]}, {\"name\": \"normalized_median_absolute_error\", \"run_id\": \"AutoML_7d5080b1-bb8e-49af-9e32-8ee709929dba\", \"categories\": [0], \"series\": [{\"data\": [0.0005037446968936056]}]}, {\"name\": \"normalized_mean_absolute_error\", \"run_id\": \"AutoML_7d5080b1-bb8e-49af-9e32-8ee709929dba\", \"categories\": [0], \"series\": [{\"data\": [0.0009452366980462927]}]}, {\"name\": \"spearman_correlation\", \"run_id\": \"AutoML_7d5080b1-bb8e-49af-9e32-8ee709929dba\", \"categories\": [0], \"series\": [{\"data\": [0.999185767688334]}]}, {\"name\": \"median_absolute_error\", \"run_id\": \"AutoML_7d5080b1-bb8e-49af-9e32-8ee709929dba\", \"categories\": [0], \"series\": [{\"data\": [0.000266984689353611]}]}, {\"name\": \"root_mean_squared_error\", \"run_id\": \"AutoML_7d5080b1-bb8e-49af-9e32-8ee709929dba\", \"categories\": [0], \"series\": [{\"data\": [0.0009688033933163006]}]}, {\"name\": \"normalized_root_mean_squared_log_error\", \"run_id\": \"AutoML_7d5080b1-bb8e-49af-9e32-8ee709929dba\", \"categories\": [0], \"series\": [{\"data\": [0.0017902335376288419]}]}, {\"name\": \"mean_absolute_error\", \"run_id\": \"AutoML_7d5080b1-bb8e-49af-9e32-8ee709929dba\", \"categories\": [0], \"series\": [{\"data\": [0.0005009754499645351]}]}, {\"name\": \"r2_score\", \"run_id\": \"AutoML_7d5080b1-bb8e-49af-9e32-8ee709929dba\", \"categories\": [0], \"series\": [{\"data\": [0.9999533980442392]}]}, {\"name\": \"root_mean_squared_log_error\", \"run_id\": \"AutoML_7d5080b1-bb8e-49af-9e32-8ee709929dba\", \"categories\": [0], \"series\": [{\"data\": [0.0005712604223994724]}]}], \"run_logs\": \"\\nRun is completed.\", \"graph\": {}, \"widget_settings\": {\"childWidgetDisplay\": \"popup\", \"send_telemetry\": false, \"log_level\": \"INFO\", \"sdk_version\": \"1.24.0\"}, \"loading\": false}"
          },
          "metadata": {}
        },
        {
          "output_type": "stream",
          "name": "stdout",
          "text": [
            "\n",
            "\n",
            "****************************************************************************************************\n",
            "DATA GUARDRAILS: \n",
            "\n",
            "TYPE:         Missing feature values imputation\n",
            "STATUS:       PASSED\n",
            "DESCRIPTION:  No feature missing values were detected in the training data.\n",
            "              Learn more about missing value imputation: https://aka.ms/AutomatedMLFeaturization\n",
            "\n",
            "****************************************************************************************************\n",
            "\n",
            "TYPE:         High cardinality feature detection\n",
            "STATUS:       PASSED\n",
            "DESCRIPTION:  Your inputs were analyzed, and no high cardinality features were detected.\n",
            "              Learn more about high cardinality feature handling: https://aka.ms/AutomatedMLFeaturization\n",
            "\n",
            "****************************************************************************************************\n",
            "\n",
            "****************************************************************************************************\n",
            "ITERATION: The iteration being evaluated.\n",
            "PIPELINE: A summary description of the pipeline being evaluated.\n",
            "DURATION: Time taken for the current iteration.\n",
            "METRIC: The result of computing score on the fitted pipeline.\n",
            "BEST: The best observed score thus far.\n",
            "****************************************************************************************************\n",
            "\n",
            " ITERATION   PIPELINE                                       DURATION      METRIC      BEST\n",
            "         0   MaxAbsScaler LightGBM                          0:01:04       0.0018    0.0018\n",
            "         1   MaxAbsScaler XGBoostRegressor                  0:01:05       0.0042    0.0018\n",
            "         2   StandardScalerWrapper ElasticNet               0:00:57       0.0685    0.0018\n",
            "         3   MaxAbsScaler DecisionTree                      0:00:58       0.0172    0.0018\n",
            "         4   MaxAbsScaler ElasticNet                        0:01:05       0.0126    0.0018\n",
            "         5   MaxAbsScaler DecisionTree                      0:00:46       0.0094    0.0018\n",
            "         6   MaxAbsScaler DecisionTree                      0:00:49       0.0059    0.0018\n",
            "         7   MaxAbsScaler DecisionTree                      0:00:44       0.0100    0.0018\n",
            "         8   MaxAbsScaler DecisionTree                      0:00:44       0.0178    0.0018\n",
            "         9   MaxAbsScaler DecisionTree                      0:00:45       0.0090    0.0018\n",
            "        10   MaxAbsScaler DecisionTree                      0:00:52       0.0134    0.0018\n",
            "        11   MaxAbsScaler DecisionTree                      0:00:47       0.0062    0.0018\n",
            "        12   MaxAbsScaler DecisionTree                      0:00:50       0.0228    0.0018\n",
            "        13   StandardScalerWrapper DecisionTree             0:00:48       0.0190    0.0018\n",
            "        14   MaxAbsScaler DecisionTree                      0:00:44       0.0242    0.0018\n",
            "        15   MaxAbsScaler DecisionTree                      0:00:55       0.0241    0.0018\n",
            "        16   MaxAbsScaler SGD                               0:00:59       0.0721    0.0018\n",
            "        17   MaxAbsScaler DecisionTree                      0:00:55       0.0051    0.0018\n",
            "        18   MaxAbsScaler DecisionTree                      0:00:49       0.0232    0.0018\n",
            "        19   MaxAbsScaler DecisionTree                      0:00:49       0.0201    0.0018\n",
            "        20   MaxAbsScaler SGD                               0:00:46       0.0153    0.0018\n",
            "        21   MaxAbsScaler DecisionTree                      0:00:42       0.0128    0.0018\n",
            "        22   MaxAbsScaler DecisionTree                      0:00:42       0.0078    0.0018\n",
            "        23   MaxAbsScaler DecisionTree                      0:00:47       0.0072    0.0018\n",
            "        24   MaxAbsScaler DecisionTree                      0:00:45       0.0058    0.0018\n",
            "        25   MaxAbsScaler LightGBM                          0:00:52       0.0507    0.0018\n",
            "        26   MaxAbsScaler DecisionTree                      0:00:39       0.0188    0.0018\n",
            "        27   MaxAbsScaler DecisionTree                      0:00:46       0.0120    0.0018\n",
            "        28   MaxAbsScaler DecisionTree                      0:00:44       0.0132    0.0018\n",
            "        29   MaxAbsScaler DecisionTree                      0:00:42       0.0079    0.0018\n",
            "        30   MaxAbsScaler LightGBM                          0:00:44       0.0451    0.0018\n",
            "        31   MaxAbsScaler DecisionTree                      0:00:44       0.0070    0.0018\n",
            "        32   MaxAbsScaler DecisionTree                      0:00:45       0.0103    0.0018\n",
            "        33   MaxAbsScaler DecisionTree                      0:00:47       0.0061    0.0018\n",
            "        34   MaxAbsScaler DecisionTree                      0:00:46       0.0094    0.0018\n",
            "        35                                                  0:00:18          nan    0.0018\n",
            "        36                                                  0:00:08          nan    0.0018\n",
            "        37    VotingEnsemble                                0:01:09       0.0018    0.0018\n",
            "        38    StackEnsemble                                 0:01:02       0.0019    0.0018\n"
          ]
        },
        {
          "output_type": "execute_result",
          "execution_count": 12,
          "data": {
            "text/plain": "{'runId': 'AutoML_7d5080b1-bb8e-49af-9e32-8ee709929dba',\n 'target': 'comp',\n 'status': 'Completed',\n 'startTimeUtc': '2021-03-31T17:06:13.702633Z',\n 'endTimeUtc': '2021-03-31T17:20:18.316458Z',\n 'properties': {'num_iterations': '1000',\n  'training_type': 'TrainFull',\n  'acquisition_function': 'EI',\n  'primary_metric': 'normalized_root_mean_squared_error',\n  'train_split': '0',\n  'acquisition_parameter': '0',\n  'num_cross_validation': '5',\n  'target': 'comp',\n  'AMLSettingsJsonString': '{\"path\":null,\"name\":\"data_quality_analysis\",\"subscription_id\":\"d4ad7261-832d-46b2-b093-22156001df5b\",\"resource_group\":\"aml-quickstarts-141702\",\"workspace_name\":\"quick-starts-ws-141702\",\"region\":\"southcentralus\",\"compute_target\":\"comp\",\"spark_service\":null,\"azure_service\":\"remote\",\"many_models\":false,\"pipeline_fetch_max_batch_size\":1,\"enable_batch_run\":false,\"iterations\":1000,\"primary_metric\":\"normalized_root_mean_squared_error\",\"task_type\":\"regression\",\"data_script\":null,\"validation_size\":0.0,\"n_cross_validations\":5,\"y_min\":null,\"y_max\":null,\"num_classes\":null,\"featurization\":\"auto\",\"_ignore_package_version_incompatibilities\":false,\"is_timeseries\":false,\"max_cores_per_iteration\":1,\"max_concurrent_iterations\":5,\"iteration_timeout_minutes\":null,\"mem_in_mb\":null,\"enforce_time_on_windows\":false,\"experiment_timeout_minutes\":30,\"experiment_exit_score\":null,\"whitelist_models\":null,\"blacklist_algos\":[\"TensorFlowDNN\",\"TensorFlowLinearRegressor\"],\"supported_models\":[\"ElasticNet\",\"SGD\",\"XGBoostRegressor\",\"FastLinearRegressor\",\"LightGBM\",\"DecisionTree\",\"KNN\",\"GradientBoosting\",\"ExtremeRandomTrees\",\"TensorFlowDNN\",\"LassoLars\",\"RandomForest\",\"OnlineGradientDescentRegressor\",\"TensorFlowLinearRegressor\"],\"private_models\":[],\"auto_blacklist\":true,\"blacklist_samples_reached\":false,\"exclude_nan_labels\":true,\"verbosity\":20,\"_debug_log\":\"azureml_automl.log\",\"show_warnings\":false,\"model_explainability\":true,\"service_url\":null,\"sdk_url\":null,\"sdk_packages\":null,\"enable_onnx_compatible_models\":false,\"enable_split_onnx_featurizer_estimator_models\":false,\"vm_type\":\"STANDARD_DS3_V2\",\"telemetry_verbosity\":20,\"send_telemetry\":true,\"enable_dnn\":false,\"scenario\":\"SDK-1.13.0\",\"environment_label\":null,\"save_mlflow\":false,\"force_text_dnn\":false,\"enable_feature_sweeping\":true,\"enable_early_stopping\":true,\"early_stopping_n_iters\":10,\"metrics\":null,\"enable_metric_confidence\":false,\"enable_ensembling\":true,\"enable_stack_ensembling\":true,\"ensemble_iterations\":15,\"enable_tf\":false,\"enable_subsampling\":null,\"subsample_seed\":null,\"enable_nimbusml\":false,\"enable_streaming\":false,\"force_streaming\":false,\"track_child_runs\":true,\"allowed_private_models\":[],\"label_column_name\":\"score\",\"weight_column_name\":null,\"cv_split_column_names\":null,\"enable_local_managed\":false,\"_local_managed_run_id\":null,\"cost_mode\":1,\"lag_length\":0,\"metric_operation\":\"minimize\",\"preprocess\":true}',\n  'DataPrepJsonString': '{\\\\\"training_data\\\\\": \\\\\"{\\\\\\\\\\\\\"blocks\\\\\\\\\\\\\": [{\\\\\\\\\\\\\"id\\\\\\\\\\\\\": \\\\\\\\\\\\\"d7832a35-6728-4b6a-9293-7c16ba28ab40\\\\\\\\\\\\\", \\\\\\\\\\\\\"type\\\\\\\\\\\\\": \\\\\\\\\\\\\"Microsoft.DPrep.GetFilesBlock\\\\\\\\\\\\\", \\\\\\\\\\\\\"arguments\\\\\\\\\\\\\": {\\\\\\\\\\\\\"isArchive\\\\\\\\\\\\\": false, \\\\\\\\\\\\\"path\\\\\\\\\\\\\": {\\\\\\\\\\\\\"target\\\\\\\\\\\\\": 4, \\\\\\\\\\\\\"resourceDetails\\\\\\\\\\\\\": [{\\\\\\\\\\\\\"path\\\\\\\\\\\\\": \\\\\\\\\\\\\"https://raw.githubusercontent.com/shatakshipachori/data_quality_analysis/main/catalogue-scorecard.csv\\\\\\\\\\\\\"}]}}, \\\\\\\\\\\\\"localData\\\\\\\\\\\\\": {}, \\\\\\\\\\\\\"isEnabled\\\\\\\\\\\\\": true, \\\\\\\\\\\\\"name\\\\\\\\\\\\\": null, \\\\\\\\\\\\\"annotation\\\\\\\\\\\\\": null}, {\\\\\\\\\\\\\"id\\\\\\\\\\\\\": \\\\\\\\\\\\\"888b2f63-8147-421f-97ff-c547569aa964\\\\\\\\\\\\\", \\\\\\\\\\\\\"type\\\\\\\\\\\\\": \\\\\\\\\\\\\"Microsoft.DPrep.ParseDelimitedBlock\\\\\\\\\\\\\", \\\\\\\\\\\\\"arguments\\\\\\\\\\\\\": {\\\\\\\\\\\\\"columnHeadersMode\\\\\\\\\\\\\": 3, \\\\\\\\\\\\\"fileEncoding\\\\\\\\\\\\\": 0, \\\\\\\\\\\\\"handleQuotedLineBreaks\\\\\\\\\\\\\": false, \\\\\\\\\\\\\"preview\\\\\\\\\\\\\": false, \\\\\\\\\\\\\"separator\\\\\\\\\\\\\": \\\\\\\\\\\\\",\\\\\\\\\\\\\", \\\\\\\\\\\\\"skipRows\\\\\\\\\\\\\": 0, \\\\\\\\\\\\\"skipRowsMode\\\\\\\\\\\\\": 0}, \\\\\\\\\\\\\"localData\\\\\\\\\\\\\": {}, \\\\\\\\\\\\\"isEnabled\\\\\\\\\\\\\": true, \\\\\\\\\\\\\"name\\\\\\\\\\\\\": null, \\\\\\\\\\\\\"annotation\\\\\\\\\\\\\": null}, {\\\\\\\\\\\\\"id\\\\\\\\\\\\\": \\\\\\\\\\\\\"73059e80-ac6f-4059-b41f-aa6242118089\\\\\\\\\\\\\", \\\\\\\\\\\\\"type\\\\\\\\\\\\\": \\\\\\\\\\\\\"Microsoft.DPrep.DropColumnsBlock\\\\\\\\\\\\\", \\\\\\\\\\\\\"arguments\\\\\\\\\\\\\": {\\\\\\\\\\\\\"columns\\\\\\\\\\\\\": {\\\\\\\\\\\\\"type\\\\\\\\\\\\\": 0, \\\\\\\\\\\\\"details\\\\\\\\\\\\\": {\\\\\\\\\\\\\"selectedColumns\\\\\\\\\\\\\": [\\\\\\\\\\\\\"Path\\\\\\\\\\\\\"]}}}, \\\\\\\\\\\\\"localData\\\\\\\\\\\\\": {}, \\\\\\\\\\\\\"isEnabled\\\\\\\\\\\\\": true, \\\\\\\\\\\\\"name\\\\\\\\\\\\\": null, \\\\\\\\\\\\\"annotation\\\\\\\\\\\\\": null}, {\\\\\\\\\\\\\"id\\\\\\\\\\\\\": \\\\\\\\\\\\\"56aa8282-9528-40a7-8146-ccaa74144b0f\\\\\\\\\\\\\", \\\\\\\\\\\\\"type\\\\\\\\\\\\\": \\\\\\\\\\\\\"Microsoft.DPrep.SetColumnTypesBlock\\\\\\\\\\\\\", \\\\\\\\\\\\\"arguments\\\\\\\\\\\\\": {\\\\\\\\\\\\\"columnConversion\\\\\\\\\\\\\": [{\\\\\\\\\\\\\"column\\\\\\\\\\\\\": {\\\\\\\\\\\\\"type\\\\\\\\\\\\\": 2, \\\\\\\\\\\\\"details\\\\\\\\\\\\\": {\\\\\\\\\\\\\"selectedColumn\\\\\\\\\\\\\": \\\\\\\\\\\\\"_id\\\\\\\\\\\\\"}}, \\\\\\\\\\\\\"typeProperty\\\\\\\\\\\\\": 2}, {\\\\\\\\\\\\\"column\\\\\\\\\\\\\": {\\\\\\\\\\\\\"type\\\\\\\\\\\\\": 2, \\\\\\\\\\\\\"details\\\\\\\\\\\\\": {\\\\\\\\\\\\\"selectedColumn\\\\\\\\\\\\\": \\\\\\\\\\\\\"package\\\\\\\\\\\\\"}}, \\\\\\\\\\\\\"typeProperty\\\\\\\\\\\\\": 0}, {\\\\\\\\\\\\\"column\\\\\\\\\\\\\": {\\\\\\\\\\\\\"type\\\\\\\\\\\\\": 2, \\\\\\\\\\\\\"details\\\\\\\\\\\\\": {\\\\\\\\\\\\\"selectedColumn\\\\\\\\\\\\\": \\\\\\\\\\\\\"accessibility\\\\\\\\\\\\\"}}, \\\\\\\\\\\\\"typeProperty\\\\\\\\\\\\\": 2}, {\\\\\\\\\\\\\"column\\\\\\\\\\\\\": {\\\\\\\\\\\\\"type\\\\\\\\\\\\\": 2, \\\\\\\\\\\\\"details\\\\\\\\\\\\\": {\\\\\\\\\\\\\"selectedColumn\\\\\\\\\\\\\": \\\\\\\\\\\\\"completeness\\\\\\\\\\\\\"}}, \\\\\\\\\\\\\"typeProperty\\\\\\\\\\\\\": 3}, {\\\\\\\\\\\\\"column\\\\\\\\\\\\\": {\\\\\\\\\\\\\"type\\\\\\\\\\\\\": 2, \\\\\\\\\\\\\"details\\\\\\\\\\\\\": {\\\\\\\\\\\\\"selectedColumn\\\\\\\\\\\\\": \\\\\\\\\\\\\"freshness\\\\\\\\\\\\\"}}, \\\\\\\\\\\\\"typeProperty\\\\\\\\\\\\\": 3}, {\\\\\\\\\\\\\"column\\\\\\\\\\\\\": {\\\\\\\\\\\\\"type\\\\\\\\\\\\\": 2, \\\\\\\\\\\\\"details\\\\\\\\\\\\\": {\\\\\\\\\\\\\"selectedColumn\\\\\\\\\\\\\": \\\\\\\\\\\\\"metadata\\\\\\\\\\\\\"}}, \\\\\\\\\\\\\"typeProperty\\\\\\\\\\\\\": 3}, {\\\\\\\\\\\\\"column\\\\\\\\\\\\\": {\\\\\\\\\\\\\"type\\\\\\\\\\\\\": 2, \\\\\\\\\\\\\"details\\\\\\\\\\\\\": {\\\\\\\\\\\\\"selectedColumn\\\\\\\\\\\\\": \\\\\\\\\\\\\"usability\\\\\\\\\\\\\"}}, \\\\\\\\\\\\\"typeProperty\\\\\\\\\\\\\": 3}, {\\\\\\\\\\\\\"column\\\\\\\\\\\\\": {\\\\\\\\\\\\\"type\\\\\\\\\\\\\": 2, \\\\\\\\\\\\\"details\\\\\\\\\\\\\": {\\\\\\\\\\\\\"selectedColumn\\\\\\\\\\\\\": \\\\\\\\\\\\\"score\\\\\\\\\\\\\"}}, \\\\\\\\\\\\\"typeProperty\\\\\\\\\\\\\": 3}, {\\\\\\\\\\\\\"column\\\\\\\\\\\\\": {\\\\\\\\\\\\\"type\\\\\\\\\\\\\": 2, \\\\\\\\\\\\\"details\\\\\\\\\\\\\": {\\\\\\\\\\\\\"selectedColumn\\\\\\\\\\\\\": \\\\\\\\\\\\\"score_norm\\\\\\\\\\\\\"}}, \\\\\\\\\\\\\"typeProperty\\\\\\\\\\\\\": 3}, {\\\\\\\\\\\\\"column\\\\\\\\\\\\\": {\\\\\\\\\\\\\"type\\\\\\\\\\\\\": 2, \\\\\\\\\\\\\"details\\\\\\\\\\\\\": {\\\\\\\\\\\\\"selectedColumn\\\\\\\\\\\\\": \\\\\\\\\\\\\"grade\\\\\\\\\\\\\"}}, \\\\\\\\\\\\\"typeProperty\\\\\\\\\\\\\": 0}, {\\\\\\\\\\\\\"column\\\\\\\\\\\\\": {\\\\\\\\\\\\\"type\\\\\\\\\\\\\": 2, \\\\\\\\\\\\\"details\\\\\\\\\\\\\": {\\\\\\\\\\\\\"selectedColumn\\\\\\\\\\\\\": \\\\\\\\\\\\\"grade_norm\\\\\\\\\\\\\"}}, \\\\\\\\\\\\\"typeProperty\\\\\\\\\\\\\": 0}, {\\\\\\\\\\\\\"column\\\\\\\\\\\\\": {\\\\\\\\\\\\\"type\\\\\\\\\\\\\": 2, \\\\\\\\\\\\\"details\\\\\\\\\\\\\": {\\\\\\\\\\\\\"selectedColumn\\\\\\\\\\\\\": \\\\\\\\\\\\\"recorded_at\\\\\\\\\\\\\"}}, \\\\\\\\\\\\\"typeArguments\\\\\\\\\\\\\": {\\\\\\\\\\\\\"dateTimeFormats\\\\\\\\\\\\\": [\\\\\\\\\\\\\"%Y-%m-%dT%H:%M:%S\\\\\\\\\\\\\"]}, \\\\\\\\\\\\\"typeProperty\\\\\\\\\\\\\": 4}]}, \\\\\\\\\\\\\"localData\\\\\\\\\\\\\": {}, \\\\\\\\\\\\\"isEnabled\\\\\\\\\\\\\": true, \\\\\\\\\\\\\"name\\\\\\\\\\\\\": null, \\\\\\\\\\\\\"annotation\\\\\\\\\\\\\": null}], \\\\\\\\\\\\\"inspectors\\\\\\\\\\\\\": [], \\\\\\\\\\\\\"meta\\\\\\\\\\\\\": {\\\\\\\\\\\\\"savedDatasetId\\\\\\\\\\\\\": \\\\\\\\\\\\\"9143d18b-2aa2-48af-a79a-6a94d17f7ffb\\\\\\\\\\\\\", \\\\\\\\\\\\\"datasetType\\\\\\\\\\\\\": \\\\\\\\\\\\\"tabular\\\\\\\\\\\\\", \\\\\\\\\\\\\"subscriptionId\\\\\\\\\\\\\": \\\\\\\\\\\\\"d4ad7261-832d-46b2-b093-22156001df5b\\\\\\\\\\\\\", \\\\\\\\\\\\\"workspaceId\\\\\\\\\\\\\": \\\\\\\\\\\\\"48dc690b-1053-446a-a565-0710230b6630\\\\\\\\\\\\\", \\\\\\\\\\\\\"workspaceLocation\\\\\\\\\\\\\": \\\\\\\\\\\\\"southcentralus\\\\\\\\\\\\\", \\\\\\\\\\\\\"partition_keys\\\\\\\\\\\\\": \\\\\\\\\\\\\"true\\\\\\\\\\\\\"}}\\\\\", \\\\\"activities\\\\\": 0}',\n  'EnableSubsampling': None,\n  'runTemplate': 'AutoML',\n  'azureml.runsource': 'automl',\n  'display_task_type': 'regression',\n  'dependencies_versions': '{\"azureml-widgets\": \"1.24.0\", \"azureml-train\": \"1.24.0\", \"azureml-train-restclients-hyperdrive\": \"1.24.0\", \"azureml-train-core\": \"1.24.0\", \"azureml-train-automl\": \"1.24.0\", \"azureml-train-automl-runtime\": \"1.24.0\", \"azureml-train-automl-client\": \"1.24.0\", \"azureml-tensorboard\": \"1.24.0\", \"azureml-telemetry\": \"1.24.0\", \"azureml-sdk\": \"1.24.0\", \"azureml-samples\": \"0+unknown\", \"azureml-pipeline\": \"1.24.0\", \"azureml-pipeline-steps\": \"1.24.0\", \"azureml-pipeline-core\": \"1.24.0\", \"azureml-opendatasets\": \"1.24.0\", \"azureml-model-management-sdk\": \"1.0.1b6.post1\", \"azureml-mlflow\": \"1.24.0\", \"azureml-interpret\": \"1.24.0\", \"azureml-explain-model\": \"1.24.0\", \"azureml-defaults\": \"1.24.0\", \"azureml-dataset-runtime\": \"1.24.0\", \"azureml-dataprep\": \"2.11.1\", \"azureml-dataprep-rslex\": \"1.9.0\", \"azureml-dataprep-native\": \"30.0.0\", \"azureml-datadrift\": \"1.24.0\", \"azureml-core\": \"1.24.0\", \"azureml-contrib-services\": \"1.24.0\", \"azureml-contrib-server\": \"1.24.0\", \"azureml-contrib-reinforcementlearning\": \"1.24.0\", \"azureml-contrib-pipeline-steps\": \"1.24.0\", \"azureml-contrib-notebook\": \"1.24.0\", \"azureml-contrib-gbdt\": \"1.24.0\", \"azureml-contrib-fairness\": \"1.24.0\", \"azureml-contrib-dataset\": \"1.24.0\", \"azureml-cli-common\": \"1.24.0\", \"azureml-automl-runtime\": \"1.24.0\", \"azureml-automl-dnn-nlp\": \"1.24.0\", \"azureml-automl-core\": \"1.24.0\", \"azureml-accel-models\": \"1.24.0\"}',\n  '_aml_system_scenario_identification': 'Remote.Parent',\n  'ClientType': 'SDK',\n  'environment_cpu_name': 'AzureML-AutoML',\n  'environment_cpu_label': 'prod',\n  'environment_gpu_name': 'AzureML-AutoML-GPU',\n  'environment_gpu_label': 'prod',\n  'root_attribution': 'automl',\n  'attribution': 'AutoML',\n  'Orchestrator': 'AutoML',\n  'CancelUri': 'https://southcentralus.experiments.azureml.net/jasmine/v1.0/subscriptions/d4ad7261-832d-46b2-b093-22156001df5b/resourceGroups/aml-quickstarts-141702/providers/Microsoft.MachineLearningServices/workspaces/quick-starts-ws-141702/experimentids/2b38d033-dd73-410f-9a66-dbcc03f201f7/cancel/AutoML_7d5080b1-bb8e-49af-9e32-8ee709929dba',\n  'ClientSdkVersion': '1.24.0',\n  'snapshotId': '00000000-0000-0000-0000-000000000000',\n  'SetupRunId': 'AutoML_7d5080b1-bb8e-49af-9e32-8ee709929dba_setup',\n  'SetupRunContainerId': 'dcid.AutoML_7d5080b1-bb8e-49af-9e32-8ee709929dba_setup',\n  'FeaturizationRunJsonPath': 'featurizer_container.json',\n  'FeaturizationRunId': 'AutoML_7d5080b1-bb8e-49af-9e32-8ee709929dba_featurize',\n  'ProblemInfoJsonString': '{\"dataset_num_categorical\": 0, \"is_sparse\": true, \"subsampling\": false, \"dataset_classes\": 50, \"dataset_features\": 175, \"dataset_samples\": 23027, \"single_frequency_class_detected\": false}',\n  'ModelExplainRunId': 'AutoML_7d5080b1-bb8e-49af-9e32-8ee709929dba_ModelExplain'},\n 'inputDatasets': [{'dataset': {'id': '9143d18b-2aa2-48af-a79a-6a94d17f7ffb'}, 'consumptionDetails': {'type': 'RunInput', 'inputName': 'training_data', 'mechanism': 'Direct'}}],\n 'outputDatasets': [],\n 'logFiles': {},\n 'submittedBy': 'ODL_User 141702'}"
          },
          "metadata": {}
        }
      ],
      "execution_count": 12,
      "metadata": {
        "collapsed": true,
        "jupyter": {
          "source_hidden": false,
          "outputs_hidden": false
        },
        "nteract": {
          "transient": {
            "deleting": false
          }
        },
        "gather": {
          "logged": 1617211390971
        }
      }
    },
    {
      "cell_type": "markdown",
      "source": [
        "## Best Model"
      ],
      "metadata": {
        "nteract": {
          "transient": {
            "deleting": false
          }
        }
      }
    },
    {
      "cell_type": "code",
      "source": [
        "# Retrieve and save your best automl model.\r\n",
        "best_automl_run,best_automl_model=automl_run.get_output()\r\n",
        "best_run_metrics=automl_run.get_metrics()\r\n",
        "for primary_metric in best_run_metrics:\r\n",
        "    metric=best_run_metrics[primary_metric]\r\n",
        "    print(primary_metric,metric)"
      ],
      "outputs": [
        {
          "output_type": "stream",
          "name": "stdout",
          "text": [
            "experiment_status ['DatasetEvaluation', 'FeaturesGeneration', 'DatasetFeaturization', 'DatasetFeaturizationCompleted', 'DatasetCrossValidationSplit', 'ModelSelection']\n",
            "experiment_status_description ['Gathering dataset statistics.', 'Generating features for the dataset.', 'Beginning to fit featurizers and featurize the dataset.', 'Completed fit featurizers and featurizing the dataset.', 'Generating individually featurized CV splits.', 'Beginning model selection.']\n",
            "median_absolute_error 0.000266984689353611\n",
            "normalized_mean_absolute_error 0.0009452366980462927\n",
            "root_mean_squared_log_error 0.0005712604223994724\n",
            "normalized_root_mean_squared_log_error 0.0017902335376288419\n",
            "spearman_correlation 0.999185767688334\n",
            "r2_score 0.9999533980442392\n",
            "root_mean_squared_error 0.0009688033933163006\n",
            "mean_absolute_error 0.0005009754499645351\n",
            "explained_variance 0.999953402885974\n",
            "normalized_root_mean_squared_error 0.0018279309307854727\n",
            "normalized_median_absolute_error 0.0005037446968936056\n",
            "mean_absolute_percentage_error 0.07381853029567127\n"
          ]
        }
      ],
      "execution_count": 138,
      "metadata": {
        "collapsed": true,
        "jupyter": {
          "source_hidden": false,
          "outputs_hidden": false
        },
        "nteract": {
          "transient": {
            "deleting": false
          }
        },
        "gather": {
          "logged": 1617225120680
        }
      }
    },
    {
      "cell_type": "code",
      "source": [
        "print(best_automl_run)\r\n",
        "best_automl_run"
      ],
      "outputs": [
        {
          "output_type": "stream",
          "name": "stdout",
          "text": [
            "Run(Experiment: data_quality_analysis,\n",
            "Id: AutoML_5c98a544-75e6-424d-97da-798a6fafe860_0,\n",
            "Type: azureml.scriptrun,\n",
            "Status: Completed)\n"
          ]
        },
        {
          "output_type": "execute_result",
          "execution_count": 139,
          "data": {
            "text/plain": "Run(Experiment: data_quality_analysis,\nId: AutoML_5c98a544-75e6-424d-97da-798a6fafe860_0,\nType: azureml.scriptrun,\nStatus: Completed)",
            "text/html": "<table style=\"width:100%\"><tr><th>Experiment</th><th>Id</th><th>Type</th><th>Status</th><th>Details Page</th><th>Docs Page</th></tr><tr><td>data_quality_analysis</td><td>AutoML_5c98a544-75e6-424d-97da-798a6fafe860_0</td><td>azureml.scriptrun</td><td>Completed</td><td><a href=\"https://ml.azure.com/experiments/data_quality_analysis/runs/AutoML_5c98a544-75e6-424d-97da-798a6fafe860_0?wsid=/subscriptions/d4ad7261-832d-46b2-b093-22156001df5b/resourcegroups/aml-quickstarts-141702/workspaces/quick-starts-ws-141702\" target=\"_blank\" rel=\"noopener\">Link to Azure Machine Learning studio</a></td><td><a href=\"https://docs.microsoft.com/en-us/python/api/azureml-core/azureml.core.run.Run?view=azure-ml-py\" target=\"_blank\" rel=\"noopener\">Link to Documentation</a></td></tr></table>"
          },
          "metadata": {}
        }
      ],
      "execution_count": 139,
      "metadata": {
        "collapsed": true,
        "jupyter": {
          "source_hidden": false,
          "outputs_hidden": false
        },
        "nteract": {
          "transient": {
            "deleting": false
          }
        },
        "gather": {
          "logged": 1617225133429
        }
      }
    },
    {
      "cell_type": "markdown",
      "source": [
        "## Regression using Linear Regression"
      ],
      "metadata": {
        "nteract": {
          "transient": {
            "deleting": false
          }
        }
      }
    },
    {
      "cell_type": "code",
      "source": [
        "data=data.to_pandas_dataframe()"
      ],
      "outputs": [],
      "execution_count": 140,
      "metadata": {
        "collapsed": true,
        "jupyter": {
          "source_hidden": false,
          "outputs_hidden": false
        },
        "nteract": {
          "transient": {
            "deleting": false
          }
        },
        "gather": {
          "logged": 1617225578204
        }
      }
    },
    {
      "cell_type": "code",
      "source": [
        "type(data)"
      ],
      "outputs": [
        {
          "output_type": "execute_result",
          "execution_count": 141,
          "data": {
            "text/plain": "pandas.core.frame.DataFrame"
          },
          "metadata": {}
        }
      ],
      "execution_count": 141,
      "metadata": {
        "collapsed": true,
        "jupyter": {
          "source_hidden": false,
          "outputs_hidden": false
        },
        "nteract": {
          "transient": {
            "deleting": false
          }
        },
        "gather": {
          "logged": 1617225581738
        }
      }
    },
    {
      "cell_type": "code",
      "source": [
        "data.columns"
      ],
      "outputs": [
        {
          "output_type": "execute_result",
          "execution_count": 145,
          "data": {
            "text/plain": "Index(['_id', 'completeness', 'freshness', 'metadata', 'usability', 'score',\n       'score_norm', 'grade', 'grade_norm'],\n      dtype='object')"
          },
          "metadata": {}
        }
      ],
      "execution_count": 145,
      "metadata": {
        "collapsed": true,
        "jupyter": {
          "source_hidden": false,
          "outputs_hidden": false
        },
        "nteract": {
          "transient": {
            "deleting": false
          }
        },
        "gather": {
          "logged": 1617225698541
        }
      }
    },
    {
      "cell_type": "code",
      "source": [
        "import pandas as pd\r\n",
        "from sklearn.preprocessing import LabelEncoder\r\n",
        "\r\n",
        "data=data.drop(['package','recorded_at','accessibility','version'], axis=1)\r\n",
        "\r\n",
        "#instantiate LabelEncoder\r\n",
        "le=LabelEncoder()\r\n",
        "\r\n",
        "#LabelEncode grade column of data\r\n",
        "data['grade']=le.fit_transform(data['grade'])\r\n",
        "data['grade_norm']=le.fit_transform(data['grade_norm'])\r\n",
        "\r\n",
        "#inspecting encoded df\r\n",
        "data.head()"
      ],
      "outputs": [
        {
          "output_type": "execute_result",
          "execution_count": 148,
          "data": {
            "text/plain": "   _id  completeness  freshness  metadata  usability  score  score_norm  \\\n0  186          0.69       0.50      0.84       0.86   0.78        0.76   \n1  187          1.00       0.00      0.25       0.85   0.54        0.31   \n2  188          0.98       1.00      0.25       0.69   0.66        0.52   \n3  189          0.96       1.00      0.75       0.94   0.91        1.00   \n4  190          0.83       1.00      0.75       0.87   0.87        0.92   \n\n   grade  grade_norm  \n0      2           2  \n1      0           0  \n2      0           0  \n3      1           1  \n4      1           1  ",
            "text/html": "<div>\n<style scoped>\n    .dataframe tbody tr th:only-of-type {\n        vertical-align: middle;\n    }\n\n    .dataframe tbody tr th {\n        vertical-align: top;\n    }\n\n    .dataframe thead th {\n        text-align: right;\n    }\n</style>\n<table border=\"1\" class=\"dataframe\">\n  <thead>\n    <tr style=\"text-align: right;\">\n      <th></th>\n      <th>_id</th>\n      <th>completeness</th>\n      <th>freshness</th>\n      <th>metadata</th>\n      <th>usability</th>\n      <th>score</th>\n      <th>score_norm</th>\n      <th>grade</th>\n      <th>grade_norm</th>\n    </tr>\n  </thead>\n  <tbody>\n    <tr>\n      <th>0</th>\n      <td>186</td>\n      <td>0.69</td>\n      <td>0.50</td>\n      <td>0.84</td>\n      <td>0.86</td>\n      <td>0.78</td>\n      <td>0.76</td>\n      <td>2</td>\n      <td>2</td>\n    </tr>\n    <tr>\n      <th>1</th>\n      <td>187</td>\n      <td>1.00</td>\n      <td>0.00</td>\n      <td>0.25</td>\n      <td>0.85</td>\n      <td>0.54</td>\n      <td>0.31</td>\n      <td>0</td>\n      <td>0</td>\n    </tr>\n    <tr>\n      <th>2</th>\n      <td>188</td>\n      <td>0.98</td>\n      <td>1.00</td>\n      <td>0.25</td>\n      <td>0.69</td>\n      <td>0.66</td>\n      <td>0.52</td>\n      <td>0</td>\n      <td>0</td>\n    </tr>\n    <tr>\n      <th>3</th>\n      <td>189</td>\n      <td>0.96</td>\n      <td>1.00</td>\n      <td>0.75</td>\n      <td>0.94</td>\n      <td>0.91</td>\n      <td>1.00</td>\n      <td>1</td>\n      <td>1</td>\n    </tr>\n    <tr>\n      <th>4</th>\n      <td>190</td>\n      <td>0.83</td>\n      <td>1.00</td>\n      <td>0.75</td>\n      <td>0.87</td>\n      <td>0.87</td>\n      <td>0.92</td>\n      <td>1</td>\n      <td>1</td>\n    </tr>\n  </tbody>\n</table>\n</div>"
          },
          "metadata": {}
        }
      ],
      "execution_count": 148,
      "metadata": {
        "collapsed": true,
        "jupyter": {
          "source_hidden": false,
          "outputs_hidden": false
        },
        "nteract": {
          "transient": {
            "deleting": false
          }
        },
        "gather": {
          "logged": 1617225743329
        }
      }
    },
    {
      "cell_type": "code",
      "source": [
        "y=data.drop(['score'],axis=1)\r\n",
        "X=data"
      ],
      "outputs": [],
      "execution_count": 91,
      "metadata": {
        "collapsed": true,
        "jupyter": {
          "source_hidden": false,
          "outputs_hidden": false
        },
        "nteract": {
          "transient": {
            "deleting": false
          }
        },
        "gather": {
          "logged": 1617220779333
        }
      }
    },
    {
      "cell_type": "markdown",
      "source": [
        "## Import the class"
      ],
      "metadata": {
        "nteract": {
          "transient": {
            "deleting": false
          }
        }
      }
    },
    {
      "cell_type": "code",
      "source": [
        "from sklearn.model_selection import train_test_split\r\n",
        "import argparse\r\n",
        "X_train,X_test,y_train,y_test=train_test_split(X,y,test_size=0.2,random_state=0)"
      ],
      "outputs": [],
      "execution_count": 92,
      "metadata": {
        "collapsed": true,
        "jupyter": {
          "source_hidden": false,
          "outputs_hidden": false
        },
        "nteract": {
          "transient": {
            "deleting": false
          }
        },
        "gather": {
          "logged": 1617220783285
        }
      }
    },
    {
      "cell_type": "markdown",
      "source": [
        "## Model Fitting"
      ],
      "metadata": {
        "nteract": {
          "transient": {
            "deleting": false
          }
        }
      }
    },
    {
      "cell_type": "code",
      "source": [
        "from sklearn.linear_model import LinearRegression\r\n",
        "\r\n",
        "#instantiate\r\n",
        "linreg=LinearRegression()\r\n",
        "linreg.fit(X_train,y_train)"
      ],
      "outputs": [
        {
          "output_type": "execute_result",
          "execution_count": 93,
          "data": {
            "text/plain": "LinearRegression(copy_X=True, fit_intercept=True, n_jobs=None, normalize=False)"
          },
          "metadata": {}
        }
      ],
      "execution_count": 93,
      "metadata": {
        "collapsed": true,
        "jupyter": {
          "source_hidden": false,
          "outputs_hidden": false
        },
        "nteract": {
          "transient": {
            "deleting": false
          }
        },
        "gather": {
          "logged": 1617220785090
        }
      }
    },
    {
      "cell_type": "markdown",
      "source": [
        "## Model Training"
      ],
      "metadata": {
        "nteract": {
          "transient": {
            "deleting": false
          }
        }
      }
    },
    {
      "cell_type": "code",
      "source": [
        "print(linreg.intercept_)\r\n",
        "print(linreg.coef_)"
      ],
      "outputs": [
        {
          "output_type": "stream",
          "name": "stdout",
          "text": [
            "[-5.45696821e-12 -7.77156117e-16 -7.77156117e-16  7.21644966e-16\n",
            "  5.55111512e-16  1.33226763e-15  1.55431223e-15]\n",
            "[[ 1.00000000e+00 -5.33422275e-14  8.29114543e-14 -5.71606415e-14\n",
            "  -6.96334584e-14 -3.37345643e-12  1.83381172e-12 -2.02720382e-14]\n",
            " [ 3.65572781e-21  1.00000000e+00 -4.44089210e-16 -6.66133815e-16\n",
            "  -1.56472058e-15  3.91353616e-15 -6.10622664e-16 -1.66533454e-16]\n",
            " [-4.38070893e-21 -2.22044605e-16  1.00000000e+00 -8.88178420e-16\n",
            "  -1.22298005e-15  3.89965837e-15  3.60822483e-16 -5.27355937e-16]\n",
            " [-3.92386217e-21  0.00000000e+00  2.77555756e-16  1.00000000e+00\n",
            "   3.83373888e-16 -1.69309011e-15 -1.38777878e-16 -8.32667268e-17]\n",
            " [ 1.87055911e-21  5.20417043e-16  2.14238349e-16 -1.26634814e-16\n",
            "   1.00000000e+00 -1.83793952e-15  4.94829872e-16  1.86482774e-17]\n",
            " [-1.26999792e-21  1.11022302e-16  2.22044605e-16 -8.32667268e-17\n",
            "  -4.82253126e-16 -2.02615702e-15  1.00000000e+00 -2.77555756e-16]\n",
            " [ 3.44916434e-21 -1.27675648e-15 -6.93889390e-16 -6.66133815e-16\n",
            "  -8.63024929e-16  2.09554596e-15 -7.35522754e-16  1.00000000e+00]]\n"
          ]
        }
      ],
      "execution_count": 94,
      "metadata": {
        "collapsed": true,
        "jupyter": {
          "source_hidden": false,
          "outputs_hidden": false
        },
        "nteract": {
          "transient": {
            "deleting": false
          }
        },
        "gather": {
          "logged": 1617220788185
        }
      }
    },
    {
      "cell_type": "markdown",
      "source": [
        "## Model Prediction"
      ],
      "metadata": {
        "nteract": {
          "transient": {
            "deleting": false
          }
        }
      }
    },
    {
      "cell_type": "code",
      "source": [
        "y_pred=linreg.predict(X_test)\r\n",
        "y_pred"
      ],
      "outputs": [
        {
          "output_type": "execute_result",
          "execution_count": 95,
          "data": {
            "text/plain": "array([[ 1.55560000e+04,  9.40000000e-01,  1.00000000e+00, ...,\n         9.50000000e-01,  1.00000000e+00,  1.00000000e+00],\n       [ 9.39000000e+03,  6.90000000e-01,  1.00000000e+00, ...,\n         7.20000000e-01,  4.70000000e-01,  3.05988240e-16],\n       [ 9.59800000e+03,  6.40000000e-01, -4.37113789e-17, ...,\n         8.00000000e-01,  2.50000000e-01,  8.19142981e-16],\n       ...,\n       [ 1.32850000e+04,  7.30000000e-01, -4.36780827e-17, ...,\n         8.30000000e-01,  2.40000000e-01,  7.64058383e-16],\n       [ 1.12270000e+04,  1.00000000e+00,  1.00000000e+00, ...,\n         8.30000000e-01,  8.70000000e-01,  1.00000000e+00],\n       [ 4.57600000e+03,  6.40000000e-01, -2.53196834e-17, ...,\n         8.00000000e-01,  2.40000000e-01,  8.09176505e-16]])"
          },
          "metadata": {}
        }
      ],
      "execution_count": 95,
      "metadata": {
        "collapsed": true,
        "jupyter": {
          "source_hidden": false,
          "outputs_hidden": false
        },
        "nteract": {
          "transient": {
            "deleting": false
          }
        },
        "gather": {
          "logged": 1617220792587
        }
      }
    },
    {
      "cell_type": "markdown",
      "source": [
        "## Model Accuracy (Root mean squared error)"
      ],
      "metadata": {
        "nteract": {
          "transient": {
            "deleting": false
          }
        }
      }
    },
    {
      "cell_type": "code",
      "source": [
        "from sklearn import metrics\r\n",
        "print(np.sqrt(metrics.mean_squared_error(y_test,y_pred)))"
      ],
      "outputs": [
        {
          "output_type": "stream",
          "name": "stdout",
          "text": [
            "1.2624372939949376e-12\n"
          ]
        }
      ],
      "execution_count": 97,
      "metadata": {
        "collapsed": true,
        "jupyter": {
          "source_hidden": false,
          "outputs_hidden": false
        },
        "nteract": {
          "transient": {
            "deleting": false
          }
        },
        "gather": {
          "logged": 1617220800842
        }
      }
    }
  ],
  "metadata": {
    "kernelspec": {
      "name": "python3-azureml",
      "language": "python",
      "display_name": "Python 3.6 - AzureML"
    },
    "language_info": {
      "name": "python",
      "version": "3.6.9",
      "mimetype": "text/x-python",
      "codemirror_mode": {
        "name": "ipython",
        "version": 3
      },
      "pygments_lexer": "ipython3",
      "nbconvert_exporter": "python",
      "file_extension": ".py"
    },
    "kernel_info": {
      "name": "python3-azureml"
    },
    "nteract": {
      "version": "nteract-front-end@1.0.0"
    },
    "microsoft": {
      "host": {
        "AzureML": {
          "notebookHasBeenCompleted": true
        }
      }
    }
  },
  "nbformat": 4,
  "nbformat_minor": 2
}
