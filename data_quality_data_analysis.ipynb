{
  "cells": [
    {
      "cell_type": "markdown",
      "source": [
        "## Importing dependencies"
      ],
      "metadata": {
        "nteract": {
          "transient": {
            "deleting": false
          }
        }
      }
    },
    {
      "cell_type": "code",
      "source": [
        "import os\r\n",
        "import joblib\r\n",
        "from azureml.core import Workspace, Experiment\r\n",
        "from azureml.data.dataset_factory import TabularDatasetFactory\r\n",
        "from azureml.core.compute import ComputeTarget, AmlCompute\r\n",
        "from azureml.train.automl import AutoMLConfig\r\n",
        "\r\n",
        "from matplotlib import pyplot as plt\r\n",
        "import numpy as np\r\n",
        "import pandas as pd\r\n"
      ],
      "outputs": [],
      "execution_count": 1,
      "metadata": {
        "collapsed": true,
        "jupyter": {
          "source_hidden": false,
          "outputs_hidden": false
        },
        "nteract": {
          "transient": {
            "deleting": false
          }
        },
        "gather": {
          "logged": 1617229532689
        }
      }
    },
    {
      "cell_type": "markdown",
      "source": [
        "## Initialize workspace"
      ],
      "metadata": {
        "nteract": {
          "transient": {
            "deleting": false
          }
        }
      }
    },
    {
      "cell_type": "code",
      "source": [
        "ws = Workspace.from_config()\r\n",
        "print(ws.name, ws.resource_group, ws.location, ws.subscription_id, sep = '\\n')"
      ],
      "outputs": [
        {
          "output_type": "stream",
          "name": "stdout",
          "text": [
            "Performing interactive authentication. Please follow the instructions on the terminal.\n",
            "To sign in, use a web browser to open the page https://microsoft.com/devicelogin and enter the code RZ9EDX22N to authenticate.\n",
            "You have logged in. Now let us find all the subscriptions to which you have access...\n",
            "Interactive authentication successfully completed.\n",
            "quick-starts-ws-141712\n",
            "aml-quickstarts-141712\n",
            "southcentralus\n",
            "5a4ab2ba-6c51-4805-8155-58759ad589d8\n"
          ]
        }
      ],
      "execution_count": 2,
      "metadata": {
        "collapsed": true,
        "jupyter": {
          "source_hidden": false,
          "outputs_hidden": false
        },
        "nteract": {
          "transient": {
            "deleting": false
          }
        },
        "gather": {
          "logged": 1617229562338
        }
      }
    },
    {
      "cell_type": "markdown",
      "source": [
        "## Auto ML Experiment"
      ],
      "metadata": {
        "nteract": {
          "transient": {
            "deleting": false
          }
        }
      }
    },
    {
      "cell_type": "code",
      "source": [
        "# Choose a name for the run history container in the workspace.\r\n",
        "# NOTE: update these to match your existing experiment name\r\n",
        "experiment_name = 'data_quality_analysis'\r\n",
        "project_folder = './catalogue-scorecard-project'\r\n",
        "\r\n",
        "experiment = Experiment(ws, experiment_name)\r\n",
        "experiment"
      ],
      "outputs": [
        {
          "output_type": "execute_result",
          "execution_count": 3,
          "data": {
            "text/plain": "Experiment(Name: data_quality_analysis,\nWorkspace: quick-starts-ws-141712)",
            "text/html": "<table style=\"width:100%\"><tr><th>Name</th><th>Workspace</th><th>Report Page</th><th>Docs Page</th></tr><tr><td>data_quality_analysis</td><td>quick-starts-ws-141712</td><td><a href=\"https://ml.azure.com/experiments/data_quality_analysis?wsid=/subscriptions/5a4ab2ba-6c51-4805-8155-58759ad589d8/resourcegroups/aml-quickstarts-141712/workspaces/quick-starts-ws-141712\" target=\"_blank\" rel=\"noopener\">Link to Azure Machine Learning studio</a></td><td><a href=\"https://docs.microsoft.com/en-us/python/api/azureml-core/azureml.core.experiment.Experiment?view=azure-ml-py\" target=\"_blank\" rel=\"noopener\">Link to Documentation</a></td></tr></table>"
          },
          "metadata": {}
        }
      ],
      "execution_count": 3,
      "metadata": {
        "collapsed": true,
        "jupyter": {
          "source_hidden": false,
          "outputs_hidden": false
        },
        "nteract": {
          "transient": {
            "deleting": false
          }
        },
        "gather": {
          "logged": 1617229569155
        }
      }
    },
    {
      "cell_type": "markdown",
      "source": [
        "## Create an AmlCompute cluster"
      ],
      "metadata": {
        "nteract": {
          "transient": {
            "deleting": false
          }
        }
      }
    },
    {
      "cell_type": "code",
      "source": [
        "from azureml.core.compute import AmlCompute\r\n",
        "from azureml.core.compute import ComputeTarget\r\n",
        "from azureml.core.compute_target import ComputeTargetException\r\n",
        "\r\n",
        "# Choose a name for your CPU cluster\r\n",
        "amlcompute_cluster_name = \"comp\"\r\n",
        "\r\n",
        "# Verify that cluster does not exist already\r\n",
        "try:\r\n",
        "    compute_target = ComputeTarget(workspace=ws, name=amlcompute_cluster_name)\r\n",
        "    print('Found existing cluster, use it.')\r\n",
        "except ComputeTargetException:\r\n",
        "    compute_config = AmlCompute.provisioning_configuration(vm_size='STANDARD_DS3_v2',#for GPU, use \"STANDARD_NC6\"\r\n",
        "                                                           #vm_priority = 'lowpriority', # optional\r\n",
        "                                                           max_nodes=4)\r\n",
        "    compute_target = ComputeTarget.create(ws, amlcompute_cluster_name, compute_config)\r\n",
        "\r\n",
        "compute_target.wait_for_completion(show_output=True)"
      ],
      "outputs": [
        {
          "output_type": "stream",
          "name": "stdout",
          "text": [
            "Found existing cluster, use it.\n",
            "\n",
            "Running\n"
          ]
        }
      ],
      "execution_count": 4,
      "metadata": {
        "collapsed": true,
        "jupyter": {
          "source_hidden": false,
          "outputs_hidden": false
        },
        "nteract": {
          "transient": {
            "deleting": false
          }
        },
        "gather": {
          "logged": 1617229578691
        }
      }
    },
    {
      "cell_type": "markdown",
      "source": [
        "## Data import"
      ],
      "metadata": {
        "nteract": {
          "transient": {
            "deleting": false
          }
        }
      }
    },
    {
      "cell_type": "code",
      "source": [
        "import pandas as pd\r\n",
        "\r\n",
        "auto_ds_path=\"https://raw.githubusercontent.com/shatakshipachori/data_quality_analysis/main/catalogue-scorecard.csv\"\r\n",
        "data=TabularDatasetFactory.from_delimited_files(path=auto_ds_path)\r\n"
      ],
      "outputs": [],
      "execution_count": 5,
      "metadata": {
        "collapsed": true,
        "jupyter": {
          "source_hidden": false,
          "outputs_hidden": false
        },
        "nteract": {
          "transient": {
            "deleting": false
          }
        },
        "gather": {
          "logged": 1617230039259
        }
      }
    },
    {
      "cell_type": "markdown",
      "source": [
        "## AutoML Configuration"
      ],
      "metadata": {
        "nteract": {
          "transient": {
            "deleting": false
          }
        }
      }
    },
    {
      "cell_type": "code",
      "source": [
        "import logging\r\n",
        "import time\r\n",
        "\r\n",
        "# TODO: Put your automl settings here\r\n",
        "automl_settings = {\r\n",
        "    \"n_cross_validations\":5,\r\n",
        "    \"primary_metric\":'normalized_root_mean_squared_error',\r\n",
        "    \"enable_early_stopping\":True,\r\n",
        "    \"experiment_timeout_minutes\":30,\r\n",
        "    \"max_concurrent_iterations\":5,\r\n",
        "   }\r\n",
        "\r\n",
        "# TODO: Put your automl config here\r\n",
        "automl_config = AutoMLConfig(\r\n",
        "    task='regression',\r\n",
        "    compute_target='comp',\r\n",
        "    training_data=data,\r\n",
        "    label_column_name='score',\r\n",
        "    **automl_settings\r\n",
        "    )"
      ],
      "outputs": [],
      "execution_count": 6,
      "metadata": {
        "collapsed": true,
        "jupyter": {
          "source_hidden": false,
          "outputs_hidden": false
        },
        "nteract": {
          "transient": {
            "deleting": false
          }
        },
        "gather": {
          "logged": 1617230045154
        }
      }
    },
    {
      "cell_type": "markdown",
      "source": [
        "## Submit the experiment"
      ],
      "metadata": {
        "nteract": {
          "transient": {
            "deleting": false
          }
        }
      }
    },
    {
      "cell_type": "code",
      "source": [
        "automl_run=experiment.submit(config=automl_config,show_output=True)"
      ],
      "outputs": [
        {
          "output_type": "stream",
          "name": "stdout",
          "text": [
            "Running on remote.\n",
            "No run_configuration provided, running on comp with default configuration\n",
            "Running on remote compute: comp\n",
            "Parent Run ID: AutoML_ca215feb-3ef0-4baa-a35e-db0e70332177\n",
            "\n",
            "Current status: FeaturesGeneration. Generating features for the dataset.\n",
            "Current status: DatasetCrossValidationSplit. Generating individually featurized CV splits.\n",
            "Current status: ModelSelection. Beginning model selection.\n",
            "\n",
            "****************************************************************************************************\n",
            "DATA GUARDRAILS: \n",
            "\n",
            "TYPE:         Missing feature values imputation\n",
            "STATUS:       PASSED\n",
            "DESCRIPTION:  No feature missing values were detected in the training data.\n",
            "              Learn more about missing value imputation: https://aka.ms/AutomatedMLFeaturization\n",
            "\n",
            "****************************************************************************************************\n",
            "\n",
            "TYPE:         High cardinality feature detection\n",
            "STATUS:       PASSED\n",
            "DESCRIPTION:  Your inputs were analyzed, and no high cardinality features were detected.\n",
            "              Learn more about high cardinality feature handling: https://aka.ms/AutomatedMLFeaturization\n",
            "\n",
            "****************************************************************************************************\n",
            "\n",
            "****************************************************************************************************\n",
            "ITERATION: The iteration being evaluated.\n",
            "PIPELINE: A summary description of the pipeline being evaluated.\n",
            "DURATION: Time taken for the current iteration.\n",
            "METRIC: The result of computing score on the fitted pipeline.\n",
            "BEST: The best observed score thus far.\n",
            "****************************************************************************************************\n",
            "\n",
            " ITERATION   PIPELINE                                       DURATION      METRIC      BEST\n",
            "         3   MaxAbsScaler DecisionTree                      0:00:37       0.0162    0.0162\n",
            "         0   MaxAbsScaler LightGBM                          0:00:43       0.0018    0.0018\n",
            "         2   StandardScalerWrapper ElasticNet               0:00:41       0.0685    0.0018\n",
            "         4   MaxAbsScaler ElasticNet                        0:00:46       0.0126    0.0018\n",
            "         1   MaxAbsScaler XGBoostRegressor                  0:00:51       0.0042    0.0018\n",
            "         5   MaxAbsScaler DecisionTree                      0:00:45       0.0094    0.0018\n",
            "         6   MaxAbsScaler DecisionTree                      0:00:36       0.0059    0.0018\n",
            "         7   MaxAbsScaler DecisionTree                      0:00:39       0.0105    0.0018\n",
            "         8   MaxAbsScaler DecisionTree                      0:00:39       0.0164    0.0018\n",
            "         9   MaxAbsScaler DecisionTree                      0:00:42       0.0096    0.0018\n",
            "        10   MaxAbsScaler DecisionTree                      0:00:47       0.0132    0.0018\n",
            "        11   MaxAbsScaler DecisionTree                      0:00:45       0.0067    0.0018\n",
            "        12   MaxAbsScaler DecisionTree                      0:00:50       0.0224    0.0018\n",
            "        13   StandardScalerWrapper DecisionTree             0:00:48       0.0131    0.0018\n",
            "        14   MaxAbsScaler DecisionTree                      0:00:45       0.0229    0.0018\n",
            "        15   MaxAbsScaler DecisionTree                      0:00:42       0.0237    0.0018\n",
            "        16   MaxAbsScaler SGD                               0:00:41       0.0722    0.0018\n",
            "        17   MaxAbsScaler DecisionTree                      0:00:41       0.0053    0.0018\n",
            "        18   MaxAbsScaler DecisionTree                      0:00:39       0.0259    0.0018\n",
            "        19   MaxAbsScaler DecisionTree                      0:00:42       0.0221    0.0018\n",
            "        20   MaxAbsScaler SGD                               0:00:41       0.0153    0.0018\n",
            "        22   MaxAbsScaler DecisionTree                      0:00:35       0.0087    0.0018\n",
            "        21   MaxAbsScaler DecisionTree                      0:00:45       0.0120    0.0018\n",
            "        23   MaxAbsScaler DecisionTree                      0:00:40       0.0072    0.0018\n",
            "        24   MaxAbsScaler DecisionTree                      0:00:41       0.0077    0.0018\n",
            "        26   MaxAbsScaler DecisionTree                      0:00:39       0.0188    0.0018\n",
            "        25   MaxAbsScaler LightGBM                          0:00:44       0.0739    0.0018\n",
            "        27   MaxAbsScaler DecisionTree                      0:00:39       0.0117    0.0018\n",
            "        28   MaxAbsScaler DecisionTree                      0:00:35       0.0108    0.0018\n",
            "        29   MaxAbsScaler DecisionTree                      0:00:38       0.0092    0.0018\n",
            "        30   MaxAbsScaler LightGBM                          0:02:26       0.0451    0.0018\n",
            "        31   MaxAbsScaler DecisionTree                      0:02:22       0.0076    0.0018\n",
            "        32   MaxAbsScaler DecisionTree                      0:02:20       0.0103    0.0018\n",
            "        33   MaxAbsScaler DecisionTree                      0:02:21       0.0080    0.0018\n",
            "        34   MaxAbsScaler DecisionTree                      0:02:26       0.0094    0.0018\n",
            "        35                                                  0:00:19          nan    0.0018\n",
            "        36                                                  0:00:18          nan    0.0018\n",
            "        37    VotingEnsemble                                0:01:04       0.0018    0.0018\n",
            "        38    StackEnsemble                                 0:01:08       0.0019    0.0018\n"
          ]
        }
      ],
      "execution_count": 7,
      "metadata": {
        "collapsed": true,
        "jupyter": {
          "source_hidden": false,
          "outputs_hidden": false
        },
        "nteract": {
          "transient": {
            "deleting": false
          }
        },
        "gather": {
          "logged": 1617230946358
        }
      }
    },
    {
      "cell_type": "markdown",
      "source": [
        "## Run Details"
      ],
      "metadata": {
        "nteract": {
          "transient": {
            "deleting": false
          }
        }
      }
    },
    {
      "cell_type": "code",
      "source": [
        "from azureml.widgets import RunDetails\r\n",
        "RunDetails(automl_run).show()\r\n",
        "automl_run.wait_for_completion(show_output=True)"
      ],
      "outputs": [
        {
          "output_type": "display_data",
          "data": {
            "text/plain": "_AutoMLWidget(widget_settings={'childWidgetDisplay': 'popup', 'send_telemetry': False, 'log_level': 'INFO', 's…",
            "application/vnd.jupyter.widget-view+json": {
              "version_major": 2,
              "version_minor": 0,
              "model_id": "ebabc1fb53254997a7162310fe2c2a57"
            }
          },
          "metadata": {}
        },
        {
          "output_type": "display_data",
          "data": {
            "application/aml.mini.widget.v1": "{\"status\": \"Completed\", \"workbench_run_details_uri\": \"https://ml.azure.com/experiments/data_quality_analysis/runs/AutoML_ca215feb-3ef0-4baa-a35e-db0e70332177?wsid=/subscriptions/5a4ab2ba-6c51-4805-8155-58759ad589d8/resourcegroups/aml-quickstarts-141712/workspaces/quick-starts-ws-141712\", \"run_id\": \"AutoML_ca215feb-3ef0-4baa-a35e-db0e70332177\", \"run_properties\": {\"run_id\": \"AutoML_ca215feb-3ef0-4baa-a35e-db0e70332177\", \"created_utc\": \"2021-03-31T22:34:16.300359Z\", \"properties\": {\"num_iterations\": \"1000\", \"training_type\": \"TrainFull\", \"acquisition_function\": \"EI\", \"primary_metric\": \"normalized_root_mean_squared_error\", \"train_split\": \"0\", \"acquisition_parameter\": \"0\", \"num_cross_validation\": \"5\", \"target\": \"comp\", \"AMLSettingsJsonString\": \"{\\\"path\\\":null,\\\"name\\\":\\\"data_quality_analysis\\\",\\\"subscription_id\\\":\\\"5a4ab2ba-6c51-4805-8155-58759ad589d8\\\",\\\"resource_group\\\":\\\"aml-quickstarts-141712\\\",\\\"workspace_name\\\":\\\"quick-starts-ws-141712\\\",\\\"region\\\":\\\"southcentralus\\\",\\\"compute_target\\\":\\\"comp\\\",\\\"spark_service\\\":null,\\\"azure_service\\\":\\\"remote\\\",\\\"many_models\\\":false,\\\"pipeline_fetch_max_batch_size\\\":1,\\\"enable_batch_run\\\":false,\\\"iterations\\\":1000,\\\"primary_metric\\\":\\\"normalized_root_mean_squared_error\\\",\\\"task_type\\\":\\\"regression\\\",\\\"data_script\\\":null,\\\"validation_size\\\":0.0,\\\"n_cross_validations\\\":5,\\\"y_min\\\":null,\\\"y_max\\\":null,\\\"num_classes\\\":null,\\\"featurization\\\":\\\"auto\\\",\\\"_ignore_package_version_incompatibilities\\\":false,\\\"is_timeseries\\\":false,\\\"max_cores_per_iteration\\\":1,\\\"max_concurrent_iterations\\\":5,\\\"iteration_timeout_minutes\\\":null,\\\"mem_in_mb\\\":null,\\\"enforce_time_on_windows\\\":false,\\\"experiment_timeout_minutes\\\":30,\\\"experiment_exit_score\\\":null,\\\"whitelist_models\\\":null,\\\"blacklist_algos\\\":[\\\"TensorFlowDNN\\\",\\\"TensorFlowLinearRegressor\\\"],\\\"supported_models\\\":[\\\"SGD\\\",\\\"TensorFlowLinearRegressor\\\",\\\"KNN\\\",\\\"DecisionTree\\\",\\\"ExtremeRandomTrees\\\",\\\"TensorFlowDNN\\\",\\\"FastLinearRegressor\\\",\\\"LightGBM\\\",\\\"LassoLars\\\",\\\"ElasticNet\\\",\\\"XGBoostRegressor\\\",\\\"GradientBoosting\\\",\\\"OnlineGradientDescentRegressor\\\",\\\"RandomForest\\\"],\\\"private_models\\\":[],\\\"auto_blacklist\\\":true,\\\"blacklist_samples_reached\\\":false,\\\"exclude_nan_labels\\\":true,\\\"verbosity\\\":20,\\\"_debug_log\\\":\\\"azureml_automl.log\\\",\\\"show_warnings\\\":false,\\\"model_explainability\\\":true,\\\"service_url\\\":null,\\\"sdk_url\\\":null,\\\"sdk_packages\\\":null,\\\"enable_onnx_compatible_models\\\":false,\\\"enable_split_onnx_featurizer_estimator_models\\\":false,\\\"vm_type\\\":\\\"STANDARD_DS3_V2\\\",\\\"telemetry_verbosity\\\":20,\\\"send_telemetry\\\":true,\\\"enable_dnn\\\":false,\\\"scenario\\\":\\\"SDK-1.13.0\\\",\\\"environment_label\\\":null,\\\"save_mlflow\\\":false,\\\"force_text_dnn\\\":false,\\\"enable_feature_sweeping\\\":true,\\\"enable_early_stopping\\\":true,\\\"early_stopping_n_iters\\\":10,\\\"metrics\\\":null,\\\"enable_metric_confidence\\\":false,\\\"enable_ensembling\\\":true,\\\"enable_stack_ensembling\\\":true,\\\"ensemble_iterations\\\":15,\\\"enable_tf\\\":false,\\\"enable_subsampling\\\":null,\\\"subsample_seed\\\":null,\\\"enable_nimbusml\\\":false,\\\"enable_streaming\\\":false,\\\"force_streaming\\\":false,\\\"track_child_runs\\\":true,\\\"allowed_private_models\\\":[],\\\"label_column_name\\\":\\\"score\\\",\\\"weight_column_name\\\":null,\\\"cv_split_column_names\\\":null,\\\"enable_local_managed\\\":false,\\\"_local_managed_run_id\\\":null,\\\"cost_mode\\\":1,\\\"lag_length\\\":0,\\\"metric_operation\\\":\\\"minimize\\\",\\\"preprocess\\\":true}\", \"DataPrepJsonString\": \"{\\\\\\\"training_data\\\\\\\": \\\\\\\"{\\\\\\\\\\\\\\\"blocks\\\\\\\\\\\\\\\": [{\\\\\\\\\\\\\\\"id\\\\\\\\\\\\\\\": \\\\\\\\\\\\\\\"2edaa5ff-3a54-4f09-8447-8f1384b19ac6\\\\\\\\\\\\\\\", \\\\\\\\\\\\\\\"type\\\\\\\\\\\\\\\": \\\\\\\\\\\\\\\"Microsoft.DPrep.GetFilesBlock\\\\\\\\\\\\\\\", \\\\\\\\\\\\\\\"arguments\\\\\\\\\\\\\\\": {\\\\\\\\\\\\\\\"isArchive\\\\\\\\\\\\\\\": false, \\\\\\\\\\\\\\\"path\\\\\\\\\\\\\\\": {\\\\\\\\\\\\\\\"target\\\\\\\\\\\\\\\": 4, \\\\\\\\\\\\\\\"resourceDetails\\\\\\\\\\\\\\\": [{\\\\\\\\\\\\\\\"path\\\\\\\\\\\\\\\": \\\\\\\\\\\\\\\"https://raw.githubusercontent.com/shatakshipachori/data_quality_analysis/main/catalogue-scorecard.csv\\\\\\\\\\\\\\\"}]}}, \\\\\\\\\\\\\\\"localData\\\\\\\\\\\\\\\": {}, \\\\\\\\\\\\\\\"isEnabled\\\\\\\\\\\\\\\": true, \\\\\\\\\\\\\\\"name\\\\\\\\\\\\\\\": null, \\\\\\\\\\\\\\\"annotation\\\\\\\\\\\\\\\": null}, {\\\\\\\\\\\\\\\"id\\\\\\\\\\\\\\\": \\\\\\\\\\\\\\\"0587c7d6-fde7-4955-9531-7f1e20470053\\\\\\\\\\\\\\\", \\\\\\\\\\\\\\\"type\\\\\\\\\\\\\\\": \\\\\\\\\\\\\\\"Microsoft.DPrep.ParseDelimitedBlock\\\\\\\\\\\\\\\", \\\\\\\\\\\\\\\"arguments\\\\\\\\\\\\\\\": {\\\\\\\\\\\\\\\"columnHeadersMode\\\\\\\\\\\\\\\": 3, \\\\\\\\\\\\\\\"fileEncoding\\\\\\\\\\\\\\\": 0, \\\\\\\\\\\\\\\"handleQuotedLineBreaks\\\\\\\\\\\\\\\": false, \\\\\\\\\\\\\\\"preview\\\\\\\\\\\\\\\": false, \\\\\\\\\\\\\\\"separator\\\\\\\\\\\\\\\": \\\\\\\\\\\\\\\",\\\\\\\\\\\\\\\", \\\\\\\\\\\\\\\"skipRows\\\\\\\\\\\\\\\": 0, \\\\\\\\\\\\\\\"skipRowsMode\\\\\\\\\\\\\\\": 0}, \\\\\\\\\\\\\\\"localData\\\\\\\\\\\\\\\": {}, \\\\\\\\\\\\\\\"isEnabled\\\\\\\\\\\\\\\": true, \\\\\\\\\\\\\\\"name\\\\\\\\\\\\\\\": null, \\\\\\\\\\\\\\\"annotation\\\\\\\\\\\\\\\": null}, {\\\\\\\\\\\\\\\"id\\\\\\\\\\\\\\\": \\\\\\\\\\\\\\\"ecc7cec5-8402-4b56-8af7-d8ead742d37a\\\\\\\\\\\\\\\", \\\\\\\\\\\\\\\"type\\\\\\\\\\\\\\\": \\\\\\\\\\\\\\\"Microsoft.DPrep.DropColumnsBlock\\\\\\\\\\\\\\\", \\\\\\\\\\\\\\\"arguments\\\\\\\\\\\\\\\": {\\\\\\\\\\\\\\\"columns\\\\\\\\\\\\\\\": {\\\\\\\\\\\\\\\"type\\\\\\\\\\\\\\\": 0, \\\\\\\\\\\\\\\"details\\\\\\\\\\\\\\\": {\\\\\\\\\\\\\\\"selectedColumns\\\\\\\\\\\\\\\": [\\\\\\\\\\\\\\\"Path\\\\\\\\\\\\\\\"]}}}, \\\\\\\\\\\\\\\"localData\\\\\\\\\\\\\\\": {}, \\\\\\\\\\\\\\\"isEnabled\\\\\\\\\\\\\\\": true, \\\\\\\\\\\\\\\"name\\\\\\\\\\\\\\\": null, \\\\\\\\\\\\\\\"annotation\\\\\\\\\\\\\\\": null}, {\\\\\\\\\\\\\\\"id\\\\\\\\\\\\\\\": \\\\\\\\\\\\\\\"14085cd1-853f-4959-a951-95674e9aca02\\\\\\\\\\\\\\\", \\\\\\\\\\\\\\\"type\\\\\\\\\\\\\\\": \\\\\\\\\\\\\\\"Microsoft.DPrep.SetColumnTypesBlock\\\\\\\\\\\\\\\", \\\\\\\\\\\\\\\"arguments\\\\\\\\\\\\\\\": {\\\\\\\\\\\\\\\"columnConversion\\\\\\\\\\\\\\\": [{\\\\\\\\\\\\\\\"column\\\\\\\\\\\\\\\": {\\\\\\\\\\\\\\\"type\\\\\\\\\\\\\\\": 2, \\\\\\\\\\\\\\\"details\\\\\\\\\\\\\\\": {\\\\\\\\\\\\\\\"selectedColumn\\\\\\\\\\\\\\\": \\\\\\\\\\\\\\\"_id\\\\\\\\\\\\\\\"}}, \\\\\\\\\\\\\\\"typeProperty\\\\\\\\\\\\\\\": 2}, {\\\\\\\\\\\\\\\"column\\\\\\\\\\\\\\\": {\\\\\\\\\\\\\\\"type\\\\\\\\\\\\\\\": 2, \\\\\\\\\\\\\\\"details\\\\\\\\\\\\\\\": {\\\\\\\\\\\\\\\"selectedColumn\\\\\\\\\\\\\\\": \\\\\\\\\\\\\\\"package\\\\\\\\\\\\\\\"}}, \\\\\\\\\\\\\\\"typeProperty\\\\\\\\\\\\\\\": 0}, {\\\\\\\\\\\\\\\"column\\\\\\\\\\\\\\\": {\\\\\\\\\\\\\\\"type\\\\\\\\\\\\\\\": 2, \\\\\\\\\\\\\\\"details\\\\\\\\\\\\\\\": {\\\\\\\\\\\\\\\"selectedColumn\\\\\\\\\\\\\\\": \\\\\\\\\\\\\\\"accessibility\\\\\\\\\\\\\\\"}}, \\\\\\\\\\\\\\\"typeProperty\\\\\\\\\\\\\\\": 2}, {\\\\\\\\\\\\\\\"column\\\\\\\\\\\\\\\": {\\\\\\\\\\\\\\\"type\\\\\\\\\\\\\\\": 2, \\\\\\\\\\\\\\\"details\\\\\\\\\\\\\\\": {\\\\\\\\\\\\\\\"selectedColumn\\\\\\\\\\\\\\\": \\\\\\\\\\\\\\\"completeness\\\\\\\\\\\\\\\"}}, \\\\\\\\\\\\\\\"typeProperty\\\\\\\\\\\\\\\": 3}, {\\\\\\\\\\\\\\\"column\\\\\\\\\\\\\\\": {\\\\\\\\\\\\\\\"type\\\\\\\\\\\\\\\": 2, \\\\\\\\\\\\\\\"details\\\\\\\\\\\\\\\": {\\\\\\\\\\\\\\\"selectedColumn\\\\\\\\\\\\\\\": \\\\\\\\\\\\\\\"freshness\\\\\\\\\\\\\\\"}}, \\\\\\\\\\\\\\\"typeProperty\\\\\\\\\\\\\\\": 3}, {\\\\\\\\\\\\\\\"column\\\\\\\\\\\\\\\": {\\\\\\\\\\\\\\\"type\\\\\\\\\\\\\\\": 2, \\\\\\\\\\\\\\\"details\\\\\\\\\\\\\\\": {\\\\\\\\\\\\\\\"selectedColumn\\\\\\\\\\\\\\\": \\\\\\\\\\\\\\\"metadata\\\\\\\\\\\\\\\"}}, \\\\\\\\\\\\\\\"typeProperty\\\\\\\\\\\\\\\": 3}, {\\\\\\\\\\\\\\\"column\\\\\\\\\\\\\\\": {\\\\\\\\\\\\\\\"type\\\\\\\\\\\\\\\": 2, \\\\\\\\\\\\\\\"details\\\\\\\\\\\\\\\": {\\\\\\\\\\\\\\\"selectedColumn\\\\\\\\\\\\\\\": \\\\\\\\\\\\\\\"usability\\\\\\\\\\\\\\\"}}, \\\\\\\\\\\\\\\"typeProperty\\\\\\\\\\\\\\\": 3}, {\\\\\\\\\\\\\\\"column\\\\\\\\\\\\\\\": {\\\\\\\\\\\\\\\"type\\\\\\\\\\\\\\\": 2, \\\\\\\\\\\\\\\"details\\\\\\\\\\\\\\\": {\\\\\\\\\\\\\\\"selectedColumn\\\\\\\\\\\\\\\": \\\\\\\\\\\\\\\"score\\\\\\\\\\\\\\\"}}, \\\\\\\\\\\\\\\"typeProperty\\\\\\\\\\\\\\\": 3}, {\\\\\\\\\\\\\\\"column\\\\\\\\\\\\\\\": {\\\\\\\\\\\\\\\"type\\\\\\\\\\\\\\\": 2, \\\\\\\\\\\\\\\"details\\\\\\\\\\\\\\\": {\\\\\\\\\\\\\\\"selectedColumn\\\\\\\\\\\\\\\": \\\\\\\\\\\\\\\"score_norm\\\\\\\\\\\\\\\"}}, \\\\\\\\\\\\\\\"typeProperty\\\\\\\\\\\\\\\": 3}, {\\\\\\\\\\\\\\\"column\\\\\\\\\\\\\\\": {\\\\\\\\\\\\\\\"type\\\\\\\\\\\\\\\": 2, \\\\\\\\\\\\\\\"details\\\\\\\\\\\\\\\": {\\\\\\\\\\\\\\\"selectedColumn\\\\\\\\\\\\\\\": \\\\\\\\\\\\\\\"grade\\\\\\\\\\\\\\\"}}, \\\\\\\\\\\\\\\"typeProperty\\\\\\\\\\\\\\\": 0}, {\\\\\\\\\\\\\\\"column\\\\\\\\\\\\\\\": {\\\\\\\\\\\\\\\"type\\\\\\\\\\\\\\\": 2, \\\\\\\\\\\\\\\"details\\\\\\\\\\\\\\\": {\\\\\\\\\\\\\\\"selectedColumn\\\\\\\\\\\\\\\": \\\\\\\\\\\\\\\"grade_norm\\\\\\\\\\\\\\\"}}, \\\\\\\\\\\\\\\"typeProperty\\\\\\\\\\\\\\\": 0}, {\\\\\\\\\\\\\\\"column\\\\\\\\\\\\\\\": {\\\\\\\\\\\\\\\"type\\\\\\\\\\\\\\\": 2, \\\\\\\\\\\\\\\"details\\\\\\\\\\\\\\\": {\\\\\\\\\\\\\\\"selectedColumn\\\\\\\\\\\\\\\": \\\\\\\\\\\\\\\"recorded_at\\\\\\\\\\\\\\\"}}, \\\\\\\\\\\\\\\"typeArguments\\\\\\\\\\\\\\\": {\\\\\\\\\\\\\\\"dateTimeFormats\\\\\\\\\\\\\\\": [\\\\\\\\\\\\\\\"%Y-%m-%dT%H:%M:%S\\\\\\\\\\\\\\\"]}, \\\\\\\\\\\\\\\"typeProperty\\\\\\\\\\\\\\\": 4}, {\\\\\\\\\\\\\\\"column\\\\\\\\\\\\\\\": {\\\\\\\\\\\\\\\"type\\\\\\\\\\\\\\\": 2, \\\\\\\\\\\\\\\"details\\\\\\\\\\\\\\\": {\\\\\\\\\\\\\\\"selectedColumn\\\\\\\\\\\\\\\": \\\\\\\\\\\\\\\"version\\\\\\\\\\\\\\\"}}, \\\\\\\\\\\\\\\"typeProperty\\\\\\\\\\\\\\\": 0}]}, \\\\\\\\\\\\\\\"localData\\\\\\\\\\\\\\\": {}, \\\\\\\\\\\\\\\"isEnabled\\\\\\\\\\\\\\\": true, \\\\\\\\\\\\\\\"name\\\\\\\\\\\\\\\": null, \\\\\\\\\\\\\\\"annotation\\\\\\\\\\\\\\\": null}], \\\\\\\\\\\\\\\"inspectors\\\\\\\\\\\\\\\": [], \\\\\\\\\\\\\\\"meta\\\\\\\\\\\\\\\": {\\\\\\\\\\\\\\\"savedDatasetId\\\\\\\\\\\\\\\": \\\\\\\\\\\\\\\"8499401d-d0fa-4aaa-9857-2a8f796bb6ad\\\\\\\\\\\\\\\", \\\\\\\\\\\\\\\"datasetType\\\\\\\\\\\\\\\": \\\\\\\\\\\\\\\"tabular\\\\\\\\\\\\\\\", \\\\\\\\\\\\\\\"subscriptionId\\\\\\\\\\\\\\\": \\\\\\\\\\\\\\\"5a4ab2ba-6c51-4805-8155-58759ad589d8\\\\\\\\\\\\\\\", \\\\\\\\\\\\\\\"workspaceId\\\\\\\\\\\\\\\": \\\\\\\\\\\\\\\"e5c39fb0-a409-450d-bbbd-84935fb728fd\\\\\\\\\\\\\\\", \\\\\\\\\\\\\\\"workspaceLocation\\\\\\\\\\\\\\\": \\\\\\\\\\\\\\\"southcentralus\\\\\\\\\\\\\\\", \\\\\\\\\\\\\\\"partition_keys\\\\\\\\\\\\\\\": \\\\\\\\\\\\\\\"true\\\\\\\\\\\\\\\"}}\\\\\\\", \\\\\\\"activities\\\\\\\": 0}\", \"EnableSubsampling\": null, \"runTemplate\": \"AutoML\", \"azureml.runsource\": \"automl\", \"display_task_type\": \"regression\", \"dependencies_versions\": \"{\\\"azureml-widgets\\\": \\\"1.24.0\\\", \\\"azureml-train\\\": \\\"1.24.0\\\", \\\"azureml-train-restclients-hyperdrive\\\": \\\"1.24.0\\\", \\\"azureml-train-core\\\": \\\"1.24.0\\\", \\\"azureml-train-automl\\\": \\\"1.24.0\\\", \\\"azureml-train-automl-runtime\\\": \\\"1.24.0\\\", \\\"azureml-train-automl-client\\\": \\\"1.24.0\\\", \\\"azureml-tensorboard\\\": \\\"1.24.0\\\", \\\"azureml-telemetry\\\": \\\"1.24.0\\\", \\\"azureml-sdk\\\": \\\"1.24.0\\\", \\\"azureml-samples\\\": \\\"0+unknown\\\", \\\"azureml-pipeline\\\": \\\"1.24.0\\\", \\\"azureml-pipeline-steps\\\": \\\"1.24.0\\\", \\\"azureml-pipeline-core\\\": \\\"1.24.0\\\", \\\"azureml-opendatasets\\\": \\\"1.24.0\\\", \\\"azureml-model-management-sdk\\\": \\\"1.0.1b6.post1\\\", \\\"azureml-mlflow\\\": \\\"1.24.0\\\", \\\"azureml-interpret\\\": \\\"1.24.0\\\", \\\"azureml-explain-model\\\": \\\"1.24.0\\\", \\\"azureml-defaults\\\": \\\"1.24.0\\\", \\\"azureml-dataset-runtime\\\": \\\"1.24.0\\\", \\\"azureml-dataprep\\\": \\\"2.11.1\\\", \\\"azureml-dataprep-rslex\\\": \\\"1.9.0\\\", \\\"azureml-dataprep-native\\\": \\\"30.0.0\\\", \\\"azureml-datadrift\\\": \\\"1.24.0\\\", \\\"azureml-core\\\": \\\"1.24.0\\\", \\\"azureml-contrib-services\\\": \\\"1.24.0\\\", \\\"azureml-contrib-server\\\": \\\"1.24.0\\\", \\\"azureml-contrib-reinforcementlearning\\\": \\\"1.24.0\\\", \\\"azureml-contrib-pipeline-steps\\\": \\\"1.24.0\\\", \\\"azureml-contrib-notebook\\\": \\\"1.24.0\\\", \\\"azureml-contrib-gbdt\\\": \\\"1.24.0\\\", \\\"azureml-contrib-fairness\\\": \\\"1.24.0\\\", \\\"azureml-contrib-dataset\\\": \\\"1.24.0\\\", \\\"azureml-cli-common\\\": \\\"1.24.0\\\", \\\"azureml-automl-runtime\\\": \\\"1.24.0\\\", \\\"azureml-automl-dnn-nlp\\\": \\\"1.24.0\\\", \\\"azureml-automl-core\\\": \\\"1.24.0\\\", \\\"azureml-accel-models\\\": \\\"1.24.0\\\"}\", \"_aml_system_scenario_identification\": \"Remote.Parent\", \"ClientType\": \"SDK\", \"environment_cpu_name\": \"AzureML-AutoML\", \"environment_cpu_label\": \"prod\", \"environment_gpu_name\": \"AzureML-AutoML-GPU\", \"environment_gpu_label\": \"prod\", \"root_attribution\": \"automl\", \"attribution\": \"AutoML\", \"Orchestrator\": \"AutoML\", \"CancelUri\": \"https://southcentralus.experiments.azureml.net/jasmine/v1.0/subscriptions/5a4ab2ba-6c51-4805-8155-58759ad589d8/resourceGroups/aml-quickstarts-141712/providers/Microsoft.MachineLearningServices/workspaces/quick-starts-ws-141712/experimentids/7c4c3903-080d-4147-83cc-ed5e2c6515b2/cancel/AutoML_ca215feb-3ef0-4baa-a35e-db0e70332177\", \"ClientSdkVersion\": \"1.24.0\", \"snapshotId\": \"00000000-0000-0000-0000-000000000000\", \"SetupRunId\": \"AutoML_ca215feb-3ef0-4baa-a35e-db0e70332177_setup\", \"SetupRunContainerId\": \"dcid.AutoML_ca215feb-3ef0-4baa-a35e-db0e70332177_setup\", \"FeaturizationRunJsonPath\": \"featurizer_container.json\", \"FeaturizationRunId\": \"AutoML_ca215feb-3ef0-4baa-a35e-db0e70332177_featurize\", \"ProblemInfoJsonString\": \"{\\\"dataset_num_categorical\\\": 0, \\\"is_sparse\\\": true, \\\"subsampling\\\": false, \\\"dataset_classes\\\": 50, \\\"dataset_features\\\": 175, \\\"dataset_samples\\\": 23027, \\\"single_frequency_class_detected\\\": false}\", \"ModelExplainRunId\": \"AutoML_ca215feb-3ef0-4baa-a35e-db0e70332177_ModelExplain\"}, \"tags\": {\"model_explain_run\": \"best_run\", \"_aml_system_azureml.automlComponent\": \"AutoML\", \"pipeline_id\": \"\", \"score\": \"\", \"predicted_cost\": \"\", \"fit_time\": \"\", \"training_percent\": \"\", \"iteration\": \"\", \"run_preprocessor\": \"\", \"run_algorithm\": \"\", \"dynamic_whitelisting_iterations\": \"<25>;<30>;<35>;\", \"automl_best_child_run_id\": \"AutoML_ca215feb-3ef0-4baa-a35e-db0e70332177_0\"}, \"end_time_utc\": \"2021-03-31T22:48:58.091918Z\", \"status\": \"Completed\", \"log_files\": {}, \"log_groups\": [], \"run_duration\": \"0:14:41\", \"run_number\": \"1\", \"run_queued_details\": {\"status\": \"Completed\", \"details\": null}}, \"child_runs\": [{\"run_id\": \"AutoML_ca215feb-3ef0-4baa-a35e-db0e70332177_0\", \"run_number\": 5, \"metric\": null, \"status\": \"Completed\", \"run_type\": \"azureml.scriptrun\", \"training_percent\": \"100\", \"start_time\": \"2021-03-31T22:39:09.89474Z\", \"end_time\": \"2021-03-31T22:39:53.378272Z\", \"created_time\": \"2021-03-31T22:39:01.984334Z\", \"created_time_dt\": \"2021-03-31T22:39:01.984334Z\", \"duration\": \"0:00:51\", \"iteration\": \"0\", \"goal\": \"normalized_root_mean_squared_error_min\", \"run_name\": \"MaxAbsScaler, LightGBM\", \"run_properties\": \"copy=True\", \"primary_metric\": 0.00182793, \"best_metric\": 0.00182793}, {\"run_id\": \"AutoML_ca215feb-3ef0-4baa-a35e-db0e70332177_3\", \"run_number\": 6, \"metric\": null, \"status\": \"Completed\", \"run_type\": \"azureml.scriptrun\", \"training_percent\": \"100\", \"start_time\": \"2021-03-31T22:39:13.123619Z\", \"end_time\": \"2021-03-31T22:39:50.089343Z\", \"created_time\": \"2021-03-31T22:39:02.123564Z\", \"created_time_dt\": \"2021-03-31T22:39:02.123564Z\", \"duration\": \"0:00:47\", \"iteration\": \"3\", \"goal\": \"normalized_root_mean_squared_error_min\", \"run_name\": \"MaxAbsScaler, DecisionTree\", \"run_properties\": \"copy=True\", \"primary_metric\": 0.01621201, \"best_metric\": 0.00182793}, {\"run_id\": \"AutoML_ca215feb-3ef0-4baa-a35e-db0e70332177_4\", \"run_number\": 7, \"metric\": null, \"status\": \"Completed\", \"run_type\": \"azureml.scriptrun\", \"training_percent\": \"100\", \"start_time\": \"2021-03-31T22:39:13.261396Z\", \"end_time\": \"2021-03-31T22:39:59.487177Z\", \"created_time\": \"2021-03-31T22:39:02.131158Z\", \"created_time_dt\": \"2021-03-31T22:39:02.131158Z\", \"duration\": \"0:00:57\", \"iteration\": \"4\", \"goal\": \"normalized_root_mean_squared_error_min\", \"run_name\": \"MaxAbsScaler, ElasticNet\", \"run_properties\": \"copy=True\", \"primary_metric\": 0.01259029, \"best_metric\": 0.00182793}, {\"run_id\": \"AutoML_ca215feb-3ef0-4baa-a35e-db0e70332177_2\", \"run_number\": 8, \"metric\": null, \"status\": \"Completed\", \"run_type\": \"azureml.scriptrun\", \"training_percent\": \"100\", \"start_time\": \"2021-03-31T22:39:11.695577Z\", \"end_time\": \"2021-03-31T22:39:52.509564Z\", \"created_time\": \"2021-03-31T22:39:02.138682Z\", \"created_time_dt\": \"2021-03-31T22:39:02.138682Z\", \"duration\": \"0:00:50\", \"iteration\": \"2\", \"goal\": \"normalized_root_mean_squared_error_min\", \"run_name\": \"StandardScalerWrapper, ElasticNet\", \"run_properties\": \"<azureml.automl.runtime.shared.model_wrappers.StandardScalerWrapper object at 0x7f4bcd474550\", \"primary_metric\": 0.0685102, \"best_metric\": 0.00182793}, {\"run_id\": \"AutoML_ca215feb-3ef0-4baa-a35e-db0e70332177_1\", \"run_number\": 9, \"metric\": null, \"status\": \"Completed\", \"run_type\": \"azureml.scriptrun\", \"training_percent\": \"100\", \"start_time\": \"2021-03-31T22:39:16.930673Z\", \"end_time\": \"2021-03-31T22:40:07.436134Z\", \"created_time\": \"2021-03-31T22:39:02.169232Z\", \"created_time_dt\": \"2021-03-31T22:39:02.169232Z\", \"duration\": \"0:01:05\", \"iteration\": \"1\", \"goal\": \"normalized_root_mean_squared_error_min\", \"run_name\": \"MaxAbsScaler, XGBoostRegressor\", \"run_properties\": \"copy=True\", \"primary_metric\": 0.00424512, \"best_metric\": 0.00182793}, {\"run_id\": \"AutoML_ca215feb-3ef0-4baa-a35e-db0e70332177_5\", \"run_number\": 10, \"metric\": null, \"status\": \"Completed\", \"run_type\": \"azureml.scriptrun\", \"training_percent\": \"100\", \"start_time\": \"2021-03-31T22:40:04.546777Z\", \"end_time\": \"2021-03-31T22:40:49.937724Z\", \"created_time\": \"2021-03-31T22:39:54.7751Z\", \"created_time_dt\": \"2021-03-31T22:39:54.7751Z\", \"duration\": \"0:00:55\", \"iteration\": \"5\", \"goal\": \"normalized_root_mean_squared_error_min\", \"run_name\": \"MaxAbsScaler, DecisionTree\", \"run_properties\": \"copy=True\", \"primary_metric\": 0.00937182, \"best_metric\": 0.00182793}, {\"run_id\": \"AutoML_ca215feb-3ef0-4baa-a35e-db0e70332177_6\", \"run_number\": 11, \"metric\": null, \"status\": \"Completed\", \"run_type\": \"azureml.scriptrun\", \"training_percent\": \"100\", \"start_time\": \"2021-03-31T22:40:08.273828Z\", \"end_time\": \"2021-03-31T22:40:44.186264Z\", \"created_time\": \"2021-03-31T22:40:00.229028Z\", \"created_time_dt\": \"2021-03-31T22:40:00.229028Z\", \"duration\": \"0:00:43\", \"iteration\": \"6\", \"goal\": \"normalized_root_mean_squared_error_min\", \"run_name\": \"MaxAbsScaler, DecisionTree\", \"run_properties\": \"copy=True\", \"primary_metric\": 0.00585433, \"best_metric\": 0.00182793}, {\"run_id\": \"AutoML_ca215feb-3ef0-4baa-a35e-db0e70332177_7\", \"run_number\": 12, \"metric\": null, \"status\": \"Completed\", \"run_type\": \"azureml.scriptrun\", \"training_percent\": \"100\", \"start_time\": \"2021-03-31T22:40:11.073858Z\", \"end_time\": \"2021-03-31T22:40:50.257868Z\", \"created_time\": \"2021-03-31T22:40:00.342425Z\", \"created_time_dt\": \"2021-03-31T22:40:00.342425Z\", \"duration\": \"0:00:49\", \"iteration\": \"7\", \"goal\": \"normalized_root_mean_squared_error_min\", \"run_name\": \"MaxAbsScaler, DecisionTree\", \"run_properties\": \"copy=True\", \"primary_metric\": 0.01050442, \"best_metric\": 0.00182793}, {\"run_id\": \"AutoML_ca215feb-3ef0-4baa-a35e-db0e70332177_8\", \"run_number\": 13, \"metric\": null, \"status\": \"Completed\", \"run_type\": \"azureml.scriptrun\", \"training_percent\": \"100\", \"start_time\": \"2021-03-31T22:40:16.147568Z\", \"end_time\": \"2021-03-31T22:40:55.078Z\", \"created_time\": \"2021-03-31T22:40:06.648858Z\", \"created_time_dt\": \"2021-03-31T22:40:06.648858Z\", \"duration\": \"0:00:48\", \"iteration\": \"8\", \"goal\": \"normalized_root_mean_squared_error_min\", \"run_name\": \"MaxAbsScaler, DecisionTree\", \"run_properties\": \"copy=True\", \"primary_metric\": 0.01639972, \"best_metric\": 0.00182793}, {\"run_id\": \"AutoML_ca215feb-3ef0-4baa-a35e-db0e70332177_9\", \"run_number\": 14, \"metric\": null, \"status\": \"Completed\", \"run_type\": \"azureml.scriptrun\", \"training_percent\": \"100\", \"start_time\": \"2021-03-31T22:40:21.950686Z\", \"end_time\": \"2021-03-31T22:41:03.874703Z\", \"created_time\": \"2021-03-31T22:40:12.607222Z\", \"created_time_dt\": \"2021-03-31T22:40:12.607222Z\", \"duration\": \"0:00:51\", \"iteration\": \"9\", \"goal\": \"normalized_root_mean_squared_error_min\", \"run_name\": \"MaxAbsScaler, DecisionTree\", \"run_properties\": \"copy=True\", \"primary_metric\": 0.00961932, \"best_metric\": 0.00182793}, {\"run_id\": \"AutoML_ca215feb-3ef0-4baa-a35e-db0e70332177_10\", \"run_number\": 15, \"metric\": null, \"status\": \"Completed\", \"run_type\": \"azureml.scriptrun\", \"training_percent\": \"100\", \"start_time\": \"2021-03-31T22:40:55.634662Z\", \"end_time\": \"2021-03-31T22:41:42.485863Z\", \"created_time\": \"2021-03-31T22:40:47.769927Z\", \"created_time_dt\": \"2021-03-31T22:40:47.769927Z\", \"duration\": \"0:00:54\", \"iteration\": \"10\", \"goal\": \"normalized_root_mean_squared_error_min\", \"run_name\": \"MaxAbsScaler, DecisionTree\", \"run_properties\": \"copy=True\", \"primary_metric\": 0.01322974, \"best_metric\": 0.00182793}, {\"run_id\": \"AutoML_ca215feb-3ef0-4baa-a35e-db0e70332177_11\", \"run_number\": 16, \"metric\": null, \"status\": \"Completed\", \"run_type\": \"azureml.scriptrun\", \"training_percent\": \"100\", \"start_time\": \"2021-03-31T22:41:03.072635Z\", \"end_time\": \"2021-03-31T22:41:48.240664Z\", \"created_time\": \"2021-03-31T22:40:53.619083Z\", \"created_time_dt\": \"2021-03-31T22:40:53.619083Z\", \"duration\": \"0:00:54\", \"iteration\": \"11\", \"goal\": \"normalized_root_mean_squared_error_min\", \"run_name\": \"MaxAbsScaler, DecisionTree\", \"run_properties\": \"copy=True\", \"primary_metric\": 0.00668647, \"best_metric\": 0.00182793}, {\"run_id\": \"AutoML_ca215feb-3ef0-4baa-a35e-db0e70332177_12\", \"run_number\": 17, \"metric\": null, \"status\": \"Completed\", \"run_type\": \"azureml.scriptrun\", \"training_percent\": \"100\", \"start_time\": \"2021-03-31T22:41:02.947045Z\", \"end_time\": \"2021-03-31T22:41:53.407276Z\", \"created_time\": \"2021-03-31T22:40:53.77504Z\", \"created_time_dt\": \"2021-03-31T22:40:53.77504Z\", \"duration\": \"0:00:59\", \"iteration\": \"12\", \"goal\": \"normalized_root_mean_squared_error_min\", \"run_name\": \"MaxAbsScaler, DecisionTree\", \"run_properties\": \"copy=True\", \"primary_metric\": 0.0224249, \"best_metric\": 0.00182793}, {\"run_id\": \"AutoML_ca215feb-3ef0-4baa-a35e-db0e70332177_13\", \"run_number\": 18, \"metric\": null, \"status\": \"Completed\", \"run_type\": \"azureml.scriptrun\", \"training_percent\": \"100\", \"start_time\": \"2021-03-31T22:41:09.97276Z\", \"end_time\": \"2021-03-31T22:41:57.592478Z\", \"created_time\": \"2021-03-31T22:40:59.545117Z\", \"created_time_dt\": \"2021-03-31T22:40:59.545117Z\", \"duration\": \"0:00:58\", \"iteration\": \"13\", \"goal\": \"normalized_root_mean_squared_error_min\", \"run_name\": \"StandardScalerWrapper, DecisionTree\", \"run_properties\": \"<azureml.automl.runtime.shared.model_wrappers.StandardScalerWrapper object at 0x7fb9127747f0\", \"primary_metric\": 0.01307714, \"best_metric\": 0.00182793}, {\"run_id\": \"AutoML_ca215feb-3ef0-4baa-a35e-db0e70332177_14\", \"run_number\": 19, \"metric\": null, \"status\": \"Completed\", \"run_type\": \"azureml.scriptrun\", \"training_percent\": \"100\", \"start_time\": \"2021-03-31T22:41:17.358831Z\", \"end_time\": \"2021-03-31T22:42:02.073649Z\", \"created_time\": \"2021-03-31T22:41:07.859245Z\", \"created_time_dt\": \"2021-03-31T22:41:07.859245Z\", \"duration\": \"0:00:54\", \"iteration\": \"14\", \"goal\": \"normalized_root_mean_squared_error_min\", \"run_name\": \"MaxAbsScaler, DecisionTree\", \"run_properties\": \"copy=True\", \"primary_metric\": 0.02287504, \"best_metric\": 0.00182793}, {\"run_id\": \"AutoML_ca215feb-3ef0-4baa-a35e-db0e70332177_15\", \"run_number\": 20, \"metric\": null, \"status\": \"Completed\", \"run_type\": \"azureml.scriptrun\", \"training_percent\": \"100\", \"start_time\": \"2021-03-31T22:41:56.197351Z\", \"end_time\": \"2021-03-31T22:42:38.06651Z\", \"created_time\": \"2021-03-31T22:41:46.68666Z\", \"created_time_dt\": \"2021-03-31T22:41:46.68666Z\", \"duration\": \"0:00:51\", \"iteration\": \"15\", \"goal\": \"normalized_root_mean_squared_error_min\", \"run_name\": \"MaxAbsScaler, DecisionTree\", \"run_properties\": \"copy=True\", \"primary_metric\": 0.02371429, \"best_metric\": 0.00182793}, {\"run_id\": \"AutoML_ca215feb-3ef0-4baa-a35e-db0e70332177_16\", \"run_number\": 21, \"metric\": null, \"status\": \"Completed\", \"run_type\": \"azureml.scriptrun\", \"training_percent\": \"100\", \"start_time\": \"2021-03-31T22:42:02.358715Z\", \"end_time\": \"2021-03-31T22:42:43.225197Z\", \"created_time\": \"2021-03-31T22:41:52.475235Z\", \"created_time_dt\": \"2021-03-31T22:41:52.475235Z\", \"duration\": \"0:00:50\", \"iteration\": \"16\", \"goal\": \"normalized_root_mean_squared_error_min\", \"run_name\": \"MaxAbsScaler, SGD\", \"run_properties\": \"copy=True\", \"primary_metric\": 0.07220881, \"best_metric\": 0.00182793}, {\"run_id\": \"AutoML_ca215feb-3ef0-4baa-a35e-db0e70332177_17\", \"run_number\": 22, \"metric\": null, \"status\": \"Completed\", \"run_type\": \"azureml.scriptrun\", \"training_percent\": \"100\", \"start_time\": \"2021-03-31T22:42:07.080638Z\", \"end_time\": \"2021-03-31T22:42:48.179773Z\", \"created_time\": \"2021-03-31T22:41:59.040206Z\", \"created_time_dt\": \"2021-03-31T22:41:59.040206Z\", \"duration\": \"0:00:49\", \"iteration\": \"17\", \"goal\": \"normalized_root_mean_squared_error_min\", \"run_name\": \"MaxAbsScaler, DecisionTree\", \"run_properties\": \"copy=True\", \"primary_metric\": 0.00534933, \"best_metric\": 0.00182793}, {\"run_id\": \"AutoML_ca215feb-3ef0-4baa-a35e-db0e70332177_18\", \"run_number\": 23, \"metric\": null, \"status\": \"Completed\", \"run_type\": \"azureml.scriptrun\", \"training_percent\": \"100\", \"start_time\": \"2021-03-31T22:42:14.082479Z\", \"end_time\": \"2021-03-31T22:42:53.230388Z\", \"created_time\": \"2021-03-31T22:42:04.581429Z\", \"created_time_dt\": \"2021-03-31T22:42:04.581429Z\", \"duration\": \"0:00:48\", \"iteration\": \"18\", \"goal\": \"normalized_root_mean_squared_error_min\", \"run_name\": \"MaxAbsScaler, DecisionTree\", \"run_properties\": \"copy=True\", \"primary_metric\": 0.02589269, \"best_metric\": 0.00182793}, {\"run_id\": \"AutoML_ca215feb-3ef0-4baa-a35e-db0e70332177_19\", \"run_number\": 24, \"metric\": null, \"status\": \"Completed\", \"run_type\": \"azureml.scriptrun\", \"training_percent\": \"100\", \"start_time\": \"2021-03-31T22:42:19.667359Z\", \"end_time\": \"2021-03-31T22:43:01.306549Z\", \"created_time\": \"2021-03-31T22:42:10.269794Z\", \"created_time_dt\": \"2021-03-31T22:42:10.269794Z\", \"duration\": \"0:00:51\", \"iteration\": \"19\", \"goal\": \"normalized_root_mean_squared_error_min\", \"run_name\": \"MaxAbsScaler, DecisionTree\", \"run_properties\": \"copy=True\", \"primary_metric\": 0.02208278, \"best_metric\": 0.00182793}, {\"run_id\": \"AutoML_ca215feb-3ef0-4baa-a35e-db0e70332177_20\", \"run_number\": 25, \"metric\": null, \"status\": \"Completed\", \"run_type\": \"azureml.scriptrun\", \"training_percent\": \"100\", \"start_time\": \"2021-03-31T22:42:49.929842Z\", \"end_time\": \"2021-03-31T22:43:31.266137Z\", \"created_time\": \"2021-03-31T22:42:42.341176Z\", \"created_time_dt\": \"2021-03-31T22:42:42.341176Z\", \"duration\": \"0:00:48\", \"iteration\": \"20\", \"goal\": \"normalized_root_mean_squared_error_min\", \"run_name\": \"MaxAbsScaler, SGD\", \"run_properties\": \"copy=True\", \"primary_metric\": 0.01525178, \"best_metric\": 0.00182793}, {\"run_id\": \"AutoML_ca215feb-3ef0-4baa-a35e-db0e70332177_21\", \"run_number\": 26, \"metric\": null, \"status\": \"Completed\", \"run_type\": \"azureml.scriptrun\", \"training_percent\": \"100\", \"start_time\": \"2021-03-31T22:42:57.042227Z\", \"end_time\": \"2021-03-31T22:43:41.713196Z\", \"created_time\": \"2021-03-31T22:42:47.671609Z\", \"created_time_dt\": \"2021-03-31T22:42:47.671609Z\", \"duration\": \"0:00:54\", \"iteration\": \"21\", \"goal\": \"normalized_root_mean_squared_error_min\", \"run_name\": \"MaxAbsScaler, DecisionTree\", \"run_properties\": \"copy=True\", \"primary_metric\": 0.01204199, \"best_metric\": 0.00182793}, {\"run_id\": \"AutoML_ca215feb-3ef0-4baa-a35e-db0e70332177_22\", \"run_number\": 27, \"metric\": null, \"status\": \"Completed\", \"run_type\": \"azureml.scriptrun\", \"training_percent\": \"100\", \"start_time\": \"2021-03-31T22:43:01.478449Z\", \"end_time\": \"2021-03-31T22:43:36.870186Z\", \"created_time\": \"2021-03-31T22:42:53.574861Z\", \"created_time_dt\": \"2021-03-31T22:42:53.574861Z\", \"duration\": \"0:00:43\", \"iteration\": \"22\", \"goal\": \"normalized_root_mean_squared_error_min\", \"run_name\": \"MaxAbsScaler, DecisionTree\", \"run_properties\": \"copy=True\", \"primary_metric\": 0.00869562, \"best_metric\": 0.00182793}, {\"run_id\": \"AutoML_ca215feb-3ef0-4baa-a35e-db0e70332177_23\", \"run_number\": 28, \"metric\": null, \"status\": \"Completed\", \"run_type\": \"azureml.scriptrun\", \"training_percent\": \"100\", \"start_time\": \"2021-03-31T22:43:08.321915Z\", \"end_time\": \"2021-03-31T22:43:47.903154Z\", \"created_time\": \"2021-03-31T22:42:59.16293Z\", \"created_time_dt\": \"2021-03-31T22:42:59.16293Z\", \"duration\": \"0:00:48\", \"iteration\": \"23\", \"goal\": \"normalized_root_mean_squared_error_min\", \"run_name\": \"MaxAbsScaler, DecisionTree\", \"run_properties\": \"copy=True\", \"primary_metric\": 0.00720522, \"best_metric\": 0.00182793}, {\"run_id\": \"AutoML_ca215feb-3ef0-4baa-a35e-db0e70332177_24\", \"run_number\": 29, \"metric\": null, \"status\": \"Completed\", \"run_type\": \"azureml.scriptrun\", \"training_percent\": \"100\", \"start_time\": \"2021-03-31T22:43:13.166251Z\", \"end_time\": \"2021-03-31T22:43:53.951501Z\", \"created_time\": \"2021-03-31T22:43:05.290746Z\", \"created_time_dt\": \"2021-03-31T22:43:05.290746Z\", \"duration\": \"0:00:48\", \"iteration\": \"24\", \"goal\": \"normalized_root_mean_squared_error_min\", \"run_name\": \"MaxAbsScaler, DecisionTree\", \"run_properties\": \"copy=True\", \"primary_metric\": 0.00774735, \"best_metric\": 0.00182793}, {\"run_id\": \"AutoML_ca215feb-3ef0-4baa-a35e-db0e70332177_25\", \"run_number\": 30, \"metric\": null, \"status\": \"Completed\", \"run_type\": \"azureml.scriptrun\", \"training_percent\": \"100\", \"start_time\": \"2021-03-31T22:43:46.085275Z\", \"end_time\": \"2021-03-31T22:44:30.500747Z\", \"created_time\": \"2021-03-31T22:43:35.516796Z\", \"created_time_dt\": \"2021-03-31T22:43:35.516796Z\", \"duration\": \"0:00:54\", \"iteration\": \"25\", \"goal\": \"normalized_root_mean_squared_error_min\", \"run_name\": \"MaxAbsScaler, LightGBM\", \"run_properties\": \"copy=True\", \"primary_metric\": 0.07388017, \"best_metric\": 0.00182793}, {\"run_id\": \"AutoML_ca215feb-3ef0-4baa-a35e-db0e70332177_26\", \"run_number\": 31, \"metric\": null, \"status\": \"Completed\", \"run_type\": \"azureml.scriptrun\", \"training_percent\": \"100\", \"start_time\": \"2021-03-31T22:43:49.089472Z\", \"end_time\": \"2021-03-31T22:44:28.417601Z\", \"created_time\": \"2021-03-31T22:43:39.796441Z\", \"created_time_dt\": \"2021-03-31T22:43:39.796441Z\", \"duration\": \"0:00:48\", \"iteration\": \"26\", \"goal\": \"normalized_root_mean_squared_error_min\", \"run_name\": \"MaxAbsScaler, DecisionTree\", \"run_properties\": \"copy=True\", \"primary_metric\": 0.01884612, \"best_metric\": 0.00182793}, {\"run_id\": \"AutoML_ca215feb-3ef0-4baa-a35e-db0e70332177_27\", \"run_number\": 32, \"metric\": null, \"status\": \"Completed\", \"run_type\": \"azureml.scriptrun\", \"training_percent\": \"100\", \"start_time\": \"2021-03-31T22:43:53.396853Z\", \"end_time\": \"2021-03-31T22:44:32.645534Z\", \"created_time\": \"2021-03-31T22:43:44.390043Z\", \"created_time_dt\": \"2021-03-31T22:43:44.390043Z\", \"duration\": \"0:00:48\", \"iteration\": \"27\", \"goal\": \"normalized_root_mean_squared_error_min\", \"run_name\": \"MaxAbsScaler, DecisionTree\", \"run_properties\": \"copy=True\", \"primary_metric\": 0.01173235, \"best_metric\": 0.00182793}, {\"run_id\": \"AutoML_ca215feb-3ef0-4baa-a35e-db0e70332177_28\", \"run_number\": 33, \"metric\": null, \"status\": \"Completed\", \"run_type\": \"azureml.scriptrun\", \"training_percent\": \"100\", \"start_time\": \"2021-03-31T22:43:58.577865Z\", \"end_time\": \"2021-03-31T22:44:34.003962Z\", \"created_time\": \"2021-03-31T22:43:50.447759Z\", \"created_time_dt\": \"2021-03-31T22:43:50.447759Z\", \"duration\": \"0:00:43\", \"iteration\": \"28\", \"goal\": \"normalized_root_mean_squared_error_min\", \"run_name\": \"MaxAbsScaler, DecisionTree\", \"run_properties\": \"copy=True\", \"primary_metric\": 0.01075372, \"best_metric\": 0.00182793}, {\"run_id\": \"AutoML_ca215feb-3ef0-4baa-a35e-db0e70332177_29\", \"run_number\": 34, \"metric\": null, \"status\": \"Completed\", \"run_type\": \"azureml.scriptrun\", \"training_percent\": \"100\", \"start_time\": \"2021-03-31T22:44:05.473518Z\", \"end_time\": \"2021-03-31T22:44:43.793469Z\", \"created_time\": \"2021-03-31T22:43:56.103257Z\", \"created_time_dt\": \"2021-03-31T22:43:56.103257Z\", \"duration\": \"0:00:47\", \"iteration\": \"29\", \"goal\": \"normalized_root_mean_squared_error_min\", \"run_name\": \"MaxAbsScaler, DecisionTree\", \"run_properties\": \"copy=True\", \"primary_metric\": 0.00919371, \"best_metric\": 0.00182793}, {\"run_id\": \"AutoML_ca215feb-3ef0-4baa-a35e-db0e70332177_30\", \"run_number\": 35, \"metric\": null, \"status\": \"Completed\", \"run_type\": \"azureml.scriptrun\", \"training_percent\": \"100\", \"start_time\": \"2021-03-31T22:44:42.374032Z\", \"end_time\": \"2021-03-31T22:47:08.027283Z\", \"created_time\": \"2021-03-31T22:44:31.878511Z\", \"created_time_dt\": \"2021-03-31T22:44:31.878511Z\", \"duration\": \"0:02:36\", \"iteration\": \"30\", \"goal\": \"normalized_root_mean_squared_error_min\", \"run_name\": \"MaxAbsScaler, LightGBM\", \"run_properties\": \"copy=True\", \"primary_metric\": 0.04513544, \"best_metric\": 0.00182793}, {\"run_id\": \"AutoML_ca215feb-3ef0-4baa-a35e-db0e70332177_31\", \"run_number\": 36, \"metric\": null, \"status\": \"Completed\", \"run_type\": \"azureml.scriptrun\", \"training_percent\": \"100\", \"start_time\": \"2021-03-31T22:44:47.529135Z\", \"end_time\": \"2021-03-31T22:47:09.379091Z\", \"created_time\": \"2021-03-31T22:44:36.462258Z\", \"created_time_dt\": \"2021-03-31T22:44:36.462258Z\", \"duration\": \"0:02:32\", \"iteration\": \"31\", \"goal\": \"normalized_root_mean_squared_error_min\", \"run_name\": \"MaxAbsScaler, DecisionTree\", \"run_properties\": \"copy=True\", \"primary_metric\": 0.00759516, \"best_metric\": 0.00182793}, {\"run_id\": \"AutoML_ca215feb-3ef0-4baa-a35e-db0e70332177_33\", \"run_number\": 37, \"metric\": null, \"status\": \"Completed\", \"run_type\": \"azureml.scriptrun\", \"training_percent\": \"100\", \"start_time\": \"2021-03-31T22:44:46.602269Z\", \"end_time\": \"2021-03-31T22:47:07.259687Z\", \"created_time\": \"2021-03-31T22:44:36.476503Z\", \"created_time_dt\": \"2021-03-31T22:44:36.476503Z\", \"duration\": \"0:02:30\", \"iteration\": \"33\", \"goal\": \"normalized_root_mean_squared_error_min\", \"run_name\": \"MaxAbsScaler, DecisionTree\", \"run_properties\": \"copy=True\", \"primary_metric\": 0.00800434, \"best_metric\": 0.00182793}, {\"run_id\": \"AutoML_ca215feb-3ef0-4baa-a35e-db0e70332177_32\", \"run_number\": 38, \"metric\": null, \"status\": \"Completed\", \"run_type\": \"azureml.scriptrun\", \"training_percent\": \"100\", \"start_time\": \"2021-03-31T22:44:46.23311Z\", \"end_time\": \"2021-03-31T22:47:06.642078Z\", \"created_time\": \"2021-03-31T22:44:36.690464Z\", \"created_time_dt\": \"2021-03-31T22:44:36.690464Z\", \"duration\": \"0:02:29\", \"iteration\": \"32\", \"goal\": \"normalized_root_mean_squared_error_min\", \"run_name\": \"MaxAbsScaler, DecisionTree\", \"run_properties\": \"copy=True\", \"primary_metric\": 0.01030583, \"best_metric\": 0.00182793}, {\"run_id\": \"AutoML_ca215feb-3ef0-4baa-a35e-db0e70332177_34\", \"run_number\": 39, \"metric\": null, \"status\": \"Canceled\", \"run_type\": \"azureml.scriptrun\", \"training_percent\": \"100\", \"start_time\": \"2021-03-31T22:44:55.774382Z\", \"end_time\": \"2021-03-31T22:47:21.481948Z\", \"created_time\": \"2021-03-31T22:44:45.986448Z\", \"created_time_dt\": \"2021-03-31T22:44:45.986448Z\", \"duration\": \"0:02:35\", \"iteration\": \"34\", \"goal\": \"normalized_root_mean_squared_error_min\", \"run_name\": \"MaxAbsScaler, DecisionTree\", \"run_properties\": \"copy=True\", \"primary_metric\": 0.00937182, \"best_metric\": 0.00182793}, {\"run_id\": \"AutoML_ca215feb-3ef0-4baa-a35e-db0e70332177_35\", \"run_number\": 40, \"metric\": null, \"status\": \"Canceled\", \"run_type\": \"azureml.scriptrun\", \"training_percent\": \"100\", \"start_time\": \"2021-03-31T22:47:10.846357Z\", \"end_time\": \"2021-03-31T22:47:29.891868Z\", \"created_time\": \"2021-03-31T22:47:10.846357Z\", \"created_time_dt\": \"2021-03-31T22:47:10.846357Z\", \"duration\": \"0:00:19\", \"iteration\": \"35\", \"goal\": null, \"run_name\": \"Canceled\", \"run_properties\": null}, {\"run_id\": \"AutoML_ca215feb-3ef0-4baa-a35e-db0e70332177_36\", \"run_number\": 41, \"metric\": null, \"status\": \"Canceled\", \"run_type\": \"azureml.scriptrun\", \"training_percent\": \"100\", \"start_time\": \"2021-03-31T22:47:10.989739Z\", \"end_time\": \"2021-03-31T22:47:29.360197Z\", \"created_time\": \"2021-03-31T22:47:10.989739Z\", \"created_time_dt\": \"2021-03-31T22:47:10.989739Z\", \"duration\": \"0:00:18\", \"iteration\": \"36\", \"goal\": null, \"run_name\": \"Canceled\", \"run_properties\": null}, {\"run_id\": \"AutoML_ca215feb-3ef0-4baa-a35e-db0e70332177_37\", \"run_number\": 42, \"metric\": null, \"status\": \"Completed\", \"run_type\": \"azureml.scriptrun\", \"training_percent\": \"100\", \"start_time\": \"2021-03-31T22:47:43.003213Z\", \"end_time\": \"2021-03-31T22:48:47.480866Z\", \"created_time\": \"2021-03-31T22:47:32.321186Z\", \"created_time_dt\": \"2021-03-31T22:47:32.321186Z\", \"duration\": \"0:01:15\", \"iteration\": \"37\", \"goal\": \"normalized_root_mean_squared_error_min\", \"run_name\": \"VotingEnsemble\", \"run_properties\": \"estimators=[('0',\\n                                          Pipeline(memory=None,\\n                                                   steps=[('maxabsscaler',\\n                                                           MaxAbsScaler(copy=True\", \"primary_metric\": 0.00182793, \"best_metric\": 0.00182793}, {\"run_id\": \"AutoML_ca215feb-3ef0-4baa-a35e-db0e70332177_38\", \"run_number\": 43, \"metric\": null, \"status\": \"Completed\", \"run_type\": \"azureml.scriptrun\", \"training_percent\": \"100\", \"start_time\": \"2021-03-31T22:47:40.666035Z\", \"end_time\": \"2021-03-31T22:48:48.795454Z\", \"created_time\": \"2021-03-31T22:47:32.461856Z\", \"created_time_dt\": \"2021-03-31T22:47:32.461856Z\", \"duration\": \"0:01:16\", \"iteration\": \"38\", \"goal\": \"normalized_root_mean_squared_error_min\", \"run_name\": \"StackEnsemble\", \"run_properties\": \"base_learners=[('0',\\n                                       Pipeline(memory=None,\\n                                                steps=[('maxabsscaler',\\n                                                        MaxAbsScaler(copy=True\", \"primary_metric\": 0.00190482, \"best_metric\": 0.00182793}], \"children_metrics\": {\"categories\": [0], \"series\": {\"normalized_median_absolute_error\": [{\"categories\": [\"0\", \"1\", \"2\", \"3\", \"4\", \"5\", \"6\", \"7\", \"8\", \"9\", \"10\", \"11\", \"12\", \"13\", \"14\", \"15\", \"16\", \"17\", \"18\", \"19\", \"20\", \"21\", \"22\", \"23\", \"24\", \"25\", \"26\", \"27\", \"28\", \"29\", \"30\", \"31\", \"32\", \"33\", \"34\", \"37\", \"38\"], \"mode\": \"markers\", \"name\": \"normalized_median_absolute_error\", \"stepped\": false, \"type\": \"scatter\", \"data\": [0.0005037446968936056, 0.0022398084964392116, 0.05727285092046351, 0.007194343563419192, 0.008644441405552613, 0.0034674102755184394, 0.0006243681766948043, 0.004352530460416937, 0.007380563185238775, 0.0008824397969506344, 0.005422347235174702, 4.881944109598233e-06, 0.007644302043177413, 0.00615622764989421, 0.01199392130132001, 0.011792247284358931, 0.05003230886312486, 2.4567610132835733e-06, 0.011757208125435372, 0.008892883433399272, 0.010464612028951364, 0.0031876927413899206, 0.0020503117050375908, 0.0008242627398060363, 2.4109153472360226e-05, 0.05632233547467409, 0.010697831626082855, 0.00348300164149819, 0.004381113049636622, 0.0003155960165202032, 0.011375239678018406, 0.002368389884719031, 0.0029325645400708517, 0.00024252179899498104, 0.0034674102755184394, 0.0005037446968936056, 0.0007235009956696039]}, {\"categories\": [\"0\", \"1\", \"2\", \"3\", \"4\", \"5\", \"6\", \"7\", \"8\", \"9\", \"10\", \"11\", \"12\", \"13\", \"14\", \"15\", \"16\", \"17\", \"18\", \"19\", \"20\", \"21\", \"22\", \"23\", \"24\", \"25\", \"26\", \"27\", \"28\", \"29\", \"30\", \"31\", \"32\", \"33\", \"34\", \"37\", \"38\"], \"mode\": \"lines\", \"name\": \"normalized_median_absolute_error_min\", \"stepped\": true, \"type\": \"scatter\", \"data\": [0.0005037446968936056, 0.0005037446968936056, 0.0005037446968936056, 0.0005037446968936056, 0.0005037446968936056, 0.0005037446968936056, 0.0005037446968936056, 0.0005037446968936056, 0.0005037446968936056, 0.0005037446968936056, 0.0005037446968936056, 4.881944109598233e-06, 4.881944109598233e-06, 4.881944109598233e-06, 4.881944109598233e-06, 4.881944109598233e-06, 4.881944109598233e-06, 2.4567610132835733e-06, 2.4567610132835733e-06, 2.4567610132835733e-06, 2.4567610132835733e-06, 2.4567610132835733e-06, 2.4567610132835733e-06, 2.4567610132835733e-06, 2.4567610132835733e-06, 2.4567610132835733e-06, 2.4567610132835733e-06, 2.4567610132835733e-06, 2.4567610132835733e-06, 2.4567610132835733e-06, 2.4567610132835733e-06, 2.4567610132835733e-06, 2.4567610132835733e-06, 2.4567610132835733e-06, 2.4567610132835733e-06, 2.4567610132835733e-06, 2.4567610132835733e-06]}], \"root_mean_squared_error\": [{\"categories\": [\"0\", \"1\", \"2\", \"3\", \"4\", \"5\", \"6\", \"7\", \"8\", \"9\", \"10\", \"11\", \"12\", \"13\", \"14\", \"15\", \"16\", \"17\", \"18\", \"19\", \"20\", \"21\", \"22\", \"23\", \"24\", \"25\", \"26\", \"27\", \"28\", \"29\", \"30\", \"31\", \"32\", \"33\", \"34\", \"37\", \"38\"], \"mode\": \"markers\", \"name\": \"root_mean_squared_error\", \"stepped\": false, \"type\": \"scatter\", \"data\": [0.0009688033933163006, 0.002249912487191181, 0.03631040496436072, 0.008592364930663421, 0.006672853480727031, 0.004967067125991733, 0.00310279584003139, 0.005567340930569424, 0.008691854117453154, 0.005098238301880401, 0.007011763801180582, 0.003543826643921667, 0.01188519639585663, 0.006930883687798176, 0.012123772668861974, 0.01256857454092224, 0.03827067013527129, 0.0028351436856325907, 0.013723126851608564, 0.011703873634136757, 0.008083444195417617, 0.00638225704553975, 0.004608676643101087, 0.003818766272947424, 0.00410609686468772, 0.039156491173446314, 0.0099884427347536, 0.006218146576736135, 0.00569946936437263, 0.004872665648926794, 0.023921780757254048, 0.00402543711717301, 0.005462088364089352, 0.004242301417794184, 0.004967067125991733, 0.0009688033933163006, 0.0010095567477108394]}, {\"categories\": [\"0\", \"1\", \"2\", \"3\", \"4\", \"5\", \"6\", \"7\", \"8\", \"9\", \"10\", \"11\", \"12\", \"13\", \"14\", \"15\", \"16\", \"17\", \"18\", \"19\", \"20\", \"21\", \"22\", \"23\", \"24\", \"25\", \"26\", \"27\", \"28\", \"29\", \"30\", \"31\", \"32\", \"33\", \"34\", \"37\", \"38\"], \"mode\": \"lines\", \"name\": \"root_mean_squared_error_min\", \"stepped\": true, \"type\": \"scatter\", \"data\": [0.0009688033933163006, 0.0009688033933163006, 0.0009688033933163006, 0.0009688033933163006, 0.0009688033933163006, 0.0009688033933163006, 0.0009688033933163006, 0.0009688033933163006, 0.0009688033933163006, 0.0009688033933163006, 0.0009688033933163006, 0.0009688033933163006, 0.0009688033933163006, 0.0009688033933163006, 0.0009688033933163006, 0.0009688033933163006, 0.0009688033933163006, 0.0009688033933163006, 0.0009688033933163006, 0.0009688033933163006, 0.0009688033933163006, 0.0009688033933163006, 0.0009688033933163006, 0.0009688033933163006, 0.0009688033933163006, 0.0009688033933163006, 0.0009688033933163006, 0.0009688033933163006, 0.0009688033933163006, 0.0009688033933163006, 0.0009688033933163006, 0.0009688033933163006, 0.0009688033933163006, 0.0009688033933163006, 0.0009688033933163006, 0.0009688033933163006, 0.0009688033933163006]}], \"spearman_correlation\": [{\"categories\": [\"0\", \"1\", \"2\", \"3\", \"4\", \"5\", \"6\", \"7\", \"8\", \"9\", \"10\", \"11\", \"12\", \"13\", \"14\", \"15\", \"16\", \"17\", \"18\", \"19\", \"20\", \"21\", \"22\", \"23\", \"24\", \"25\", \"26\", \"27\", \"28\", \"29\", \"30\", \"31\", \"32\", \"33\", \"34\", \"37\", \"38\"], \"mode\": \"markers\", \"name\": \"spearman_correlation\", \"stepped\": false, \"type\": \"scatter\", \"data\": [0.999185767688334, 0.9991857182954618, 0.9990387348649689, 0.9977250823875938, 0.9985851431119162, 0.9987586832364961, 0.9990907735286981, 0.9981043810016876, 0.9976479417366526, 0.9983010612557243, 0.9975353217231842, 0.9991072395292591, 0.9947334516802062, 0.9983126603244765, 0.9951157427729292, 0.9946877259647223, 0.9542102899010612, 0.9994485629506222, 0.9939418039426202, 0.9936207498385441, 0.9968111833350587, 0.9985336368056718, 0.9987638961419929, 0.9994487580983883, 0.9990318531996785, 0.9987571294292371, 0.9982457118788511, 0.9984527121201934, 0.9980098891369729, 0.9989180364935096, 0.9960695030538768, 0.9986466545101639, 0.9987709752361734, 0.9987743581717515, 0.9987586832364961, 0.999185767688334, 0.999185767688334]}, {\"categories\": [\"0\", \"1\", \"2\", \"3\", \"4\", \"5\", \"6\", \"7\", \"8\", \"9\", \"10\", \"11\", \"12\", \"13\", \"14\", \"15\", \"16\", \"17\", \"18\", \"19\", \"20\", \"21\", \"22\", \"23\", \"24\", \"25\", \"26\", \"27\", \"28\", \"29\", \"30\", \"31\", \"32\", \"33\", \"34\", \"37\", \"38\"], \"mode\": \"lines\", \"name\": \"spearman_correlation_max\", \"stepped\": true, \"type\": \"scatter\", \"data\": [0.999185767688334, 0.999185767688334, 0.999185767688334, 0.999185767688334, 0.999185767688334, 0.999185767688334, 0.999185767688334, 0.999185767688334, 0.999185767688334, 0.999185767688334, 0.999185767688334, 0.999185767688334, 0.999185767688334, 0.999185767688334, 0.999185767688334, 0.999185767688334, 0.999185767688334, 0.9994485629506222, 0.9994485629506222, 0.9994485629506222, 0.9994485629506222, 0.9994485629506222, 0.9994485629506222, 0.9994487580983883, 0.9994487580983883, 0.9994487580983883, 0.9994487580983883, 0.9994487580983883, 0.9994487580983883, 0.9994487580983883, 0.9994487580983883, 0.9994487580983883, 0.9994487580983883, 0.9994487580983883, 0.9994487580983883, 0.9994487580983883, 0.9994487580983883]}], \"normalized_root_mean_squared_error\": [{\"categories\": [\"0\", \"1\", \"2\", \"3\", \"4\", \"5\", \"6\", \"7\", \"8\", \"9\", \"10\", \"11\", \"12\", \"13\", \"14\", \"15\", \"16\", \"17\", \"18\", \"19\", \"20\", \"21\", \"22\", \"23\", \"24\", \"25\", \"26\", \"27\", \"28\", \"29\", \"30\", \"31\", \"32\", \"33\", \"34\", \"37\", \"38\"], \"mode\": \"markers\", \"name\": \"normalized_root_mean_squared_error\", \"stepped\": false, \"type\": \"scatter\", \"data\": [0.0018279309307854727, 0.004245117900360718, 0.06851019804596363, 0.016212009303138524, 0.012590289586277417, 0.009371824766022139, 0.0058543317736441305, 0.010504416850130987, 0.01639972474991161, 0.00961931755071774, 0.013229743021095437, 0.006686465365889936, 0.02242489886010685, 0.013077139033581464, 0.022875042771437683, 0.023714291586645737, 0.07220881157598355, 0.005349327708740736, 0.025892692172846343, 0.02208278044176747, 0.015251781500787953, 0.012041994425546695, 0.0086956163077379, 0.007205219382919669, 0.007747352574882492, 0.07388017202537038, 0.01884611836745962, 0.011732352031577613, 0.01075371578183515, 0.009193708771559988, 0.04513543539104537, 0.007595164372024547, 0.01030582710205538, 0.008004342297724875, 0.009371824766022139, 0.0018279309307854727, 0.0019048240522846031]}, {\"categories\": [\"0\", \"1\", \"2\", \"3\", \"4\", \"5\", \"6\", \"7\", \"8\", \"9\", \"10\", \"11\", \"12\", \"13\", \"14\", \"15\", \"16\", \"17\", \"18\", \"19\", \"20\", \"21\", \"22\", \"23\", \"24\", \"25\", \"26\", \"27\", \"28\", \"29\", \"30\", \"31\", \"32\", \"33\", \"34\", \"37\", \"38\"], \"mode\": \"lines\", \"name\": \"normalized_root_mean_squared_error_min\", \"stepped\": true, \"type\": \"scatter\", \"data\": [0.0018279309307854727, 0.0018279309307854727, 0.0018279309307854727, 0.0018279309307854727, 0.0018279309307854727, 0.0018279309307854727, 0.0018279309307854727, 0.0018279309307854727, 0.0018279309307854727, 0.0018279309307854727, 0.0018279309307854727, 0.0018279309307854727, 0.0018279309307854727, 0.0018279309307854727, 0.0018279309307854727, 0.0018279309307854727, 0.0018279309307854727, 0.0018279309307854727, 0.0018279309307854727, 0.0018279309307854727, 0.0018279309307854727, 0.0018279309307854727, 0.0018279309307854727, 0.0018279309307854727, 0.0018279309307854727, 0.0018279309307854727, 0.0018279309307854727, 0.0018279309307854727, 0.0018279309307854727, 0.0018279309307854727, 0.0018279309307854727, 0.0018279309307854727, 0.0018279309307854727, 0.0018279309307854727, 0.0018279309307854727, 0.0018279309307854727, 0.0018279309307854727]}], \"root_mean_squared_log_error\": [{\"categories\": [\"0\", \"1\", \"2\", \"3\", \"4\", \"5\", \"6\", \"7\", \"8\", \"9\", \"10\", \"11\", \"12\", \"13\", \"14\", \"15\", \"16\", \"17\", \"18\", \"19\", \"20\", \"21\", \"22\", \"23\", \"24\", \"25\", \"26\", \"27\", \"28\", \"29\", \"30\", \"31\", \"32\", \"33\", \"34\", \"37\", \"38\"], \"mode\": \"markers\", \"name\": \"root_mean_squared_log_error\", \"stepped\": false, \"type\": \"scatter\", \"data\": [0.0005712604223994724, 0.001331743866687258, 0.02163590810879221, 0.005517232286818633, 0.004181188520437958, 0.003039749718088817, 0.0018176597362814018, 0.003413773810239623, 0.00551547186587102, 0.0030367220190113237, 0.00425814560773153, 0.002126778410622252, 0.007507405434746308, 0.004236247875595835, 0.007534242838867844, 0.007705915393668672, 0.023411830321476493, 0.0016600559927202815, 0.008571671423364052, 0.0072815501315685385, 0.004943896179706675, 0.004025532187148769, 0.0027578070836630436, 0.0023606057095974632, 0.002451795204076675, 0.02335208735016432, 0.006244476490875932, 0.0038058855312441096, 0.0035099105737772555, 0.002831338300393739, 0.015086597678809299, 0.002428390172632138, 0.0033625461517671922, 0.0025150458230388676, 0.003039749718088817, 0.0005712604223994724, 0.0005960667237204703]}, {\"categories\": [\"0\", \"1\", \"2\", \"3\", \"4\", \"5\", \"6\", \"7\", \"8\", \"9\", \"10\", \"11\", \"12\", \"13\", \"14\", \"15\", \"16\", \"17\", \"18\", \"19\", \"20\", \"21\", \"22\", \"23\", \"24\", \"25\", \"26\", \"27\", \"28\", \"29\", \"30\", \"31\", \"32\", \"33\", \"34\", \"37\", \"38\"], \"mode\": \"lines\", \"name\": \"root_mean_squared_log_error_min\", \"stepped\": true, \"type\": \"scatter\", \"data\": [0.0005712604223994724, 0.0005712604223994724, 0.0005712604223994724, 0.0005712604223994724, 0.0005712604223994724, 0.0005712604223994724, 0.0005712604223994724, 0.0005712604223994724, 0.0005712604223994724, 0.0005712604223994724, 0.0005712604223994724, 0.0005712604223994724, 0.0005712604223994724, 0.0005712604223994724, 0.0005712604223994724, 0.0005712604223994724, 0.0005712604223994724, 0.0005712604223994724, 0.0005712604223994724, 0.0005712604223994724, 0.0005712604223994724, 0.0005712604223994724, 0.0005712604223994724, 0.0005712604223994724, 0.0005712604223994724, 0.0005712604223994724, 0.0005712604223994724, 0.0005712604223994724, 0.0005712604223994724, 0.0005712604223994724, 0.0005712604223994724, 0.0005712604223994724, 0.0005712604223994724, 0.0005712604223994724, 0.0005712604223994724, 0.0005712604223994724, 0.0005712604223994724]}], \"median_absolute_error\": [{\"categories\": [\"0\", \"1\", \"2\", \"3\", \"4\", \"5\", \"6\", \"7\", \"8\", \"9\", \"10\", \"11\", \"12\", \"13\", \"14\", \"15\", \"16\", \"17\", \"18\", \"19\", \"20\", \"21\", \"22\", \"23\", \"24\", \"25\", \"26\", \"27\", \"28\", \"29\", \"30\", \"31\", \"32\", \"33\", \"34\", \"37\", \"38\"], \"mode\": \"markers\", \"name\": \"median_absolute_error\", \"stepped\": false, \"type\": \"scatter\", \"data\": [0.000266984689353611, 0.0011870985031127823, 0.030354610987845664, 0.0038130020886121717, 0.004581553944942885, 0.0018377274460247728, 0.0003309151336482463, 0.002306841144020977, 0.003911698488176551, 0.0004676930923838363, 0.002873844034642592, 2.5874303780870634e-06, 0.004051480082884029, 0.0032628006544439315, 0.006356778289699605, 0.006249891060710233, 0.02651712369745618, 1.302083337040294e-06, 0.006231320306480747, 0.004713228219701615, 0.005546244375344222, 0.0016894771529366581, 0.001086665203669923, 0.00043685925209719924, 1.2777851340350921e-05, 0.029850837801577268, 0.0056698507618239136, 0.0018459908699940408, 0.0023219899163074097, 0.0001672658887557077, 0.0060288770293497555, 0.0012552466389010863, 0.0015542592062375515, 0.00012853655346733994, 0.0018377274460247728, 0.000266984689353611, 0.0003834555277048901]}, {\"categories\": [\"0\", \"1\", \"2\", \"3\", \"4\", \"5\", \"6\", \"7\", \"8\", \"9\", \"10\", \"11\", \"12\", \"13\", \"14\", \"15\", \"16\", \"17\", \"18\", \"19\", \"20\", \"21\", \"22\", \"23\", \"24\", \"25\", \"26\", \"27\", \"28\", \"29\", \"30\", \"31\", \"32\", \"33\", \"34\", \"37\", \"38\"], \"mode\": \"lines\", \"name\": \"median_absolute_error_min\", \"stepped\": true, \"type\": \"scatter\", \"data\": [0.000266984689353611, 0.000266984689353611, 0.000266984689353611, 0.000266984689353611, 0.000266984689353611, 0.000266984689353611, 0.000266984689353611, 0.000266984689353611, 0.000266984689353611, 0.000266984689353611, 0.000266984689353611, 2.5874303780870634e-06, 2.5874303780870634e-06, 2.5874303780870634e-06, 2.5874303780870634e-06, 2.5874303780870634e-06, 2.5874303780870634e-06, 1.302083337040294e-06, 1.302083337040294e-06, 1.302083337040294e-06, 1.302083337040294e-06, 1.302083337040294e-06, 1.302083337040294e-06, 1.302083337040294e-06, 1.302083337040294e-06, 1.302083337040294e-06, 1.302083337040294e-06, 1.302083337040294e-06, 1.302083337040294e-06, 1.302083337040294e-06, 1.302083337040294e-06, 1.302083337040294e-06, 1.302083337040294e-06, 1.302083337040294e-06, 1.302083337040294e-06, 1.302083337040294e-06, 1.302083337040294e-06]}], \"normalized_mean_absolute_error\": [{\"categories\": [\"0\", \"1\", \"2\", \"3\", \"4\", \"5\", \"6\", \"7\", \"8\", \"9\", \"10\", \"11\", \"12\", \"13\", \"14\", \"15\", \"16\", \"17\", \"18\", \"19\", \"20\", \"21\", \"22\", \"23\", \"24\", \"25\", \"26\", \"27\", \"28\", \"29\", \"30\", \"31\", \"32\", \"33\", \"34\", \"37\", \"38\"], \"mode\": \"markers\", \"name\": \"normalized_mean_absolute_error\", \"stepped\": false, \"type\": \"scatter\", \"data\": [0.0009452366980462927, 0.0030619325081710225, 0.058896178581002934, 0.010482161719556248, 0.00959333308184111, 0.0062617824662533515, 0.0031455491114362197, 0.006808975790486479, 0.010841851648681284, 0.004416274354496602, 0.008578917792076455, 0.0029383046629798738, 0.013601643443423277, 0.008418327963003855, 0.01624470626489138, 0.01651875427912623, 0.058043610430998094, 0.00230689663525566, 0.016918289654171293, 0.014014856358066749, 0.012215584678857002, 0.007584186727461338, 0.004630032012550687, 0.003653887105586585, 0.0032953536014909356, 0.06185099396727526, 0.013317181252943896, 0.006945288588048866, 0.007279536311741544, 0.003692638824669021, 0.02572933022622368, 0.004559110736666672, 0.006856707206978782, 0.0033897381747994013, 0.0062617824662533515, 0.0009452366980462927, 0.0011051803427001403]}, {\"categories\": [\"0\", \"1\", \"2\", \"3\", \"4\", \"5\", \"6\", \"7\", \"8\", \"9\", \"10\", \"11\", \"12\", \"13\", \"14\", \"15\", \"16\", \"17\", \"18\", \"19\", \"20\", \"21\", \"22\", \"23\", \"24\", \"25\", \"26\", \"27\", \"28\", \"29\", \"30\", \"31\", \"32\", \"33\", \"34\", \"37\", \"38\"], \"mode\": \"lines\", \"name\": \"normalized_mean_absolute_error_min\", \"stepped\": true, \"type\": \"scatter\", \"data\": [0.0009452366980462927, 0.0009452366980462927, 0.0009452366980462927, 0.0009452366980462927, 0.0009452366980462927, 0.0009452366980462927, 0.0009452366980462927, 0.0009452366980462927, 0.0009452366980462927, 0.0009452366980462927, 0.0009452366980462927, 0.0009452366980462927, 0.0009452366980462927, 0.0009452366980462927, 0.0009452366980462927, 0.0009452366980462927, 0.0009452366980462927, 0.0009452366980462927, 0.0009452366980462927, 0.0009452366980462927, 0.0009452366980462927, 0.0009452366980462927, 0.0009452366980462927, 0.0009452366980462927, 0.0009452366980462927, 0.0009452366980462927, 0.0009452366980462927, 0.0009452366980462927, 0.0009452366980462927, 0.0009452366980462927, 0.0009452366980462927, 0.0009452366980462927, 0.0009452366980462927, 0.0009452366980462927, 0.0009452366980462927, 0.0009452366980462927, 0.0009452366980462927]}], \"mean_absolute_error\": [{\"categories\": [\"0\", \"1\", \"2\", \"3\", \"4\", \"5\", \"6\", \"7\", \"8\", \"9\", \"10\", \"11\", \"12\", \"13\", \"14\", \"15\", \"16\", \"17\", \"18\", \"19\", \"20\", \"21\", \"22\", \"23\", \"24\", \"25\", \"26\", \"27\", \"28\", \"29\", \"30\", \"31\", \"32\", \"33\", \"34\", \"37\", \"38\"], \"mode\": \"markers\", \"name\": \"mean_absolute_error\", \"stepped\": false, \"type\": \"scatter\", \"data\": [0.0005009754499645351, 0.001622824229330642, 0.031214974647931555, 0.005555545711364812, 0.005084466533375788, 0.003318744707114276, 0.0016671410290611966, 0.0036087571689578345, 0.005746181373801081, 0.0023406254078831993, 0.004546826429800521, 0.0015573014713793332, 0.007208871025014338, 0.004461713820392043, 0.008609694320392432, 0.008754939767936901, 0.030763113528428993, 0.0012226552166855, 0.008966693516710787, 0.007427873869775378, 0.006474259879794211, 0.00401961896555451, 0.002453916966651864, 0.00193656016596089, 0.0017465374087901962, 0.03278102680265589, 0.0070581060640602655, 0.003681002951665899, 0.003858154245223018, 0.001957098577074581, 0.01363654501989855, 0.002416328690433336, 0.0036340548196987545, 0.0017965612326436824, 0.003318744707114276, 0.0005009754499645351, 0.0005857455816310744]}, {\"categories\": [\"0\", \"1\", \"2\", \"3\", \"4\", \"5\", \"6\", \"7\", \"8\", \"9\", \"10\", \"11\", \"12\", \"13\", \"14\", \"15\", \"16\", \"17\", \"18\", \"19\", \"20\", \"21\", \"22\", \"23\", \"24\", \"25\", \"26\", \"27\", \"28\", \"29\", \"30\", \"31\", \"32\", \"33\", \"34\", \"37\", \"38\"], \"mode\": \"lines\", \"name\": \"mean_absolute_error_min\", \"stepped\": true, \"type\": \"scatter\", \"data\": [0.0005009754499645351, 0.0005009754499645351, 0.0005009754499645351, 0.0005009754499645351, 0.0005009754499645351, 0.0005009754499645351, 0.0005009754499645351, 0.0005009754499645351, 0.0005009754499645351, 0.0005009754499645351, 0.0005009754499645351, 0.0005009754499645351, 0.0005009754499645351, 0.0005009754499645351, 0.0005009754499645351, 0.0005009754499645351, 0.0005009754499645351, 0.0005009754499645351, 0.0005009754499645351, 0.0005009754499645351, 0.0005009754499645351, 0.0005009754499645351, 0.0005009754499645351, 0.0005009754499645351, 0.0005009754499645351, 0.0005009754499645351, 0.0005009754499645351, 0.0005009754499645351, 0.0005009754499645351, 0.0005009754499645351, 0.0005009754499645351, 0.0005009754499645351, 0.0005009754499645351, 0.0005009754499645351, 0.0005009754499645351, 0.0005009754499645351, 0.0005009754499645351]}], \"mean_absolute_percentage_error\": [{\"categories\": [\"0\", \"1\", \"2\", \"3\", \"4\", \"5\", \"6\", \"7\", \"8\", \"9\", \"10\", \"11\", \"12\", \"13\", \"14\", \"15\", \"16\", \"17\", \"18\", \"19\", \"20\", \"21\", \"22\", \"23\", \"24\", \"25\", \"26\", \"27\", \"28\", \"29\", \"30\", \"31\", \"32\", \"33\", \"34\", \"37\", \"38\"], \"mode\": \"markers\", \"name\": \"mean_absolute_percentage_error\", \"stepped\": false, \"type\": \"scatter\", \"data\": [0.07381853029567127, 0.24092955465026372, 4.797476522482008, 0.9077226061446131, 0.8313811120949737, 0.518431414008939, 0.24324327692954859, 0.5630541422691577, 0.9316331679616088, 0.3474024424418076, 0.7107630226964669, 0.22821388895120856, 1.1696542613483756, 0.6955022810063504, 1.3566423289383682, 1.3686707941721132, 4.786102651492733, 0.17521449623812593, 1.4230623188486609, 1.1866748835923242, 1.0152292391480757, 0.657024056659811, 0.3711051935547748, 0.30321854594183717, 0.25690256335367134, 5.052379526622078, 1.1111002336387688, 0.5779340993215263, 0.6113818847800403, 0.2822876812973395, 2.250860200689143, 0.3712209115400285, 0.5751151804318074, 0.2621443711906243, 0.518431414008939, 0.07381853029567127, 0.08781457311098485]}, {\"categories\": [\"0\", \"1\", \"2\", \"3\", \"4\", \"5\", \"6\", \"7\", \"8\", \"9\", \"10\", \"11\", \"12\", \"13\", \"14\", \"15\", \"16\", \"17\", \"18\", \"19\", \"20\", \"21\", \"22\", \"23\", \"24\", \"25\", \"26\", \"27\", \"28\", \"29\", \"30\", \"31\", \"32\", \"33\", \"34\", \"37\", \"38\"], \"mode\": \"lines\", \"name\": \"mean_absolute_percentage_error_min\", \"stepped\": true, \"type\": \"scatter\", \"data\": [0.07381853029567127, 0.07381853029567127, 0.07381853029567127, 0.07381853029567127, 0.07381853029567127, 0.07381853029567127, 0.07381853029567127, 0.07381853029567127, 0.07381853029567127, 0.07381853029567127, 0.07381853029567127, 0.07381853029567127, 0.07381853029567127, 0.07381853029567127, 0.07381853029567127, 0.07381853029567127, 0.07381853029567127, 0.07381853029567127, 0.07381853029567127, 0.07381853029567127, 0.07381853029567127, 0.07381853029567127, 0.07381853029567127, 0.07381853029567127, 0.07381853029567127, 0.07381853029567127, 0.07381853029567127, 0.07381853029567127, 0.07381853029567127, 0.07381853029567127, 0.07381853029567127, 0.07381853029567127, 0.07381853029567127, 0.07381853029567127, 0.07381853029567127, 0.07381853029567127, 0.07381853029567127]}], \"explained_variance\": [{\"categories\": [\"0\", \"1\", \"2\", \"3\", \"4\", \"5\", \"6\", \"7\", \"8\", \"9\", \"10\", \"11\", \"12\", \"13\", \"14\", \"15\", \"16\", \"17\", \"18\", \"19\", \"20\", \"21\", \"22\", \"23\", \"24\", \"25\", \"26\", \"27\", \"28\", \"29\", \"30\", \"31\", \"32\", \"33\", \"34\", \"37\", \"38\"], \"mode\": \"markers\", \"name\": \"explained_variance\", \"stepped\": false, \"type\": \"scatter\", \"data\": [0.999953402885974, 0.9997488154306726, 0.934587866826212, 0.996330460974576, 0.997791042467991, 0.9987754746184487, 0.9995221539313375, 0.9984231542190173, 0.9962285768360593, 0.9986745954762586, 0.9975446596504363, 0.9993702601853786, 0.9927906493432568, 0.9975757815174575, 0.9925364663640466, 0.992032111085422, 0.9306841435270454, 0.9995989397508662, 0.9905296348797343, 0.9931391373922102, 0.9967661018533776, 0.9979719974630046, 0.9989313217375664, 0.9992760489448248, 0.9991010341401052, 0.92393038846328, 0.9950484729727547, 0.9980558670968712, 0.9983848441660947, 0.9987923393112744, 0.9715929027105311, 0.9991840900498336, 0.9985191599110171, 0.998999636231213, 0.9987754746184487, 0.999953402885974, 0.99994940916712]}, {\"categories\": [\"0\", \"1\", \"2\", \"3\", \"4\", \"5\", \"6\", \"7\", \"8\", \"9\", \"10\", \"11\", \"12\", \"13\", \"14\", \"15\", \"16\", \"17\", \"18\", \"19\", \"20\", \"21\", \"22\", \"23\", \"24\", \"25\", \"26\", \"27\", \"28\", \"29\", \"30\", \"31\", \"32\", \"33\", \"34\", \"37\", \"38\"], \"mode\": \"lines\", \"name\": \"explained_variance_max\", \"stepped\": true, \"type\": \"scatter\", \"data\": [0.999953402885974, 0.999953402885974, 0.999953402885974, 0.999953402885974, 0.999953402885974, 0.999953402885974, 0.999953402885974, 0.999953402885974, 0.999953402885974, 0.999953402885974, 0.999953402885974, 0.999953402885974, 0.999953402885974, 0.999953402885974, 0.999953402885974, 0.999953402885974, 0.999953402885974, 0.999953402885974, 0.999953402885974, 0.999953402885974, 0.999953402885974, 0.999953402885974, 0.999953402885974, 0.999953402885974, 0.999953402885974, 0.999953402885974, 0.999953402885974, 0.999953402885974, 0.999953402885974, 0.999953402885974, 0.999953402885974, 0.999953402885974, 0.999953402885974, 0.999953402885974, 0.999953402885974, 0.999953402885974, 0.999953402885974]}], \"normalized_root_mean_squared_log_error\": [{\"categories\": [\"0\", \"1\", \"2\", \"3\", \"4\", \"5\", \"6\", \"7\", \"8\", \"9\", \"10\", \"11\", \"12\", \"13\", \"14\", \"15\", \"16\", \"17\", \"18\", \"19\", \"20\", \"21\", \"22\", \"23\", \"24\", \"25\", \"26\", \"27\", \"28\", \"29\", \"30\", \"31\", \"32\", \"33\", \"34\", \"37\", \"38\"], \"mode\": \"markers\", \"name\": \"normalized_root_mean_squared_log_error\", \"stepped\": false, \"type\": \"scatter\", \"data\": [0.0017902335376288419, 0.0041734600196193196, 0.06780327639489453, 0.017290072771476678, 0.013103137593527192, 0.009526061456284502, 0.005696238164409492, 0.010698189696565991, 0.017284555909994274, 0.00951657315949753, 0.013344308088154667, 0.006664963803738625, 0.023526938788105845, 0.013275684299545837, 0.02361104267319466, 0.024149035422287916, 0.07336871622006798, 0.00520233469006435, 0.026862168380554087, 0.02281914647037124, 0.015493334389051788, 0.01261533697357845, 0.008642500929342396, 0.007397739007874621, 0.0076835114592732345, 0.07318149185323468, 0.01956913309685513, 0.011927001506232578, 0.010999466052385037, 0.008872935325096656, 0.04727884529418923, 0.007610164049583497, 0.010537650879845005, 0.007881728200538599, 0.009526061456284502, 0.0017902335376288419, 0.0018679722900928146]}, {\"categories\": [\"0\", \"1\", \"2\", \"3\", \"4\", \"5\", \"6\", \"7\", \"8\", \"9\", \"10\", \"11\", \"12\", \"13\", \"14\", \"15\", \"16\", \"17\", \"18\", \"19\", \"20\", \"21\", \"22\", \"23\", \"24\", \"25\", \"26\", \"27\", \"28\", \"29\", \"30\", \"31\", \"32\", \"33\", \"34\", \"37\", \"38\"], \"mode\": \"lines\", \"name\": \"normalized_root_mean_squared_log_error_min\", \"stepped\": true, \"type\": \"scatter\", \"data\": [0.0017902335376288419, 0.0017902335376288419, 0.0017902335376288419, 0.0017902335376288419, 0.0017902335376288419, 0.0017902335376288419, 0.0017902335376288419, 0.0017902335376288419, 0.0017902335376288419, 0.0017902335376288419, 0.0017902335376288419, 0.0017902335376288419, 0.0017902335376288419, 0.0017902335376288419, 0.0017902335376288419, 0.0017902335376288419, 0.0017902335376288419, 0.0017902335376288419, 0.0017902335376288419, 0.0017902335376288419, 0.0017902335376288419, 0.0017902335376288419, 0.0017902335376288419, 0.0017902335376288419, 0.0017902335376288419, 0.0017902335376288419, 0.0017902335376288419, 0.0017902335376288419, 0.0017902335376288419, 0.0017902335376288419, 0.0017902335376288419, 0.0017902335376288419, 0.0017902335376288419, 0.0017902335376288419, 0.0017902335376288419, 0.0017902335376288419, 0.0017902335376288419]}], \"r2_score\": [{\"categories\": [\"0\", \"1\", \"2\", \"3\", \"4\", \"5\", \"6\", \"7\", \"8\", \"9\", \"10\", \"11\", \"12\", \"13\", \"14\", \"15\", \"16\", \"17\", \"18\", \"19\", \"20\", \"21\", \"22\", \"23\", \"24\", \"25\", \"26\", \"27\", \"28\", \"29\", \"30\", \"31\", \"32\", \"33\", \"34\", \"37\", \"38\"], \"mode\": \"markers\", \"name\": \"r2_score\", \"stepped\": false, \"type\": \"scatter\", \"data\": [0.9999533980442392, 0.9997487767606934, 0.9345748189617676, 0.9963300197268159, 0.9977900569691922, 0.9987753964436429, 0.9995220916033452, 0.9984230240258523, 0.9962277043983416, 0.9986745521832351, 0.9975443258835869, 0.9993700910919292, 0.9927900232255205, 0.9975755196845102, 0.9925326870349526, 0.9920277570564128, 0.9272963320883907, 0.9995988712175438, 0.9905275543542634, 0.9931377699204582, 0.9967562349163869, 0.997971796588109, 0.9989310435201, 0.9992759802230118, 0.9991008788341855, 0.923916034705045, 0.9950479430401632, 0.9980553806964837, 0.9983846390989395, 0.9987916385964652, 0.9715893918580718, 0.9991840442861045, 0.9985190604506549, 0.9989988196333058, 0.9987753964436429, 0.9999533980442392, 0.9999494062830683]}, {\"categories\": [\"0\", \"1\", \"2\", \"3\", \"4\", \"5\", \"6\", \"7\", \"8\", \"9\", \"10\", \"11\", \"12\", \"13\", \"14\", \"15\", \"16\", \"17\", \"18\", \"19\", \"20\", \"21\", \"22\", \"23\", \"24\", \"25\", \"26\", \"27\", \"28\", \"29\", \"30\", \"31\", \"32\", \"33\", \"34\", \"37\", \"38\"], \"mode\": \"lines\", \"name\": \"r2_score_max\", \"stepped\": true, \"type\": \"scatter\", \"data\": [0.9999533980442392, 0.9999533980442392, 0.9999533980442392, 0.9999533980442392, 0.9999533980442392, 0.9999533980442392, 0.9999533980442392, 0.9999533980442392, 0.9999533980442392, 0.9999533980442392, 0.9999533980442392, 0.9999533980442392, 0.9999533980442392, 0.9999533980442392, 0.9999533980442392, 0.9999533980442392, 0.9999533980442392, 0.9999533980442392, 0.9999533980442392, 0.9999533980442392, 0.9999533980442392, 0.9999533980442392, 0.9999533980442392, 0.9999533980442392, 0.9999533980442392, 0.9999533980442392, 0.9999533980442392, 0.9999533980442392, 0.9999533980442392, 0.9999533980442392, 0.9999533980442392, 0.9999533980442392, 0.9999533980442392, 0.9999533980442392, 0.9999533980442392, 0.9999533980442392, 0.9999533980442392]}]}, \"metricName\": null, \"primaryMetricName\": \"normalized_root_mean_squared_error\", \"showLegend\": false}, \"run_metrics\": [{\"name\": \"experiment_status\", \"run_id\": \"AutoML_ca215feb-3ef0-4baa-a35e-db0e70332177\", \"categories\": [0, 1, 2, 3, 4, 5, 6, 7, 8, 9, 10, 11, 12], \"series\": [{\"data\": [\"DatasetEvaluation\", \"FeaturesGeneration\", \"DatasetFeaturization\", \"DatasetFeaturizationCompleted\", \"DatasetCrossValidationSplit\", \"ModelSelection\", \"BestRunExplainModel\", \"ModelExplanationDataSetSetup\", \"PickSurrogateModel\", \"EngineeredFeatureExplanations\", \"EngineeredFeatureExplanations\", \"RawFeaturesExplanations\", \"FailedModelExplanations\"]}]}, {\"name\": \"experiment_status_description\", \"run_id\": \"AutoML_ca215feb-3ef0-4baa-a35e-db0e70332177\", \"categories\": [0, 1, 2, 3, 4, 5, 6, 7, 8, 9, 10, 11, 12], \"series\": [{\"data\": [\"Gathering dataset statistics.\", \"Generating features for the dataset.\", \"Beginning to fit featurizers and featurize the dataset.\", \"Completed fit featurizers and featurizing the dataset.\", \"Generating individually featurized CV splits.\", \"Beginning model selection.\", \"Best run model explanations started\", \"Model explanations data setup completed\", \"Choosing LightGBM as the surrogate model for explanations\", \"Computation of engineered features started\", \"Computation of engineered features completed\", \"Computation of raw features started\", \"Failed to explain best model\"]}]}, {\"name\": \"mean_absolute_percentage_error\", \"run_id\": \"AutoML_ca215feb-3ef0-4baa-a35e-db0e70332177\", \"categories\": [0], \"series\": [{\"data\": [0.07381853029567127]}]}, {\"name\": \"root_mean_squared_log_error\", \"run_id\": \"AutoML_ca215feb-3ef0-4baa-a35e-db0e70332177\", \"categories\": [0], \"series\": [{\"data\": [0.0005712604223994724]}]}, {\"name\": \"normalized_root_mean_squared_log_error\", \"run_id\": \"AutoML_ca215feb-3ef0-4baa-a35e-db0e70332177\", \"categories\": [0], \"series\": [{\"data\": [0.0017902335376288419]}]}, {\"name\": \"normalized_mean_absolute_error\", \"run_id\": \"AutoML_ca215feb-3ef0-4baa-a35e-db0e70332177\", \"categories\": [0], \"series\": [{\"data\": [0.0009452366980462927]}]}, {\"name\": \"r2_score\", \"run_id\": \"AutoML_ca215feb-3ef0-4baa-a35e-db0e70332177\", \"categories\": [0], \"series\": [{\"data\": [0.9999533980442392]}]}, {\"name\": \"spearman_correlation\", \"run_id\": \"AutoML_ca215feb-3ef0-4baa-a35e-db0e70332177\", \"categories\": [0], \"series\": [{\"data\": [0.999185767688334]}]}, {\"name\": \"median_absolute_error\", \"run_id\": \"AutoML_ca215feb-3ef0-4baa-a35e-db0e70332177\", \"categories\": [0], \"series\": [{\"data\": [0.000266984689353611]}]}, {\"name\": \"root_mean_squared_error\", \"run_id\": \"AutoML_ca215feb-3ef0-4baa-a35e-db0e70332177\", \"categories\": [0], \"series\": [{\"data\": [0.0009688033933163006]}]}, {\"name\": \"mean_absolute_error\", \"run_id\": \"AutoML_ca215feb-3ef0-4baa-a35e-db0e70332177\", \"categories\": [0], \"series\": [{\"data\": [0.0005009754499645351]}]}, {\"name\": \"normalized_root_mean_squared_error\", \"run_id\": \"AutoML_ca215feb-3ef0-4baa-a35e-db0e70332177\", \"categories\": [0], \"series\": [{\"data\": [0.0018279309307854727]}]}, {\"name\": \"explained_variance\", \"run_id\": \"AutoML_ca215feb-3ef0-4baa-a35e-db0e70332177\", \"categories\": [0], \"series\": [{\"data\": [0.999953402885974]}]}, {\"name\": \"normalized_median_absolute_error\", \"run_id\": \"AutoML_ca215feb-3ef0-4baa-a35e-db0e70332177\", \"categories\": [0], \"series\": [{\"data\": [0.0005037446968936056]}]}], \"run_logs\": \"\\nRun is completed.\", \"graph\": {}, \"widget_settings\": {\"childWidgetDisplay\": \"popup\", \"send_telemetry\": false, \"log_level\": \"INFO\", \"sdk_version\": \"1.24.0\"}, \"loading\": false}"
          },
          "metadata": {}
        },
        {
          "output_type": "stream",
          "name": "stdout",
          "text": [
            "\n",
            "\n",
            "****************************************************************************************************\n",
            "DATA GUARDRAILS: \n",
            "\n",
            "TYPE:         Missing feature values imputation\n",
            "STATUS:       PASSED\n",
            "DESCRIPTION:  No feature missing values were detected in the training data.\n",
            "              Learn more about missing value imputation: https://aka.ms/AutomatedMLFeaturization\n",
            "\n",
            "****************************************************************************************************\n",
            "\n",
            "TYPE:         High cardinality feature detection\n",
            "STATUS:       PASSED\n",
            "DESCRIPTION:  Your inputs were analyzed, and no high cardinality features were detected.\n",
            "              Learn more about high cardinality feature handling: https://aka.ms/AutomatedMLFeaturization\n",
            "\n",
            "****************************************************************************************************\n",
            "\n",
            "****************************************************************************************************\n",
            "ITERATION: The iteration being evaluated.\n",
            "PIPELINE: A summary description of the pipeline being evaluated.\n",
            "DURATION: Time taken for the current iteration.\n",
            "METRIC: The result of computing score on the fitted pipeline.\n",
            "BEST: The best observed score thus far.\n",
            "****************************************************************************************************\n",
            "\n",
            " ITERATION   PIPELINE                                       DURATION      METRIC      BEST\n",
            "         0   MaxAbsScaler LightGBM                          0:00:43       0.0018    0.0018\n",
            "         1   MaxAbsScaler XGBoostRegressor                  0:00:51       0.0042    0.0018\n",
            "         2   StandardScalerWrapper ElasticNet               0:00:41       0.0685    0.0018\n",
            "         3   MaxAbsScaler DecisionTree                      0:00:37       0.0162    0.0018\n",
            "         4   MaxAbsScaler ElasticNet                        0:00:46       0.0126    0.0018\n",
            "         5   MaxAbsScaler DecisionTree                      0:00:45       0.0094    0.0018\n",
            "         6   MaxAbsScaler DecisionTree                      0:00:36       0.0059    0.0018\n",
            "         7   MaxAbsScaler DecisionTree                      0:00:39       0.0105    0.0018\n",
            "         8   MaxAbsScaler DecisionTree                      0:00:39       0.0164    0.0018\n",
            "         9   MaxAbsScaler DecisionTree                      0:00:42       0.0096    0.0018\n",
            "        10   MaxAbsScaler DecisionTree                      0:00:47       0.0132    0.0018\n",
            "        11   MaxAbsScaler DecisionTree                      0:00:45       0.0067    0.0018\n",
            "        12   MaxAbsScaler DecisionTree                      0:00:50       0.0224    0.0018\n",
            "        13   StandardScalerWrapper DecisionTree             0:00:48       0.0131    0.0018\n",
            "        14   MaxAbsScaler DecisionTree                      0:00:45       0.0229    0.0018\n",
            "        15   MaxAbsScaler DecisionTree                      0:00:42       0.0237    0.0018\n",
            "        16   MaxAbsScaler SGD                               0:00:41       0.0722    0.0018\n",
            "        17   MaxAbsScaler DecisionTree                      0:00:41       0.0053    0.0018\n",
            "        18   MaxAbsScaler DecisionTree                      0:00:39       0.0259    0.0018\n",
            "        19   MaxAbsScaler DecisionTree                      0:00:42       0.0221    0.0018\n",
            "        20   MaxAbsScaler SGD                               0:00:41       0.0153    0.0018\n",
            "        21   MaxAbsScaler DecisionTree                      0:00:45       0.0120    0.0018\n",
            "        22   MaxAbsScaler DecisionTree                      0:00:35       0.0087    0.0018\n",
            "        23   MaxAbsScaler DecisionTree                      0:00:40       0.0072    0.0018\n",
            "        24   MaxAbsScaler DecisionTree                      0:00:41       0.0077    0.0018\n",
            "        25   MaxAbsScaler LightGBM                          0:00:44       0.0739    0.0018\n",
            "        26   MaxAbsScaler DecisionTree                      0:00:39       0.0188    0.0018\n",
            "        27   MaxAbsScaler DecisionTree                      0:00:39       0.0117    0.0018\n",
            "        28   MaxAbsScaler DecisionTree                      0:00:35       0.0108    0.0018\n",
            "        29   MaxAbsScaler DecisionTree                      0:00:38       0.0092    0.0018\n",
            "        30   MaxAbsScaler LightGBM                          0:02:26       0.0451    0.0018\n",
            "        31   MaxAbsScaler DecisionTree                      0:02:22       0.0076    0.0018\n",
            "        32   MaxAbsScaler DecisionTree                      0:02:20       0.0103    0.0018\n",
            "        33   MaxAbsScaler DecisionTree                      0:02:21       0.0080    0.0018\n",
            "        34   MaxAbsScaler DecisionTree                      0:02:26       0.0094    0.0018\n",
            "        35                                                  0:00:19          nan    0.0018\n",
            "        36                                                  0:00:18          nan    0.0018\n",
            "        37    VotingEnsemble                                0:01:04       0.0018    0.0018\n",
            "        38    StackEnsemble                                 0:01:08       0.0019    0.0018\n"
          ]
        },
        {
          "output_type": "execute_result",
          "execution_count": 8,
          "data": {
            "text/plain": "{'runId': 'AutoML_ca215feb-3ef0-4baa-a35e-db0e70332177',\n 'target': 'comp',\n 'status': 'Completed',\n 'startTimeUtc': '2021-03-31T22:34:33.299281Z',\n 'endTimeUtc': '2021-03-31T22:48:58.091918Z',\n 'properties': {'num_iterations': '1000',\n  'training_type': 'TrainFull',\n  'acquisition_function': 'EI',\n  'primary_metric': 'normalized_root_mean_squared_error',\n  'train_split': '0',\n  'acquisition_parameter': '0',\n  'num_cross_validation': '5',\n  'target': 'comp',\n  'AMLSettingsJsonString': '{\"path\":null,\"name\":\"data_quality_analysis\",\"subscription_id\":\"5a4ab2ba-6c51-4805-8155-58759ad589d8\",\"resource_group\":\"aml-quickstarts-141712\",\"workspace_name\":\"quick-starts-ws-141712\",\"region\":\"southcentralus\",\"compute_target\":\"comp\",\"spark_service\":null,\"azure_service\":\"remote\",\"many_models\":false,\"pipeline_fetch_max_batch_size\":1,\"enable_batch_run\":false,\"iterations\":1000,\"primary_metric\":\"normalized_root_mean_squared_error\",\"task_type\":\"regression\",\"data_script\":null,\"validation_size\":0.0,\"n_cross_validations\":5,\"y_min\":null,\"y_max\":null,\"num_classes\":null,\"featurization\":\"auto\",\"_ignore_package_version_incompatibilities\":false,\"is_timeseries\":false,\"max_cores_per_iteration\":1,\"max_concurrent_iterations\":5,\"iteration_timeout_minutes\":null,\"mem_in_mb\":null,\"enforce_time_on_windows\":false,\"experiment_timeout_minutes\":30,\"experiment_exit_score\":null,\"whitelist_models\":null,\"blacklist_algos\":[\"TensorFlowDNN\",\"TensorFlowLinearRegressor\"],\"supported_models\":[\"SGD\",\"TensorFlowLinearRegressor\",\"KNN\",\"DecisionTree\",\"ExtremeRandomTrees\",\"TensorFlowDNN\",\"FastLinearRegressor\",\"LightGBM\",\"LassoLars\",\"ElasticNet\",\"XGBoostRegressor\",\"GradientBoosting\",\"OnlineGradientDescentRegressor\",\"RandomForest\"],\"private_models\":[],\"auto_blacklist\":true,\"blacklist_samples_reached\":false,\"exclude_nan_labels\":true,\"verbosity\":20,\"_debug_log\":\"azureml_automl.log\",\"show_warnings\":false,\"model_explainability\":true,\"service_url\":null,\"sdk_url\":null,\"sdk_packages\":null,\"enable_onnx_compatible_models\":false,\"enable_split_onnx_featurizer_estimator_models\":false,\"vm_type\":\"STANDARD_DS3_V2\",\"telemetry_verbosity\":20,\"send_telemetry\":true,\"enable_dnn\":false,\"scenario\":\"SDK-1.13.0\",\"environment_label\":null,\"save_mlflow\":false,\"force_text_dnn\":false,\"enable_feature_sweeping\":true,\"enable_early_stopping\":true,\"early_stopping_n_iters\":10,\"metrics\":null,\"enable_metric_confidence\":false,\"enable_ensembling\":true,\"enable_stack_ensembling\":true,\"ensemble_iterations\":15,\"enable_tf\":false,\"enable_subsampling\":null,\"subsample_seed\":null,\"enable_nimbusml\":false,\"enable_streaming\":false,\"force_streaming\":false,\"track_child_runs\":true,\"allowed_private_models\":[],\"label_column_name\":\"score\",\"weight_column_name\":null,\"cv_split_column_names\":null,\"enable_local_managed\":false,\"_local_managed_run_id\":null,\"cost_mode\":1,\"lag_length\":0,\"metric_operation\":\"minimize\",\"preprocess\":true}',\n  'DataPrepJsonString': '{\\\\\"training_data\\\\\": \\\\\"{\\\\\\\\\\\\\"blocks\\\\\\\\\\\\\": [{\\\\\\\\\\\\\"id\\\\\\\\\\\\\": \\\\\\\\\\\\\"2edaa5ff-3a54-4f09-8447-8f1384b19ac6\\\\\\\\\\\\\", \\\\\\\\\\\\\"type\\\\\\\\\\\\\": \\\\\\\\\\\\\"Microsoft.DPrep.GetFilesBlock\\\\\\\\\\\\\", \\\\\\\\\\\\\"arguments\\\\\\\\\\\\\": {\\\\\\\\\\\\\"isArchive\\\\\\\\\\\\\": false, \\\\\\\\\\\\\"path\\\\\\\\\\\\\": {\\\\\\\\\\\\\"target\\\\\\\\\\\\\": 4, \\\\\\\\\\\\\"resourceDetails\\\\\\\\\\\\\": [{\\\\\\\\\\\\\"path\\\\\\\\\\\\\": \\\\\\\\\\\\\"https://raw.githubusercontent.com/shatakshipachori/data_quality_analysis/main/catalogue-scorecard.csv\\\\\\\\\\\\\"}]}}, \\\\\\\\\\\\\"localData\\\\\\\\\\\\\": {}, \\\\\\\\\\\\\"isEnabled\\\\\\\\\\\\\": true, \\\\\\\\\\\\\"name\\\\\\\\\\\\\": null, \\\\\\\\\\\\\"annotation\\\\\\\\\\\\\": null}, {\\\\\\\\\\\\\"id\\\\\\\\\\\\\": \\\\\\\\\\\\\"0587c7d6-fde7-4955-9531-7f1e20470053\\\\\\\\\\\\\", \\\\\\\\\\\\\"type\\\\\\\\\\\\\": \\\\\\\\\\\\\"Microsoft.DPrep.ParseDelimitedBlock\\\\\\\\\\\\\", \\\\\\\\\\\\\"arguments\\\\\\\\\\\\\": {\\\\\\\\\\\\\"columnHeadersMode\\\\\\\\\\\\\": 3, \\\\\\\\\\\\\"fileEncoding\\\\\\\\\\\\\": 0, \\\\\\\\\\\\\"handleQuotedLineBreaks\\\\\\\\\\\\\": false, \\\\\\\\\\\\\"preview\\\\\\\\\\\\\": false, \\\\\\\\\\\\\"separator\\\\\\\\\\\\\": \\\\\\\\\\\\\",\\\\\\\\\\\\\", \\\\\\\\\\\\\"skipRows\\\\\\\\\\\\\": 0, \\\\\\\\\\\\\"skipRowsMode\\\\\\\\\\\\\": 0}, \\\\\\\\\\\\\"localData\\\\\\\\\\\\\": {}, \\\\\\\\\\\\\"isEnabled\\\\\\\\\\\\\": true, \\\\\\\\\\\\\"name\\\\\\\\\\\\\": null, \\\\\\\\\\\\\"annotation\\\\\\\\\\\\\": null}, {\\\\\\\\\\\\\"id\\\\\\\\\\\\\": \\\\\\\\\\\\\"ecc7cec5-8402-4b56-8af7-d8ead742d37a\\\\\\\\\\\\\", \\\\\\\\\\\\\"type\\\\\\\\\\\\\": \\\\\\\\\\\\\"Microsoft.DPrep.DropColumnsBlock\\\\\\\\\\\\\", \\\\\\\\\\\\\"arguments\\\\\\\\\\\\\": {\\\\\\\\\\\\\"columns\\\\\\\\\\\\\": {\\\\\\\\\\\\\"type\\\\\\\\\\\\\": 0, \\\\\\\\\\\\\"details\\\\\\\\\\\\\": {\\\\\\\\\\\\\"selectedColumns\\\\\\\\\\\\\": [\\\\\\\\\\\\\"Path\\\\\\\\\\\\\"]}}}, \\\\\\\\\\\\\"localData\\\\\\\\\\\\\": {}, \\\\\\\\\\\\\"isEnabled\\\\\\\\\\\\\": true, \\\\\\\\\\\\\"name\\\\\\\\\\\\\": null, \\\\\\\\\\\\\"annotation\\\\\\\\\\\\\": null}, {\\\\\\\\\\\\\"id\\\\\\\\\\\\\": \\\\\\\\\\\\\"14085cd1-853f-4959-a951-95674e9aca02\\\\\\\\\\\\\", \\\\\\\\\\\\\"type\\\\\\\\\\\\\": \\\\\\\\\\\\\"Microsoft.DPrep.SetColumnTypesBlock\\\\\\\\\\\\\", \\\\\\\\\\\\\"arguments\\\\\\\\\\\\\": {\\\\\\\\\\\\\"columnConversion\\\\\\\\\\\\\": [{\\\\\\\\\\\\\"column\\\\\\\\\\\\\": {\\\\\\\\\\\\\"type\\\\\\\\\\\\\": 2, \\\\\\\\\\\\\"details\\\\\\\\\\\\\": {\\\\\\\\\\\\\"selectedColumn\\\\\\\\\\\\\": \\\\\\\\\\\\\"_id\\\\\\\\\\\\\"}}, \\\\\\\\\\\\\"typeProperty\\\\\\\\\\\\\": 2}, {\\\\\\\\\\\\\"column\\\\\\\\\\\\\": {\\\\\\\\\\\\\"type\\\\\\\\\\\\\": 2, \\\\\\\\\\\\\"details\\\\\\\\\\\\\": {\\\\\\\\\\\\\"selectedColumn\\\\\\\\\\\\\": \\\\\\\\\\\\\"package\\\\\\\\\\\\\"}}, \\\\\\\\\\\\\"typeProperty\\\\\\\\\\\\\": 0}, {\\\\\\\\\\\\\"column\\\\\\\\\\\\\": {\\\\\\\\\\\\\"type\\\\\\\\\\\\\": 2, \\\\\\\\\\\\\"details\\\\\\\\\\\\\": {\\\\\\\\\\\\\"selectedColumn\\\\\\\\\\\\\": \\\\\\\\\\\\\"accessibility\\\\\\\\\\\\\"}}, \\\\\\\\\\\\\"typeProperty\\\\\\\\\\\\\": 2}, {\\\\\\\\\\\\\"column\\\\\\\\\\\\\": {\\\\\\\\\\\\\"type\\\\\\\\\\\\\": 2, \\\\\\\\\\\\\"details\\\\\\\\\\\\\": {\\\\\\\\\\\\\"selectedColumn\\\\\\\\\\\\\": \\\\\\\\\\\\\"completeness\\\\\\\\\\\\\"}}, \\\\\\\\\\\\\"typeProperty\\\\\\\\\\\\\": 3}, {\\\\\\\\\\\\\"column\\\\\\\\\\\\\": {\\\\\\\\\\\\\"type\\\\\\\\\\\\\": 2, \\\\\\\\\\\\\"details\\\\\\\\\\\\\": {\\\\\\\\\\\\\"selectedColumn\\\\\\\\\\\\\": \\\\\\\\\\\\\"freshness\\\\\\\\\\\\\"}}, \\\\\\\\\\\\\"typeProperty\\\\\\\\\\\\\": 3}, {\\\\\\\\\\\\\"column\\\\\\\\\\\\\": {\\\\\\\\\\\\\"type\\\\\\\\\\\\\": 2, \\\\\\\\\\\\\"details\\\\\\\\\\\\\": {\\\\\\\\\\\\\"selectedColumn\\\\\\\\\\\\\": \\\\\\\\\\\\\"metadata\\\\\\\\\\\\\"}}, \\\\\\\\\\\\\"typeProperty\\\\\\\\\\\\\": 3}, {\\\\\\\\\\\\\"column\\\\\\\\\\\\\": {\\\\\\\\\\\\\"type\\\\\\\\\\\\\": 2, \\\\\\\\\\\\\"details\\\\\\\\\\\\\": {\\\\\\\\\\\\\"selectedColumn\\\\\\\\\\\\\": \\\\\\\\\\\\\"usability\\\\\\\\\\\\\"}}, \\\\\\\\\\\\\"typeProperty\\\\\\\\\\\\\": 3}, {\\\\\\\\\\\\\"column\\\\\\\\\\\\\": {\\\\\\\\\\\\\"type\\\\\\\\\\\\\": 2, \\\\\\\\\\\\\"details\\\\\\\\\\\\\": {\\\\\\\\\\\\\"selectedColumn\\\\\\\\\\\\\": \\\\\\\\\\\\\"score\\\\\\\\\\\\\"}}, \\\\\\\\\\\\\"typeProperty\\\\\\\\\\\\\": 3}, {\\\\\\\\\\\\\"column\\\\\\\\\\\\\": {\\\\\\\\\\\\\"type\\\\\\\\\\\\\": 2, \\\\\\\\\\\\\"details\\\\\\\\\\\\\": {\\\\\\\\\\\\\"selectedColumn\\\\\\\\\\\\\": \\\\\\\\\\\\\"score_norm\\\\\\\\\\\\\"}}, \\\\\\\\\\\\\"typeProperty\\\\\\\\\\\\\": 3}, {\\\\\\\\\\\\\"column\\\\\\\\\\\\\": {\\\\\\\\\\\\\"type\\\\\\\\\\\\\": 2, \\\\\\\\\\\\\"details\\\\\\\\\\\\\": {\\\\\\\\\\\\\"selectedColumn\\\\\\\\\\\\\": \\\\\\\\\\\\\"grade\\\\\\\\\\\\\"}}, \\\\\\\\\\\\\"typeProperty\\\\\\\\\\\\\": 0}, {\\\\\\\\\\\\\"column\\\\\\\\\\\\\": {\\\\\\\\\\\\\"type\\\\\\\\\\\\\": 2, \\\\\\\\\\\\\"details\\\\\\\\\\\\\": {\\\\\\\\\\\\\"selectedColumn\\\\\\\\\\\\\": \\\\\\\\\\\\\"grade_norm\\\\\\\\\\\\\"}}, \\\\\\\\\\\\\"typeProperty\\\\\\\\\\\\\": 0}, {\\\\\\\\\\\\\"column\\\\\\\\\\\\\": {\\\\\\\\\\\\\"type\\\\\\\\\\\\\": 2, \\\\\\\\\\\\\"details\\\\\\\\\\\\\": {\\\\\\\\\\\\\"selectedColumn\\\\\\\\\\\\\": \\\\\\\\\\\\\"recorded_at\\\\\\\\\\\\\"}}, \\\\\\\\\\\\\"typeArguments\\\\\\\\\\\\\": {\\\\\\\\\\\\\"dateTimeFormats\\\\\\\\\\\\\": [\\\\\\\\\\\\\"%Y-%m-%dT%H:%M:%S\\\\\\\\\\\\\"]}, \\\\\\\\\\\\\"typeProperty\\\\\\\\\\\\\": 4}, {\\\\\\\\\\\\\"column\\\\\\\\\\\\\": {\\\\\\\\\\\\\"type\\\\\\\\\\\\\": 2, \\\\\\\\\\\\\"details\\\\\\\\\\\\\": {\\\\\\\\\\\\\"selectedColumn\\\\\\\\\\\\\": \\\\\\\\\\\\\"version\\\\\\\\\\\\\"}}, \\\\\\\\\\\\\"typeProperty\\\\\\\\\\\\\": 0}]}, \\\\\\\\\\\\\"localData\\\\\\\\\\\\\": {}, \\\\\\\\\\\\\"isEnabled\\\\\\\\\\\\\": true, \\\\\\\\\\\\\"name\\\\\\\\\\\\\": null, \\\\\\\\\\\\\"annotation\\\\\\\\\\\\\": null}], \\\\\\\\\\\\\"inspectors\\\\\\\\\\\\\": [], \\\\\\\\\\\\\"meta\\\\\\\\\\\\\": {\\\\\\\\\\\\\"savedDatasetId\\\\\\\\\\\\\": \\\\\\\\\\\\\"8499401d-d0fa-4aaa-9857-2a8f796bb6ad\\\\\\\\\\\\\", \\\\\\\\\\\\\"datasetType\\\\\\\\\\\\\": \\\\\\\\\\\\\"tabular\\\\\\\\\\\\\", \\\\\\\\\\\\\"subscriptionId\\\\\\\\\\\\\": \\\\\\\\\\\\\"5a4ab2ba-6c51-4805-8155-58759ad589d8\\\\\\\\\\\\\", \\\\\\\\\\\\\"workspaceId\\\\\\\\\\\\\": \\\\\\\\\\\\\"e5c39fb0-a409-450d-bbbd-84935fb728fd\\\\\\\\\\\\\", \\\\\\\\\\\\\"workspaceLocation\\\\\\\\\\\\\": \\\\\\\\\\\\\"southcentralus\\\\\\\\\\\\\", \\\\\\\\\\\\\"partition_keys\\\\\\\\\\\\\": \\\\\\\\\\\\\"true\\\\\\\\\\\\\"}}\\\\\", \\\\\"activities\\\\\": 0}',\n  'EnableSubsampling': None,\n  'runTemplate': 'AutoML',\n  'azureml.runsource': 'automl',\n  'display_task_type': 'regression',\n  'dependencies_versions': '{\"azureml-widgets\": \"1.24.0\", \"azureml-train\": \"1.24.0\", \"azureml-train-restclients-hyperdrive\": \"1.24.0\", \"azureml-train-core\": \"1.24.0\", \"azureml-train-automl\": \"1.24.0\", \"azureml-train-automl-runtime\": \"1.24.0\", \"azureml-train-automl-client\": \"1.24.0\", \"azureml-tensorboard\": \"1.24.0\", \"azureml-telemetry\": \"1.24.0\", \"azureml-sdk\": \"1.24.0\", \"azureml-samples\": \"0+unknown\", \"azureml-pipeline\": \"1.24.0\", \"azureml-pipeline-steps\": \"1.24.0\", \"azureml-pipeline-core\": \"1.24.0\", \"azureml-opendatasets\": \"1.24.0\", \"azureml-model-management-sdk\": \"1.0.1b6.post1\", \"azureml-mlflow\": \"1.24.0\", \"azureml-interpret\": \"1.24.0\", \"azureml-explain-model\": \"1.24.0\", \"azureml-defaults\": \"1.24.0\", \"azureml-dataset-runtime\": \"1.24.0\", \"azureml-dataprep\": \"2.11.1\", \"azureml-dataprep-rslex\": \"1.9.0\", \"azureml-dataprep-native\": \"30.0.0\", \"azureml-datadrift\": \"1.24.0\", \"azureml-core\": \"1.24.0\", \"azureml-contrib-services\": \"1.24.0\", \"azureml-contrib-server\": \"1.24.0\", \"azureml-contrib-reinforcementlearning\": \"1.24.0\", \"azureml-contrib-pipeline-steps\": \"1.24.0\", \"azureml-contrib-notebook\": \"1.24.0\", \"azureml-contrib-gbdt\": \"1.24.0\", \"azureml-contrib-fairness\": \"1.24.0\", \"azureml-contrib-dataset\": \"1.24.0\", \"azureml-cli-common\": \"1.24.0\", \"azureml-automl-runtime\": \"1.24.0\", \"azureml-automl-dnn-nlp\": \"1.24.0\", \"azureml-automl-core\": \"1.24.0\", \"azureml-accel-models\": \"1.24.0\"}',\n  '_aml_system_scenario_identification': 'Remote.Parent',\n  'ClientType': 'SDK',\n  'environment_cpu_name': 'AzureML-AutoML',\n  'environment_cpu_label': 'prod',\n  'environment_gpu_name': 'AzureML-AutoML-GPU',\n  'environment_gpu_label': 'prod',\n  'root_attribution': 'automl',\n  'attribution': 'AutoML',\n  'Orchestrator': 'AutoML',\n  'CancelUri': 'https://southcentralus.experiments.azureml.net/jasmine/v1.0/subscriptions/5a4ab2ba-6c51-4805-8155-58759ad589d8/resourceGroups/aml-quickstarts-141712/providers/Microsoft.MachineLearningServices/workspaces/quick-starts-ws-141712/experimentids/7c4c3903-080d-4147-83cc-ed5e2c6515b2/cancel/AutoML_ca215feb-3ef0-4baa-a35e-db0e70332177',\n  'ClientSdkVersion': '1.24.0',\n  'snapshotId': '00000000-0000-0000-0000-000000000000',\n  'SetupRunId': 'AutoML_ca215feb-3ef0-4baa-a35e-db0e70332177_setup',\n  'SetupRunContainerId': 'dcid.AutoML_ca215feb-3ef0-4baa-a35e-db0e70332177_setup',\n  'FeaturizationRunJsonPath': 'featurizer_container.json',\n  'FeaturizationRunId': 'AutoML_ca215feb-3ef0-4baa-a35e-db0e70332177_featurize',\n  'ProblemInfoJsonString': '{\"dataset_num_categorical\": 0, \"is_sparse\": true, \"subsampling\": false, \"dataset_classes\": 50, \"dataset_features\": 175, \"dataset_samples\": 23027, \"single_frequency_class_detected\": false}',\n  'ModelExplainRunId': 'AutoML_ca215feb-3ef0-4baa-a35e-db0e70332177_ModelExplain'},\n 'inputDatasets': [{'dataset': {'id': '8499401d-d0fa-4aaa-9857-2a8f796bb6ad'}, 'consumptionDetails': {'type': 'RunInput', 'inputName': 'training_data', 'mechanism': 'Direct'}}],\n 'outputDatasets': [],\n 'logFiles': {},\n 'submittedBy': 'ODL_User 141712'}"
          },
          "metadata": {}
        }
      ],
      "execution_count": 8,
      "metadata": {
        "collapsed": true,
        "jupyter": {
          "source_hidden": false,
          "outputs_hidden": false
        },
        "nteract": {
          "transient": {
            "deleting": false
          }
        },
        "gather": {
          "logged": 1617231206031
        }
      }
    },
    {
      "cell_type": "markdown",
      "source": [
        "## Best Model"
      ],
      "metadata": {
        "nteract": {
          "transient": {
            "deleting": false
          }
        }
      }
    },
    {
      "cell_type": "code",
      "source": [
        "# Retrieve and save your best automl model.\r\n",
        "best_automl_run,best_automl_model=automl_run.get_output()\r\n",
        "best_run_metrics=automl_run.get_metrics()\r\n",
        "for primary_metric in best_run_metrics:\r\n",
        "    metric=best_run_metrics[primary_metric]\r\n",
        "    print(primary_metric,metric)"
      ],
      "outputs": [
        {
          "output_type": "stream",
          "name": "stdout",
          "text": [
            "experiment_status ['DatasetEvaluation', 'FeaturesGeneration', 'DatasetFeaturization', 'DatasetFeaturizationCompleted', 'DatasetCrossValidationSplit', 'ModelSelection', 'BestRunExplainModel', 'ModelExplanationDataSetSetup', 'PickSurrogateModel', 'EngineeredFeatureExplanations', 'EngineeredFeatureExplanations', 'RawFeaturesExplanations', 'FailedModelExplanations']\n",
            "experiment_status_description ['Gathering dataset statistics.', 'Generating features for the dataset.', 'Beginning to fit featurizers and featurize the dataset.', 'Completed fit featurizers and featurizing the dataset.', 'Generating individually featurized CV splits.', 'Beginning model selection.', 'Best run model explanations started', 'Model explanations data setup completed', 'Choosing LightGBM as the surrogate model for explanations', 'Computation of engineered features started', 'Computation of engineered features completed', 'Computation of raw features started', 'Failed to explain best model']\n",
            "mean_absolute_percentage_error 0.07381853029567127\n",
            "root_mean_squared_log_error 0.0005712604223994724\n",
            "normalized_root_mean_squared_log_error 0.0017902335376288419\n",
            "normalized_mean_absolute_error 0.0009452366980462927\n",
            "r2_score 0.9999533980442392\n",
            "spearman_correlation 0.999185767688334\n",
            "median_absolute_error 0.000266984689353611\n",
            "root_mean_squared_error 0.0009688033933163006\n",
            "mean_absolute_error 0.0005009754499645351\n",
            "normalized_root_mean_squared_error 0.0018279309307854727\n",
            "explained_variance 0.999953402885974\n",
            "normalized_median_absolute_error 0.0005037446968936056\n"
          ]
        }
      ],
      "execution_count": 9,
      "metadata": {
        "collapsed": true,
        "jupyter": {
          "source_hidden": false,
          "outputs_hidden": false
        },
        "nteract": {
          "transient": {
            "deleting": false
          }
        },
        "gather": {
          "logged": 1617231250359
        }
      }
    },
    {
      "cell_type": "code",
      "source": [
        "print(best_automl_run)\r\n",
        "best_automl_run"
      ],
      "outputs": [
        {
          "output_type": "stream",
          "name": "stdout",
          "text": [
            "Run(Experiment: data_quality_analysis,\n",
            "Id: AutoML_ca215feb-3ef0-4baa-a35e-db0e70332177_0,\n",
            "Type: azureml.scriptrun,\n",
            "Status: Completed)\n"
          ]
        },
        {
          "output_type": "execute_result",
          "execution_count": 10,
          "data": {
            "text/plain": "Run(Experiment: data_quality_analysis,\nId: AutoML_ca215feb-3ef0-4baa-a35e-db0e70332177_0,\nType: azureml.scriptrun,\nStatus: Completed)",
            "text/html": "<table style=\"width:100%\"><tr><th>Experiment</th><th>Id</th><th>Type</th><th>Status</th><th>Details Page</th><th>Docs Page</th></tr><tr><td>data_quality_analysis</td><td>AutoML_ca215feb-3ef0-4baa-a35e-db0e70332177_0</td><td>azureml.scriptrun</td><td>Completed</td><td><a href=\"https://ml.azure.com/experiments/data_quality_analysis/runs/AutoML_ca215feb-3ef0-4baa-a35e-db0e70332177_0?wsid=/subscriptions/5a4ab2ba-6c51-4805-8155-58759ad589d8/resourcegroups/aml-quickstarts-141712/workspaces/quick-starts-ws-141712\" target=\"_blank\" rel=\"noopener\">Link to Azure Machine Learning studio</a></td><td><a href=\"https://docs.microsoft.com/en-us/python/api/azureml-core/azureml.core.run.Run?view=azure-ml-py\" target=\"_blank\" rel=\"noopener\">Link to Documentation</a></td></tr></table>"
          },
          "metadata": {}
        }
      ],
      "execution_count": 10,
      "metadata": {
        "collapsed": true,
        "jupyter": {
          "source_hidden": false,
          "outputs_hidden": false
        },
        "nteract": {
          "transient": {
            "deleting": false
          }
        },
        "gather": {
          "logged": 1617231257874
        }
      }
    },
    {
      "cell_type": "markdown",
      "source": [
        "## Regression using Linear Regression"
      ],
      "metadata": {
        "nteract": {
          "transient": {
            "deleting": false
          }
        }
      }
    },
    {
      "cell_type": "code",
      "source": [
        "data=data.to_pandas_dataframe()\r\n",
        "data.head()"
      ],
      "outputs": [
        {
          "output_type": "execute_result",
          "execution_count": 11,
          "data": {
            "text/plain": "   _id                                            package  accessibility  \\\n0  186  air-conditioned-and-cool-spaces-heat-relief-ne...              1   \n1  187      air-conditioned-public-places-cooling-centres              1   \n2  188  annual-summary-of-reportable-communicable-dise...              1   \n3  189                      apartment-building-evaluation              1   \n4  190                    apartment-building-registration              1   \n\n   completeness  freshness  metadata  usability  score  score_norm   grade  \\\n0          0.69       0.50      0.84       0.86   0.78        0.76  Silver   \n1          1.00       0.00      0.25       0.85   0.54        0.31  Bronze   \n2          0.98       1.00      0.25       0.69   0.66        0.52  Bronze   \n3          0.96       1.00      0.75       0.94   0.91        1.00    Gold   \n4          0.83       1.00      0.75       0.87   0.87        0.92    Gold   \n\n  grade_norm         recorded_at version  \n0     Silver 2019-12-17 20:24:09  v0.1.0  \n1     Bronze 2019-12-17 20:24:09  v0.1.0  \n2     Bronze 2019-12-17 20:24:09  v0.1.0  \n3       Gold 2019-12-17 20:24:09  v0.1.0  \n4       Gold 2019-12-17 20:24:09  v0.1.0  ",
            "text/html": "<div>\n<style scoped>\n    .dataframe tbody tr th:only-of-type {\n        vertical-align: middle;\n    }\n\n    .dataframe tbody tr th {\n        vertical-align: top;\n    }\n\n    .dataframe thead th {\n        text-align: right;\n    }\n</style>\n<table border=\"1\" class=\"dataframe\">\n  <thead>\n    <tr style=\"text-align: right;\">\n      <th></th>\n      <th>_id</th>\n      <th>package</th>\n      <th>accessibility</th>\n      <th>completeness</th>\n      <th>freshness</th>\n      <th>metadata</th>\n      <th>usability</th>\n      <th>score</th>\n      <th>score_norm</th>\n      <th>grade</th>\n      <th>grade_norm</th>\n      <th>recorded_at</th>\n      <th>version</th>\n    </tr>\n  </thead>\n  <tbody>\n    <tr>\n      <th>0</th>\n      <td>186</td>\n      <td>air-conditioned-and-cool-spaces-heat-relief-ne...</td>\n      <td>1</td>\n      <td>0.69</td>\n      <td>0.50</td>\n      <td>0.84</td>\n      <td>0.86</td>\n      <td>0.78</td>\n      <td>0.76</td>\n      <td>Silver</td>\n      <td>Silver</td>\n      <td>2019-12-17 20:24:09</td>\n      <td>v0.1.0</td>\n    </tr>\n    <tr>\n      <th>1</th>\n      <td>187</td>\n      <td>air-conditioned-public-places-cooling-centres</td>\n      <td>1</td>\n      <td>1.00</td>\n      <td>0.00</td>\n      <td>0.25</td>\n      <td>0.85</td>\n      <td>0.54</td>\n      <td>0.31</td>\n      <td>Bronze</td>\n      <td>Bronze</td>\n      <td>2019-12-17 20:24:09</td>\n      <td>v0.1.0</td>\n    </tr>\n    <tr>\n      <th>2</th>\n      <td>188</td>\n      <td>annual-summary-of-reportable-communicable-dise...</td>\n      <td>1</td>\n      <td>0.98</td>\n      <td>1.00</td>\n      <td>0.25</td>\n      <td>0.69</td>\n      <td>0.66</td>\n      <td>0.52</td>\n      <td>Bronze</td>\n      <td>Bronze</td>\n      <td>2019-12-17 20:24:09</td>\n      <td>v0.1.0</td>\n    </tr>\n    <tr>\n      <th>3</th>\n      <td>189</td>\n      <td>apartment-building-evaluation</td>\n      <td>1</td>\n      <td>0.96</td>\n      <td>1.00</td>\n      <td>0.75</td>\n      <td>0.94</td>\n      <td>0.91</td>\n      <td>1.00</td>\n      <td>Gold</td>\n      <td>Gold</td>\n      <td>2019-12-17 20:24:09</td>\n      <td>v0.1.0</td>\n    </tr>\n    <tr>\n      <th>4</th>\n      <td>190</td>\n      <td>apartment-building-registration</td>\n      <td>1</td>\n      <td>0.83</td>\n      <td>1.00</td>\n      <td>0.75</td>\n      <td>0.87</td>\n      <td>0.87</td>\n      <td>0.92</td>\n      <td>Gold</td>\n      <td>Gold</td>\n      <td>2019-12-17 20:24:09</td>\n      <td>v0.1.0</td>\n    </tr>\n  </tbody>\n</table>\n</div>"
          },
          "metadata": {}
        }
      ],
      "execution_count": 11,
      "metadata": {
        "collapsed": true,
        "jupyter": {
          "source_hidden": false,
          "outputs_hidden": false
        },
        "nteract": {
          "transient": {
            "deleting": false
          }
        },
        "gather": {
          "logged": 1617231656741
        }
      }
    },
    {
      "cell_type": "code",
      "source": [
        "type(data)"
      ],
      "outputs": [
        {
          "output_type": "execute_result",
          "execution_count": 141,
          "data": {
            "text/plain": "pandas.core.frame.DataFrame"
          },
          "metadata": {}
        }
      ],
      "execution_count": 141,
      "metadata": {
        "collapsed": true,
        "jupyter": {
          "source_hidden": false,
          "outputs_hidden": false
        },
        "nteract": {
          "transient": {
            "deleting": false
          }
        },
        "gather": {
          "logged": 1617225581738
        }
      }
    },
    {
      "cell_type": "code",
      "source": [
        "data.columns"
      ],
      "outputs": [
        {
          "output_type": "execute_result",
          "execution_count": 145,
          "data": {
            "text/plain": "Index(['_id', 'completeness', 'freshness', 'metadata', 'usability', 'score',\n       'score_norm', 'grade', 'grade_norm'],\n      dtype='object')"
          },
          "metadata": {}
        }
      ],
      "execution_count": 145,
      "metadata": {
        "collapsed": true,
        "jupyter": {
          "source_hidden": false,
          "outputs_hidden": false
        },
        "nteract": {
          "transient": {
            "deleting": false
          }
        },
        "gather": {
          "logged": 1617225698541
        }
      }
    },
    {
      "cell_type": "code",
      "source": [
        "import pandas as pd\r\n",
        "from sklearn.preprocessing import LabelEncoder\r\n",
        "\r\n",
        "data=data.drop(['package','recorded_at','accessibility','version'], axis=1)\r\n",
        "\r\n",
        "#instantiate LabelEncoder\r\n",
        "le=LabelEncoder()\r\n",
        "\r\n",
        "#LabelEncode grade column of data\r\n",
        "data['grade']=le.fit_transform(data['grade'])\r\n",
        "data['grade_norm']=le.fit_transform(data['grade_norm'])\r\n",
        "\r\n",
        "#inspecting encoded df\r\n",
        "data.head()"
      ],
      "outputs": [
        {
          "output_type": "execute_result",
          "execution_count": 148,
          "data": {
            "text/plain": "   _id  completeness  freshness  metadata  usability  score  score_norm  \\\n0  186          0.69       0.50      0.84       0.86   0.78        0.76   \n1  187          1.00       0.00      0.25       0.85   0.54        0.31   \n2  188          0.98       1.00      0.25       0.69   0.66        0.52   \n3  189          0.96       1.00      0.75       0.94   0.91        1.00   \n4  190          0.83       1.00      0.75       0.87   0.87        0.92   \n\n   grade  grade_norm  \n0      2           2  \n1      0           0  \n2      0           0  \n3      1           1  \n4      1           1  ",
            "text/html": "<div>\n<style scoped>\n    .dataframe tbody tr th:only-of-type {\n        vertical-align: middle;\n    }\n\n    .dataframe tbody tr th {\n        vertical-align: top;\n    }\n\n    .dataframe thead th {\n        text-align: right;\n    }\n</style>\n<table border=\"1\" class=\"dataframe\">\n  <thead>\n    <tr style=\"text-align: right;\">\n      <th></th>\n      <th>_id</th>\n      <th>completeness</th>\n      <th>freshness</th>\n      <th>metadata</th>\n      <th>usability</th>\n      <th>score</th>\n      <th>score_norm</th>\n      <th>grade</th>\n      <th>grade_norm</th>\n    </tr>\n  </thead>\n  <tbody>\n    <tr>\n      <th>0</th>\n      <td>186</td>\n      <td>0.69</td>\n      <td>0.50</td>\n      <td>0.84</td>\n      <td>0.86</td>\n      <td>0.78</td>\n      <td>0.76</td>\n      <td>2</td>\n      <td>2</td>\n    </tr>\n    <tr>\n      <th>1</th>\n      <td>187</td>\n      <td>1.00</td>\n      <td>0.00</td>\n      <td>0.25</td>\n      <td>0.85</td>\n      <td>0.54</td>\n      <td>0.31</td>\n      <td>0</td>\n      <td>0</td>\n    </tr>\n    <tr>\n      <th>2</th>\n      <td>188</td>\n      <td>0.98</td>\n      <td>1.00</td>\n      <td>0.25</td>\n      <td>0.69</td>\n      <td>0.66</td>\n      <td>0.52</td>\n      <td>0</td>\n      <td>0</td>\n    </tr>\n    <tr>\n      <th>3</th>\n      <td>189</td>\n      <td>0.96</td>\n      <td>1.00</td>\n      <td>0.75</td>\n      <td>0.94</td>\n      <td>0.91</td>\n      <td>1.00</td>\n      <td>1</td>\n      <td>1</td>\n    </tr>\n    <tr>\n      <th>4</th>\n      <td>190</td>\n      <td>0.83</td>\n      <td>1.00</td>\n      <td>0.75</td>\n      <td>0.87</td>\n      <td>0.87</td>\n      <td>0.92</td>\n      <td>1</td>\n      <td>1</td>\n    </tr>\n  </tbody>\n</table>\n</div>"
          },
          "metadata": {}
        }
      ],
      "execution_count": 148,
      "metadata": {
        "collapsed": true,
        "jupyter": {
          "source_hidden": false,
          "outputs_hidden": false
        },
        "nteract": {
          "transient": {
            "deleting": false
          }
        },
        "gather": {
          "logged": 1617225743329
        }
      }
    },
    {
      "cell_type": "code",
      "source": [
        "y=data.drop(['score'],axis=1)\r\n",
        "X=data"
      ],
      "outputs": [],
      "execution_count": 91,
      "metadata": {
        "collapsed": true,
        "jupyter": {
          "source_hidden": false,
          "outputs_hidden": false
        },
        "nteract": {
          "transient": {
            "deleting": false
          }
        },
        "gather": {
          "logged": 1617220779333
        }
      }
    },
    {
      "cell_type": "markdown",
      "source": [
        "## Import the class"
      ],
      "metadata": {
        "nteract": {
          "transient": {
            "deleting": false
          }
        }
      }
    },
    {
      "cell_type": "code",
      "source": [
        "from sklearn.model_selection import train_test_split\r\n",
        "import argparse\r\n",
        "X_train,X_test,y_train,y_test=train_test_split(X,y,test_size=0.2,random_state=0)"
      ],
      "outputs": [],
      "execution_count": 92,
      "metadata": {
        "collapsed": true,
        "jupyter": {
          "source_hidden": false,
          "outputs_hidden": false
        },
        "nteract": {
          "transient": {
            "deleting": false
          }
        },
        "gather": {
          "logged": 1617220783285
        }
      }
    },
    {
      "cell_type": "markdown",
      "source": [
        "## Model Fitting"
      ],
      "metadata": {
        "nteract": {
          "transient": {
            "deleting": false
          }
        }
      }
    },
    {
      "cell_type": "code",
      "source": [
        "from sklearn.linear_model import LinearRegression\r\n",
        "\r\n",
        "#instantiate\r\n",
        "linreg=LinearRegression()\r\n",
        "linreg.fit(X_train,y_train)"
      ],
      "outputs": [
        {
          "output_type": "execute_result",
          "execution_count": 93,
          "data": {
            "text/plain": "LinearRegression(copy_X=True, fit_intercept=True, n_jobs=None, normalize=False)"
          },
          "metadata": {}
        }
      ],
      "execution_count": 93,
      "metadata": {
        "collapsed": true,
        "jupyter": {
          "source_hidden": false,
          "outputs_hidden": false
        },
        "nteract": {
          "transient": {
            "deleting": false
          }
        },
        "gather": {
          "logged": 1617220785090
        }
      }
    },
    {
      "cell_type": "markdown",
      "source": [
        "## Model Training"
      ],
      "metadata": {
        "nteract": {
          "transient": {
            "deleting": false
          }
        }
      }
    },
    {
      "cell_type": "code",
      "source": [
        "print(linreg.intercept_)\r\n",
        "print(linreg.coef_)"
      ],
      "outputs": [
        {
          "output_type": "stream",
          "name": "stdout",
          "text": [
            "[-5.45696821e-12 -7.77156117e-16 -7.77156117e-16  7.21644966e-16\n",
            "  5.55111512e-16  1.33226763e-15  1.55431223e-15]\n",
            "[[ 1.00000000e+00 -5.33422275e-14  8.29114543e-14 -5.71606415e-14\n",
            "  -6.96334584e-14 -3.37345643e-12  1.83381172e-12 -2.02720382e-14]\n",
            " [ 3.65572781e-21  1.00000000e+00 -4.44089210e-16 -6.66133815e-16\n",
            "  -1.56472058e-15  3.91353616e-15 -6.10622664e-16 -1.66533454e-16]\n",
            " [-4.38070893e-21 -2.22044605e-16  1.00000000e+00 -8.88178420e-16\n",
            "  -1.22298005e-15  3.89965837e-15  3.60822483e-16 -5.27355937e-16]\n",
            " [-3.92386217e-21  0.00000000e+00  2.77555756e-16  1.00000000e+00\n",
            "   3.83373888e-16 -1.69309011e-15 -1.38777878e-16 -8.32667268e-17]\n",
            " [ 1.87055911e-21  5.20417043e-16  2.14238349e-16 -1.26634814e-16\n",
            "   1.00000000e+00 -1.83793952e-15  4.94829872e-16  1.86482774e-17]\n",
            " [-1.26999792e-21  1.11022302e-16  2.22044605e-16 -8.32667268e-17\n",
            "  -4.82253126e-16 -2.02615702e-15  1.00000000e+00 -2.77555756e-16]\n",
            " [ 3.44916434e-21 -1.27675648e-15 -6.93889390e-16 -6.66133815e-16\n",
            "  -8.63024929e-16  2.09554596e-15 -7.35522754e-16  1.00000000e+00]]\n"
          ]
        }
      ],
      "execution_count": 94,
      "metadata": {
        "collapsed": true,
        "jupyter": {
          "source_hidden": false,
          "outputs_hidden": false
        },
        "nteract": {
          "transient": {
            "deleting": false
          }
        },
        "gather": {
          "logged": 1617220788185
        }
      }
    },
    {
      "cell_type": "markdown",
      "source": [
        "## Model Prediction"
      ],
      "metadata": {
        "nteract": {
          "transient": {
            "deleting": false
          }
        }
      }
    },
    {
      "cell_type": "code",
      "source": [
        "y_pred=linreg.predict(X_test)\r\n",
        "y_pred"
      ],
      "outputs": [
        {
          "output_type": "execute_result",
          "execution_count": 95,
          "data": {
            "text/plain": "array([[ 1.55560000e+04,  9.40000000e-01,  1.00000000e+00, ...,\n         9.50000000e-01,  1.00000000e+00,  1.00000000e+00],\n       [ 9.39000000e+03,  6.90000000e-01,  1.00000000e+00, ...,\n         7.20000000e-01,  4.70000000e-01,  3.05988240e-16],\n       [ 9.59800000e+03,  6.40000000e-01, -4.37113789e-17, ...,\n         8.00000000e-01,  2.50000000e-01,  8.19142981e-16],\n       ...,\n       [ 1.32850000e+04,  7.30000000e-01, -4.36780827e-17, ...,\n         8.30000000e-01,  2.40000000e-01,  7.64058383e-16],\n       [ 1.12270000e+04,  1.00000000e+00,  1.00000000e+00, ...,\n         8.30000000e-01,  8.70000000e-01,  1.00000000e+00],\n       [ 4.57600000e+03,  6.40000000e-01, -2.53196834e-17, ...,\n         8.00000000e-01,  2.40000000e-01,  8.09176505e-16]])"
          },
          "metadata": {}
        }
      ],
      "execution_count": 95,
      "metadata": {
        "collapsed": true,
        "jupyter": {
          "source_hidden": false,
          "outputs_hidden": false
        },
        "nteract": {
          "transient": {
            "deleting": false
          }
        },
        "gather": {
          "logged": 1617220792587
        }
      }
    },
    {
      "cell_type": "markdown",
      "source": [
        "## Model Accuracy (Root mean squared error)"
      ],
      "metadata": {
        "nteract": {
          "transient": {
            "deleting": false
          }
        }
      }
    },
    {
      "cell_type": "code",
      "source": [
        "from sklearn import metrics\r\n",
        "print(np.sqrt(metrics.mean_squared_error(y_test,y_pred)))"
      ],
      "outputs": [
        {
          "output_type": "stream",
          "name": "stdout",
          "text": [
            "1.2624372939949376e-12\n"
          ]
        }
      ],
      "execution_count": 97,
      "metadata": {
        "collapsed": true,
        "jupyter": {
          "source_hidden": false,
          "outputs_hidden": false
        },
        "nteract": {
          "transient": {
            "deleting": false
          }
        },
        "gather": {
          "logged": 1617220800842
        }
      }
    }
  ],
  "metadata": {
    "kernelspec": {
      "name": "python3-azureml",
      "language": "python",
      "display_name": "Python 3.6 - AzureML"
    },
    "language_info": {
      "name": "python",
      "version": "3.6.9",
      "mimetype": "text/x-python",
      "codemirror_mode": {
        "name": "ipython",
        "version": 3
      },
      "pygments_lexer": "ipython3",
      "nbconvert_exporter": "python",
      "file_extension": ".py"
    },
    "kernel_info": {
      "name": "python3-azureml"
    },
    "nteract": {
      "version": "nteract-front-end@1.0.0"
    },
    "microsoft": {
      "host": {
        "AzureML": {
          "notebookHasBeenCompleted": true
        }
      }
    }
  },
  "nbformat": 4,
  "nbformat_minor": 2
}